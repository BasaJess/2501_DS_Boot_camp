{
 "cells": [
  {
   "cell_type": "markdown",
   "id": "6ed313a9-b0a6-4ded-9b21-e65bb821cde6",
   "metadata": {},
   "source": [
    "# 🕸️ Web Scraping 🕸️\n",
    "Data scraping is a technique that a data scientist can use to collect data and content from the internet.\n",
    "\n",
    "Common data types:\n",
    "+ images\n",
    "+ text\n",
    "+ product information\n",
    "+ customer review\n",
    "+ customer data \n",
    "\n",
    "How it works?\n",
    "1. we make an HTTP request to a server\n",
    "2. the server sends us a response\n",
    "3. we extract the valuable information from the server response\n",
    "\n",
    "How to avoid getting blacklisted?\n",
    "+ read [here](https://www.scrapehero.com/how-to-prevent-getting-blacklisted-while-scraping/)\n",
    "\n",
    "How to Disguise as a browser\n",
    "\n",
    "```python\n",
    "headers = {'User-Agent': 'Mozilla/5.0 (Macintosh; Intel Mac OS X 10_10_1) AppleWebKit/537.36 (KHTML, like Gecko) Chrome/39.0.2171.95 Safari/537.36'}\n",
    "```"
   ]
  },
  {
   "cell_type": "markdown",
   "id": "6b675700",
   "metadata": {},
   "source": [
    "## Warm-up exercise\n",
    "**Match the concepts with the correct descriptions:**\n",
    "\n",
    "<table border=\"1\">\n",
    "    <tr>\n",
    "        <th>Concept</th>\n",
    "        <th>Description</th>\n",
    "    </tr>\n",
    "    <tr>\n",
    "        <td>Requests</td>\n",
    "        <td>Python library for sending HTTP GET and HTTP POST requests</td>\n",
    "    </tr>\n",
    "    <tr>\n",
    "        <td>Regular Expressions</td>\n",
    "        <td>Powerful language to find patterns in text</td>\n",
    "    </tr>\n",
    "    <tr>\n",
    "        <td>Scrapy</td>\n",
    "        <td>Python library for downloading entire web sites</td>\n",
    "    </tr>\n",
    "    <tr>\n",
    "        <td>BeautifulSoup4</td>\n",
    "        <td>Python library for parsing HTML pages</td>\n",
    "    </tr>\n",
    "    <tr>\n",
    "        <td>Unified Resource Locator (URL)</td>\n",
    "        <td>Address of a website, file or similar</td>\n",
    "    </tr>\n",
    "    <tr>\n",
    "        <td>HyperText Markup Language (HTML)</td>\n",
    "        <td>Text format in which most web pages are written</td>\n",
    "    </tr>\n",
    "    <tr>\n",
    "        <td>HyperText Transfer Protocol (HTTP)</td>\n",
    "        <td>Method to send text messages from one computer to another, built on top of TCP/IP</td>\n",
    "    </tr>\n",
    "    <tr>\n",
    "        <td>HTTP GET</td>\n",
    "        <td>Request for a web page</td>\n",
    "    </tr>\n",
    "    <tr>\n",
    "        <td>HTTP POST</td>\n",
    "        <td>Request for a web page that allows to submit large forms or upload files</td>\n",
    "    </tr>\n",
    "    <tr>\n",
    "        <td>API</td>\n",
    "        <td>Generic name for a (web) programming interface</td>\n",
    "    </tr>\n",
    "    <tr>\n",
    "        <td>200</td>\n",
    "        <td>Response indicating that a web page was successfully delivered</td>\n",
    "    </tr>\n",
    "    <tr>\n",
    "        <td>404</td>\n",
    "        <td>Response indicating that a web page could not be found</td>\n",
    "    </tr>\n",
    "</table>\n"
   ]
  },
  {
   "cell_type": "markdown",
   "id": "a765eb90-69b5-486d-bad7-7570e8bffae6",
   "metadata": {},
   "source": [
    "## Sending HTTP request with *requests*\n",
    "We want to scrape lyrics song from [lyrics.com](https://www.lyrics.com)"
   ]
  },
  {
   "cell_type": "code",
   "execution_count": null,
   "id": "79e0f6b5-1e9b-4d99-a72b-95d41af8f6a9",
   "metadata": {},
   "outputs": [],
   "source": [
    "import requests\n",
    "import os"
   ]
  },
  {
   "cell_type": "code",
   "execution_count": null,
   "id": "7ace6102-0396-42da-af17-6caf8c6ff7b2",
   "metadata": {},
   "outputs": [],
   "source": [
    "# Define URL\n",
    "URL = ..."
   ]
  },
  {
   "cell_type": "code",
   "execution_count": null,
   "id": "c1c229c6-6326-4587-b3f9-25acff7f6275",
   "metadata": {},
   "outputs": [],
   "source": [
    "# Send a Http get request to the URL\n",
    "response = ...\n",
    "response"
   ]
  },
  {
   "cell_type": "code",
   "execution_count": null,
   "id": "4d85ca15-ee5b-40ae-b127-1f58834a4f95",
   "metadata": {},
   "outputs": [],
   "source": [
    "# check the status of the response\n",
    "response..."
   ]
  },
  {
   "cell_type": "code",
   "execution_count": null,
   "id": "539e9a1f-f69e-4fc5-bdcf-e6e9f7e5a9e2",
   "metadata": {
    "scrolled": true
   },
   "outputs": [],
   "source": [
    "# Get the content\n",
    "content = response...\n",
    "content\n"
   ]
  },
  {
   "cell_type": "code",
   "execution_count": null,
   "id": "fe44107f-4ed3-4b0f-b6ae-cd034c65dda8",
   "metadata": {},
   "outputs": [],
   "source": [
    "# Save the content to a file\n",
    "..."
   ]
  },
  {
   "cell_type": "markdown",
   "id": "0466675e-05d9-4a3d-b2d4-76feaae3b6fb",
   "metadata": {
    "jupyter": {
     "source_hidden": true
    }
   },
   "source": [
    "## 🍜 Parsing HTML with BeautifulSoup 🍜"
   ]
  },
  {
   "cell_type": "markdown",
   "id": "5703f552-b783-474f-a4b9-813fc860b5bf",
   "metadata": {},
   "source": [
    "**Read the code and discuss the questions below.**\n",
    "\n",
    "```python\n",
    "from bs4 import BeautifulSoup\n",
    "\n",
    "html = \"\"\"<html><head></head><body>\n",
    "<h1>Hamlet</h1>\n",
    "<ul class=\"cast\"> \n",
    "  <li>Hamlet</li>\n",
    "  <li>Polonius</li>\n",
    "  <li>Ophelia</li>\n",
    "  <li>Claudius</li>\n",
    "</ul>\n",
    "<ul class=\"authors\">\n",
    "  <li>William Shakespeare</li>\n",
    "</ul>\n",
    "</body></html>\"\"\"\n",
    "\n",
    "soup = BeautifulSoup(html, \"html.parser\")\n",
    "\n",
    "for ul in soup.find_all('ul'):\n",
    "    if \"cast\" in ul.get('class'):\n",
    "        for item in ul.find_all('li'):\n",
    "            print(item.get_text(), end=\", \")\n",
    "        print()\n",
    "```\n",
    "\n",
    "+ Q: what is the data type of the HTML document?\n",
    "  + A: ...\n",
    "+ Q: what does the find_all() function return?\n",
    "  + A: ...\n",
    "+ Q: what does the argument of the find_all() function refer to?\n",
    "  + A: ...  \n",
    "+ Q: what does the argument of the get() function refer to? \n",
    "  + A: ...\n",
    "+ Q: what does the get_text() function extract?\n",
    "  + A: ...\n",
    "+ Q: how would you extract the title of the play?\n",
    "  + A: ..."
   ]
  },
  {
   "cell_type": "code",
   "execution_count": null,
   "id": "c0255812-f0e5-4fae-abd1-1b9e50992c29",
   "metadata": {},
   "outputs": [],
   "source": [
    "from bs4 import BeautifulSoup"
   ]
  },
  {
   "cell_type": "code",
   "execution_count": null,
   "id": "b4261941-d6f9-4124-b893-8e1d13fd8821",
   "metadata": {
    "scrolled": true
   },
   "outputs": [],
   "source": [
    "# Let's create a soup from content\n",
    "soup_content = ...\n",
    "soup_content"
   ]
  },
  {
   "cell_type": "code",
   "execution_count": null,
   "id": "f711a704-95a1-409e-99c6-f8a48df0ef48",
   "metadata": {},
   "outputs": [],
   "source": [
    "# Let's find the lirics from the soup"
   ]
  },
  {
   "cell_type": "code",
   "execution_count": null,
   "id": "501adcfd-12c0-4b6e-bc23-d1f67405df84",
   "metadata": {},
   "outputs": [],
   "source": [
    "# Let's extract the title\n"
   ]
  },
  {
   "cell_type": "code",
   "execution_count": null,
   "id": "e3e6c1e7-6978-4ff2-bcb2-24d3d27b327e",
   "metadata": {},
   "outputs": [],
   "source": [
    "# Save the lyrics to a file with the title as the file name"
   ]
  },
  {
   "cell_type": "code",
   "execution_count": null,
   "id": "03d608b9-8d1f-4902-b739-8febf9f1db57",
   "metadata": {},
   "outputs": [],
   "source": []
  },
  {
   "cell_type": "code",
   "execution_count": null,
   "id": "8580b209",
   "metadata": {
    "collapsed": true,
    "jupyter": {
     "outputs_hidden": true
    }
   },
   "outputs": [],
   "source": []
  },
  {
   "cell_type": "markdown",
   "id": "5dc82df3",
   "metadata": {},
   "source": [
    "## Web API\n",
    "+ Very Roughly Speaking:\n",
    "    + just a special URL, where we get back data ,e.g, in JSON format\n",
    "+ Advantages over WEB SCRAPING:\n",
    "    + EASIER to parse JSON than HTML\n",
    "    + Companies/Organization(data owner) can:\n",
    "        +  More control, cleanear data\n",
    "        + Set up rate-limits (e.g. 100 requests per minute)\n",
    "        + They collect your data as well\n",
    "        + People can get dependent on APIs so they can charge you\n",
    "\n"
   ]
  },
  {
   "cell_type": "markdown",
   "id": "adcab433",
   "metadata": {},
   "source": [
    "![Beehive](api_example2.png)"
   ]
  },
  {
   "cell_type": "markdown",
   "id": "aa675cc6",
   "metadata": {},
   "source": [
    "Let's send a get request to the api related to this web site https://open-meteo.com"
   ]
  },
  {
   "cell_type": "code",
   "execution_count": null,
   "id": "c9c6a753",
   "metadata": {},
   "outputs": [],
   "source": [
    "url = ...\n"
   ]
  },
  {
   "cell_type": "code",
   "execution_count": null,
   "id": "385ef4f8",
   "metadata": {},
   "outputs": [],
   "source": [
    "# send a get request\n",
    "response = requests...\n",
    "json_response = ..."
   ]
  },
  {
   "cell_type": "code",
   "execution_count": null,
   "id": "94abad90",
   "metadata": {
    "scrolled": true
   },
   "outputs": [],
   "source": [
    "json_response"
   ]
  },
  {
   "cell_type": "markdown",
   "id": "83cda85b-5784-47b8-9499-b446ab6bc05c",
   "metadata": {},
   "source": [
    "### Further Readings 📚\n",
    "+ [Disguising as a Browser](https://stackoverflow.com/questions/27652543/how-can-i-use-pythons-requests-to-fake-a-browser-visit-a-k-a-and-generate-user)\n",
    "+ [More on Web API](https://developer.mozilla.org/en-US/docs/Learn/JavaScript/Client-side_web_APIs/Introduction)\n",
    "+ [Learn Regular Expression I](https://regexone.com)\n",
    "+ [Learn Regular Expression II](https://alf.nu/RegexGolf?world=regex&level=r00)\n",
    "+ [Regular Expression in Python](https://www.w3schools.com/python/python_regex.asp)\n",
    "+ [Selenium: A program to mimic a Web Browser](https://www.selenium.dev/documentation/webdriver/getting_started/first_script/)"
   ]
  },
  {
   "cell_type": "code",
   "execution_count": null,
   "id": "7ca37d21-e235-4006-9e4f-1dcc54959c2c",
   "metadata": {},
   "outputs": [],
   "source": []
  }
 ],
 "metadata": {
  "kernelspec": {
   "display_name": ".venv",
   "language": "python",
   "name": "python3"
  },
  "language_info": {
   "codemirror_mode": {
    "name": "ipython",
    "version": 3
   },
   "file_extension": ".py",
   "mimetype": "text/x-python",
   "name": "python",
   "nbconvert_exporter": "python",
   "pygments_lexer": "ipython3",
   "version": "3.11.11"
  }
 },
 "nbformat": 4,
 "nbformat_minor": 5
}
