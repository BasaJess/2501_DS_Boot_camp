{
 "cells": [
  {
   "cell_type": "markdown",
   "id": "d145d3f5",
   "metadata": {},
   "source": [
    "# Feature Engineering Intro I\n",
    "<hr style=\"border:2px solid black\">"
   ]
  },
  {
   "cell_type": "markdown",
   "id": "f7514f60",
   "metadata": {},
   "source": [
    "## Introduction"
   ]
  },
  {
   "cell_type": "markdown",
   "id": "a5172642",
   "metadata": {},
   "source": [
    "### Feature engineering: what & why?"
   ]
  },
  {
   "cell_type": "markdown",
   "id": "2becb042",
   "metadata": {},
   "source": [
    "- \"art\" of formulating useful features from existing data \n",
    "- transforms data to better relate to the underlying target variable\n",
    "- improves the performance of an ML model\n",
    "- follows naturally from domain knowledge\n",
    "- helps incorporate non-numeric features into an ML model"
   ]
  },
  {
   "cell_type": "markdown",
   "id": "4474ee23",
   "metadata": {},
   "source": [
    "### Feature engineering techniques"
   ]
  },
  {
   "cell_type": "markdown",
   "id": "fb8af094",
   "metadata": {},
   "source": [
    " |       technique      |                                        usefulness                                |\n",
    " |:--------------------:|:--------------------------------------------------------------------------------:|\n",
    " |     `Imputation`     |                    fills out missing values in data                    |\n",
    " |   `Discretization`   |                groups a feature in some logical fashion into bins                |\n",
    " |`Categorical Encoding`|encodes categorical features into numerical values|\n",
    " |  `Feature Splitting` |splits a feature into parts|\n",
    " |   `Feature Scaling`  |handles the sensitivity of ML algorithms to the scale of input values| \n",
    " |`Feature Expansion`|derives new features from existing ones|\n",
    " | `Log Transformation` |deals with ill-behaved (skewed of heteroscedastic) data       |\n",
    " |   `Outlier Handling` |takes care of unusually high/low values in the dataset|\n",
    " | `RBF Transformation` |uses a continuous distribution to encode ordinal features|"
   ]
  },
  {
   "cell_type": "markdown",
   "id": "bf171688-6f9c-4762-8f80-0932febd83fb",
   "metadata": {
    "tags": []
   },
   "source": [
    "### Feature engineering best practices"
   ]
  },
  {
   "cell_type": "markdown",
   "id": "88fa0d7b-3052-4aab-a398-c5eaa4cf76bc",
   "metadata": {},
   "source": [
    "#### 1. Split dataset into train and test sub-samples as early as we possible.\n",
    "\n",
    "but, this is flexible — e.g. you can drop NaNs from the entire dataset before filling.\n",
    "still, in interest of good machine learning habits, even then, better to do this after splitting.\n",
    "#### 2. Feature engineer test data the same way as train data.\n",
    "\n",
    "otherwise the performance of our model will suffer, if it runs at all.\n",
    "writing a function is a nice way to do this.\n",
    "\n",
    "#### 3. Feature Engineering includes any pre-processing techniques, such as:\n",
    "\n",
    "- dropping missing values\n",
    "- converting strings / non-numeric values into numeric values\n",
    "- combining features"
   ]
  },
  {
   "cell_type": "markdown",
   "id": "1bcbc6c5",
   "metadata": {},
   "source": [
    "<hr style=\"border:2px solid black\">"
   ]
  },
  {
   "cell_type": "markdown",
   "id": "b385e939",
   "metadata": {},
   "source": [
    "## Example: Penguin Data"
   ]
  },
  {
   "cell_type": "markdown",
   "id": "5e60e499",
   "metadata": {},
   "source": [
    "#### load packages"
   ]
  },
  {
   "cell_type": "code",
   "execution_count": null,
   "id": "9f80539a",
   "metadata": {
    "tags": []
   },
   "outputs": [],
   "source": [
    "# data analysis stack\n",
    "import numpy as np\n",
    "import pandas as pd\n",
    "\n",
    "# data visualization stack\n",
    "import matplotlib.pyplot as plt\n",
    "%matplotlib inline\n",
    "import seaborn as sns\n",
    "sns.set_style('whitegrid')\n",
    "from sklearn.model_selection import train_test_split\n",
    "\n",
    "# miscellaneous\n",
    "import warnings\n",
    "warnings.filterwarnings(\"ignore\")"
   ]
  },
  {
   "cell_type": "markdown",
   "id": "997025c0",
   "metadata": {},
   "source": [
    "#### load data"
   ]
  },
  {
   "cell_type": "code",
   "execution_count": null,
   "id": "bdaaf129",
   "metadata": {
    "tags": []
   },
   "outputs": [],
   "source": [
    "df = pd.read_csv('../data/penguins.csv')\n",
    "df.head()"
   ]
  },
  {
   "cell_type": "markdown",
   "id": "f0057726",
   "metadata": {},
   "source": [
    "#### quick exploration"
   ]
  },
  {
   "cell_type": "code",
   "execution_count": null,
   "id": "9cd3f6df",
   "metadata": {
    "tags": []
   },
   "outputs": [],
   "source": [
    "df.info()"
   ]
  },
  {
   "cell_type": "code",
   "execution_count": null,
   "id": "91f97f77",
   "metadata": {
    "tags": []
   },
   "outputs": [],
   "source": [
    "df.describe()"
   ]
  },
  {
   "cell_type": "markdown",
   "id": "fcdc3d77",
   "metadata": {},
   "source": [
    "#### features and target"
   ]
  },
  {
   "cell_type": "code",
   "execution_count": null,
   "id": "2ff7b766",
   "metadata": {
    "tags": []
   },
   "outputs": [],
   "source": [
    "numerical_features = [\n",
    "    'bill_length_mm',\n",
    "    'bill_depth_mm',\n",
    "    'flipper_length_mm'\n",
    "]\n",
    "\n",
    "categorical_features = [\n",
    "    'species',\n",
    "    'island',\n",
    "    'sex'\n",
    "]\n",
    "\n",
    "features = numerical_features + categorical_features\n",
    "\n",
    "target_variable = 'body_mass_g'"
   ]
  },
  {
   "cell_type": "markdown",
   "id": "bea9c9cc-7158-47ca-9680-42f52f517f0b",
   "metadata": {},
   "source": [
    "#### feature-target separation"
   ]
  },
  {
   "cell_type": "code",
   "execution_count": null,
   "id": "9b785ed3",
   "metadata": {
    "tags": []
   },
   "outputs": [],
   "source": [
    "# feature matrix and target column\n",
    "X,y = df[features],df[target_variable]"
   ]
  },
  {
   "cell_type": "markdown",
   "id": "20a4b01f",
   "metadata": {},
   "source": [
    "#### train-test split"
   ]
  },
  {
   "cell_type": "code",
   "execution_count": null,
   "id": "3ef96c8f",
   "metadata": {
    "tags": []
   },
   "outputs": [],
   "source": [
    "X_train,X_test,y_train,y_test = train_test_split(X,y,test_size=0.25,random_state=42)\n",
    "X_train.shape, X_test.shape"
   ]
  },
  {
   "cell_type": "markdown",
   "id": "2d361297",
   "metadata": {},
   "source": [
    "### Exploratory Data Analysis"
   ]
  },
  {
   "cell_type": "markdown",
   "id": "ca40f908",
   "metadata": {},
   "source": [
    "**check missing values**"
   ]
  },
  {
   "cell_type": "code",
   "execution_count": null,
   "id": "03a69cda",
   "metadata": {
    "tags": []
   },
   "outputs": [],
   "source": [
    "X_train.isna().sum()"
   ]
  },
  {
   "cell_type": "code",
   "execution_count": null,
   "id": "053d61c1",
   "metadata": {
    "tags": []
   },
   "outputs": [],
   "source": [
    "# check missing values graphically\n",
    "plt.figure(figsize=(6,4), dpi=100)\n",
    "sns.heatmap(X_train.reset_index(drop=True).isna());"
   ]
  },
  {
   "cell_type": "markdown",
   "id": "6ac05b47-a332-4761-ab17-4c81012391fb",
   "metadata": {},
   "source": [
    "#### issues with the data\n",
    "\n",
    "- missing values \n",
    "- categorical features with non-numeric values\n",
    "- metric features with varying magnitudes"
   ]
  },
  {
   "cell_type": "markdown",
   "id": "2530645b",
   "metadata": {},
   "source": [
    "<hr style=\"border:2px solid black\">"
   ]
  },
  {
   "cell_type": "markdown",
   "id": "46c201c5",
   "metadata": {},
   "source": [
    "## 1. Imputation"
   ]
  },
  {
   "cell_type": "markdown",
   "id": "333d5c29",
   "metadata": {},
   "source": [
    "#### What can we do with missing values?\n",
    "\n",
    "---\n",
    "- Drop:\n",
    "    + rows with missing values\n",
    "    + columns with a lot of missing values\n",
    "---\n",
    "- Fill with a value:\n",
    "    + mean/median of a column\n",
    "    + interpolate / back fill / forward fill\n",
    "    + mean/median of a group\n",
    "---\n",
    "\n",
    "- With pandas: \n",
    "    - `df.isna()`: checks for NaNs, then do a sum or a heatmap\n",
    "    - `df.dropna()`: drop NaNs\n",
    "    - `df.fillna()`: fill NaNs\n",
    "One would to use `inplace=True` in these examples."
   ]
  },
  {
   "cell_type": "markdown",
   "id": "ee0f72f5-87a8-4ac3-98d5-1fa1ede70d23",
   "metadata": {},
   "source": [
    "---"
   ]
  },
  {
   "cell_type": "markdown",
   "id": "00eeebbd-a5b6-44ca-b602-10b5cca6aab0",
   "metadata": {},
   "source": [
    "#### 1.1 [`SimpleImputer`](https://scikit-learn.org/stable/modules/generated/sklearn.impute.SimpleImputer.html#sklearn.impute.SimpleImputer)"
   ]
  },
  {
   "cell_type": "code",
   "execution_count": null,
   "id": "43c72c69-e925-45ef-96ec-5b4d8e069acb",
   "metadata": {
    "tags": []
   },
   "outputs": [],
   "source": [
    "from sklearn.impute import SimpleImputer"
   ]
  },
  {
   "cell_type": "markdown",
   "id": "f9a68d63-e81d-4bc4-96d4-72dd57e749ed",
   "metadata": {},
   "source": [
    "**sex column imputation**"
   ]
  },
  {
   "cell_type": "code",
   "execution_count": null,
   "id": "273409f0-fc60-4bff-8b50-1ee0051ba0f3",
   "metadata": {
    "tags": []
   },
   "outputs": [],
   "source": [
    "imputer = SimpleImputer(strategy='most_frequent')\n",
    "X_train['sex'].value_counts()"
   ]
  },
  {
   "cell_type": "code",
   "execution_count": null,
   "id": "dbbbe01b-2f83-4fea-83ba-3f0a6ef8b301",
   "metadata": {
    "tags": []
   },
   "outputs": [],
   "source": [
    "X_test.head()"
   ]
  },
  {
   "cell_type": "code",
   "execution_count": null,
   "id": "a6973b55-6556-4ba5-b79d-8ee240deef43",
   "metadata": {
    "tags": []
   },
   "outputs": [],
   "source": [
    "# Fit the variable imputer on the 'sex' column training data\n",
    "imputer.fit(X_train[['sex']])\n",
    "X_train['sex'] = imputer.transform(X_train[['sex']]).flatten()\n",
    "X_train.isna().sum()\n",
    "X_train['sex'].value_counts()"
   ]
  },
  {
   "cell_type": "markdown",
   "id": "bd2916d4-a1a2-4587-8951-4b257108b34d",
   "metadata": {},
   "source": [
    "---"
   ]
  },
  {
   "cell_type": "markdown",
   "id": "29aa1dd5-bb7c-4c3b-84c9-8ecdca9861e5",
   "metadata": {},
   "source": [
    "**flipper length column imputation**"
   ]
  },
  {
   "cell_type": "code",
   "execution_count": null,
   "id": "2390bbdf-78f5-4ab7-8436-5b6909b574f9",
   "metadata": {
    "tags": []
   },
   "outputs": [],
   "source": [
    "flipper_length_imputer = SimpleImputer(strategy='mean')\n",
    "flipper_length_imputer.fit(X_train[['flipper_length_mm']])\n",
    "X_train['flipper_length_mm'] = flipper_length_imputer.transform(\n",
    "    X_train[['flipper_length_mm']]\n",
    ").flatten()\n",
    "X_train.isna().sum()"
   ]
  },
  {
   "cell_type": "markdown",
   "id": "956a6a15-82b0-47d4-bf7f-c2b03819254d",
   "metadata": {},
   "source": [
    "#### 1.2 [`KNNImputer`](https://scikit-learn.org/stable/modules/generated/sklearn.impute.KNNImputer.html)"
   ]
  },
  {
   "cell_type": "markdown",
   "id": "5677b100-caa9-4408-b7bd-c7644ddf59b7",
   "metadata": {
    "tags": []
   },
   "source": [
    "- **see exercise notebook *3_intro_to_fe_continued***"
   ]
  },
  {
   "cell_type": "markdown",
   "id": "fbbbeef8-a852-4404-b818-96af8e762714",
   "metadata": {
    "tags": []
   },
   "source": [
    "<hr style=\"border:2px solid black\">"
   ]
  },
  {
   "cell_type": "markdown",
   "id": "19f683a3",
   "metadata": {},
   "source": [
    "### 2. Categorical Encoding"
   ]
  },
  {
   "cell_type": "markdown",
   "id": "1711fe22-1b5f-4076-a4eb-e33604010c1c",
   "metadata": {},
   "source": [
    "#### 2.1 [`get_dummies()`](https://pandas.pydata.org/docs/reference/api/pandas.get_dummies.html)"
   ]
  },
  {
   "cell_type": "markdown",
   "id": "4fb3c1d3-3c27-44c3-bda2-35aee27043be",
   "metadata": {},
   "source": [
    "- **see exercise notebook *3_intro_to_fe_continued***"
   ]
  },
  {
   "cell_type": "markdown",
   "id": "83cd3eca-72fc-456f-b97e-0c3467c3a0d9",
   "metadata": {
    "tags": []
   },
   "source": [
    "#### 2.2 [`OneHotEncoder`](https://scikit-learn.org/stable/modules/generated/sklearn.preprocessing.OneHotEncoder.html#sklearn.preprocessing.OneHotEncoder)"
   ]
  },
  {
   "cell_type": "code",
   "execution_count": null,
   "id": "86e4cb08-f4d6-41fd-ad86-a65126e5857a",
   "metadata": {
    "tags": []
   },
   "outputs": [],
   "source": [
    "from sklearn.preprocessing import OneHotEncoder"
   ]
  },
  {
   "cell_type": "code",
   "execution_count": null,
   "id": "c41f11c3",
   "metadata": {
    "tags": []
   },
   "outputs": [],
   "source": [
    "# This line of code initializes a OneHotEncoder from scikit-learn, used for transforming categorical data into a binary (one-hot encoded) format.\n",
    "ohe = OneHotEncoder(drop=None, sparse_output=False, handle_unknown='ignore')\n",
    "# drop=None: keine katogoreien sollen gedroppt werden \n",
    "# sparse_output=False    = the encoder will return a dense array (i.e., a standard NumPy\n",
    "# Handles how to deal with unknown categories (i.e., categories that were not present during training/fitting but appear during transformation, such as in new data)."
   ]
  },
  {
   "cell_type": "code",
   "execution_count": null,
   "id": "7fb77c00-8780-4c1f-bdb7-547e482fbaaa",
   "metadata": {
    "tags": []
   },
   "outputs": [],
   "source": [
    "X_train['species'].nunique()"
   ]
  },
  {
   "cell_type": "code",
   "execution_count": null,
   "id": "35a3edca-fba7-42f8-a490-093749727206",
   "metadata": {
    "tags": []
   },
   "outputs": [],
   "source": [
    " # is used to find the number of not categorical values \n",
    "X_train.head() "
   ]
  },
  {
   "cell_type": "code",
   "execution_count": null,
   "id": "2bb53e79-7d26-4fb5-abff-e90d6059587a",
   "metadata": {
    "tags": []
   },
   "outputs": [],
   "source": [
    "X_train['species'].unique()"
   ]
  },
  {
   "cell_type": "code",
   "execution_count": null,
   "id": "db3312db-a034-43d6-bc5f-b173d7ec59a4",
   "metadata": {
    "tags": []
   },
   "outputs": [],
   "source": [
    "  # is used to find the number of categorical values\n",
    "ohe.fit(X_train[['species']]) # ohe.fit(): This step is used to fit the OneHotEncoder (ohe) on the 'species' column of the X_train DataFrame.\n",
    "# This step applies the one-hot encoding transformation to the 'species' column.\n",
    "t = ohe.transform(X_train[['species']])\n",
    "# X_train[['species']]: Selects the 'species' column from the X_train DataFrame. \n",
    "   #The double brackets ([['species']]) are used to ensure that it’s passed as a DataFrame rather than a Series, as OneHotEncoder expects a 2D input.\n",
    "#t is the one-hot encoded result. \n",
    "t.shape"
   ]
  },
  {
   "cell_type": "code",
   "execution_count": null,
   "id": "df6d4256",
   "metadata": {
    "tags": []
   },
   "outputs": [],
   "source": [
    "# Purpose: It generates the new feature names created during one-hot encoding, reflecting the original categorical feature and its unique values.\n",
    "ohe.get_feature_names_out() "
   ]
  },
  {
   "cell_type": "code",
   "execution_count": null,
   "id": "7b555cb7",
   "metadata": {
    "tags": []
   },
   "outputs": [],
   "source": [
    "species = pd.DataFrame(t, columns= ohe.get_feature_names_out())\n",
    "species.head()\n"
   ]
  },
  {
   "cell_type": "code",
   "execution_count": null,
   "id": "94ec272d",
   "metadata": {
    "tags": []
   },
   "outputs": [],
   "source": [
    "# introduced into the frame\n",
    "X_train = pd.concat([X_train.reset_index(drop=True), species], axis=1)\n",
    "X_train.drop(columns='species',inplace=True)"
   ]
  },
  {
   "cell_type": "code",
   "execution_count": null,
   "id": "f3eeb73f",
   "metadata": {
    "tags": []
   },
   "outputs": [],
   "source": [
    "X_train.head()"
   ]
  },
  {
   "cell_type": "markdown",
   "id": "c22df328-46fa-4977-be9f-ebb1e430d62c",
   "metadata": {},
   "source": [
    "<hr style=\"border:2px solid black\">"
   ]
  },
  {
   "cell_type": "markdown",
   "id": "8ae4383a-7a8c-4f5f-90b4-9f08d3339fa0",
   "metadata": {
    "tags": []
   },
   "source": [
    "## 3. Feature Scaling"
   ]
  },
  {
   "cell_type": "markdown",
   "id": "0ab53fa1-7ab6-4f26-9c75-89ad52adfbb2",
   "metadata": {},
   "source": [
    "### 3.1 Standardization"
   ]
  },
  {
   "cell_type": "markdown",
   "id": "68ec3891-6148-42b6-b510-b83a0e92620f",
   "metadata": {},
   "source": [
    "- doesn't always result in the same range\n",
    "- deals well with outliers\n",
    "- implemented in scikit-learn by `StandardScaler()`\n",
    "- center the data and scale by standard deviation: \n",
    ">$$z = \\dfrac{x - \\bar{x}}{\\sigma_x}$$\n",
    "\n"
   ]
  },
  {
   "cell_type": "code",
   "execution_count": null,
   "id": "e193ea71-a45a-4d65-b180-5da0a5466fd2",
   "metadata": {
    "tags": []
   },
   "outputs": [],
   "source": [
    "def standardize(series):\n",
    "    \"\"\"\n",
    "    returns the standardized counterpart of a series\n",
    "    \"\"\"\n",
    "    mean_ = series.mean()\n",
    "    std_ = series.std()\n",
    "    return mean_, std_, (series-mean_)/std_"
   ]
  },
  {
   "cell_type": "code",
   "execution_count": null,
   "id": "c2e32ff7-1f18-466d-ba9b-7f81b8ff8ce1",
   "metadata": {
    "tags": []
   },
   "outputs": [],
   "source": [
    "numerical_features.remove('flipper_length_mm')\n",
    "numerical_features"
   ]
  },
  {
   "cell_type": "code",
   "execution_count": null,
   "id": "d1c142e3-9280-40ac-a323-7360d16113e0",
   "metadata": {
    "tags": []
   },
   "outputs": [],
   "source": [
    "df_standard = pd.DataFrame()\n",
    "\n",
    "for feature in numerical_features: \n",
    "    # populate parameter dictionary\n",
    "    mean_, std_, t = standardize(X_train[feature])\n",
    "    \n",
    "    # create standadrdized numerical columns\n",
    "    vars()['mean_'+feature] = mean_   # braucne wir nicht\n",
    "    vars()['std_'+feature] = std_     # brauchen wir nicht\n",
    "    df_standard[feature+'_scaled'] = t"
   ]
  },
  {
   "cell_type": "code",
   "execution_count": null,
   "id": "a4ff5c1f-6918-437d-9fbe-eacaf06fd4eb",
   "metadata": {
    "tags": []
   },
   "outputs": [],
   "source": [
    "df_standard.head()"
   ]
  },
  {
   "cell_type": "markdown",
   "id": "33fbc323-096a-4a80-87df-d00da360ad29",
   "metadata": {},
   "source": [
    "#### [`StandardScaler()`](https://scikit-learn.org/stable/modules/generated/sklearn.preprocessing.StandardScaler.html)"
   ]
  },
  {
   "cell_type": "code",
   "execution_count": null,
   "id": "b00e2935-9bc8-4e0f-b257-3d79367e7009",
   "metadata": {
    "tags": []
   },
   "outputs": [],
   "source": [
    "from sklearn.preprocessing import StandardScaler\n",
    "std_scaler = StandardScaler()\n",
    "std_scaler.fit(X_train[numerical_features])\n",
    "t=std_scaler.transform(X_train[numerical_features])"
   ]
  },
  {
   "cell_type": "code",
   "execution_count": null,
   "id": "feff679c-526f-4e7b-aff2-b1984411738b",
   "metadata": {
    "tags": []
   },
   "outputs": [],
   "source": [
    "df_scaled = pd.DataFrame(t, columns=[f+'_scaled' for f in numerical_features])\n",
    "df_scaled.head()"
   ]
  },
  {
   "cell_type": "code",
   "execution_count": null,
   "id": "53309dba-8aef-409e-ad30-de03bbda899f",
   "metadata": {
    "tags": []
   },
   "outputs": [],
   "source": [
    "X_train = pd.concat([X_train, df_scaled], axis=1)\n",
    "X_train.head()"
   ]
  },
  {
   "cell_type": "markdown",
   "id": "01118199-0c25-4a6a-9422-0bf4e94dcac9",
   "metadata": {},
   "source": [
    "### 3.2 Normalization"
   ]
  },
  {
   "cell_type": "markdown",
   "id": "b405b108-f1fa-4af7-b5a9-dfbb6a82101f",
   "metadata": {},
   "source": [
    "***see exercise notebook 3_intro_to_fe_continued***"
   ]
  },
  {
   "cell_type": "markdown",
   "id": "4d3d94e0-e830-4ac8-b4bf-f4fa5803cd3e",
   "metadata": {},
   "source": [
    "<hr style=\"border:2px solid black\">"
   ]
  },
  {
   "cell_type": "markdown",
   "id": "3082a3cd-4572-48f8-b847-033778a57fe7",
   "metadata": {
    "tags": []
   },
   "source": [
    "## 4. Feature Expansion"
   ]
  },
  {
   "cell_type": "markdown",
   "id": "b6eb9dc3-083f-4123-8c66-4cd5010a289f",
   "metadata": {},
   "source": [
    "### 4.1 Polynomial Terms"
   ]
  },
  {
   "cell_type": "markdown",
   "id": "ca49fc03-8aab-4ad5-8a7d-a845d06b9c8f",
   "metadata": {},
   "source": [
    "- Additional features obtained by an existing feature to some power\n",
    "- Non-linear relationships can be modelled\n",
    "- For some feature x, consider the model: \n",
    "\n",
    "$$\n",
    "y = a_0 + a_1x + a_2x^2 +\\ldots+\\epsilon\n",
    "$$\n",
    "\n",
    "- Likely increase of model accuracy, but increased risk of overfitting"
   ]
  },
  {
   "cell_type": "markdown",
   "id": "5358dc91-fcff-4664-8a8d-06c7eae0d398",
   "metadata": {},
   "source": [
    "#### [`PolynomialFeatures`](https://scikit-learn.org/stable/modules/generated/sklearn.preprocessing.PolynomialFeatures.html)"
   ]
  },
  {
   "cell_type": "code",
   "execution_count": null,
   "id": "a213b4d2-fb46-47c2-b51c-861e9c2c6e6a",
   "metadata": {
    "tags": []
   },
   "outputs": [],
   "source": [
    "from sklearn.preprocessing import PolynomialFeatures"
   ]
  },
  {
   "cell_type": "code",
   "execution_count": null,
   "id": "e03e134b-9005-49fa-89c6-7d886ad0a1f2",
   "metadata": {
    "tags": []
   },
   "outputs": [],
   "source": [
    "pf = PolynomialFeatures(\n",
    "    degree = 3,\n",
    "    interaction_only = False,\n",
    "    include_bias = False\n",
    ")"
   ]
  },
  {
   "cell_type": "code",
   "execution_count": null,
   "id": "0d800913-9b76-404c-904c-5a0f6d0e6ed6",
   "metadata": {
    "tags": []
   },
   "outputs": [],
   "source": [
    "pf.fit(X_train[['bill_length_mm_scaled']])"
   ]
  },
  {
   "cell_type": "code",
   "execution_count": null,
   "id": "fc4e18f4-926b-4cf7-aaf0-24188e47fa9b",
   "metadata": {
    "tags": []
   },
   "outputs": [],
   "source": [
    "t = pf.transform(X_train[['bill_length_mm_scaled']])"
   ]
  },
  {
   "cell_type": "code",
   "execution_count": null,
   "id": "250de51b-1b56-4a47-8b0b-6609811372d8",
   "metadata": {
    "tags": []
   },
   "outputs": [],
   "source": [
    "pd.DataFrame(t, columns=[f\"bill_length_power_{i+1}\" for i in range(3)])"
   ]
  },
  {
   "cell_type": "markdown",
   "id": "e8b027e2-cc77-4c80-b651-b1116d3d50e9",
   "metadata": {},
   "source": [
    "### 4.2 Interaction Terms"
   ]
  },
  {
   "cell_type": "markdown",
   "id": "36e918e7-ee15-4b07-b911-b13083faeb0a",
   "metadata": {},
   "source": [
    "- For multiple initial features, there could be *interactions* (cross-polynomial terms)\n",
    "- For 2 features, $x_0$ and $x_1$ for example, a 2nd-degree polynomial may contain:\n",
    "\n",
    "$$\n",
    "1,~x_0,~x_1,~x_0^2,~x_0x_1,~x_1^2\n",
    "$$\n",
    "\n",
    "- Each of the terms get their own coefficient in a regression model\n",
    "- Polynomial preprocessing function with `interaction_only = True`"
   ]
  },
  {
   "cell_type": "code",
   "execution_count": null,
   "id": "c2e29726-eaf9-47ce-8c61-f720d5439b79",
   "metadata": {},
   "outputs": [],
   "source": []
  }
 ],
 "metadata": {
  "kernelspec": {
   "display_name": "Python 3 (ipykernel)",
   "language": "python",
   "name": "python3"
  },
  "language_info": {
   "codemirror_mode": {
    "name": "ipython",
    "version": 3
   },
   "file_extension": ".py",
   "mimetype": "text/x-python",
   "name": "python",
   "nbconvert_exporter": "python",
   "pygments_lexer": "ipython3",
   "version": "3.11.3"
  }
 },
 "nbformat": 4,
 "nbformat_minor": 5
}
