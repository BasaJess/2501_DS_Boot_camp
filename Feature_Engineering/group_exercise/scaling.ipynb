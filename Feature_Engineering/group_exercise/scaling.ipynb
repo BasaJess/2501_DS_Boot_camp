{
 "cells": [
  {
   "cell_type": "markdown",
   "id": "3b750ef3-6afc-4e20-a11a-2dca555e3ffe",
   "metadata": {},
   "source": [
    "# Scaling\n",
    "\n",
    "https://scikit-learn.org/stable/modules/generated/sklearn.preprocessing.MinMaxScaler.html\n",
    "\n",
    "__Converts a numerical column to a scaled/normalized numerical column__\n",
    "\n",
    "1. Execute the code \n",
    "\n",
    "2. Understand what is happening\n",
    "   QUESTION: Research the pros/cons of scaling a numerical variable.\n",
    "\n",
    "3. search for other  scaling strategy \n",
    "4. Explain to the rest of the group what you did\n",
    "\n"
   ]
  },
  {
   "cell_type": "markdown",
   "id": "0fb1014f-1c84-411b-9e5c-fe1d8d2e3813",
   "metadata": {},
   "source": [
    "### Import Libraries"
   ]
  },
  {
   "cell_type": "code",
   "execution_count": null,
   "id": "f69a89bf-c206-4ee1-85db-403a9c7d6bdc",
   "metadata": {
    "tags": []
   },
   "outputs": [],
   "source": [
    "import pandas as pd\n",
    "from sklearn.preprocessing import MinMaxScaler"
   ]
  },
  {
   "cell_type": "markdown",
   "id": "cf3d6519-df41-4f16-97c8-70ff7e6806a3",
   "metadata": {},
   "source": [
    "### Read data into a dataframe df"
   ]
  },
  {
   "cell_type": "code",
   "execution_count": null,
   "id": "ebb7e44e-f0cc-459d-91ec-aea065148761",
   "metadata": {
    "tags": []
   },
   "outputs": [],
   "source": [
    "df = pd.read_csv('../data/penguins.csv')\n",
    "df"
   ]
  },
  {
   "cell_type": "markdown",
   "id": "119faf4a-f3b6-47bb-8f72-b4a22d9cb894",
   "metadata": {},
   "source": [
    "### Select a numerical column/columns to scale"
   ]
  },
  {
   "cell_type": "code",
   "execution_count": null,
   "id": "97fc792f-79ef-4344-bb95-d17bea72e953",
   "metadata": {
    "tags": []
   },
   "outputs": [],
   "source": [
    "columns = df[['body_mass_g']]\n",
    "columns"
   ]
  },
  {
   "cell_type": "markdown",
   "id": "bd8277ab-bc4e-4a72-8a57-9f82397be880",
   "metadata": {},
   "source": [
    "### Scale/ normalize a numerical columns to a specific range "
   ]
  },
  {
   "cell_type": "code",
   "execution_count": null,
   "id": "f2a5f989-1935-4385-a8cc-05122cba46fe",
   "metadata": {
    "tags": []
   },
   "outputs": [],
   "source": [
    "# Define the transformer\n",
    "scaler = MinMaxScaler()"
   ]
  },
  {
   "cell_type": "markdown",
   "id": "08a8d509-c51e-404a-a650-7cd7b638ffed",
   "metadata": {},
   "source": [
    "#### \"Fitting\" the scaler transformer\n",
    "During the fit, the scaler transformer learns the max and the min of the feature. These values than are stored in the \"data_max_\" and \"data_min\" attributes of the *scaler* object."
   ]
  },
  {
   "cell_type": "code",
   "execution_count": null,
   "id": "f114e882-0766-443f-932c-a062125d94db",
   "metadata": {
    "tags": []
   },
   "outputs": [],
   "source": [
    "scaler.fit(columns)               # learn the min and max of the data"
   ]
  },
  {
   "cell_type": "code",
   "execution_count": null,
   "id": "7370657f-8c8e-4643-afe8-8a3169e1e982",
   "metadata": {
    "tags": []
   },
   "outputs": [],
   "source": [
    "scaler.data_max_, scaler.data_min_"
   ]
  },
  {
   "cell_type": "markdown",
   "id": "9922c958-6d04-4852-b6c6-c3146ce55f3d",
   "metadata": {},
   "source": [
    "#### Transforming the columns\n",
    "Only during the transformation the columns are converted according to this:\n",
    "$$X^{'} = \\dfrac{X - min}{max -min} $$"
   ]
  },
  {
   "cell_type": "code",
   "execution_count": null,
   "id": "9372557e-e0b5-4483-bab2-0035fc8e85b9",
   "metadata": {
    "tags": []
   },
   "outputs": [],
   "source": [
    "t = scaler.transform(columns)     \n",
    "print(t.shape)\n",
    "t"
   ]
  },
  {
   "cell_type": "code",
   "execution_count": null,
   "id": "61258f38-ae42-4bce-8a5c-dc79088e8c68",
   "metadata": {},
   "outputs": [],
   "source": [
    "# create a DataFrame\n",
    "cols_scaled = pd.DataFrame(t, columns=columns.columns)\n",
    "cols_scaled.head()"
   ]
  },
  {
   "cell_type": "markdown",
   "id": "4c4640e3-4490-45e1-8d18-257b4f6c5b2b",
   "metadata": {},
   "source": [
    "---\n",
    "__Hint__: You may have noticed that the output of the transformations with sklearn Feature Engineering methods is a numpy array. In case you want/need a DataFrame as output you can add to your code:\n",
    "```python\n",
    "from sklearn import set_config\n",
    "set_config(transform_output=\"pandas\")\n",
    "```"
   ]
  },
  {
   "cell_type": "markdown",
   "id": "b315674e",
   "metadata": {},
   "source": [
    "### Other scalers"
   ]
  },
  {
   "cell_type": "code",
   "execution_count": null,
   "id": "1d94cae0",
   "metadata": {},
   "outputs": [],
   "source": [
    "..."
   ]
  }
 ],
 "metadata": {
  "kernelspec": {
   "display_name": "Python 3 (ipykernel)",
   "language": "python",
   "name": "python3"
  },
  "language_info": {
   "codemirror_mode": {
    "name": "ipython",
    "version": 3
   },
   "file_extension": ".py",
   "mimetype": "text/x-python",
   "name": "python",
   "nbconvert_exporter": "python",
   "pygments_lexer": "ipython3",
   "version": "3.11.3"
  }
 },
 "nbformat": 4,
 "nbformat_minor": 5
}
