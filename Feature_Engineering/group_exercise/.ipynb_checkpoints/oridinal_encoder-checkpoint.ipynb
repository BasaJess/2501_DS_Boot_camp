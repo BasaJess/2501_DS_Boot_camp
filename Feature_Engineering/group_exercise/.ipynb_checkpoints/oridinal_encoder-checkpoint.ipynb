{
 "cells": [
  {
   "cell_type": "markdown",
   "id": "528d23f9-a29b-4121-bbb1-d3e8b3b9fe70",
   "metadata": {},
   "source": [
    "# Ordinal Encoding\n",
    "\n",
    "https://scikit-learn.org/stable/modules/generated/sklearn.preprocessing.OrdinalEncoder.html\n",
    "\n",
    "__Convert an ordinal column (or any categorical column with a meaningful order) into numerical values. It assigns each category in the ordinal column a unique integer, maintaining the natural order of the categories.__\n",
    "\n",
    "1. Execute the code \n",
    "   \n",
    "\n",
    "2. Understand what is happening\n",
    "\n",
    "3. Search on internet the benefit\n",
    "\n",
    "4. Explain to the rest of the group what you did\n"
   ]
  },
  {
   "cell_type": "markdown",
   "id": "97d8f10f-8860-4605-bfb6-84c9a73bb307",
   "metadata": {},
   "source": [
    "### Import Libraries"
   ]
  },
  {
   "cell_type": "code",
   "execution_count": null,
   "id": "98ff9ee3-d635-4460-adb4-9a202aaab7bd",
   "metadata": {
    "tags": []
   },
   "outputs": [],
   "source": [
    "from sklearn.preprocessing import OrdinalEncoder\n",
    "import pandas as pd\n",
    "\n",
    "\n"
   ]
  },
  {
   "cell_type": "markdown",
   "id": "bd5df083-6090-48f9-b17a-d41546c74463",
   "metadata": {},
   "source": [
    "### Read data into a dataframe df"
   ]
  },
  {
   "cell_type": "code",
   "execution_count": null,
   "id": "3c8d1bce-f988-4f68-9d23-e0aaa2433d54",
   "metadata": {
    "tags": []
   },
   "outputs": [],
   "source": [
    "# Example dataset with ordinal categorical feature\n",
    "data = {'feature': ['Low', 'Medium', 'High', 'Medium', 'Low', 'High']}\n",
    "\n",
    "df = pd.DataFrame(data)\n",
    "df"
   ]
  },
  {
   "cell_type": "markdown",
   "id": "2c64049c-6ccb-4456-b600-fb3de3a49ce4",
   "metadata": {},
   "source": [
    "### Encode an oridinal feature"
   ]
  },
  {
   "cell_type": "code",
   "execution_count": null,
   "id": "53dfff71-1271-4aa1-a987-17d9f599d6f1",
   "metadata": {
    "tags": []
   },
   "outputs": [],
   "source": [
    "# Define the transformer instance\n",
    "ordinal_encoder = OrdinalEncoder(categories=[['Low', 'Medium', 'High']])"
   ]
  },
  {
   "cell_type": "markdown",
   "id": "901736e9",
   "metadata": {},
   "source": [
    "The categories parameter is used to specify the exact order of the categories in a feature when you want to ensure that the encoder assigns numerical values based on that specific order."
   ]
  },
  {
   "cell_type": "markdown",
   "id": "6bd37b05-170f-4122-8e02-b967bb9389ee",
   "metadata": {},
   "source": [
    "#### \"Fitting\" the ordinal encoder\n",
    "During the fit, the ordinal_encoder transformer learns the unique values of the feature. This values than are stored in the \"categories_\" attribute of the *ordinal_encoder* object."
   ]
  },
  {
   "cell_type": "code",
   "execution_count": null,
   "id": "89dcb3ea-63a5-447a-bb5a-688f815022cc",
   "metadata": {
    "tags": []
   },
   "outputs": [],
   "source": [
    "ordinal_encoder.fit(df[['feature']])            "
   ]
  },
  {
   "cell_type": "code",
   "execution_count": null,
   "id": "bb6a9d67-f8e0-45f4-9cd3-ada599a46117",
   "metadata": {
    "tags": []
   },
   "outputs": [],
   "source": [
    "ordinal_encoder.categories_"
   ]
  },
  {
   "cell_type": "markdown",
   "id": "c1d70783-46c4-42cf-8243-5756c79a9751",
   "metadata": {},
   "source": [
    "#### Transforming the columns\n",
    "Only during the transformation each category is converted to a a value that represent the order "
   ]
  },
  {
   "cell_type": "code",
   "execution_count": null,
   "id": "89d16f6a-fae9-438f-bffd-b233e927ca06",
   "metadata": {
    "tags": []
   },
   "outputs": [],
   "source": [
    "t = ordinal_encoder.transform(df[['feature']])\n",
    "print(t.shape)\n",
    "print()\n",
    "t"
   ]
  },
  {
   "cell_type": "code",
   "execution_count": null,
   "id": "1049cf4d-e69c-4e4b-8708-53010c06532f",
   "metadata": {
    "tags": []
   },
   "outputs": [],
   "source": [
    "# format output as a DataFame\n",
    "encoded_feature = pd.DataFrame(t, columns=ordinal_encoder.get_feature_names_out())\n",
    "encoded_feature.head()"
   ]
  },
  {
   "cell_type": "markdown",
   "id": "bb290ff8-60fb-4289-afcb-7437e0a55c84",
   "metadata": {},
   "source": [
    "---\n",
    "__Hint__: You may have noticed that the output of the transformations with sklearn Feature Engineering methods is a numpy array. In case you want/need a DataFrame as output you can add to your code:\n",
    "```python\n",
    "from sklearn import set_config\n",
    "set_config(transform_output=\"pandas\")\n",
    "```"
   ]
  },
  {
   "cell_type": "code",
   "execution_count": null,
   "id": "5818a181-9dd9-4ca8-964b-888786adf2db",
   "metadata": {},
   "outputs": [],
   "source": []
  }
 ],
 "metadata": {
  "kernelspec": {
   "display_name": "Python 3 (ipykernel)",
   "language": "python",
   "name": "python3"
  },
  "language_info": {
   "codemirror_mode": {
    "name": "ipython",
    "version": 3
   },
   "file_extension": ".py",
   "mimetype": "text/x-python",
   "name": "python",
   "nbconvert_exporter": "python",
   "pygments_lexer": "ipython3",
   "version": "3.11.11"
  }
 },
 "nbformat": 4,
 "nbformat_minor": 5
}
