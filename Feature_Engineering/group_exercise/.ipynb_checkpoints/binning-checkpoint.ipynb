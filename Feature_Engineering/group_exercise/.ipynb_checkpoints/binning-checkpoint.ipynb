{
 "cells": [
  {
   "cell_type": "markdown",
   "id": "a2ff149b-e47b-4a05-86b6-37fc1d01568e",
   "metadata": {},
   "source": [
    "# Binning\n",
    "\n",
    "https://scikit-learn.org/stable/modules/generated/sklearn.preprocessing.KBinsDiscretizer.html\n",
    "\n",
    "__Converts a numerical column (bill_length_mm) to a matrix of binary variables__\n",
    "\n",
    "1. Execute the code \n",
    "   \n",
    "2. Understand what is happening\n",
    "\n",
    "3. Search on internet the benefit\n",
    "\n",
    "4. Explain to the rest of the group what you did\n",
    "\n"
   ]
  },
  {
   "cell_type": "markdown",
   "id": "888645b3-6c2a-4109-a51d-75b05e806011",
   "metadata": {},
   "source": [
    "### Import library"
   ]
  },
  {
   "cell_type": "code",
   "execution_count": null,
   "id": "2d79f0a7-0b8a-4207-af1a-13d0dd2c3630",
   "metadata": {
    "tags": []
   },
   "outputs": [],
   "source": [
    "import pandas as pd\n",
    "from sklearn.preprocessing import KBinsDiscretizer"
   ]
  },
  {
   "cell_type": "markdown",
   "id": "114c980d-191b-4796-8ee7-7bf0bf65adff",
   "metadata": {},
   "source": [
    "### Read data into a dataframe df"
   ]
  },
  {
   "cell_type": "code",
   "execution_count": null,
   "id": "08672e83-7a0b-4e08-a892-54105bf692dc",
   "metadata": {
    "tags": []
   },
   "outputs": [],
   "source": [
    "df = pd.read_csv('../data/penguins.csv')\n",
    "df"
   ]
  },
  {
   "cell_type": "markdown",
   "id": "d8209017-74ff-41ba-8923-45e848ee46f0",
   "metadata": {},
   "source": [
    "### Check Missing value"
   ]
  },
  {
   "cell_type": "code",
   "execution_count": null,
   "id": "19bc9c33-e503-414a-8d5b-c5e89c0d9d78",
   "metadata": {
    "tags": []
   },
   "outputs": [],
   "source": [
    "df.isna().sum()"
   ]
  },
  {
   "cell_type": "markdown",
   "id": "465d576f-73cd-4a93-9cb7-801bdb692e95",
   "metadata": {},
   "source": [
    "#### Drop all missing values"
   ]
  },
  {
   "cell_type": "code",
   "execution_count": null,
   "id": "d46ebb45-f023-49c5-82a7-51558519083b",
   "metadata": {
    "tags": []
   },
   "outputs": [],
   "source": [
    "df = df.dropna()\n",
    "df.isna().sum()"
   ]
  },
  {
   "cell_type": "markdown",
   "id": "3aa470a6-82f9-41e0-bd1b-59597bb52ecb",
   "metadata": {},
   "source": [
    "### Discritize a numerical column"
   ]
  },
  {
   "cell_type": "code",
   "execution_count": null,
   "id": "5583b93e-7275-40fd-8152-1bee8433d8a1",
   "metadata": {
    "tags": []
   },
   "outputs": [],
   "source": [
    "# Define the transformer\n",
    "kbins = KBinsDiscretizer(n_bins=5, encode='onehot-dense', strategy='quantile')\n",
    "kbins"
   ]
  },
  {
   "cell_type": "code",
   "execution_count": null,
   "id": "b820a0b9-99d2-41e7-bde1-4456c33e53e1",
   "metadata": {
    "tags": []
   },
   "outputs": [],
   "source": [
    "# Numerical columns to be transformed\n",
    "columns = df[['bill_length_mm']]\n",
    "columns"
   ]
  },
  {
   "cell_type": "markdown",
   "id": "d7da1d53-340f-4eed-a611-ffde5e3c41a3",
   "metadata": {},
   "source": [
    "#### \"Fitting\" the transformer kbins on the numerical columns\n",
    "During the fitting step of KBinsDiscretizer, only the following happens:\n",
    "\n",
    "1. __Calculation of Bin Edges__:\n",
    "    + For each feature (e.g., bill_length_mm), __the discretizer calculates the edges of the bins based on the selected strategy:__\n",
    "        + __Quantile__ (in this case):\n",
    "            + The data is divided into n_bins (e.g., 5) such that each bin contains approximately the same number of samples.\n",
    "            + Percentiles (e.g., 20%, 40%, 60%, 80%) are calculated to determine where to place the bin edges.\n",
    "    + These edges are stored in the **bin_edges_** attribute of the KBinsDiscretizer object.\n",
    "2. __No Transformation of Data__:\n",
    "    + During fitting, the data itself is not transformed. The discretizer only learns the bin boundaries.\n",
    "3. __Storage of Bin Information__:\n",
    "    + The discretizer memorizes the bin edges for each feature. This information will later be used during the transform step to assign each value to a bin."
   ]
  },
  {
   "cell_type": "code",
   "execution_count": null,
   "id": "52257cd5-ea3c-4f75-8fef-69a358ca9174",
   "metadata": {
    "tags": []
   },
   "outputs": [],
   "source": [
    "kbins.fit(columns)"
   ]
  },
  {
   "cell_type": "code",
   "execution_count": null,
   "id": "21ba0941-f5fa-4d5c-bd5e-f7bb3c6dafaf",
   "metadata": {
    "tags": []
   },
   "outputs": [],
   "source": [
    "print(kbins.bin_edges_)"
   ]
  },
  {
   "cell_type": "code",
   "execution_count": null,
   "id": "352ef18d-2da8-49e0-9583-df0ad2fdad68",
   "metadata": {
    "tags": []
   },
   "outputs": [],
   "source": [
    "# the bins goes from \n",
    "edges = kbins.bin_edges_[0]\n",
    "for i in range(len(edges)-1):\n",
    "    edge1 = edges[i]\n",
    "    edge2 = edges[i+1]\n",
    "    print(f'bin{i+1}: {edge2}_to_{edge1}')\n"
   ]
  },
  {
   "cell_type": "markdown",
   "id": "27bda3fb-38d6-43c6-adc7-afd20d1c8746",
   "metadata": {},
   "source": [
    "Wait _**kbins.fit(columns)**_ is equivalen to:"
   ]
  },
  {
   "cell_type": "code",
   "execution_count": null,
   "id": "cfecf736-7861-4500-992c-8aeded2b84bd",
   "metadata": {
    "tags": []
   },
   "outputs": [],
   "source": [
    "print(columns.quantile(q=0.).values)  # this is equivalent to the min\n",
    "print(columns.quantile(q=0.20).values)\n",
    "print(columns.quantile(q=0.40).values)\n",
    "print(columns.quantile(q=0.60).values)\n",
    "print(columns.quantile(q=0.80).values)\n",
    "print(columns.quantile(q=1.00).values)"
   ]
  },
  {
   "cell_type": "markdown",
   "id": "8a07dc02-9861-44d3-848d-aaca96a0b5db",
   "metadata": {},
   "source": [
    "#### Transforming the numericol column\n",
    "The bins are transformed into 5 one-hot encoded columns, each representing membership in one bin (0 or 1)."
   ]
  },
  {
   "cell_type": "code",
   "execution_count": null,
   "id": "83ecdab4-b90a-4cfa-b17f-9c97376350e3",
   "metadata": {
    "tags": []
   },
   "outputs": [],
   "source": [
    "t = kbins.transform(columns)\n",
    "print(t.shape)\n",
    "print(t)"
   ]
  },
  {
   "cell_type": "code",
   "execution_count": null,
   "id": "c61b4466-397e-4804-940d-f0d914bafb3a",
   "metadata": {},
   "outputs": [],
   "source": []
  },
  {
   "cell_type": "markdown",
   "id": "bd6e4f51-1909-44ec-84d2-666c7557c804",
   "metadata": {},
   "source": [
    "---\n",
    "#### 🌶️ Bonus: Create nice labels"
   ]
  },
  {
   "cell_type": "code",
   "execution_count": null,
   "id": "457d2fde-39eb-46ab-aebc-08413a61af07",
   "metadata": {
    "tags": []
   },
   "outputs": [],
   "source": [
    "edges = kbins.bin_edges_[0]\n",
    "labels = []\n",
    "for i in range(len(edges)-1):\n",
    "    edge1 = edges[i]\n",
    "    edge2 = edges[i+1]\n",
    "    labels.append(f\"{edge1}_to_{edge2}\")\n",
    "\n",
    "# create a DataFrame\n",
    "df_bins = pd.DataFrame(t, columns=labels)\n",
    "df_bins.head()"
   ]
  },
  {
   "cell_type": "markdown",
   "id": "94fde051-d15d-4265-ac2b-5acc118d8fbd",
   "metadata": {},
   "source": [
    "---"
   ]
  },
  {
   "cell_type": "markdown",
   "id": "ccf7399a-d287-4cf1-8a74-14e66837bef4",
   "metadata": {},
   "source": [
    "__Hint__: You may have noticed that the output of the transformations with sklearn Feature Engineering methods is a numpy array. In case you want/need a DataFrame as output you can add to your code:\n",
    "```python\n",
    "from sklearn import set_config\n",
    "set_config(transform_output=\"pandas\")\n",
    "```\n"
   ]
  },
  {
   "cell_type": "markdown",
   "id": "280ebda5-8539-4551-bc72-3d0fea8479c1",
   "metadata": {},
   "source": [
    "---\n",
    "🌶️🌶️🌶️ __Bonus__: set the strategy parameter to 'uniform' and see how the edges change"
   ]
  },
  {
   "cell_type": "code",
   "execution_count": null,
   "id": "e887dce3-8974-451b-960c-68612f303126",
   "metadata": {},
   "outputs": [],
   "source": [
    "# define the transformer\n",
    "kbins_uniform = KBinsDiscretizer(n_bins=5, strategy='onehot-dense', strategy = ... )\n",
    "kbins_uniform"
   ]
  },
  {
   "cell_type": "code",
   "execution_count": null,
   "id": "57aea5b2-53c1-4398-bf93-42efba267efe",
   "metadata": {},
   "outputs": [],
   "source": [
    "# learn the bins edge on the column \n",
    "kbins_uniform.?"
   ]
  },
  {
   "cell_type": "code",
   "execution_count": null,
   "id": "eea64c1e-a0d3-40f8-9672-f932efe2a8cc",
   "metadata": {},
   "outputs": [],
   "source": [
    "# Display the bins edge\n",
    "print(kbins.?)"
   ]
  }
 ],
 "metadata": {
  "kernelspec": {
   "display_name": "Python 3 (ipykernel)",
   "language": "python",
   "name": "python3"
  },
  "language_info": {
   "codemirror_mode": {
    "name": "ipython",
    "version": 3
   },
   "file_extension": ".py",
   "mimetype": "text/x-python",
   "name": "python",
   "nbconvert_exporter": "python",
   "pygments_lexer": "ipython3",
   "version": "3.11.11"
  }
 },
 "nbformat": 4,
 "nbformat_minor": 5
}
