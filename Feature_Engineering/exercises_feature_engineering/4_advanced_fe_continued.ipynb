{
 "cells": [
  {
   "cell_type": "markdown",
   "metadata": {},
   "source": [
    "# Advanced Feature Engineering II\n",
    "<hr style=\"border:2px solid black\">"
   ]
  },
  {
   "cell_type": "markdown",
   "metadata": {},
   "source": [
    "This notebook introduces some new technologies used in ML workflow. Some pieces of code are repetition from previous notebooks. They are meant for the readers as a scope to get more familiar and comfortable with the syntaxes. The new technologies include:\n",
    "- `ColumnTransformer`\n",
    "- `Pipeline`"
   ]
  },
  {
   "cell_type": "markdown",
   "metadata": {},
   "source": [
    "## Penguin Data"
   ]
  },
  {
   "cell_type": "markdown",
   "metadata": {},
   "source": [
    "**load packages**"
   ]
  },
  {
   "cell_type": "code",
   "execution_count": 1,
   "metadata": {
    "tags": []
   },
   "outputs": [],
   "source": [
    "# data analysis stack\n",
    "import numpy as np\n",
    "import pandas as pd\n",
    "\n",
    "# machine-learning stack\n",
    "from sklearn.model_selection import train_test_split\n",
    "from sklearn.linear_model import LinearRegression\n",
    "from sklearn.impute import SimpleImputer\n",
    "from sklearn.preprocessing import (\n",
    "    OneHotEncoder,\n",
    "    StandardScaler,\n",
    "    MinMaxScaler,\n",
    "    PolynomialFeatures,\n",
    "    FunctionTransformer\n",
    ")\n",
    "from sklearn.compose import ColumnTransformer\n",
    "from sklearn.pipeline import Pipeline\n",
    "\n",
    "# miscellaneous\n",
    "import warnings\n",
    "warnings.filterwarnings(\"ignore\")"
   ]
  },
  {
   "cell_type": "markdown",
   "metadata": {},
   "source": [
    "**read data**"
   ]
  },
  {
   "cell_type": "code",
   "execution_count": 2,
   "metadata": {
    "tags": []
   },
   "outputs": [
    {
     "data": {
      "text/html": [
       "<div>\n",
       "<style scoped>\n",
       "    .dataframe tbody tr th:only-of-type {\n",
       "        vertical-align: middle;\n",
       "    }\n",
       "\n",
       "    .dataframe tbody tr th {\n",
       "        vertical-align: top;\n",
       "    }\n",
       "\n",
       "    .dataframe thead th {\n",
       "        text-align: right;\n",
       "    }\n",
       "</style>\n",
       "<table border=\"1\" class=\"dataframe\">\n",
       "  <thead>\n",
       "    <tr style=\"text-align: right;\">\n",
       "      <th></th>\n",
       "      <th>species</th>\n",
       "      <th>island</th>\n",
       "      <th>bill_length_mm</th>\n",
       "      <th>bill_depth_mm</th>\n",
       "      <th>flipper_length_mm</th>\n",
       "      <th>body_mass_g</th>\n",
       "      <th>sex</th>\n",
       "    </tr>\n",
       "  </thead>\n",
       "  <tbody>\n",
       "    <tr>\n",
       "      <th>0</th>\n",
       "      <td>Adelie</td>\n",
       "      <td>Torgersen</td>\n",
       "      <td>39.1</td>\n",
       "      <td>18.7</td>\n",
       "      <td>181.0</td>\n",
       "      <td>3750.0</td>\n",
       "      <td>Male</td>\n",
       "    </tr>\n",
       "    <tr>\n",
       "      <th>1</th>\n",
       "      <td>Adelie</td>\n",
       "      <td>Torgersen</td>\n",
       "      <td>39.5</td>\n",
       "      <td>17.4</td>\n",
       "      <td>186.0</td>\n",
       "      <td>3800.0</td>\n",
       "      <td>Female</td>\n",
       "    </tr>\n",
       "    <tr>\n",
       "      <th>2</th>\n",
       "      <td>Adelie</td>\n",
       "      <td>Torgersen</td>\n",
       "      <td>40.3</td>\n",
       "      <td>18.0</td>\n",
       "      <td>195.0</td>\n",
       "      <td>3250.0</td>\n",
       "      <td>Female</td>\n",
       "    </tr>\n",
       "    <tr>\n",
       "      <th>3</th>\n",
       "      <td>Adelie</td>\n",
       "      <td>Torgersen</td>\n",
       "      <td>36.7</td>\n",
       "      <td>19.3</td>\n",
       "      <td>193.0</td>\n",
       "      <td>3450.0</td>\n",
       "      <td>Female</td>\n",
       "    </tr>\n",
       "    <tr>\n",
       "      <th>4</th>\n",
       "      <td>Adelie</td>\n",
       "      <td>Torgersen</td>\n",
       "      <td>39.3</td>\n",
       "      <td>20.6</td>\n",
       "      <td>190.0</td>\n",
       "      <td>3650.0</td>\n",
       "      <td>Male</td>\n",
       "    </tr>\n",
       "  </tbody>\n",
       "</table>\n",
       "</div>"
      ],
      "text/plain": [
       "  species     island  bill_length_mm  bill_depth_mm  flipper_length_mm   \n",
       "0  Adelie  Torgersen            39.1           18.7              181.0  \\\n",
       "1  Adelie  Torgersen            39.5           17.4              186.0   \n",
       "2  Adelie  Torgersen            40.3           18.0              195.0   \n",
       "3  Adelie  Torgersen            36.7           19.3              193.0   \n",
       "4  Adelie  Torgersen            39.3           20.6              190.0   \n",
       "\n",
       "   body_mass_g     sex  \n",
       "0       3750.0    Male  \n",
       "1       3800.0  Female  \n",
       "2       3250.0  Female  \n",
       "3       3450.0  Female  \n",
       "4       3650.0    Male  "
      ]
     },
     "execution_count": 2,
     "metadata": {},
     "output_type": "execute_result"
    }
   ],
   "source": [
    "df = pd.read_csv('../data/penguins.csv')\n",
    "df.head()"
   ]
  },
  {
   "cell_type": "markdown",
   "metadata": {},
   "source": [
    "### 1.1 Train-Test split"
   ]
  },
  {
   "cell_type": "code",
   "execution_count": 4,
   "metadata": {
    "tags": []
   },
   "outputs": [],
   "source": [
    "train,test = train_test_split(df, test_size=0.2, random_state=101)\n",
    "train.reset_index(drop=True, inplace=True)\n",
    "test.reset_index(drop=True, inplace=True)"
   ]
  },
  {
   "cell_type": "markdown",
   "metadata": {},
   "source": [
    "### 1.2 Quick exploration"
   ]
  },
  {
   "cell_type": "code",
   "execution_count": 5,
   "metadata": {
    "tags": []
   },
   "outputs": [
    {
     "data": {
      "text/html": [
       "<div>\n",
       "<style scoped>\n",
       "    .dataframe tbody tr th:only-of-type {\n",
       "        vertical-align: middle;\n",
       "    }\n",
       "\n",
       "    .dataframe tbody tr th {\n",
       "        vertical-align: top;\n",
       "    }\n",
       "\n",
       "    .dataframe thead th {\n",
       "        text-align: right;\n",
       "    }\n",
       "</style>\n",
       "<table border=\"1\" class=\"dataframe\">\n",
       "  <thead>\n",
       "    <tr style=\"text-align: right;\">\n",
       "      <th></th>\n",
       "      <th>species</th>\n",
       "      <th>island</th>\n",
       "      <th>bill_length_mm</th>\n",
       "      <th>bill_depth_mm</th>\n",
       "      <th>flipper_length_mm</th>\n",
       "      <th>body_mass_g</th>\n",
       "      <th>sex</th>\n",
       "    </tr>\n",
       "  </thead>\n",
       "  <tbody>\n",
       "    <tr>\n",
       "      <th>0</th>\n",
       "      <td>Adelie</td>\n",
       "      <td>Dream</td>\n",
       "      <td>36.5</td>\n",
       "      <td>18.0</td>\n",
       "      <td>182.0</td>\n",
       "      <td>3150.0</td>\n",
       "      <td>Female</td>\n",
       "    </tr>\n",
       "    <tr>\n",
       "      <th>1</th>\n",
       "      <td>Gentoo</td>\n",
       "      <td>Biscoe</td>\n",
       "      <td>47.2</td>\n",
       "      <td>15.5</td>\n",
       "      <td>215.0</td>\n",
       "      <td>4975.0</td>\n",
       "      <td>Female</td>\n",
       "    </tr>\n",
       "    <tr>\n",
       "      <th>2</th>\n",
       "      <td>Gentoo</td>\n",
       "      <td>Biscoe</td>\n",
       "      <td>46.3</td>\n",
       "      <td>15.8</td>\n",
       "      <td>215.0</td>\n",
       "      <td>5050.0</td>\n",
       "      <td>Male</td>\n",
       "    </tr>\n",
       "    <tr>\n",
       "      <th>3</th>\n",
       "      <td>Gentoo</td>\n",
       "      <td>Biscoe</td>\n",
       "      <td>50.4</td>\n",
       "      <td>15.3</td>\n",
       "      <td>224.0</td>\n",
       "      <td>5550.0</td>\n",
       "      <td>Male</td>\n",
       "    </tr>\n",
       "    <tr>\n",
       "      <th>4</th>\n",
       "      <td>Chinstrap</td>\n",
       "      <td>Dream</td>\n",
       "      <td>45.9</td>\n",
       "      <td>17.1</td>\n",
       "      <td>190.0</td>\n",
       "      <td>3575.0</td>\n",
       "      <td>Female</td>\n",
       "    </tr>\n",
       "  </tbody>\n",
       "</table>\n",
       "</div>"
      ],
      "text/plain": [
       "     species  island  bill_length_mm  bill_depth_mm  flipper_length_mm   \n",
       "0     Adelie   Dream            36.5           18.0              182.0  \\\n",
       "1     Gentoo  Biscoe            47.2           15.5              215.0   \n",
       "2     Gentoo  Biscoe            46.3           15.8              215.0   \n",
       "3     Gentoo  Biscoe            50.4           15.3              224.0   \n",
       "4  Chinstrap   Dream            45.9           17.1              190.0   \n",
       "\n",
       "   body_mass_g     sex  \n",
       "0       3150.0  Female  \n",
       "1       4975.0  Female  \n",
       "2       5050.0    Male  \n",
       "3       5550.0    Male  \n",
       "4       3575.0  Female  "
      ]
     },
     "execution_count": 5,
     "metadata": {},
     "output_type": "execute_result"
    }
   ],
   "source": [
    "train.head()"
   ]
  },
  {
   "cell_type": "code",
   "execution_count": 6,
   "metadata": {
    "tags": []
   },
   "outputs": [
    {
     "name": "stdout",
     "output_type": "stream",
     "text": [
      "<class 'pandas.core.frame.DataFrame'>\n",
      "RangeIndex: 273 entries, 0 to 272\n",
      "Data columns (total 7 columns):\n",
      " #   Column             Non-Null Count  Dtype  \n",
      "---  ------             --------------  -----  \n",
      " 0   species            273 non-null    object \n",
      " 1   island             273 non-null    object \n",
      " 2   bill_length_mm     273 non-null    float64\n",
      " 3   bill_depth_mm      271 non-null    float64\n",
      " 4   flipper_length_mm  272 non-null    float64\n",
      " 5   body_mass_g        273 non-null    float64\n",
      " 6   sex                266 non-null    object \n",
      "dtypes: float64(4), object(3)\n",
      "memory usage: 15.1+ KB\n"
     ]
    }
   ],
   "source": [
    "train.info()"
   ]
  },
  {
   "cell_type": "markdown",
   "metadata": {},
   "source": [
    "### 1.3 Feature-Target Separation"
   ]
  },
  {
   "cell_type": "code",
   "execution_count": 7,
   "metadata": {
    "tags": []
   },
   "outputs": [],
   "source": [
    "# target column name\n",
    "target = 'body_mass_g'"
   ]
  },
  {
   "cell_type": "code",
   "execution_count": 8,
   "metadata": {
    "tags": []
   },
   "outputs": [
    {
     "data": {
      "text/plain": [
       "['species',\n",
       " 'island',\n",
       " 'flipper_length_mm',\n",
       " 'bill_length_mm',\n",
       " 'sex',\n",
       " 'bill_depth_mm']"
      ]
     },
     "execution_count": 8,
     "metadata": {},
     "output_type": "execute_result"
    }
   ],
   "source": [
    "# feature column names\n",
    "features = list(set(train.columns) - set([target]))\n",
    "features"
   ]
  },
  {
   "cell_type": "code",
   "execution_count": 9,
   "metadata": {
    "tags": []
   },
   "outputs": [
    {
     "data": {
      "text/plain": [
       "((273, 6), (273,))"
      ]
     },
     "execution_count": 9,
     "metadata": {},
     "output_type": "execute_result"
    }
   ],
   "source": [
    "# feature and target columns\n",
    "X_train, y_train = train[features], train[target]\n",
    "X_train.shape, y_train.shape"
   ]
  },
  {
   "cell_type": "code",
   "execution_count": 10,
   "metadata": {
    "tags": []
   },
   "outputs": [
    {
     "data": {
      "text/plain": [
       "['species', 'island', 'sex']"
      ]
     },
     "execution_count": 10,
     "metadata": {},
     "output_type": "execute_result"
    }
   ],
   "source": [
    "cat_features = list(X_train.select_dtypes(include=['object']).columns)\n",
    "cat_features"
   ]
  },
  {
   "cell_type": "code",
   "execution_count": 11,
   "metadata": {
    "tags": []
   },
   "outputs": [
    {
     "data": {
      "text/plain": [
       "['flipper_length_mm', 'bill_length_mm', 'bill_depth_mm']"
      ]
     },
     "execution_count": 11,
     "metadata": {},
     "output_type": "execute_result"
    }
   ],
   "source": [
    "num_features = list(X_train.select_dtypes(exclude=['object']).columns)\n",
    "num_features"
   ]
  },
  {
   "cell_type": "markdown",
   "metadata": {},
   "source": [
    "<hr style=\"border:2px solid black\">"
   ]
  },
  {
   "cell_type": "markdown",
   "metadata": {},
   "source": [
    "- In what follows, the reader is expected to repruduce the ML steps as in notebook *2_advanced_fe*, using \n",
    "    + `Pipeline` instead of `make_pipeline`\n",
    "    + `ColumnTransformer` instead of `make_column_transformer`"
   ]
  },
  {
   "cell_type": "markdown",
   "metadata": {},
   "source": [
    "- Just uncomment the pieces of code, and proceed by running them one by one. "
   ]
  },
  {
   "cell_type": "markdown",
   "metadata": {},
   "source": [
    "<hr style=\"border:2px solid black\">"
   ]
  },
  {
   "cell_type": "markdown",
   "metadata": {},
   "source": [
    "## Feature Engineering"
   ]
  },
  {
   "cell_type": "markdown",
   "metadata": {},
   "source": [
    "### Preprocessing Pipelines"
   ]
  },
  {
   "cell_type": "markdown",
   "metadata": {},
   "source": [
    "**numerical columns**"
   ]
  },
  {
   "cell_type": "code",
   "execution_count": 12,
   "metadata": {
    "tags": []
   },
   "outputs": [],
   "source": [
    "num_transformer = Pipeline(\n",
    "    steps=[\n",
    "         ('imputer_num', SimpleImputer(strategy='mean')),  # imputer_numerical we just give a name for later steps\n",
    "         ('scaling_num', StandardScaler()),       # scaling_num  we just give a name for later steps\n",
    "         ('poly_num', PolynomialFeatures(degree=2)) \n",
    "    ])"
   ]
  },
  {
   "cell_type": "code",
   "execution_count": 13,
   "metadata": {
    "tags": []
   },
   "outputs": [
    {
     "data": {
      "text/plain": [
       "sklearn.pipeline.Pipeline"
      ]
     },
     "execution_count": 13,
     "metadata": {},
     "output_type": "execute_result"
    }
   ],
   "source": [
    "type(num_transformer)"
   ]
  },
  {
   "cell_type": "markdown",
   "metadata": {},
   "source": [
    "**categorical columns**"
   ]
  },
  {
   "cell_type": "code",
   "execution_count": 14,
   "metadata": {
    "tags": []
   },
   "outputs": [],
   "source": [
    "# Syntax: Requires specifying steps as a list of tuples, where each tuple contains a name and a transformation.\n",
    "# demands Pipeline\n",
    "cat_transformer = Pipeline(\n",
    "    steps=[\n",
    "        # Step 1: Impute missing values in the categorical data\n",
    "        # Use SimpleImputer with strategy='most_frequent' to fill missing values\n",
    "        # with the most frequent (mode) value in the column.\n",
    "        ('imputer_cat', SimpleImputer(strategy='most_frequent')),\n",
    "        \n",
    "        # Step 2: Apply one-hot encoding to the categorical data\n",
    "        # Use OneHotEncoder to convert categorical values into binary columns.\n",
    "        # 'drop='first'' drops the first category to avoid multicollinearity (dummy variable trap).\n",
    "        # 'handle_unknown='ignore'' ensures that any unknown categories encountered during transformation\n",
    "        # are ignored rather than raising an error.\n",
    "        ('onehot_cat', OneHotEncoder(drop='first', handle_unknown='ignore'))\n",
    "    ])\n",
    " "
   ]
  },
  {
   "cell_type": "code",
   "execution_count": 15,
   "metadata": {
    "tags": []
   },
   "outputs": [
    {
     "data": {
      "text/plain": [
       "sklearn.pipeline.Pipeline"
      ]
     },
     "execution_count": 15,
     "metadata": {},
     "output_type": "execute_result"
    }
   ],
   "source": [
    "type(cat_transformer)"
   ]
  },
  {
   "cell_type": "markdown",
   "metadata": {},
   "source": [
    "**total preprocessing**"
   ]
  },
  {
   "cell_type": "code",
   "execution_count": 16,
   "metadata": {
    "tags": []
   },
   "outputs": [],
   "source": [
    "preprocessor = ColumnTransformer(\n",
    "    transformers=[\n",
    "        ('transformer_num', num_transformer, num_features), # what is pipeline for num_features list defined by num_transformer\n",
    "        ('transformer_cat', cat_transformer, cat_features)  # what is pipeline for cat_features list defined by cat_transformer\n",
    "    ])\n",
    "# 'transformer_num': A name for the transformer, for later operations.\n",
    "# num_transformer: The actual pipeline or sequence of preprocessing steps for numerical features.\n",
    "# num_features: A list or array of column names (or indices) that this transformer will be applied to. \n",
    "   "
   ]
  },
  {
   "cell_type": "code",
   "execution_count": 17,
   "metadata": {
    "tags": []
   },
   "outputs": [
    {
     "data": {
      "text/plain": [
       "sklearn.compose._column_transformer.ColumnTransformer"
      ]
     },
     "execution_count": 17,
     "metadata": {},
     "output_type": "execute_result"
    }
   ],
   "source": [
    "type(preprocessor)"
   ]
  },
  {
   "cell_type": "markdown",
   "metadata": {},
   "source": [
    "**What similarities and differences did you notice between ...**\n",
    "- `Pipeline` and `make_pipeline`\n",
    "- `ColumnTransformer` and `make_column_transformer`?"
   ]
  },
  {
   "cell_type": "markdown",
   "metadata": {},
   "source": [
    "### Model Building"
   ]
  },
  {
   "cell_type": "markdown",
   "metadata": {},
   "source": [
    "**instantiate model**"
   ]
  },
  {
   "cell_type": "code",
   "execution_count": 18,
   "metadata": {
    "tags": []
   },
   "outputs": [],
   "source": [
    "linear_model = Pipeline(\n",
    "    steps=[\n",
    "        ('preprocessor_name', preprocessor),\n",
    "        ('regressor', LinearRegression())\n",
    "    ])"
   ]
  },
  {
   "cell_type": "markdown",
   "metadata": {},
   "source": [
    "**train model**"
   ]
  },
  {
   "cell_type": "code",
   "execution_count": 19,
   "metadata": {
    "tags": []
   },
   "outputs": [
    {
     "data": {
      "text/html": [
       "<style>#sk-container-id-1 {color: black;background-color: white;}#sk-container-id-1 pre{padding: 0;}#sk-container-id-1 div.sk-toggleable {background-color: white;}#sk-container-id-1 label.sk-toggleable__label {cursor: pointer;display: block;width: 100%;margin-bottom: 0;padding: 0.3em;box-sizing: border-box;text-align: center;}#sk-container-id-1 label.sk-toggleable__label-arrow:before {content: \"▸\";float: left;margin-right: 0.25em;color: #696969;}#sk-container-id-1 label.sk-toggleable__label-arrow:hover:before {color: black;}#sk-container-id-1 div.sk-estimator:hover label.sk-toggleable__label-arrow:before {color: black;}#sk-container-id-1 div.sk-toggleable__content {max-height: 0;max-width: 0;overflow: hidden;text-align: left;background-color: #f0f8ff;}#sk-container-id-1 div.sk-toggleable__content pre {margin: 0.2em;color: black;border-radius: 0.25em;background-color: #f0f8ff;}#sk-container-id-1 input.sk-toggleable__control:checked~div.sk-toggleable__content {max-height: 200px;max-width: 100%;overflow: auto;}#sk-container-id-1 input.sk-toggleable__control:checked~label.sk-toggleable__label-arrow:before {content: \"▾\";}#sk-container-id-1 div.sk-estimator input.sk-toggleable__control:checked~label.sk-toggleable__label {background-color: #d4ebff;}#sk-container-id-1 div.sk-label input.sk-toggleable__control:checked~label.sk-toggleable__label {background-color: #d4ebff;}#sk-container-id-1 input.sk-hidden--visually {border: 0;clip: rect(1px 1px 1px 1px);clip: rect(1px, 1px, 1px, 1px);height: 1px;margin: -1px;overflow: hidden;padding: 0;position: absolute;width: 1px;}#sk-container-id-1 div.sk-estimator {font-family: monospace;background-color: #f0f8ff;border: 1px dotted black;border-radius: 0.25em;box-sizing: border-box;margin-bottom: 0.5em;}#sk-container-id-1 div.sk-estimator:hover {background-color: #d4ebff;}#sk-container-id-1 div.sk-parallel-item::after {content: \"\";width: 100%;border-bottom: 1px solid gray;flex-grow: 1;}#sk-container-id-1 div.sk-label:hover label.sk-toggleable__label {background-color: #d4ebff;}#sk-container-id-1 div.sk-serial::before {content: \"\";position: absolute;border-left: 1px solid gray;box-sizing: border-box;top: 0;bottom: 0;left: 50%;z-index: 0;}#sk-container-id-1 div.sk-serial {display: flex;flex-direction: column;align-items: center;background-color: white;padding-right: 0.2em;padding-left: 0.2em;position: relative;}#sk-container-id-1 div.sk-item {position: relative;z-index: 1;}#sk-container-id-1 div.sk-parallel {display: flex;align-items: stretch;justify-content: center;background-color: white;position: relative;}#sk-container-id-1 div.sk-item::before, #sk-container-id-1 div.sk-parallel-item::before {content: \"\";position: absolute;border-left: 1px solid gray;box-sizing: border-box;top: 0;bottom: 0;left: 50%;z-index: -1;}#sk-container-id-1 div.sk-parallel-item {display: flex;flex-direction: column;z-index: 1;position: relative;background-color: white;}#sk-container-id-1 div.sk-parallel-item:first-child::after {align-self: flex-end;width: 50%;}#sk-container-id-1 div.sk-parallel-item:last-child::after {align-self: flex-start;width: 50%;}#sk-container-id-1 div.sk-parallel-item:only-child::after {width: 0;}#sk-container-id-1 div.sk-dashed-wrapped {border: 1px dashed gray;margin: 0 0.4em 0.5em 0.4em;box-sizing: border-box;padding-bottom: 0.4em;background-color: white;}#sk-container-id-1 div.sk-label label {font-family: monospace;font-weight: bold;display: inline-block;line-height: 1.2em;}#sk-container-id-1 div.sk-label-container {text-align: center;}#sk-container-id-1 div.sk-container {/* jupyter's `normalize.less` sets `[hidden] { display: none; }` but bootstrap.min.css set `[hidden] { display: none !important; }` so we also need the `!important` here to be able to override the default hidden behavior on the sphinx rendered scikit-learn.org. See: https://github.com/scikit-learn/scikit-learn/issues/21755 */display: inline-block !important;position: relative;}#sk-container-id-1 div.sk-text-repr-fallback {display: none;}</style><div id=\"sk-container-id-1\" class=\"sk-top-container\"><div class=\"sk-text-repr-fallback\"><pre>Pipeline(steps=[(&#x27;preprocessor_name&#x27;,\n",
       "                 ColumnTransformer(transformers=[(&#x27;transformer_num&#x27;,\n",
       "                                                  Pipeline(steps=[(&#x27;imputer_num&#x27;,\n",
       "                                                                   SimpleImputer()),\n",
       "                                                                  (&#x27;scaling_num&#x27;,\n",
       "                                                                   StandardScaler()),\n",
       "                                                                  (&#x27;poly_num&#x27;,\n",
       "                                                                   PolynomialFeatures())]),\n",
       "                                                  [&#x27;flipper_length_mm&#x27;,\n",
       "                                                   &#x27;bill_length_mm&#x27;,\n",
       "                                                   &#x27;bill_depth_mm&#x27;]),\n",
       "                                                 (&#x27;transformer_cat&#x27;,\n",
       "                                                  Pipeline(steps=[(&#x27;imputer_cat&#x27;,\n",
       "                                                                   SimpleImputer(strategy=&#x27;most_frequent&#x27;)),\n",
       "                                                                  (&#x27;onehot_cat&#x27;,\n",
       "                                                                   OneHotEncoder(drop=&#x27;first&#x27;,\n",
       "                                                                                 handle_unknown=&#x27;ignore&#x27;))]),\n",
       "                                                  [&#x27;species&#x27;, &#x27;island&#x27;,\n",
       "                                                   &#x27;sex&#x27;])])),\n",
       "                (&#x27;regressor&#x27;, LinearRegression())])</pre><b>In a Jupyter environment, please rerun this cell to show the HTML representation or trust the notebook. <br />On GitHub, the HTML representation is unable to render, please try loading this page with nbviewer.org.</b></div><div class=\"sk-container\" hidden><div class=\"sk-item sk-dashed-wrapped\"><div class=\"sk-label-container\"><div class=\"sk-label sk-toggleable\"><input class=\"sk-toggleable__control sk-hidden--visually\" id=\"sk-estimator-id-1\" type=\"checkbox\" ><label for=\"sk-estimator-id-1\" class=\"sk-toggleable__label sk-toggleable__label-arrow\">Pipeline</label><div class=\"sk-toggleable__content\"><pre>Pipeline(steps=[(&#x27;preprocessor_name&#x27;,\n",
       "                 ColumnTransformer(transformers=[(&#x27;transformer_num&#x27;,\n",
       "                                                  Pipeline(steps=[(&#x27;imputer_num&#x27;,\n",
       "                                                                   SimpleImputer()),\n",
       "                                                                  (&#x27;scaling_num&#x27;,\n",
       "                                                                   StandardScaler()),\n",
       "                                                                  (&#x27;poly_num&#x27;,\n",
       "                                                                   PolynomialFeatures())]),\n",
       "                                                  [&#x27;flipper_length_mm&#x27;,\n",
       "                                                   &#x27;bill_length_mm&#x27;,\n",
       "                                                   &#x27;bill_depth_mm&#x27;]),\n",
       "                                                 (&#x27;transformer_cat&#x27;,\n",
       "                                                  Pipeline(steps=[(&#x27;imputer_cat&#x27;,\n",
       "                                                                   SimpleImputer(strategy=&#x27;most_frequent&#x27;)),\n",
       "                                                                  (&#x27;onehot_cat&#x27;,\n",
       "                                                                   OneHotEncoder(drop=&#x27;first&#x27;,\n",
       "                                                                                 handle_unknown=&#x27;ignore&#x27;))]),\n",
       "                                                  [&#x27;species&#x27;, &#x27;island&#x27;,\n",
       "                                                   &#x27;sex&#x27;])])),\n",
       "                (&#x27;regressor&#x27;, LinearRegression())])</pre></div></div></div><div class=\"sk-serial\"><div class=\"sk-item sk-dashed-wrapped\"><div class=\"sk-label-container\"><div class=\"sk-label sk-toggleable\"><input class=\"sk-toggleable__control sk-hidden--visually\" id=\"sk-estimator-id-2\" type=\"checkbox\" ><label for=\"sk-estimator-id-2\" class=\"sk-toggleable__label sk-toggleable__label-arrow\">preprocessor_name: ColumnTransformer</label><div class=\"sk-toggleable__content\"><pre>ColumnTransformer(transformers=[(&#x27;transformer_num&#x27;,\n",
       "                                 Pipeline(steps=[(&#x27;imputer_num&#x27;,\n",
       "                                                  SimpleImputer()),\n",
       "                                                 (&#x27;scaling_num&#x27;,\n",
       "                                                  StandardScaler()),\n",
       "                                                 (&#x27;poly_num&#x27;,\n",
       "                                                  PolynomialFeatures())]),\n",
       "                                 [&#x27;flipper_length_mm&#x27;, &#x27;bill_length_mm&#x27;,\n",
       "                                  &#x27;bill_depth_mm&#x27;]),\n",
       "                                (&#x27;transformer_cat&#x27;,\n",
       "                                 Pipeline(steps=[(&#x27;imputer_cat&#x27;,\n",
       "                                                  SimpleImputer(strategy=&#x27;most_frequent&#x27;)),\n",
       "                                                 (&#x27;onehot_cat&#x27;,\n",
       "                                                  OneHotEncoder(drop=&#x27;first&#x27;,\n",
       "                                                                handle_unknown=&#x27;ignore&#x27;))]),\n",
       "                                 [&#x27;species&#x27;, &#x27;island&#x27;, &#x27;sex&#x27;])])</pre></div></div></div><div class=\"sk-parallel\"><div class=\"sk-parallel-item\"><div class=\"sk-item\"><div class=\"sk-label-container\"><div class=\"sk-label sk-toggleable\"><input class=\"sk-toggleable__control sk-hidden--visually\" id=\"sk-estimator-id-3\" type=\"checkbox\" ><label for=\"sk-estimator-id-3\" class=\"sk-toggleable__label sk-toggleable__label-arrow\">transformer_num</label><div class=\"sk-toggleable__content\"><pre>[&#x27;flipper_length_mm&#x27;, &#x27;bill_length_mm&#x27;, &#x27;bill_depth_mm&#x27;]</pre></div></div></div><div class=\"sk-serial\"><div class=\"sk-item\"><div class=\"sk-serial\"><div class=\"sk-item\"><div class=\"sk-estimator sk-toggleable\"><input class=\"sk-toggleable__control sk-hidden--visually\" id=\"sk-estimator-id-4\" type=\"checkbox\" ><label for=\"sk-estimator-id-4\" class=\"sk-toggleable__label sk-toggleable__label-arrow\">SimpleImputer</label><div class=\"sk-toggleable__content\"><pre>SimpleImputer()</pre></div></div></div><div class=\"sk-item\"><div class=\"sk-estimator sk-toggleable\"><input class=\"sk-toggleable__control sk-hidden--visually\" id=\"sk-estimator-id-5\" type=\"checkbox\" ><label for=\"sk-estimator-id-5\" class=\"sk-toggleable__label sk-toggleable__label-arrow\">StandardScaler</label><div class=\"sk-toggleable__content\"><pre>StandardScaler()</pre></div></div></div><div class=\"sk-item\"><div class=\"sk-estimator sk-toggleable\"><input class=\"sk-toggleable__control sk-hidden--visually\" id=\"sk-estimator-id-6\" type=\"checkbox\" ><label for=\"sk-estimator-id-6\" class=\"sk-toggleable__label sk-toggleable__label-arrow\">PolynomialFeatures</label><div class=\"sk-toggleable__content\"><pre>PolynomialFeatures()</pre></div></div></div></div></div></div></div></div><div class=\"sk-parallel-item\"><div class=\"sk-item\"><div class=\"sk-label-container\"><div class=\"sk-label sk-toggleable\"><input class=\"sk-toggleable__control sk-hidden--visually\" id=\"sk-estimator-id-7\" type=\"checkbox\" ><label for=\"sk-estimator-id-7\" class=\"sk-toggleable__label sk-toggleable__label-arrow\">transformer_cat</label><div class=\"sk-toggleable__content\"><pre>[&#x27;species&#x27;, &#x27;island&#x27;, &#x27;sex&#x27;]</pre></div></div></div><div class=\"sk-serial\"><div class=\"sk-item\"><div class=\"sk-serial\"><div class=\"sk-item\"><div class=\"sk-estimator sk-toggleable\"><input class=\"sk-toggleable__control sk-hidden--visually\" id=\"sk-estimator-id-8\" type=\"checkbox\" ><label for=\"sk-estimator-id-8\" class=\"sk-toggleable__label sk-toggleable__label-arrow\">SimpleImputer</label><div class=\"sk-toggleable__content\"><pre>SimpleImputer(strategy=&#x27;most_frequent&#x27;)</pre></div></div></div><div class=\"sk-item\"><div class=\"sk-estimator sk-toggleable\"><input class=\"sk-toggleable__control sk-hidden--visually\" id=\"sk-estimator-id-9\" type=\"checkbox\" ><label for=\"sk-estimator-id-9\" class=\"sk-toggleable__label sk-toggleable__label-arrow\">OneHotEncoder</label><div class=\"sk-toggleable__content\"><pre>OneHotEncoder(drop=&#x27;first&#x27;, handle_unknown=&#x27;ignore&#x27;)</pre></div></div></div></div></div></div></div></div></div></div><div class=\"sk-item\"><div class=\"sk-estimator sk-toggleable\"><input class=\"sk-toggleable__control sk-hidden--visually\" id=\"sk-estimator-id-10\" type=\"checkbox\" ><label for=\"sk-estimator-id-10\" class=\"sk-toggleable__label sk-toggleable__label-arrow\">LinearRegression</label><div class=\"sk-toggleable__content\"><pre>LinearRegression()</pre></div></div></div></div></div></div></div>"
      ],
      "text/plain": [
       "Pipeline(steps=[('preprocessor_name',\n",
       "                 ColumnTransformer(transformers=[('transformer_num',\n",
       "                                                  Pipeline(steps=[('imputer_num',\n",
       "                                                                   SimpleImputer()),\n",
       "                                                                  ('scaling_num',\n",
       "                                                                   StandardScaler()),\n",
       "                                                                  ('poly_num',\n",
       "                                                                   PolynomialFeatures())]),\n",
       "                                                  ['flipper_length_mm',\n",
       "                                                   'bill_length_mm',\n",
       "                                                   'bill_depth_mm']),\n",
       "                                                 ('transformer_cat',\n",
       "                                                  Pipeline(steps=[('imputer_cat',\n",
       "                                                                   SimpleImputer(strategy='most_frequent')),\n",
       "                                                                  ('onehot_cat',\n",
       "                                                                   OneHotEncoder(drop='first',\n",
       "                                                                                 handle_unknown='ignore'))]),\n",
       "                                                  ['species', 'island',\n",
       "                                                   'sex'])])),\n",
       "                ('regressor', LinearRegression())])"
      ]
     },
     "execution_count": 19,
     "metadata": {},
     "output_type": "execute_result"
    }
   ],
   "source": [
    "linear_model.fit(X_train,y_train)"
   ]
  },
  {
   "cell_type": "markdown",
   "metadata": {},
   "source": [
    "**model validation**"
   ]
  },
  {
   "cell_type": "code",
   "execution_count": 20,
   "metadata": {
    "tags": []
   },
   "outputs": [
    {
     "name": "stdout",
     "output_type": "stream",
     "text": [
      "training r2 score: 0.879775\n"
     ]
    }
   ],
   "source": [
    "training_score = linear_model.score(X_train,y_train)\n",
    "print(f\"training r2 score: {round(training_score, 6)}\")"
   ]
  },
  {
   "cell_type": "markdown",
   "metadata": {},
   "source": [
    "### Model Evaluation"
   ]
  },
  {
   "cell_type": "markdown",
   "metadata": {},
   "source": [
    "**feature-target separation**"
   ]
  },
  {
   "cell_type": "code",
   "execution_count": 21,
   "metadata": {
    "tags": []
   },
   "outputs": [],
   "source": [
    "X_test, y_test = test[features], test[target]"
   ]
  },
  {
   "cell_type": "markdown",
   "metadata": {},
   "source": [
    "**model performance**"
   ]
  },
  {
   "cell_type": "code",
   "execution_count": 22,
   "metadata": {
    "tags": []
   },
   "outputs": [
    {
     "name": "stdout",
     "output_type": "stream",
     "text": [
      "test r2 score: 0.845228\n"
     ]
    }
   ],
   "source": [
    "test_score = linear_model.score(X_test,y_test)\n",
    "print(f\"test r2 score: {round(test_score, 6)}\")"
   ]
  },
  {
   "cell_type": "markdown",
   "metadata": {},
   "source": [
    "<hr style=\"border:2px solid black\">"
   ]
  },
  {
   "cell_type": "markdown",
   "metadata": {},
   "source": [
    "## Exploring the Pipeline Interior"
   ]
  },
  {
   "cell_type": "markdown",
   "metadata": {},
   "source": [
    "As one might have noticed each transformer in a `ColumnTransformer` and each step in a `Pipeline` must be given a name. This is in contrast with their respective simpler cousins: `make_column_transformer` and `make_pipeline`. While the former might look clumsy, they come with an immense advantage: the given names allows the ML practitioner to get access inside the ML workflow, thereby enabling any tweaking thereof if needed (say, for hyperparameter optimization, to be taught in near future). "
   ]
  },
  {
   "cell_type": "markdown",
   "metadata": {},
   "source": [
    "**What are the model hyperparameters?**"
   ]
  },
  {
   "cell_type": "code",
   "execution_count": 23,
   "metadata": {
    "tags": []
   },
   "outputs": [
    {
     "data": {
      "text/plain": [
       "{'memory': None,\n",
       " 'steps': [('preprocessor_name',\n",
       "   ColumnTransformer(transformers=[('transformer_num',\n",
       "                                    Pipeline(steps=[('imputer_num',\n",
       "                                                     SimpleImputer()),\n",
       "                                                    ('scaling_num',\n",
       "                                                     StandardScaler()),\n",
       "                                                    ('poly_num',\n",
       "                                                     PolynomialFeatures())]),\n",
       "                                    ['flipper_length_mm', 'bill_length_mm',\n",
       "                                     'bill_depth_mm']),\n",
       "                                   ('transformer_cat',\n",
       "                                    Pipeline(steps=[('imputer_cat',\n",
       "                                                     SimpleImputer(strategy='most_frequent')),\n",
       "                                                    ('onehot_cat',\n",
       "                                                     OneHotEncoder(drop='first',\n",
       "                                                                   handle_unknown='ignore'))]),\n",
       "                                    ['species', 'island', 'sex'])])),\n",
       "  ('regressor', LinearRegression())],\n",
       " 'verbose': False,\n",
       " 'preprocessor_name': ColumnTransformer(transformers=[('transformer_num',\n",
       "                                  Pipeline(steps=[('imputer_num',\n",
       "                                                   SimpleImputer()),\n",
       "                                                  ('scaling_num',\n",
       "                                                   StandardScaler()),\n",
       "                                                  ('poly_num',\n",
       "                                                   PolynomialFeatures())]),\n",
       "                                  ['flipper_length_mm', 'bill_length_mm',\n",
       "                                   'bill_depth_mm']),\n",
       "                                 ('transformer_cat',\n",
       "                                  Pipeline(steps=[('imputer_cat',\n",
       "                                                   SimpleImputer(strategy='most_frequent')),\n",
       "                                                  ('onehot_cat',\n",
       "                                                   OneHotEncoder(drop='first',\n",
       "                                                                 handle_unknown='ignore'))]),\n",
       "                                  ['species', 'island', 'sex'])]),\n",
       " 'regressor': LinearRegression(),\n",
       " 'preprocessor_name__n_jobs': None,\n",
       " 'preprocessor_name__remainder': 'drop',\n",
       " 'preprocessor_name__sparse_threshold': 0.3,\n",
       " 'preprocessor_name__transformer_weights': None,\n",
       " 'preprocessor_name__transformers': [('transformer_num',\n",
       "   Pipeline(steps=[('imputer_num', SimpleImputer()),\n",
       "                   ('scaling_num', StandardScaler()),\n",
       "                   ('poly_num', PolynomialFeatures())]),\n",
       "   ['flipper_length_mm', 'bill_length_mm', 'bill_depth_mm']),\n",
       "  ('transformer_cat',\n",
       "   Pipeline(steps=[('imputer_cat', SimpleImputer(strategy='most_frequent')),\n",
       "                   ('onehot_cat',\n",
       "                    OneHotEncoder(drop='first', handle_unknown='ignore'))]),\n",
       "   ['species', 'island', 'sex'])],\n",
       " 'preprocessor_name__verbose': False,\n",
       " 'preprocessor_name__verbose_feature_names_out': True,\n",
       " 'preprocessor_name__transformer_num': Pipeline(steps=[('imputer_num', SimpleImputer()),\n",
       "                 ('scaling_num', StandardScaler()),\n",
       "                 ('poly_num', PolynomialFeatures())]),\n",
       " 'preprocessor_name__transformer_cat': Pipeline(steps=[('imputer_cat', SimpleImputer(strategy='most_frequent')),\n",
       "                 ('onehot_cat',\n",
       "                  OneHotEncoder(drop='first', handle_unknown='ignore'))]),\n",
       " 'preprocessor_name__transformer_num__memory': None,\n",
       " 'preprocessor_name__transformer_num__steps': [('imputer_num',\n",
       "   SimpleImputer()),\n",
       "  ('scaling_num', StandardScaler()),\n",
       "  ('poly_num', PolynomialFeatures())],\n",
       " 'preprocessor_name__transformer_num__verbose': False,\n",
       " 'preprocessor_name__transformer_num__imputer_num': SimpleImputer(),\n",
       " 'preprocessor_name__transformer_num__scaling_num': StandardScaler(),\n",
       " 'preprocessor_name__transformer_num__poly_num': PolynomialFeatures(),\n",
       " 'preprocessor_name__transformer_num__imputer_num__add_indicator': False,\n",
       " 'preprocessor_name__transformer_num__imputer_num__copy': True,\n",
       " 'preprocessor_name__transformer_num__imputer_num__fill_value': None,\n",
       " 'preprocessor_name__transformer_num__imputer_num__keep_empty_features': False,\n",
       " 'preprocessor_name__transformer_num__imputer_num__missing_values': nan,\n",
       " 'preprocessor_name__transformer_num__imputer_num__strategy': 'mean',\n",
       " 'preprocessor_name__transformer_num__imputer_num__verbose': 'deprecated',\n",
       " 'preprocessor_name__transformer_num__scaling_num__copy': True,\n",
       " 'preprocessor_name__transformer_num__scaling_num__with_mean': True,\n",
       " 'preprocessor_name__transformer_num__scaling_num__with_std': True,\n",
       " 'preprocessor_name__transformer_num__poly_num__degree': 2,\n",
       " 'preprocessor_name__transformer_num__poly_num__include_bias': True,\n",
       " 'preprocessor_name__transformer_num__poly_num__interaction_only': False,\n",
       " 'preprocessor_name__transformer_num__poly_num__order': 'C',\n",
       " 'preprocessor_name__transformer_cat__memory': None,\n",
       " 'preprocessor_name__transformer_cat__steps': [('imputer_cat',\n",
       "   SimpleImputer(strategy='most_frequent')),\n",
       "  ('onehot_cat', OneHotEncoder(drop='first', handle_unknown='ignore'))],\n",
       " 'preprocessor_name__transformer_cat__verbose': False,\n",
       " 'preprocessor_name__transformer_cat__imputer_cat': SimpleImputer(strategy='most_frequent'),\n",
       " 'preprocessor_name__transformer_cat__onehot_cat': OneHotEncoder(drop='first', handle_unknown='ignore'),\n",
       " 'preprocessor_name__transformer_cat__imputer_cat__add_indicator': False,\n",
       " 'preprocessor_name__transformer_cat__imputer_cat__copy': True,\n",
       " 'preprocessor_name__transformer_cat__imputer_cat__fill_value': None,\n",
       " 'preprocessor_name__transformer_cat__imputer_cat__keep_empty_features': False,\n",
       " 'preprocessor_name__transformer_cat__imputer_cat__missing_values': nan,\n",
       " 'preprocessor_name__transformer_cat__imputer_cat__strategy': 'most_frequent',\n",
       " 'preprocessor_name__transformer_cat__imputer_cat__verbose': 'deprecated',\n",
       " 'preprocessor_name__transformer_cat__onehot_cat__categories': 'auto',\n",
       " 'preprocessor_name__transformer_cat__onehot_cat__drop': 'first',\n",
       " 'preprocessor_name__transformer_cat__onehot_cat__dtype': numpy.float64,\n",
       " 'preprocessor_name__transformer_cat__onehot_cat__handle_unknown': 'ignore',\n",
       " 'preprocessor_name__transformer_cat__onehot_cat__max_categories': None,\n",
       " 'preprocessor_name__transformer_cat__onehot_cat__min_frequency': None,\n",
       " 'preprocessor_name__transformer_cat__onehot_cat__sparse': 'deprecated',\n",
       " 'preprocessor_name__transformer_cat__onehot_cat__sparse_output': True,\n",
       " 'regressor__copy_X': True,\n",
       " 'regressor__fit_intercept': True,\n",
       " 'regressor__n_jobs': None,\n",
       " 'regressor__positive': False}"
      ]
     },
     "execution_count": 23,
     "metadata": {},
     "output_type": "execute_result"
    }
   ],
   "source": [
    "hyperparameters = linear_model.get_params()\n",
    "hyperparameters"
   ]
  },
  {
   "cell_type": "markdown",
   "metadata": {},
   "source": [
    "**What are the steps in the ML workflow?**"
   ]
  },
  {
   "cell_type": "code",
   "execution_count": 30,
   "metadata": {
    "tags": []
   },
   "outputs": [
    {
     "data": {
      "text/plain": [
       "{'preprocessor_name': ColumnTransformer(transformers=[('transformer_num',\n",
       "                                  Pipeline(steps=[('imputer_num',\n",
       "                                                   SimpleImputer()),\n",
       "                                                  ('scaling_num',\n",
       "                                                   StandardScaler()),\n",
       "                                                  ('poly_num',\n",
       "                                                   PolynomialFeatures())]),\n",
       "                                  ['flipper_length_mm', 'bill_length_mm',\n",
       "                                   'bill_depth_mm']),\n",
       "                                 ('transformer_cat',\n",
       "                                  Pipeline(steps=[('imputer_cat',\n",
       "                                                   SimpleImputer(strategy='most_frequent')),\n",
       "                                                  ('onehot_cat',\n",
       "                                                   OneHotEncoder(drop='first',\n",
       "                                                                 handle_unknown='ignore'))]),\n",
       "                                  ['species', 'island', 'sex'])]),\n",
       " 'regressor': LinearRegression()}"
      ]
     },
     "execution_count": 30,
     "metadata": {},
     "output_type": "execute_result"
    }
   ],
   "source": [
    "steps = linear_model.named_steps\n",
    "steps"
   ]
  },
  {
   "cell_type": "markdown",
   "metadata": {},
   "source": [
    "**What are the hyperparameters in the \"regressor\" step?**"
   ]
  },
  {
   "cell_type": "code",
   "execution_count": 31,
   "metadata": {
    "tags": []
   },
   "outputs": [
    {
     "data": {
      "text/plain": [
       "{'copy_X': True, 'fit_intercept': True, 'n_jobs': None, 'positive': False}"
      ]
     },
     "execution_count": 31,
     "metadata": {},
     "output_type": "execute_result"
    }
   ],
   "source": [
    "regressor_hyperparameters = steps.regressor.get_params()\n",
    "regressor_hyperparameters"
   ]
  },
  {
   "cell_type": "markdown",
   "metadata": {},
   "source": [
    "**What are the transformers inside the \"preprosessor\" step?**"
   ]
  },
  {
   "cell_type": "code",
   "execution_count": 32,
   "metadata": {
    "tags": []
   },
   "outputs": [
    {
     "ename": "AttributeError",
     "evalue": "preprocessor",
     "output_type": "error",
     "traceback": [
      "\u001b[1;31m---------------------------------------------------------------------------\u001b[0m",
      "\u001b[1;31mKeyError\u001b[0m                                  Traceback (most recent call last)",
      "File \u001b[1;32m~\\Desktop\\test_repo\\topups\\feature_engineering\\.venv\\Lib\\site-packages\\sklearn\\utils\\_bunch.py:35\u001b[0m, in \u001b[0;36mBunch.__getattr__\u001b[1;34m(self, key)\u001b[0m\n\u001b[0;32m     34\u001b[0m \u001b[38;5;28;01mtry\u001b[39;00m:\n\u001b[1;32m---> 35\u001b[0m     \u001b[38;5;28;01mreturn\u001b[39;00m \u001b[38;5;28;43mself\u001b[39;49m\u001b[43m[\u001b[49m\u001b[43mkey\u001b[49m\u001b[43m]\u001b[49m\n\u001b[0;32m     36\u001b[0m \u001b[38;5;28;01mexcept\u001b[39;00m \u001b[38;5;167;01mKeyError\u001b[39;00m:\n",
      "\u001b[1;31mKeyError\u001b[0m: 'preprocessor'",
      "\nDuring handling of the above exception, another exception occurred:\n",
      "\u001b[1;31mAttributeError\u001b[0m                            Traceback (most recent call last)",
      "Cell \u001b[1;32mIn[32], line 1\u001b[0m\n\u001b[1;32m----> 1\u001b[0m preprocessor_transformers \u001b[38;5;241m=\u001b[39m \u001b[43msteps\u001b[49m\u001b[38;5;241;43m.\u001b[39;49m\u001b[43mpreprocessor\u001b[49m\u001b[38;5;241m.\u001b[39mtransformers_\n\u001b[0;32m      2\u001b[0m preprocessor_transformers\n",
      "File \u001b[1;32m~\\Desktop\\test_repo\\topups\\feature_engineering\\.venv\\Lib\\site-packages\\sklearn\\utils\\_bunch.py:37\u001b[0m, in \u001b[0;36mBunch.__getattr__\u001b[1;34m(self, key)\u001b[0m\n\u001b[0;32m     35\u001b[0m     \u001b[38;5;28;01mreturn\u001b[39;00m \u001b[38;5;28mself\u001b[39m[key]\n\u001b[0;32m     36\u001b[0m \u001b[38;5;28;01mexcept\u001b[39;00m \u001b[38;5;167;01mKeyError\u001b[39;00m:\n\u001b[1;32m---> 37\u001b[0m     \u001b[38;5;28;01mraise\u001b[39;00m \u001b[38;5;167;01mAttributeError\u001b[39;00m(key)\n",
      "\u001b[1;31mAttributeError\u001b[0m: preprocessor"
     ]
    }
   ],
   "source": [
    "preprocessor_transformers = steps.preprocessor.transformers_\n",
    "preprocessor_transformers"
   ]
  },
  {
   "cell_type": "markdown",
   "metadata": {},
   "source": [
    "**What are the hyperparameters in the \"preprocessor\" step?**"
   ]
  },
  {
   "cell_type": "markdown",
   "metadata": {},
   "source": [
    "<hr style=\"border:2px solid black\">"
   ]
  },
  {
   "cell_type": "code",
   "execution_count": 29,
   "metadata": {
    "tags": []
   },
   "outputs": [
    {
     "ename": "AttributeError",
     "evalue": "preprocessor",
     "output_type": "error",
     "traceback": [
      "\u001b[1;31m---------------------------------------------------------------------------\u001b[0m",
      "\u001b[1;31mKeyError\u001b[0m                                  Traceback (most recent call last)",
      "File \u001b[1;32m~\\Desktop\\test_repo\\topups\\feature_engineering\\.venv\\Lib\\site-packages\\sklearn\\utils\\_bunch.py:35\u001b[0m, in \u001b[0;36mBunch.__getattr__\u001b[1;34m(self, key)\u001b[0m\n\u001b[0;32m     34\u001b[0m \u001b[38;5;28;01mtry\u001b[39;00m:\n\u001b[1;32m---> 35\u001b[0m     \u001b[38;5;28;01mreturn\u001b[39;00m \u001b[38;5;28;43mself\u001b[39;49m\u001b[43m[\u001b[49m\u001b[43mkey\u001b[49m\u001b[43m]\u001b[49m\n\u001b[0;32m     36\u001b[0m \u001b[38;5;28;01mexcept\u001b[39;00m \u001b[38;5;167;01mKeyError\u001b[39;00m:\n",
      "\u001b[1;31mKeyError\u001b[0m: 'preprocessor'",
      "\nDuring handling of the above exception, another exception occurred:\n",
      "\u001b[1;31mAttributeError\u001b[0m                            Traceback (most recent call last)",
      "Cell \u001b[1;32mIn[29], line 1\u001b[0m\n\u001b[1;32m----> 1\u001b[0m preprocessor_hyperparameters \u001b[38;5;241m=\u001b[39m \u001b[43msteps\u001b[49m\u001b[38;5;241;43m.\u001b[39;49m\u001b[43mpreprocessor\u001b[49m\u001b[38;5;241m.\u001b[39mget_params()\n\u001b[0;32m      2\u001b[0m preprocessor_hyperparameters\n",
      "File \u001b[1;32m~\\Desktop\\test_repo\\topups\\feature_engineering\\.venv\\Lib\\site-packages\\sklearn\\utils\\_bunch.py:37\u001b[0m, in \u001b[0;36mBunch.__getattr__\u001b[1;34m(self, key)\u001b[0m\n\u001b[0;32m     35\u001b[0m     \u001b[38;5;28;01mreturn\u001b[39;00m \u001b[38;5;28mself\u001b[39m[key]\n\u001b[0;32m     36\u001b[0m \u001b[38;5;28;01mexcept\u001b[39;00m \u001b[38;5;167;01mKeyError\u001b[39;00m:\n\u001b[1;32m---> 37\u001b[0m     \u001b[38;5;28;01mraise\u001b[39;00m \u001b[38;5;167;01mAttributeError\u001b[39;00m(key)\n",
      "\u001b[1;31mAttributeError\u001b[0m: preprocessor"
     ]
    }
   ],
   "source": [
    "preprocessor_hyperparameters = steps.preprocessor.get_params()\n",
    "preprocessor_hyperparameters"
   ]
  },
  {
   "cell_type": "markdown",
   "metadata": {},
   "source": [
    "## References\n",
    "\n",
    "- [How to add feature engineering to a scikit-learn pipeline](https://practicaldatascience.co.uk/machine-learning/how-to-add-feature-engineering-to-a-scikit-learn-pipeline)\n",
    "\n",
    "- [Coding a custom imputer in scikit-learn](https://towardsdatascience.com/coding-a-custom-imputer-in-scikit-learn-31bd68e541de)"
   ]
  },
  {
   "cell_type": "code",
   "execution_count": null,
   "metadata": {},
   "outputs": [],
   "source": []
  }
 ],
 "metadata": {
  "kernelspec": {
   "display_name": "Python 3 (ipykernel)",
   "language": "python",
   "name": "python3"
  },
  "language_info": {
   "codemirror_mode": {
    "name": "ipython",
    "version": 3
   },
   "file_extension": ".py",
   "mimetype": "text/x-python",
   "name": "python",
   "nbconvert_exporter": "python",
   "pygments_lexer": "ipython3",
   "version": "3.11.3"
  }
 },
 "nbformat": 4,
 "nbformat_minor": 4
}
