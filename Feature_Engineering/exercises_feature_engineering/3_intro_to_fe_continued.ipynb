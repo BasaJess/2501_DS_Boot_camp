{
 "cells": [
  {
   "cell_type": "markdown",
   "id": "d145d3f5",
   "metadata": {},
   "source": [
    "# Feature Engineering Intro II\n",
    "<hr style=\"border:2px solid black\">"
   ]
  },
  {
   "cell_type": "markdown",
   "id": "1f47b9c9-3fc6-4c7b-99fc-a358bbbeae33",
   "metadata": {},
   "source": [
    "- This notebook suppliments and serves as a continuation of notebook *1_intro_to fe*.\n",
    "- The reader is expected to run the codes and try to understand the concepts\n",
    "- The reader is expected to read the documentation pages that could be accessed via click, whenever possible"
   ]
  },
  {
   "cell_type": "markdown",
   "id": "5e60e499",
   "metadata": {},
   "source": [
    "#### load packages"
   ]
  },
  {
   "cell_type": "code",
   "execution_count": 1,
   "id": "9f80539a",
   "metadata": {
    "tags": []
   },
   "outputs": [],
   "source": [
    "# data analysis stack\n",
    "import numpy as np\n",
    "import pandas as pd\n",
    "\n",
    "# data visualization stack\n",
    "import matplotlib.pyplot as plt\n",
    "%matplotlib inline\n",
    "import seaborn as sns\n",
    "sns.set_style('whitegrid')\n",
    "\n",
    "# miscellaneous\n",
    "import warnings\n",
    "warnings.filterwarnings(\"ignore\")\n",
    "\n",
    "from sklearn.impute import KNNImputer\n",
    "from sklearn.impute import SimpleImputer"
   ]
  },
  {
   "cell_type": "markdown",
   "id": "997025c0",
   "metadata": {},
   "source": [
    "#### load data"
   ]
  },
  {
   "cell_type": "code",
   "execution_count": 2,
   "id": "bdaaf129",
   "metadata": {
    "tags": []
   },
   "outputs": [],
   "source": [
    "df = pd.read_csv('../data/penguins.csv')"
   ]
  },
  {
   "cell_type": "markdown",
   "id": "20a4b01f",
   "metadata": {
    "tags": []
   },
   "source": [
    "#### train-test split"
   ]
  },
  {
   "cell_type": "code",
   "execution_count": 3,
   "id": "4933ef40-2037-4571-bd5a-1a9dfa7ec251",
   "metadata": {
    "tags": []
   },
   "outputs": [],
   "source": [
    "from sklearn.model_selection import train_test_split"
   ]
  },
  {
   "cell_type": "code",
   "execution_count": 4,
   "id": "3ef96c8f",
   "metadata": {
    "tags": []
   },
   "outputs": [
    {
     "data": {
      "text/plain": [
       "((256, 7), (86, 7))"
      ]
     },
     "execution_count": 4,
     "metadata": {},
     "output_type": "execute_result"
    }
   ],
   "source": [
    "train, test = train_test_split(df, test_size=0.25, random_state=42)\n",
    "train.shape, test.shape"
   ]
  },
  {
   "cell_type": "markdown",
   "id": "fcdc3d77",
   "metadata": {},
   "source": [
    "#### features and target"
   ]
  },
  {
   "cell_type": "code",
   "execution_count": 5,
   "id": "2ff7b766",
   "metadata": {
    "tags": []
   },
   "outputs": [],
   "source": [
    "numerical_features = [\n",
    "    'bill_length_mm',\n",
    "    'bill_depth_mm',\n",
    "    'flipper_length_mm'\n",
    "]\n",
    "\n",
    "categorical_features = [\n",
    "    'species',\n",
    "    'island',\n",
    "    'sex'\n",
    "]\n",
    "\n",
    "features = numerical_features + categorical_features\n",
    "\n",
    "target_variable = 'body_mass_g'"
   ]
  },
  {
   "cell_type": "markdown",
   "id": "528dc7aa-8d1f-4060-8fca-e6b49a9f84f3",
   "metadata": {
    "tags": []
   },
   "source": [
    "#### feature-target separation"
   ]
  },
  {
   "cell_type": "code",
   "execution_count": 6,
   "id": "9b785ed3",
   "metadata": {
    "tags": []
   },
   "outputs": [],
   "source": [
    "# feature matrix and target column\n",
    "X_train, y_train = train[features], train[target_variable]\n",
    "X_test, y_test = test[features], test[target_variable]"
   ]
  },
  {
   "cell_type": "markdown",
   "id": "13261ea3-cf9c-43bb-b6bf-58c293ad7be3",
   "metadata": {},
   "source": [
    "- **Did you notice the order of feature-target separation and train-test split?**\n",
    "- **How is it different from what was done in previous notebooks?**\n",
    "- **Could you think about scenarious where it would be better one way or the other?**"
   ]
  },
  {
   "cell_type": "markdown",
   "id": "2530645b",
   "metadata": {},
   "source": [
    "<hr style=\"border:2px solid black\">"
   ]
  },
  {
   "cell_type": "markdown",
   "id": "46c201c5",
   "metadata": {},
   "source": [
    "## 1. Imputation"
   ]
  },
  {
   "cell_type": "markdown",
   "id": "00eeebbd-a5b6-44ca-b602-10b5cca6aab0",
   "metadata": {},
   "source": [
    "#### 1.1 [`SimpleImputer`](https://scikit-learn.org/stable/modules/generated/sklearn.impute.SimpleImputer.html#sklearn.impute.SimpleImputer)"
   ]
  },
  {
   "cell_type": "markdown",
   "id": "40917a9f-899b-4e66-acdf-3e265f9044e7",
   "metadata": {
    "tags": []
   },
   "source": [
    "- **discussed in notebook *1_intro_to_fe***"
   ]
  },
  {
   "cell_type": "markdown",
   "id": "956a6a15-82b0-47d4-bf7f-c2b03819254d",
   "metadata": {},
   "source": [
    "#### 1.2 [`KNNImputer`](https://scikit-learn.org/stable/modules/generated/sklearn.impute.KNNImputer.html)\n",
    "\n",
    "- Imputation for completing missing values using k-Nearest Neighbors.\n",
    "- Each sample's missing values are imputed using the mean value from `n` nearest neighbors found in the training set\n",
    "- Two samples are close if the features that neither is missing are close."
   ]
  },
  {
   "cell_type": "markdown",
   "id": "ba264232-528b-4bc7-bb5e-d963a0cb4ef2",
   "metadata": {},
   "source": [
    "**example: impute `bill_depth_mm`**"
   ]
  },
  {
   "cell_type": "code",
   "execution_count": 7,
   "id": "64d6a3d1",
   "metadata": {
    "tags": []
   },
   "outputs": [
    {
     "data": {
      "text/plain": [
       "bill_length_mm       0\n",
       "bill_depth_mm        2\n",
       "flipper_length_mm    2\n",
       "species              0\n",
       "island               0\n",
       "sex                  6\n",
       "dtype: int64"
      ]
     },
     "execution_count": 7,
     "metadata": {},
     "output_type": "execute_result"
    }
   ],
   "source": [
    "X_train.isna().sum()"
   ]
  },
  {
   "cell_type": "code",
   "execution_count": 8,
   "id": "b66165f9",
   "metadata": {
    "tags": []
   },
   "outputs": [
    {
     "data": {
      "text/plain": [
       "bill_length_mm       float64\n",
       "bill_depth_mm        float64\n",
       "flipper_length_mm    float64\n",
       "species               object\n",
       "island                object\n",
       "sex                   object\n",
       "dtype: object"
      ]
     },
     "execution_count": 8,
     "metadata": {},
     "output_type": "execute_result"
    }
   ],
   "source": [
    "X_train.dtypes"
   ]
  },
  {
   "cell_type": "code",
   "execution_count": 9,
   "id": "703dd822-97a4-4ab3-a4f7-fe1d29dab6ad",
   "metadata": {
    "tags": []
   },
   "outputs": [],
   "source": [
    "knn_imputer = KNNImputer(n_neighbors=5)\n",
    "knn_imputer.fit(X_train[['bill_depth_mm']])\n",
    "\n",
    "X_train['bill_depth_mm'] = knn_imputer.transform(\n",
    "    X_train[['bill_depth_mm']]\n",
    ").flatten()"
   ]
  },
  {
   "cell_type": "code",
   "execution_count": 73,
   "id": "5fb54eda-d7fe-4f89-9923-6804494cc4f3",
   "metadata": {
    "tags": []
   },
   "outputs": [],
   "source": []
  },
  {
   "cell_type": "code",
   "execution_count": 10,
   "id": "d0a366db-7191-4d58-bf43-ed1839975e57",
   "metadata": {
    "tags": []
   },
   "outputs": [
    {
     "data": {
      "text/plain": [
       "bill_length_mm       0\n",
       "bill_depth_mm        0\n",
       "flipper_length_mm    2\n",
       "species              0\n",
       "island               0\n",
       "sex                  6\n",
       "dtype: int64"
      ]
     },
     "execution_count": 10,
     "metadata": {},
     "output_type": "execute_result"
    }
   ],
   "source": [
    "X_train.isna().sum()"
   ]
  },
  {
   "cell_type": "markdown",
   "id": "fbbbeef8-a852-4404-b818-96af8e762714",
   "metadata": {
    "tags": []
   },
   "source": [
    "<hr style=\"border:2px solid black\">"
   ]
  },
  {
   "cell_type": "markdown",
   "id": "19f683a3",
   "metadata": {},
   "source": [
    "### 2. Categorical Encoding"
   ]
  },
  {
   "cell_type": "markdown",
   "id": "1711fe22-1b5f-4076-a4eb-e33604010c1c",
   "metadata": {},
   "source": [
    "#### 2.1 [`get_dummies()`](https://pandas.pydata.org/docs/reference/api/pandas.get_dummies.html)\n",
    "\n",
    "- Converts categorical variable into dummy/indicator variables.\n",
    "- Each variable is converted in as many 0/1 variables as there are different values.\n",
    "- Columns in the output are each named after a value; if the input is a DataFrame, the name of the original variable is prepended to the value."
   ]
  },
  {
   "cell_type": "markdown",
   "id": "38e3376e-c736-4e80-ae43-6b4ce5fdc906",
   "metadata": {},
   "source": [
    "**example: create dummies for `species`**"
   ]
  },
  {
   "cell_type": "code",
   "execution_count": 11,
   "id": "e0fbaff3-0077-41fe-9747-1383c54161c7",
   "metadata": {
    "tags": []
   },
   "outputs": [
    {
     "data": {
      "text/html": [
       "<div>\n",
       "<style scoped>\n",
       "    .dataframe tbody tr th:only-of-type {\n",
       "        vertical-align: middle;\n",
       "    }\n",
       "\n",
       "    .dataframe tbody tr th {\n",
       "        vertical-align: top;\n",
       "    }\n",
       "\n",
       "    .dataframe thead th {\n",
       "        text-align: right;\n",
       "    }\n",
       "</style>\n",
       "<table border=\"1\" class=\"dataframe\">\n",
       "  <thead>\n",
       "    <tr style=\"text-align: right;\">\n",
       "      <th></th>\n",
       "      <th>Adelie</th>\n",
       "      <th>Chinstrap</th>\n",
       "      <th>Gentoo</th>\n",
       "    </tr>\n",
       "  </thead>\n",
       "  <tbody>\n",
       "    <tr>\n",
       "      <th>24</th>\n",
       "      <td>True</td>\n",
       "      <td>False</td>\n",
       "      <td>False</td>\n",
       "    </tr>\n",
       "    <tr>\n",
       "      <th>323</th>\n",
       "      <td>False</td>\n",
       "      <td>False</td>\n",
       "      <td>True</td>\n",
       "    </tr>\n",
       "    <tr>\n",
       "      <th>143</th>\n",
       "      <td>True</td>\n",
       "      <td>False</td>\n",
       "      <td>False</td>\n",
       "    </tr>\n",
       "    <tr>\n",
       "      <th>208</th>\n",
       "      <td>False</td>\n",
       "      <td>True</td>\n",
       "      <td>False</td>\n",
       "    </tr>\n",
       "    <tr>\n",
       "      <th>253</th>\n",
       "      <td>False</td>\n",
       "      <td>False</td>\n",
       "      <td>True</td>\n",
       "    </tr>\n",
       "  </tbody>\n",
       "</table>\n",
       "</div>"
      ],
      "text/plain": [
       "     Adelie  Chinstrap  Gentoo\n",
       "24     True      False   False\n",
       "323   False      False    True\n",
       "143    True      False   False\n",
       "208   False       True   False\n",
       "253   False      False    True"
      ]
     },
     "execution_count": 11,
     "metadata": {},
     "output_type": "execute_result"
    }
   ],
   "source": [
    "dummy_species = pd.get_dummies(\n",
    "    data=X_train['species'],\n",
    "    drop_first=False,\n",
    ")\n",
    "dummy_species.head()"
   ]
  },
  {
   "cell_type": "markdown",
   "id": "a1f04f29",
   "metadata": {},
   "source": [
    "## is it not a problem to join without id?"
   ]
  },
  {
   "cell_type": "code",
   "execution_count": 12,
   "id": "b7937422-633b-46b0-a773-85bb330b0d49",
   "metadata": {
    "tags": []
   },
   "outputs": [
    {
     "data": {
      "text/html": [
       "<div>\n",
       "<style scoped>\n",
       "    .dataframe tbody tr th:only-of-type {\n",
       "        vertical-align: middle;\n",
       "    }\n",
       "\n",
       "    .dataframe tbody tr th {\n",
       "        vertical-align: top;\n",
       "    }\n",
       "\n",
       "    .dataframe thead th {\n",
       "        text-align: right;\n",
       "    }\n",
       "</style>\n",
       "<table border=\"1\" class=\"dataframe\">\n",
       "  <thead>\n",
       "    <tr style=\"text-align: right;\">\n",
       "      <th></th>\n",
       "      <th>bill_length_mm</th>\n",
       "      <th>bill_depth_mm</th>\n",
       "      <th>flipper_length_mm</th>\n",
       "      <th>species</th>\n",
       "      <th>island</th>\n",
       "      <th>sex</th>\n",
       "      <th>Adelie</th>\n",
       "      <th>Chinstrap</th>\n",
       "      <th>Gentoo</th>\n",
       "    </tr>\n",
       "  </thead>\n",
       "  <tbody>\n",
       "    <tr>\n",
       "      <th>24</th>\n",
       "      <td>35.3</td>\n",
       "      <td>18.9</td>\n",
       "      <td>187.0</td>\n",
       "      <td>Adelie</td>\n",
       "      <td>Biscoe</td>\n",
       "      <td>Female</td>\n",
       "      <td>True</td>\n",
       "      <td>False</td>\n",
       "      <td>False</td>\n",
       "    </tr>\n",
       "    <tr>\n",
       "      <th>323</th>\n",
       "      <td>47.3</td>\n",
       "      <td>13.8</td>\n",
       "      <td>NaN</td>\n",
       "      <td>Gentoo</td>\n",
       "      <td>Biscoe</td>\n",
       "      <td>NaN</td>\n",
       "      <td>False</td>\n",
       "      <td>False</td>\n",
       "      <td>True</td>\n",
       "    </tr>\n",
       "    <tr>\n",
       "      <th>143</th>\n",
       "      <td>37.3</td>\n",
       "      <td>16.8</td>\n",
       "      <td>192.0</td>\n",
       "      <td>Adelie</td>\n",
       "      <td>Dream</td>\n",
       "      <td>Female</td>\n",
       "      <td>True</td>\n",
       "      <td>False</td>\n",
       "      <td>False</td>\n",
       "    </tr>\n",
       "    <tr>\n",
       "      <th>208</th>\n",
       "      <td>49.3</td>\n",
       "      <td>19.9</td>\n",
       "      <td>203.0</td>\n",
       "      <td>Chinstrap</td>\n",
       "      <td>Dream</td>\n",
       "      <td>Male</td>\n",
       "      <td>False</td>\n",
       "      <td>True</td>\n",
       "      <td>False</td>\n",
       "    </tr>\n",
       "    <tr>\n",
       "      <th>253</th>\n",
       "      <td>49.1</td>\n",
       "      <td>14.8</td>\n",
       "      <td>220.0</td>\n",
       "      <td>Gentoo</td>\n",
       "      <td>Biscoe</td>\n",
       "      <td>Female</td>\n",
       "      <td>False</td>\n",
       "      <td>False</td>\n",
       "      <td>True</td>\n",
       "    </tr>\n",
       "  </tbody>\n",
       "</table>\n",
       "</div>"
      ],
      "text/plain": [
       "     bill_length_mm  bill_depth_mm  flipper_length_mm    species  island   \n",
       "24             35.3           18.9              187.0     Adelie  Biscoe  \\\n",
       "323            47.3           13.8                NaN     Gentoo  Biscoe   \n",
       "143            37.3           16.8              192.0     Adelie   Dream   \n",
       "208            49.3           19.9              203.0  Chinstrap   Dream   \n",
       "253            49.1           14.8              220.0     Gentoo  Biscoe   \n",
       "\n",
       "        sex  Adelie  Chinstrap  Gentoo  \n",
       "24   Female    True      False   False  \n",
       "323     NaN   False      False    True  \n",
       "143  Female    True      False   False  \n",
       "208    Male   False       True   False  \n",
       "253  Female   False      False    True  "
      ]
     },
     "execution_count": 12,
     "metadata": {},
     "output_type": "execute_result"
    }
   ],
   "source": [
    "# no Problem when indexes align correctly between the original DataFrame (X_train) and the dummy variables (dummy_species).\n",
    "# since dummy_species originally from X_train\n",
    "X_train.join(dummy_species).head()"
   ]
  },
  {
   "cell_type": "markdown",
   "id": "83cd3eca-72fc-456f-b97e-0c3467c3a0d9",
   "metadata": {},
   "source": [
    "#### 2.2 [`OneHotEncoder`](https://scikit-learn.org/stable/modules/generated/sklearn.preprocessing.OneHotEncoder.html#sklearn.preprocessing.OneHotEncoder)"
   ]
  },
  {
   "cell_type": "markdown",
   "id": "c81e0a2c-3f4f-4e8e-9f80-d17b48498bf1",
   "metadata": {
    "tags": []
   },
   "source": [
    "- **discussed in notebook *1_intro_to_fe***"
   ]
  },
  {
   "cell_type": "markdown",
   "id": "c22df328-46fa-4977-be9f-ebb1e430d62c",
   "metadata": {},
   "source": [
    "<hr style=\"border:2px solid black\">"
   ]
  },
  {
   "cell_type": "markdown",
   "id": "8ae4383a-7a8c-4f5f-90b4-9f08d3339fa0",
   "metadata": {
    "tags": []
   },
   "source": [
    "## 3. Feature Scaling"
   ]
  },
  {
   "cell_type": "markdown",
   "id": "0ab53fa1-7ab6-4f26-9c75-89ad52adfbb2",
   "metadata": {},
   "source": [
    "### 3.1 Standardization"
   ]
  },
  {
   "cell_type": "markdown",
   "id": "ae54bfca-d101-49bc-b7b8-6ea305e0824c",
   "metadata": {},
   "source": [
    "- **discussed in notebook *1_intro_to_fe***"
   ]
  },
  {
   "cell_type": "markdown",
   "id": "01118199-0c25-4a6a-9422-0bf4e94dcac9",
   "metadata": {},
   "source": [
    "### 3.2 Normalization"
   ]
  },
  {
   "cell_type": "markdown",
   "id": "6295fb21-ccfd-4a13-b6fc-30de2f12830f",
   "metadata": {},
   "source": [
    "- scikit-learn equivalent MinMaxScaler()\n",
    "- output range is always [0,1]\n",
    "- doesn't deal well with outliers\n",
    "- transformation formula:\n",
    ">$$z=\\dfrac{x - min(x)}{max(x) - min(x)}$$\n"
   ]
  },
  {
   "cell_type": "markdown",
   "id": "56fca68d-95d1-4c13-adf1-bd32182d8ad5",
   "metadata": {},
   "source": [
    "**example: create normalized numerical columns**"
   ]
  },
  {
   "cell_type": "code",
   "execution_count": 13,
   "id": "88387053",
   "metadata": {
    "tags": []
   },
   "outputs": [
    {
     "data": {
      "text/html": [
       "<div>\n",
       "<style scoped>\n",
       "    .dataframe tbody tr th:only-of-type {\n",
       "        vertical-align: middle;\n",
       "    }\n",
       "\n",
       "    .dataframe tbody tr th {\n",
       "        vertical-align: top;\n",
       "    }\n",
       "\n",
       "    .dataframe thead th {\n",
       "        text-align: right;\n",
       "    }\n",
       "</style>\n",
       "<table border=\"1\" class=\"dataframe\">\n",
       "  <thead>\n",
       "    <tr style=\"text-align: right;\">\n",
       "      <th></th>\n",
       "      <th>bill_length_mm_scaled</th>\n",
       "      <th>bill_depth_mm_scaled</th>\n",
       "      <th>flipper_length_mm_scaled</th>\n",
       "    </tr>\n",
       "  </thead>\n",
       "  <tbody>\n",
       "    <tr>\n",
       "      <th>24</th>\n",
       "      <td>0.116364</td>\n",
       "      <td>0.690476</td>\n",
       "      <td>0.258621</td>\n",
       "    </tr>\n",
       "    <tr>\n",
       "      <th>323</th>\n",
       "      <td>0.552727</td>\n",
       "      <td>0.083333</td>\n",
       "      <td>NaN</td>\n",
       "    </tr>\n",
       "    <tr>\n",
       "      <th>143</th>\n",
       "      <td>0.189091</td>\n",
       "      <td>0.440476</td>\n",
       "      <td>0.344828</td>\n",
       "    </tr>\n",
       "    <tr>\n",
       "      <th>208</th>\n",
       "      <td>0.625455</td>\n",
       "      <td>0.809524</td>\n",
       "      <td>0.534483</td>\n",
       "    </tr>\n",
       "    <tr>\n",
       "      <th>253</th>\n",
       "      <td>0.618182</td>\n",
       "      <td>0.202381</td>\n",
       "      <td>0.827586</td>\n",
       "    </tr>\n",
       "  </tbody>\n",
       "</table>\n",
       "</div>"
      ],
      "text/plain": [
       "     bill_length_mm_scaled  bill_depth_mm_scaled  flipper_length_mm_scaled\n",
       "24                0.116364              0.690476                  0.258621\n",
       "323               0.552727              0.083333                       NaN\n",
       "143               0.189091              0.440476                  0.344828\n",
       "208               0.625455              0.809524                  0.534483\n",
       "253               0.618182              0.202381                  0.827586"
      ]
     },
     "execution_count": 13,
     "metadata": {},
     "output_type": "execute_result"
    }
   ],
   "source": [
    "def normalize(series):\n",
    "    \"\"\"\n",
    "    Returns the normalized counterpart of a series.\n",
    "    The formula used is: (value - min) / (max - min), which scales the values between 0 and 1.\n",
    "    \"\"\"\n",
    "    min_ = series.min()  # Get the minimum value of the series\n",
    "    max_ = series.max()  # Get the maximum value of the series\n",
    "    return min_, max_, (series - min_) / (max_ - min_)  # Return min, max, and the normalized series\n",
    "\n",
    "# Create an empty DataFrame to hold the normalized features\n",
    "df_normal = pd.DataFrame()\n",
    "\n",
    "# Iterate over each feature in numerical_features for normalization\n",
    "for feature in numerical_features: \n",
    "    # Normalize the feature and get the min, max, and scaled values\n",
    "    min_, max_, t = normalize(X_train[feature])\n",
    "    \n",
    "    # Store the min and max values for each feature using dynamic variable names\n",
    "    vars()['min_' + feature] = min_\n",
    "    vars()['max_' + feature] = max_\n",
    "    \n",
    "    # Add the normalized feature to the new DataFrame with a '_scaled' suffix\n",
    "    df_normal[feature + '_scaled'] = t\n",
    "df_normal.head()"
   ]
  },
  {
   "cell_type": "markdown",
   "id": "01484e1a-5109-4102-92b1-218af895b1a2",
   "metadata": {},
   "source": [
    "#### [`MinMaxScaler()`](https://scikit-learn.org/stable/modules/generated/sklearn.preprocessing.MinMaxScaler.html)"
   ]
  },
  {
   "cell_type": "code",
   "execution_count": 14,
   "id": "f2e5e036-e5f6-4bd4-915b-776a162aad3a",
   "metadata": {
    "tags": []
   },
   "outputs": [
    {
     "data": {
      "text/html": [
       "<div>\n",
       "<style scoped>\n",
       "    .dataframe tbody tr th:only-of-type {\n",
       "        vertical-align: middle;\n",
       "    }\n",
       "\n",
       "    .dataframe tbody tr th {\n",
       "        vertical-align: top;\n",
       "    }\n",
       "\n",
       "    .dataframe thead th {\n",
       "        text-align: right;\n",
       "    }\n",
       "</style>\n",
       "<table border=\"1\" class=\"dataframe\">\n",
       "  <thead>\n",
       "    <tr style=\"text-align: right;\">\n",
       "      <th></th>\n",
       "      <th>bill_length_mm_mm_scaled</th>\n",
       "      <th>bill_depth_mm_mm_scaled</th>\n",
       "      <th>flipper_length_mm_mm_scaled</th>\n",
       "    </tr>\n",
       "  </thead>\n",
       "  <tbody>\n",
       "    <tr>\n",
       "      <th>0</th>\n",
       "      <td>0.116364</td>\n",
       "      <td>0.690476</td>\n",
       "      <td>0.258621</td>\n",
       "    </tr>\n",
       "    <tr>\n",
       "      <th>1</th>\n",
       "      <td>0.552727</td>\n",
       "      <td>0.083333</td>\n",
       "      <td>NaN</td>\n",
       "    </tr>\n",
       "    <tr>\n",
       "      <th>2</th>\n",
       "      <td>0.189091</td>\n",
       "      <td>0.440476</td>\n",
       "      <td>0.344828</td>\n",
       "    </tr>\n",
       "    <tr>\n",
       "      <th>3</th>\n",
       "      <td>0.625455</td>\n",
       "      <td>0.809524</td>\n",
       "      <td>0.534483</td>\n",
       "    </tr>\n",
       "    <tr>\n",
       "      <th>4</th>\n",
       "      <td>0.618182</td>\n",
       "      <td>0.202381</td>\n",
       "      <td>0.827586</td>\n",
       "    </tr>\n",
       "    <tr>\n",
       "      <th>...</th>\n",
       "      <td>...</td>\n",
       "      <td>...</td>\n",
       "      <td>...</td>\n",
       "    </tr>\n",
       "    <tr>\n",
       "      <th>251</th>\n",
       "      <td>0.723636</td>\n",
       "      <td>0.904762</td>\n",
       "      <td>0.655172</td>\n",
       "    </tr>\n",
       "    <tr>\n",
       "      <th>252</th>\n",
       "      <td>0.272727</td>\n",
       "      <td>0.488095</td>\n",
       "      <td>0.413793</td>\n",
       "    </tr>\n",
       "    <tr>\n",
       "      <th>253</th>\n",
       "      <td>0.221818</td>\n",
       "      <td>0.821429</td>\n",
       "      <td>0.310345</td>\n",
       "    </tr>\n",
       "    <tr>\n",
       "      <th>254</th>\n",
       "      <td>0.596364</td>\n",
       "      <td>0.119048</td>\n",
       "      <td>0.827586</td>\n",
       "    </tr>\n",
       "    <tr>\n",
       "      <th>255</th>\n",
       "      <td>0.207273</td>\n",
       "      <td>0.821429</td>\n",
       "      <td>0.310345</td>\n",
       "    </tr>\n",
       "  </tbody>\n",
       "</table>\n",
       "<p>256 rows × 3 columns</p>\n",
       "</div>"
      ],
      "text/plain": [
       "     bill_length_mm_mm_scaled  bill_depth_mm_mm_scaled   \n",
       "0                    0.116364                 0.690476  \\\n",
       "1                    0.552727                 0.083333   \n",
       "2                    0.189091                 0.440476   \n",
       "3                    0.625455                 0.809524   \n",
       "4                    0.618182                 0.202381   \n",
       "..                        ...                      ...   \n",
       "251                  0.723636                 0.904762   \n",
       "252                  0.272727                 0.488095   \n",
       "253                  0.221818                 0.821429   \n",
       "254                  0.596364                 0.119048   \n",
       "255                  0.207273                 0.821429   \n",
       "\n",
       "     flipper_length_mm_mm_scaled  \n",
       "0                       0.258621  \n",
       "1                            NaN  \n",
       "2                       0.344828  \n",
       "3                       0.534483  \n",
       "4                       0.827586  \n",
       "..                           ...  \n",
       "251                     0.655172  \n",
       "252                     0.413793  \n",
       "253                     0.310345  \n",
       "254                     0.827586  \n",
       "255                     0.310345  \n",
       "\n",
       "[256 rows x 3 columns]"
      ]
     },
     "execution_count": 14,
     "metadata": {},
     "output_type": "execute_result"
    }
   ],
   "source": [
    "from sklearn.preprocessing import MinMaxScaler\n",
    "\n",
    "# Step 1: Initialize the MinMaxScaler: \n",
    "# # By default, it scales the features to the range [0, 1]. If you want to scale to a different range, you can pass feature_range=(min, max) to the scaler.\n",
    "mm_scaler = MinMaxScaler() # 0 bis 1\n",
    "\n",
    "# Step 2: The fit() method calculates the minimum and maximum values for each feature in X_train[numerical_features]. \n",
    "# This information will be used to transform the data into the desired range.\n",
    "mm_scaler.fit(X_train[numerical_features])\n",
    "\n",
    "# Step 3: After fitting, the transform() method scales the data based on the previously calculated min and max values.\n",
    "# Each feature is transformed using the formula:\n",
    "t = mm_scaler.transform(X_train[numerical_features])\n",
    "\n",
    "# Step 4: Convert the transformed (scaled) data back into a DataFrame\n",
    "# Each transformed feature will have a '_mm_scaled' suffix to indicate scaling\n",
    "pd.DataFrame(t, columns=[f + '_mm_scaled' for f in numerical_features])"
   ]
  },
  {
   "cell_type": "markdown",
   "id": "4d3d94e0-e830-4ac8-b4bf-f4fa5803cd3e",
   "metadata": {},
   "source": [
    "<hr style=\"border:2px solid black\">"
   ]
  },
  {
   "cell_type": "markdown",
   "id": "3082a3cd-4572-48f8-b847-033778a57fe7",
   "metadata": {
    "tags": []
   },
   "source": [
    "## 4. Feature Expansion"
   ]
  },
  {
   "cell_type": "markdown",
   "id": "36e918e7-ee15-4b07-b911-b13083faeb0a",
   "metadata": {},
   "source": [
    "- **discussed in notebook *1_intro_to_fe***"
   ]
  },
  {
   "cell_type": "markdown",
   "id": "b3677191-c14e-4694-b19a-b3abaea1eb65",
   "metadata": {},
   "source": [
    "<hr style=\"border:2px solid black\">"
   ]
  },
  {
   "cell_type": "markdown",
   "id": "81e4d681-2912-4b0a-8355-3b9a7e3967bd",
   "metadata": {
    "tags": []
   },
   "source": [
    "## 5. Discretization"
   ]
  },
  {
   "cell_type": "markdown",
   "id": "19da89b3-6af9-4b07-966f-00020b4f6188",
   "metadata": {},
   "source": [
    "#### [`KBinsDiscretizer`](https://scikit-learn.org/stable/modules/generated/sklearn.preprocessing.KBinsDiscretizer.html#sklearn.preprocessing.KBinsDiscretizer)\n",
    "\n",
    "- Bins continuous data into intervals."
   ]
  },
  {
   "cell_type": "markdown",
   "id": "3715344a-88e2-44c6-be99-fe3abb29e6ce",
   "metadata": {},
   "source": [
    "**example: discretize `flipper_length_mm`**"
   ]
  },
  {
   "cell_type": "code",
   "execution_count": 15,
   "id": "ca45ae5e-0cfc-49d8-ac85-dce89efb2307",
   "metadata": {
    "tags": []
   },
   "outputs": [],
   "source": [
    "from sklearn.preprocessing import KBinsDiscretizer"
   ]
  },
  {
   "cell_type": "code",
   "execution_count": 16,
   "id": "297222d0-7300-4243-b1f6-5009a9a7b00e",
   "metadata": {
    "tags": []
   },
   "outputs": [],
   "source": [
    "kbins = KBinsDiscretizer(\n",
    "    n_bins=3,\n",
    "    encode='onehot-dense',\n",
    "    strategy='quantile'\n",
    ")"
   ]
  },
  {
   "cell_type": "markdown",
   "id": "7ea149ec-c91c-4a3e-af60-2c9eea8af811",
   "metadata": {},
   "source": [
    "- The following line of code will result in `ValueError`\n",
    "- Read the error message and try to fix the bug"
   ]
  },
  {
   "cell_type": "code",
   "execution_count": 214,
   "id": "ee995e4a-ad3c-408f-9be1-afd7debf043c",
   "metadata": {
    "tags": []
   },
   "outputs": [],
   "source": [
    "#  kbins.fit(X_train[['flipper_length_mm']])"
   ]
  },
  {
   "cell_type": "markdown",
   "id": "405b3dc8-4fda-454f-9921-af25637e2868",
   "metadata": {
    "tags": []
   },
   "source": [
    "**Hint**\n",
    "- Try `X_train.isna().sum()` to see if there are missing values in numerical columns\n",
    "- If yes, impute the missing values, say the way it was done in notebook _1_intro_to_fe_\n",
    "- Then run the above code again, and proceed to the `.transform()` step"
   ]
  },
  {
   "cell_type": "code",
   "execution_count": 17,
   "id": "faec21d1",
   "metadata": {
    "tags": []
   },
   "outputs": [
    {
     "data": {
      "text/plain": [
       "bill_length_mm       0\n",
       "bill_depth_mm        0\n",
       "flipper_length_mm    0\n",
       "species              0\n",
       "island               0\n",
       "sex                  6\n",
       "dtype: int64"
      ]
     },
     "execution_count": 17,
     "metadata": {},
     "output_type": "execute_result"
    }
   ],
   "source": [
    "knn_imputer = KNNImputer(n_neighbors=5)\n",
    "knn_imputer.fit(X_train[['flipper_length_mm']])\n",
    "\n",
    "X_train['flipper_length_mm'] = knn_imputer.transform(\n",
    "    X_train[['flipper_length_mm']]\n",
    ").flatten()\n",
    "X_train.isna().sum()"
   ]
  },
  {
   "cell_type": "code",
   "execution_count": 18,
   "id": "244c36a2",
   "metadata": {
    "tags": []
   },
   "outputs": [
    {
     "data": {
      "text/plain": [
       "(256, 3)"
      ]
     },
     "execution_count": 18,
     "metadata": {},
     "output_type": "execute_result"
    }
   ],
   "source": [
    "kbins = KBinsDiscretizer(\n",
    "    n_bins=3,\n",
    "    encode='onehot-dense',\n",
    "    strategy='quantile'\n",
    ")\n",
    "\n",
    "kbins.fit(X_train[['flipper_length_mm']])\n",
    "t = kbins.transform(X_train[['flipper_length_mm']])\n",
    "t.shape"
   ]
  },
  {
   "cell_type": "code",
   "execution_count": 226,
   "id": "abfa8742-cb4c-4d8d-bf8c-7fe7f8837c27",
   "metadata": {
    "tags": []
   },
   "outputs": [
    {
     "name": "stdout",
     "output_type": "stream",
     "text": [
      "small_flipper: 172.0 - 192.0\n",
      "medium_flipper: 192.0 - 210.0\n",
      "large_flipper: 210.0 - 230.0\n"
     ]
    }
   ],
   "source": [
    "# Fit the KBinsDiscretizer on the 'flipper_length_mm' column of the training data\n",
    "kbins.fit(X_train[['flipper_length_mm']])\n",
    "\n",
    "# Transform the 'flipper_length_mm' values into binned categories\n",
    "t = kbins.transform(X_train[['flipper_length_mm']])\n",
    "\n",
    "# Display the shape of the transformed data (number of rows, number of bins)\n",
    "t.shape   # BONUS: see bin ranges\n",
    "\n",
    "# Define human-readable bin names for the different categories of 'flipper_length_mm'\n",
    "bin_names = ['small_flipper', 'medium_flipper', 'large_flipper']\n",
    "\n",
    "# Retrieve the bin edges (ranges) and round them to one decimal place\n",
    "edges = kbins.bin_edges_[0].round(1)\n",
    "\n",
    "# Loop through each bin and print the bin name along with its corresponding range\n",
    "for i in range(len(bin_names)):\n",
    "    print(f\"{bin_names[i]}: {edges[i]} - {edges[i+1]}\")"
   ]
  },
  {
   "cell_type": "markdown",
   "id": "654aed67-b335-4192-a781-f6ab0b089ad3",
   "metadata": {},
   "source": [
    "---"
   ]
  },
  {
   "cell_type": "markdown",
   "id": "0d84b447-2ecb-4147-bf6a-3035f425068b",
   "metadata": {},
   "source": [
    "**With `KBinsDiscretizer` what does the following hyperparameter choices mean?**\n",
    "- `n_bins=3`,\n",
    "- `encode='onehot-dense'`,\n",
    "- `strategy='quantile'`?"
   ]
  }
 ],
 "metadata": {
  "kernelspec": {
   "display_name": "Python 3 (ipykernel)",
   "language": "python",
   "name": "python3"
  },
  "language_info": {
   "codemirror_mode": {
    "name": "ipython",
    "version": 3
   },
   "file_extension": ".py",
   "mimetype": "text/x-python",
   "name": "python",
   "nbconvert_exporter": "python",
   "pygments_lexer": "ipython3",
   "version": "3.11.3"
  }
 },
 "nbformat": 4,
 "nbformat_minor": 5
}
