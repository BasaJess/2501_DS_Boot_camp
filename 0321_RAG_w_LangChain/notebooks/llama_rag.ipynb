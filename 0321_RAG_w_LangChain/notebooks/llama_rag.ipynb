{
 "cells": [
  {
   "cell_type": "markdown",
   "metadata": {},
   "source": [
    "## RAG with langchain and Llama"
   ]
  },
  {
   "cell_type": "markdown",
   "metadata": {},
   "source": [
    "---\n",
    "1. Introduction"
   ]
  },
  {
   "cell_type": "markdown",
   "metadata": {},
   "source": [
    "### Limitation of LLMs\n",
    "\n",
    "- know nothing outside trainning data, e.g. up-to-date information, classified/private data\n",
    "- not specialized in specific use cases\n",
    "- tend to hallucinate confidently, possibly leading to missinformation\n",
    "- produce black box output: do not clarify what has led to the generation of particular content"
   ]
  },
  {
   "cell_type": "markdown",
   "metadata": {},
   "source": [
    "### Fine Tunning\n",
    "- Enhances model Performance for specific use case through Transfer Learning with additional data.\n",
    "- Changes model Parameters, enhancing speed and reducing Cost for specific Tasks\n",
    "- Powerful tool for :\n",
    "  - Incorporating non-dynamic or past data.\n",
    "  - Specific Industries with nuances in writting style, and reducing costs for specific Tasks.\n",
    "- Cut-off issue persists in absence of up-to-date Information"
   ]
  },
  {
   "cell_type": "markdown",
   "metadata": {},
   "source": [
    "### Retrieval Augmented Generation\n",
    "- Increases model capabilities through.\n",
    "  - **Retrieving** external and up-to-date information.\n",
    "  - **Augmenting** the original prompt given to the model.\n",
    "  - **Generating** response using context plus Information.\n",
    "- Ground LLM Model parameters remain unchanged (no Transfer Learning).\n",
    "- Powerful Tool for making use of Dynamic up-to-date Information.\n",
    "- White Box Output: Provides transparency behind the Model without Hallucination."
   ]
  }
 ],
 "metadata": {
  "language_info": {
   "name": "python"
  }
 },
 "nbformat": 4,
 "nbformat_minor": 2
}
