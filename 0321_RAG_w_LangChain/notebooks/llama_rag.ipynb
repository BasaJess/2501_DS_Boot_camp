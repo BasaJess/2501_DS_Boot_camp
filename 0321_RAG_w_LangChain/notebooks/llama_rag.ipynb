{
 "cells": [
  {
   "cell_type": "markdown",
   "metadata": {},
   "source": [
    "### RAG with langchain and Llama"
   ]
  },
  {
   "cell_type": "markdown",
   "metadata": {},
   "source": [
    "---\n",
    "### 1. Introduction"
   ]
  },
  {
   "cell_type": "markdown",
   "metadata": {},
   "source": [
    "#### Limitation of LLMs\n",
    "\n",
    "- know nothing outside trainning data, e.g. up-to-date information, classified/private data\n",
    "- not specialized in specific use cases\n",
    "- tend to hallucinate confidently, possibly leading to missinformation\n",
    "- produce black box output: do not clarify what has led to the generation of particular content"
   ]
  },
  {
   "cell_type": "markdown",
   "metadata": {},
   "source": [
    "#### Fine Tunning\n",
    "- Enhances model Performance for specific use case through Transfer Learning with additional data.\n",
    "- Changes model Parameters, enhancing speed and reducing Cost for specific Tasks\n",
    "- Powerful tool for :\n",
    "  - Incorporating non-dynamic or past data.\n",
    "  - Specific Industries with nuances in writting style, and reducing costs for specific Tasks.\n",
    "- Cut-off issue persists in absence of up-to-date Information"
   ]
  },
  {
   "cell_type": "markdown",
   "metadata": {},
   "source": [
    "#### Retrieval Augmented Generation\n",
    "- Increases model capabilities through.\n",
    "  - **Retrieving** external and up-to-date information.\n",
    "  - **Augmenting** the original prompt given to the model.\n",
    "  - **Generating** response using context plus Information.\n",
    "- Ground LLM Model parameters remain unchanged (no Transfer Learning).\n",
    "- Powerful Tool for making use of Dynamic up-to-date Information.\n",
    "- White Box Output: Provides transparency behind the Model without Hallucination."
   ]
  },
  {
   "cell_type": "markdown",
   "metadata": {},
   "source": [
    "#### RAG Framework\n",
    "<img src=\"../documents/rag.png\" width=\"950\"/>\n"
   ]
  },
  {
   "cell_type": "markdown",
   "metadata": {},
   "source": [
    "#### Technolgy Stack\n"
   ]
  },
  {
   "cell_type": "markdown",
   "metadata": {},
   "source": [
    "##### [LangChain](https://python.langchain.com/docs/introduction/)\n",
    "\n",
    "> Framework for developing applications powered by LLMs\n",
    "\n",
    "> [What is LangChain? By IBM Technology](https://www.youtube.com/watch?v=1bUy-1hGZpI)"
   ]
  },
  {
   "cell_type": "markdown",
   "metadata": {},
   "source": [
    "##### [FAISS (Facebook AI Similarity Search)](https://ai.meta.com/tools/faiss/)\n",
    "\n",
    ">  Library allowing storage of contextual embedding vectors in vector database and similarity search\n",
    ">  [acebook AI Similarity Search FAISS | OpenAI's Embeddings Endpoint | Gen AI OpenAI API in Python](https://www.youtube.com/watch?v=Gx3TzYFaCS8)"
   ]
  },
  {
   "cell_type": "markdown",
   "metadata": {},
   "source": [
    "##### [Groq](https://groq.com/about-us/)\n",
    "\n",
    "> Engine providing fast AI inference (conclusion from brand new data) in the cloud"
   ]
  },
  {
   "cell_type": "markdown",
   "metadata": {},
   "source": [
    "### 2. Warm up"
   ]
  },
  {
   "cell_type": "markdown",
   "metadata": {},
   "source": [
    "#### Load Credentials"
   ]
  },
  {
   "cell_type": "code",
   "execution_count": 1,
   "metadata": {},
   "outputs": [
    {
     "data": {
      "text/plain": [
       "True"
      ]
     },
     "execution_count": 1,
     "metadata": {},
     "output_type": "execute_result"
    }
   ],
   "source": [
    "from dotenv import load_dotenv\n",
    "load_dotenv()"
   ]
  },
  {
   "cell_type": "markdown",
   "metadata": {},
   "source": [
    "#### Define LLM"
   ]
  },
  {
   "cell_type": "code",
   "execution_count": 2,
   "metadata": {},
   "outputs": [],
   "source": [
    "import warnings\n",
    "warnings.filterwarnings(\"ignore\")\n",
    "from langchain_groq import ChatGroq\n",
    "\n",
    "llm = ChatGroq(\n",
    "    model=\"llama3-8b-8192\",\n",
    "    temperature=0,\n",
    "    max_tokens=None,\n",
    "    timeout=None,\n",
    "    max_retries=2\n",
    ")"
   ]
  }
 ],
 "metadata": {
  "kernelspec": {
   "display_name": ".venv",
   "language": "python",
   "name": "python3"
  },
  "language_info": {
   "codemirror_mode": {
    "name": "ipython",
    "version": 3
   },
   "file_extension": ".py",
   "mimetype": "text/x-python",
   "name": "python",
   "nbconvert_exporter": "python",
   "pygments_lexer": "ipython3",
   "version": "3.11.3"
  }
 },
 "nbformat": 4,
 "nbformat_minor": 2
}
