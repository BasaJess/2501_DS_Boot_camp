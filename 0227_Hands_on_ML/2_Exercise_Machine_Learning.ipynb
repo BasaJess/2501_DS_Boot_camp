{
 "cells": [
  {
   "cell_type": "markdown",
   "id": "44e7c80e",
   "metadata": {},
   "source": [
    "# Machine Learning Exercise"
   ]
  },
  {
   "cell_type": "markdown",
   "id": "d646bf4d",
   "metadata": {},
   "source": [
    "Now it's time to practice what you have seen in the previous notebooks. Your task for today is to download the data from the database and train a model in order to predict if a patient has a heart disease or not. \n",
    "\n",
    "![](https://www.nicepng.com/png/detail/397-3975460_disease-high-quality-png-heart-disease-cartoon-png.png)"
   ]
  },
  {
   "cell_type": "markdown",
   "id": "d3eaca75",
   "metadata": {
    "jp-MarkdownHeadingCollapsed": true,
    "tags": []
   },
   "source": [
    "## Task:\n",
    "\n",
    "1. Import the data from the database. The schema is called `heart`. You can use DBeaver to get an overview over the different tables and think about a good way to join them. \n",
    "2. Conduct a brief EDA to become familiar with the data. \n",
    "3. Preprocess the data as far as you need it and...\n",
    "4. ...train a logistic regression model."
   ]
  },
  {
   "cell_type": "markdown",
   "id": "cef7fa38",
   "metadata": {},
   "source": [
    "## What you should use/keep in mind:\n",
    " \n",
    "* **Scale your data:** Which scaler works best in your case?\n",
    "* **Tune your model:** Tune the hyperparameter of your model. You can start with a larger parameter grid and a `RandomizedSearchCV` and continue with a narrower parameter grid for your `GridSearchCV`.\n",
    "* **Choose the right evaluation metric!**\n"
   ]
  },
  {
   "cell_type": "markdown",
   "id": "a4f69f0c",
   "metadata": {},
   "source": [
    "## Data Overview\n",
    "\n",
    "| column | additional information |\n",
    "|--------|------------------------|\n",
    "| age | age of patient |\n",
    "| sex | gender of patient |\n",
    "| chest_pain_type  | 1 = typical angina, 2 = atypical angina, 3 = non-anginal pain, 4 = asymptomatic | \n",
    "| resting_blood_pressure |  | \n",
    "| fasting_blood_sugar | > 120 mg/dl, 1 = true, 0 = false | \n",
    "| thal | 0 = normal, 1 = fixed defect, 2 = reversable defect\n",
    "| serum_cholestoral | in mg/dl | \n",
    "| resting_electrocardiographic_results | 0 = normal, 1 = having ST-T wave abnormality, 2 = showing probable or definite left ventricular hypertrophy by Estes' criteria | \n",
    "| maximum_heartrate_achieved | | \n",
    "| exercise_induced_angina | 1 = yes, 0 = no | \n",
    "| oldpeak | ST depression induced by exercise relative to rest | \n",
    "| slope_of_the_peak_exercise_st_segment | 1= upsloping, 2 = flat, 3 = downsloping | \n",
    "| number_of_major_vessels_colored_by_flourosopy | |\n",
    "| real_data | tag to distinguish between real and made up data | \n",
    "| heart_attack | 0 = little risk of heart attack, 1 = high risk of heart attack | "
   ]
  },
  {
   "cell_type": "markdown",
   "id": "9b139eac-a14c-4f50-8c80-36a801f00ca7",
   "metadata": {},
   "source": [
    "## Import"
   ]
  },
  {
   "cell_type": "code",
   "execution_count": null,
   "id": "35f34948-8795-4c27-867f-c98478949e56",
   "metadata": {},
   "outputs": [],
   "source": [
    "import os\n",
    "from dotenv import load_dotenv\n",
    "from sqlalchemy import create_engine\n",
    "\n",
    "import numpy as np\n",
    "import pandas as pd\n",
    "import matplotlib.pyplot as plt\n",
    "\n",
    "# Feel free to add all the libraries you need"
   ]
  },
  {
   "cell_type": "markdown",
   "id": "29326ef9-f51c-4531-9337-88dbdf4c93b6",
   "metadata": {
    "tags": []
   },
   "source": [
    "## Getting the Data\n",
    "\n",
    "The data for this exercise is stored in our postgres database in the schema `heart`. The different features are split thematically into five different tables. Your first task will be to have a look at the tables (e.g. in DBeaver) and figure out a way to join the information you need. As soon as you're happy with your query, you can use the following code cells to import the data into this notebook. \n",
    "\n",
    "In previous notebooks you've seen two different approaches to import data from a database into a notebook. The following code will use `sqlalchemy`in combination with pandas `pd.read_sql()` function. For the code to work, you need to copy the `.env` file from the previous repositories into this repository and change the query_string to your own query."
   ]
  },
  {
   "cell_type": "code",
   "execution_count": null,
   "id": "a116f65b-5c98-4e8d-bc88-6239bd401168",
   "metadata": {},
   "outputs": [],
   "source": [
    "# Read database string from .env file (no need to change anything)\n",
    "load_dotenv()\n",
    "\n",
    "DB_STRING = os.getenv('DB_STRING')\n",
    "\n",
    "db = create_engine(DB_STRING)"
   ]
  },
  {
   "cell_type": "code",
   "execution_count": null,
   "id": "69b1d420-3c92-4530-92a2-3c215c0c9bf2",
   "metadata": {},
   "outputs": [],
   "source": [
    "# Define query to download data (add your query here)\n",
    "query_string = \"SELECT * FROM schema.table LIMIT 10\"\n",
    "\n",
    "# Import with pandas\n",
    "df_sqlalchemy = pd.read_sql(query_string, db)\n",
    "df_sqlalchemy.head()"
   ]
  },
  {
   "cell_type": "code",
   "execution_count": null,
   "id": "d91e9ad0-611f-4452-ac54-fb0d7d4710b2",
   "metadata": {},
   "outputs": [],
   "source": [
    "# Save dataframe as .csv file\n",
    "df_sqlalchemy.to_csv(\"heart_data.csv\", index=False)"
   ]
  },
  {
   "cell_type": "code",
   "execution_count": null,
   "id": "45ff1d89-70f4-4e84-8c56-28c48cbb44dc",
   "metadata": {},
   "outputs": [],
   "source": []
  }
 ],
 "metadata": {
  "kernelspec": {
   "display_name": "Python 3 (ipykernel)",
   "language": "python",
   "name": "python3"
  },
  "language_info": {
   "codemirror_mode": {
    "name": "ipython",
    "version": 3
   },
   "file_extension": ".py",
   "mimetype": "text/x-python",
   "name": "python",
   "nbconvert_exporter": "python",
   "pygments_lexer": "ipython3",
   "version": "3.9.4"
  }
 },
 "nbformat": 4,
 "nbformat_minor": 5
}
