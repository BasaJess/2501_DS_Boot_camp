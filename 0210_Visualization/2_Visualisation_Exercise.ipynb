{
 "cells": [
  {
   "cell_type": "markdown",
   "metadata": {},
   "source": [
    "# Visualization - Data Science Kaggle Survey "
   ]
  },
  {
   "attachments": {},
   "cell_type": "markdown",
   "metadata": {},
   "source": [
    "In this notebook you will work on your visualization skills. In the repo you will find a dataset from [Kaggle](https://www.kaggle.com/). Every year, Kaggle conducts a survey on the topic of Data Science and Machine Learning. An invitation to participate in the survey is sent out to the entire Kaggle community. The survey is also promoted on the Kaggle website and Kaggle Twitter channel. The 2020 survey results were used as data for a Kaggle competition held at the end of the year. When evaluating the submissions, particular attention was paid to originality, a good structure/narrative and, last but not least **informative and appealing visualizations**.\n",
    "\n",
    "The survey contained 35 questions, most of which were multiple-choice. These questions allowed either one or more selected answers. Responses to multiple-choice questions, where only a single choice could be selected, were recorded in individual columns. Responses to multiple selection questions (multiple choices can be selected) were split into multiple columns (with one column per answer choice).\n",
    "\n",
    "Since this kind of data structure requires a lot of preprocessing before the visualization part can even begin, we decided to make the task a little easier. \n",
    "The dataset [kaggle_survey.csv](kaggle_survey.csv) that you will use for the following exercise contains only the questions whose responses where collected in a single column. \n",
    "If you need further information about the [methodology](kaggle_survey_2020_methodology.pdf) of the survey or the [questions](kaggle_survey_2020_answer_choices.pdf) and their possible answer options you will find two PDF-files with additional information in this repo."
   ]
  },
  {
   "attachments": {},
   "cell_type": "markdown",
   "metadata": {},
   "source": [
    "## Your Task"
   ]
  },
  {
   "attachments": {},
   "cell_type": "markdown",
   "metadata": {},
   "source": [
    "Let's imagine the following scenario:\n",
    "\n",
    "You got a new dataset from one of your stakeholders. Additionally to the dataset, you received an email with a couple of very specific questions your stakeholder is interested in. \n",
    "Your task for this exercise is to create plots that clearly visualize the answers to your stakeholder's questions.\n",
    "\n",
    "You will find your stakeholder's questions further down in the notebook. To help you get started and get an overview over the data we prepared a list of all the questions, which are still included in the shortened dataset: \n",
    "\n",
    "\n",
    "| Question # | Database Column                  | Question                                                                                                                                                                    |      \n",
    "| ---------- | -------------------------------- | --------------------------------------------------------------------------------------------------------------------------------------------------------------------------- | \n",
    "| Q1         | age_range                        | What is your age (# years)?                                                                                                                                                 |                |           |                                    |\n",
    "| Q2         | gender                           | What is your gender?                                                                                                                                                        |                |           |                                    |\n",
    "| Q3         | county_residence                 | In which country do you currently reside?                                                                                                                                   |                |           |                                    |\n",
    "| Q4         | highest_education                | What is the highest level of formal education that you have attained or plan to attain within the next 2 years?                                                             |                |           |                                    |\n",
    "| Q5         | latest_job_role                  | Select the title most similar to your current role (or most recent title if retired)                                                                                        |                |           |                                    |\n",
    "| Q6         | years_of_programming             | For how many years have you been writing code and/or programming?                                                                                                           |                |           |                                    |\n",
    "| Q8         | programming_language_recommended | What programming language would you recommend an aspiring data scientist to learn first?                                                                                    |                |           |                                    |\n",
    "| Q11        | computing_platforms              | What type of computing platform do you use most often for your data science projects?                                                                                       |                |           |                                    |\n",
    "| Q13        | times_tpu_used                   | Approximately how many times have you used a TPU (tensor processing unit)?                                                                                                  |                |           |                                    |\n",
    "| Q15        | years_of_experience              | For how many years have you used machine learning methods?                                                                                                                  |                |           |                                    |\n",
    "| Q20        | size_of_company                  | What is the size of the company where you are employed?                                                                                                                     |                |           |                                    |\n",
    "| Q21        | number_of_data_scientists        | Approximately how many individuals are responsible for data science workloads at your place of business?                                                                    |                |           |                                    |\n",
    "| Q22        | employer_incorporate_ml          | Does your current employer incorporate machine learning methods into their business?                                                                                        |                |           |                                    |\n",
    "| Q24        | yearly_earnings                  | What is your current yearly compensation (approximate \\$USD)?                                                                                                                |                |           |                                    |\n",
    "| Q25        | money_spend_on_cloud             | Approximately how much money have you (or your team) spent on machine learning and/or cloud computing services at home (or at work) in the past 5 years (approximate \\$USD)? |                |           |                                    |\n",
    "| Q30        | most_used_data_products          | Which of the following big data products (relational database                                                                                                                data warehouse  data lake  or similar) do you use most often? |\n",
    "| Q32        | most_used_bi_tool                | Which of the following business intelligence tools do you use most often?                                                                                                   |                |           |                                    |\n",
    "| Q38        | primary_tool_data_analysis       | What is the primary tool that you use at work or school to analyze data?                                                                                                    |                |           |                                    |\n",
    "|            |                                  |                                                                                                                                                                             |                |           |                                    |\n",
    "\n"
   ]
  },
  {
   "attachments": {},
   "cell_type": "markdown",
   "metadata": {},
   "source": [
    "## Setup and Import"
   ]
  },
  {
   "attachments": {},
   "cell_type": "markdown",
   "metadata": {},
   "source": [
    "As always, the first step is to import the required libraries and data. Since we do not want to run the SQL query every time, we can simply import the csv file we created in the first notebook."
   ]
  },
  {
   "cell_type": "code",
   "execution_count": null,
   "metadata": {},
   "outputs": [],
   "source": [
    "# Import packages"
   ]
  },
  {
   "cell_type": "code",
   "execution_count": null,
   "metadata": {},
   "outputs": [],
   "source": [
    "# Import dataframe"
   ]
  },
  {
   "cell_type": "markdown",
   "metadata": {},
   "source": [
    "## Getting to Know the Data\n",
    "\n",
    "Before you can start visualizing, you should get an overview of the data. Is the format of the data suitable for visualization or do you need to adjust something here and there?"
   ]
  },
  {
   "cell_type": "code",
   "execution_count": null,
   "metadata": {},
   "outputs": [],
   "source": [
    "# Examine the usual suspects: head, tail, unique values etc. "
   ]
  },
  {
   "cell_type": "markdown",
   "metadata": {},
   "source": [
    "## Visualisations\n",
    "\n"
   ]
  },
  {
   "cell_type": "markdown",
   "metadata": {},
   "source": [
    "Now that you have a feel for the data, let's start to work on the tasks of your stakeholder. "
   ]
  },
  {
   "attachments": {},
   "cell_type": "markdown",
   "metadata": {},
   "source": [
    "### 1. Plot"
   ]
  },
  {
   "attachments": {},
   "cell_type": "markdown",
   "metadata": {},
   "source": [
    "Your stakeholder wants to have a visual comparison between the yearly compensation of people who work as Data Scientists, Data Analysts, and Data Engineers. \n",
    "\n",
    "Unfortunately, with the format of the entries in column \"Q24\" (`df.yearly_earnings`) plotting the data is really cumbersome. Since the focus of this exercise is on plotting we will assist you a bit with the data preparation and provide you with a code snippet that will transform the strings in this column into one integer per entry, which then can be easily plotted. (Maybe you need to adapt the name of the dataframe etc. to get the code running.) "
   ]
  },
  {
   "cell_type": "code",
   "execution_count": null,
   "metadata": {},
   "outputs": [],
   "source": [
    "# Create a new dataframe for compensation / job title\n",
    "compensation = df[['latest_job_role', 'yearly_earnings']].copy() # Copy job (latest_job_role) and salary (yearly_earnings) columns in a new dataframe\n",
    "compensation.dropna(inplace=True) # drop (remove) rows with NAs\n",
    "\n",
    "# Define function for extracting the first number of compensation column\n",
    "def get_first_number(x):\n",
    "    x = x.split('-')[0]\n",
    "    x = x.replace(',', '').replace('>', '').replace('$', '').lstrip()\n",
    "    return int(x)\n",
    "\n",
    "# Apply function to Q24 column to generate new column\n",
    "compensation['Salary'] = compensation['yearly_earnings'].apply(lambda x: get_first_number(x))\n",
    "\n",
    "# Filter dataframe for relevant job titles \n",
    "data_compensation = compensation[compensation['latest_job_role'].\n",
    "                                 isin(['Data Scientist', 'Data Analyst','Data Engineer'])]\n",
    "data_compensation.head()"
   ]
  },
  {
   "cell_type": "code",
   "execution_count": null,
   "metadata": {},
   "outputs": [],
   "source": [
    "# Your code here"
   ]
  },
  {
   "attachments": {},
   "cell_type": "markdown",
   "metadata": {},
   "source": [
    "### 2. Plot"
   ]
  },
  {
   "attachments": {},
   "cell_type": "markdown",
   "metadata": {},
   "source": [
    "Your stakeholder wants to know the gender distribution in the countries where most people participated in the survey. He is interested in the top 10 countries.\n",
    "And in the top 10 countries with the most number of female survey participants.\n"
   ]
  },
  {
   "cell_type": "code",
   "execution_count": null,
   "metadata": {},
   "outputs": [],
   "source": [
    "# Your code here"
   ]
  },
  {
   "attachments": {},
   "cell_type": "markdown",
   "metadata": {},
   "source": [
    "### 3. Plot"
   ]
  },
  {
   "attachments": {},
   "cell_type": "markdown",
   "metadata": {},
   "source": [
    "According to the study, aspiring Data Scientists are most often recommended to learn Python. Since Python is widely known in the stakeholder's company, he would like to know which language is most recommended after Python. He also suspects that there might be a difference in recommended languages depending on the title of the survey participant's current role and he wants to know what people with the job title \"Data Scientist\", \"Data Analyst\", and \"Data Engineer\" recommend. Can you confirm or reject his assumption with a/some suitable plot(s)?"
   ]
  },
  {
   "cell_type": "code",
   "execution_count": null,
   "metadata": {},
   "outputs": [],
   "source": [
    "# Your code here"
   ]
  },
  {
   "attachments": {},
   "cell_type": "markdown",
   "metadata": {},
   "source": [
    "### Extra "
   ]
  },
  {
   "attachments": {},
   "cell_type": "markdown",
   "metadata": {},
   "source": [
    "Now its up to you. If you're still motivated have another look at the data. What do you think is interesting or maybe different than expected?"
   ]
  },
  {
   "cell_type": "markdown",
   "metadata": {},
   "source": []
  }
 ],
 "metadata": {
  "kernelspec": {
   "display_name": ".venv",
   "language": "python",
   "name": "python3"
  },
  "language_info": {
   "codemirror_mode": {
    "name": "ipython",
    "version": 3
   },
   "file_extension": ".py",
   "mimetype": "text/x-python",
   "name": "python",
   "nbconvert_exporter": "python",
   "pygments_lexer": "ipython3",
   "version": "3.11.3"
  },
  "vscode": {
   "interpreter": {
    "hash": "d7a35bba081246a577863ed5357213b0bf3e2936bc08045816acb79d76e359dd"
   }
  }
 },
 "nbformat": 4,
 "nbformat_minor": 4
}
