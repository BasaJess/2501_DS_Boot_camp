{
 "cells": [
  {
   "attachments": {},
   "cell_type": "markdown",
   "metadata": {},
   "source": [
    "# Distance metrics exercise"
   ]
  },
  {
   "attachments": {},
   "cell_type": "markdown",
   "metadata": {},
   "source": [
    "Complete the `distance()` function.\n",
    "\n",
    "\n",
    "This function should take in 3 arguments:\n",
    "\n",
    "- a tuple or array that describes a vector in n-dimensional space.\n",
    "\n",
    "- a tuple or array that describes a vector in n-dimensional space (both tuples should be of same length!)\n",
    "\n",
    "- an argument which tells us the norm to calculate the vector space (if set to 1, the result will be Manhattan, while 2 will calculate Euclidean distance)\n",
    "\n",
    "Since Euclidean distance is the most common distance metric used, this function should default to using c=2 if no value is set for c.\n",
    "\n",
    "Include a parameter called verbose which is set to True by default. If true, the function should print out if the distance metric returned is a measurement of Manhattan, Euclidean, or Minkowski distance.\n",
    "\n",
    "\n",
    "This function should implement the Minkowski distance equation and return the result.\n",
    "\n",
    "\n",
    "> NOTE: Remember that for Manhattan Distance, you need to make use of np.abs() to get the absolute value of the distance for each dimension, since we don't have the squaring function to make this positive for us!\n",
    "\n",
    "> HINT: Use np.power() as an easy way to implement both squares and square roots. np.power(a, 3) will return the cube of a, while np.power(a, 1/3) will return the cube root of 3. For more information on this function, see the [NumPy documentation](https://docs.scipy.org/doc/numpy-1.15.1/reference/generated/numpy.power.html)!"
   ]
  },
  {
   "cell_type": "code",
   "execution_count": 29,
   "metadata": {
    "ExecuteTime": {
     "end_time": "2020-10-22T08:41:27.084908Z",
     "start_time": "2020-10-22T08:41:26.699832Z"
    }
   },
   "outputs": [
    {
     "name": "stdout",
     "output_type": "stream",
     "text": [
      "used measurement: Euclidean\n",
      "4.47213595499958\n",
      "used measurement: Manhattan\n",
      "6\n",
      "used measurement: Minkowski\n",
      "4.47213595499958\n"
     ]
    }
   ],
   "source": [
    "import numpy as np\n",
    "\n",
    "\n",
    "def distance(x, y, c = 2, verbose = True):\n",
    "    x = np.asarray(x)\n",
    "    y = np.asarray(y)\n",
    "    if (c==1):\n",
    "        # Manhattan\n",
    "        if verbose:\n",
    "                print('used measurement: Manhattan')\n",
    "        manhattan_distance = 0\n",
    "        for i in range(x.size):\n",
    "            manhattan_distance += np.abs(x[i] - y[i])\n",
    "        return manhattan_distance\n",
    "    elif (c==2):\n",
    "        # Euclidean\n",
    "        if verbose:\n",
    "                print('used measurement: Euclidean')\n",
    "        euclidean_distance = 0\n",
    "        for i in range(x.size):\n",
    "            euclidean_distance += np.power(np.abs(x[i] - y[i]), 2)\n",
    "        return np.power(euclidean_distance,(1/2))\n",
    "    else :\n",
    "        # Minkowski\n",
    "        minkowski_distance = 0\n",
    "        if verbose:\n",
    "                print('used measurement: Minkowski')\n",
    "        for i in range(x.size):\n",
    "            minkowski_distance += np.power(np.abs(x[i] - y[i]), x.size)\n",
    "        return np.power(minkowski_distance,(1/x.size))\n",
    "    \n",
    "pt1 = (3, 5)\n",
    "pt2 = (1, 9)\n",
    "print(distance(pt1, pt2))\n",
    "print(distance(pt1, pt2, c=1)) \n",
    "print(distance(pt1, pt2, c=3)) "
   ]
  },
  {
   "attachments": {},
   "cell_type": "markdown",
   "metadata": {},
   "source": [
    "## Testing the function"
   ]
  },
  {
   "cell_type": "markdown",
   "metadata": {},
   "source": [
    "Testing your results for validation is important! Let's use Python for validating our work by creating a `check_distance`-function.\n",
    "- If you catch an `AssertionError`, you need to fix something `:)`\n",
    "- Make sure that the variable containing your results are named `your_euclidean_distance` (always the same as in the assertion), it won't work otherwise!  \n",
    "- Manhattan & Minkowski accordingly, of course. \n",
    "\n",
    "More info on assertions [here](https://www.geeksforgeeks.org/python-assert-keyword/)."
   ]
  },
  {
   "cell_type": "code",
   "execution_count": 30,
   "metadata": {},
   "outputs": [],
   "source": [
    "def check_distance(your_result, expected_result):\n",
    "    # Checking & comparing for some decimal places. The f-string is only for a failing test. \n",
    "    assert np.isclose(your_result, expected_result), f\"Expected distance: {expected_result}, but got: {your_result}\"\n",
    "    \n",
    "    # If we make it this far, everything was fine.\n",
    "    print(\"Test passed!\") "
   ]
  },
  {
   "attachments": {},
   "cell_type": "markdown",
   "metadata": {},
   "source": [
    "------"
   ]
  },
  {
   "attachments": {},
   "cell_type": "markdown",
   "metadata": {},
   "source": [
    "Calculate the `Euclidean distance` between the following points in 6-dimensional space:\n",
    "\n",
    "Point 1: (-2, -5.8, 14, 15, 7, 9)\n",
    "\n",
    "Point 2: (3, -9.2, -33, -21, 7, 9)"
   ]
  },
  {
   "cell_type": "code",
   "execution_count": 32,
   "metadata": {},
   "outputs": [
    {
     "name": "stdout",
     "output_type": "stream",
     "text": [
      "used measurement: Euclidean\n",
      "Test passed!\n"
     ]
    }
   ],
   "source": [
    "point1 = (-2, -5.8, 14, 15, 7, 9)\n",
    "point2 = (3, -9.2, -33, -21, 7, 9)\n",
    "your_euclidean_distance= distance(point1, point2, c=2)\n",
    "\n",
    "check_distance(your_euclidean_distance, 59.51100738518883)"
   ]
  },
  {
   "cell_type": "markdown",
   "metadata": {},
   "source": [
    "------"
   ]
  },
  {
   "attachments": {},
   "cell_type": "markdown",
   "metadata": {},
   "source": [
    "Calculate the `Manhattan distance` between the following points in 9-dimensional space:\n",
    "\n",
    "Point 1: [0, 0, 0, 7, 16, 2, 0, 1, 12, ]\n",
    "Point 2: [21, -1, 35, 17, 14, 73, -22, 33, 3, ]"
   ]
  },
  {
   "cell_type": "code",
   "execution_count": 33,
   "metadata": {},
   "outputs": [
    {
     "name": "stdout",
     "output_type": "stream",
     "text": [
      "used measurement: Manhattan\n",
      "Test passed!\n"
     ]
    }
   ],
   "source": [
    "point1 = [0, 0, 0, 7, 16, 2, 0, 1, 12, ]\n",
    "point2 = [21, -1, 35, 17, 14, 73, -22, 33, 3, ]\n",
    "your_manhattan_distance = distance(point1, point2, c=1)\n",
    "\n",
    "check_distance(your_manhattan_distance, 203.0)"
   ]
  },
  {
   "attachments": {},
   "cell_type": "markdown",
   "metadata": {},
   "source": [
    "--------"
   ]
  },
  {
   "attachments": {},
   "cell_type": "markdown",
   "metadata": {},
   "source": [
    "Calculate the `Minkowski distance` with a `norm of 3.5` between the following points:\n",
    "\n",
    "Point 1: (-32, 47, 223.4) Point 2: (883, 34, 199.5)"
   ]
  },
  {
   "cell_type": "code",
   "execution_count": 35,
   "metadata": {},
   "outputs": [
    {
     "name": "stdout",
     "output_type": "stream",
     "text": [
      "used measurement: Minkowski\n",
      "Test passed!\n"
     ]
    }
   ],
   "source": [
    "point1 = (-32, 47, 223.4) \n",
    "point2 = (883, 34, 199.5)\n",
    "your_minkowski_distance=  distance(point1, point2, c=3.5)\n",
    "\n",
    "check_distance(your_minkowski_distance, 915.0008423267521)"
   ]
  },
  {
   "cell_type": "markdown",
   "metadata": {},
   "source": [
    "--------"
   ]
  }
 ],
 "metadata": {
  "kernelspec": {
   "display_name": "3.11.3",
   "language": "python",
   "name": "python3"
  },
  "language_info": {
   "codemirror_mode": {
    "name": "ipython",
    "version": 3
   },
   "file_extension": ".py",
   "mimetype": "text/x-python",
   "name": "python",
   "nbconvert_exporter": "python",
   "pygments_lexer": "ipython3",
   "version": "3.11.3"
  },
  "toc": {
   "base_numbering": 1,
   "nav_menu": {},
   "number_sections": true,
   "sideBar": true,
   "skip_h1_title": false,
   "title_cell": "Table of Contents",
   "title_sidebar": "Contents",
   "toc_cell": false,
   "toc_position": {},
   "toc_section_display": true,
   "toc_window_display": false
  },
  "varInspector": {
   "cols": {
    "lenName": 16,
    "lenType": 16,
    "lenVar": 40
   },
   "kernels_config": {
    "python": {
     "delete_cmd_postfix": "",
     "delete_cmd_prefix": "del ",
     "library": "var_list.py",
     "varRefreshCmd": "print(var_dic_list())"
    },
    "r": {
     "delete_cmd_postfix": ") ",
     "delete_cmd_prefix": "rm(",
     "library": "var_list.r",
     "varRefreshCmd": "cat(var_dic_list()) "
    }
   },
   "types_to_exclude": [
    "module",
    "function",
    "builtin_function_or_method",
    "instance",
    "_Feature"
   ],
   "window_display": false
  }
 },
 "nbformat": 4,
 "nbformat_minor": 2
}
