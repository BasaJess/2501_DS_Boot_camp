{
 "cells": [
  {
   "attachments": {},
   "cell_type": "markdown",
   "metadata": {},
   "source": [
    "# Distance Metrics"
   ]
  },
  {
   "attachments": {},
   "cell_type": "markdown",
   "metadata": {},
   "source": [
    "Distance metrics play an essential role in machine learning because they can be used to compare the similarity or dissimilarity of two data points. Commonly used for clustering or classification tasks,  distance-based algorithms assume that points in close proximity are more similar to each other. As the proximity of two points is defined by the distance between them, the choice of metric is of essential importance. Depending on the specific needs of your task, you can choose from a variety of different distance metrics. Most frequently used is the Euclidean, which measures the straight-line distance between two points in Euclidean space. Despite its popularity the Euclidean metric should only be used in lower dimensional space (see curse of dimensionality). For higher dimensional space other approaches like Manhattan distance or cosine similarity are more applicable. In this notebook you find an overview of common distance metrics and how to calculate them in python."
   ]
  },
  {
   "cell_type": "code",
   "execution_count": 1,
   "metadata": {
    "ExecuteTime": {
     "end_time": "2020-02-10T23:32:40.648504Z",
     "start_time": "2020-02-10T23:32:40.502054Z"
    }
   },
   "outputs": [],
   "source": [
    "# Setup\n",
    "import numpy as np"
   ]
  },
  {
   "attachments": {},
   "cell_type": "markdown",
   "metadata": {},
   "source": [
    "# Popular distance metrics\n"
   ]
  },
  {
   "attachments": {},
   "cell_type": "markdown",
   "metadata": {},
   "source": [
    "## Manhattan Distance\n"
   ]
  },
  {
   "attachments": {},
   "cell_type": "markdown",
   "metadata": {},
   "source": [
    "The Manhattan distance is the sum of absolute differences between the points' coordinates. It is measured along axes at right angles. How the path is taken does not matter, all routes lead to the same distance value.\n",
    "\n",
    "<p align=\"center\">\n",
    "  <img src=\"images/manhattan1.jpg\" alt=\"drawing\" width=\"200\"/>\n",
    "</p>"
   ]
  },
  {
   "attachments": {},
   "cell_type": "markdown",
   "metadata": {},
   "source": [
    "### Formula:\n",
    "\n",
    "$\\ Manhattan\\: Distance = \\sum_{i=1}^n |a_1,_i - a_2,_i|$\n",
    "\n",
    "$\\ Manhattan\\: Distance = \\sum_{i=1}^n side\\: length$"
   ]
  },
  {
   "attachments": {},
   "cell_type": "markdown",
   "metadata": {},
   "source": [
    "### In python code:"
   ]
  },
  {
   "cell_type": "code",
   "execution_count": 2,
   "metadata": {
    "ExecuteTime": {
     "end_time": "2020-02-10T23:32:40.653737Z",
     "start_time": "2020-02-10T23:32:40.650220Z"
    }
   },
   "outputs": [
    {
     "data": {
      "text/plain": [
       "7"
      ]
     },
     "execution_count": 2,
     "metadata": {},
     "output_type": "execute_result"
    }
   ],
   "source": [
    "# Example of Manhattan distance \n",
    "point_1 = (2, 3, 5)\n",
    "point_2 = (1, -1, 3)\n",
    "\n",
    "manhattan_distance = 0\n",
    "for i in range(3):\n",
    "    manhattan_distance += np.abs(point_1[i] - point_2[i])\n",
    "\n",
    "manhattan_distance"
   ]
  },
  {
   "attachments": {},
   "cell_type": "markdown",
   "metadata": {},
   "source": [
    "## Euclidean Distance"
   ]
  },
  {
   "attachments": {},
   "cell_type": "markdown",
   "metadata": {},
   "source": [
    "The Euclidean distance is defined as the beeline distance between two points. It is calculated from the cartesian coordinates of the points using the pythagorean theorem.\n",
    "\n",
    "<p align=\"center\">\n",
    "  <img src=\"images/euclidean2.jpg\" alt=\"drawing\" width=\"200\"/>\n",
    "</p>"
   ]
  },
  {
   "attachments": {},
   "cell_type": "markdown",
   "metadata": {},
   "source": [
    "### Formula:\n",
    "\n",
    "$\\ Euclidean\\: Distance = \\sqrt{\\sum_{i=1}^n |a_1,_i - a_2,_i|^2}$ <br>\n",
    "$\\ Euclidean\\: Distance = \\sqrt{\\sum_{i=1}^n side\\:length^2}$"
   ]
  },
  {
   "attachments": {},
   "cell_type": "markdown",
   "metadata": {},
   "source": [
    "### In python code:"
   ]
  },
  {
   "cell_type": "code",
   "execution_count": 3,
   "metadata": {
    "ExecuteTime": {
     "end_time": "2020-02-10T23:32:40.671458Z",
     "start_time": "2020-02-10T23:32:40.666093Z"
    }
   },
   "outputs": [
    {
     "name": "stdout",
     "output_type": "stream",
     "text": [
      "1\n",
      "17\n",
      "21\n"
     ]
    },
    {
     "data": {
      "text/plain": [
       "4.58257569495584"
      ]
     },
     "execution_count": 3,
     "metadata": {},
     "output_type": "execute_result"
    }
   ],
   "source": [
    "# Example of Euclidean distance\n",
    "point_1 = (2, 3, 5)\n",
    "point_2 = (1, -1, 3)\n",
    "\n",
    "euclidean_distance = 0\n",
    "for i in range(3):\n",
    "    euclidean_distance += (point_1[i] - point_2[i])**2\n",
    "    print(euclidean_distance)\n",
    "\n",
    "euclidean = np.sqrt(euclidean_distance)\n",
    "\n",
    "euclidean"
   ]
  },
  {
   "attachments": {},
   "cell_type": "markdown",
   "metadata": {},
   "source": [
    "## Minkowski distance "
   ]
  },
  {
   "attachments": {},
   "cell_type": "markdown",
   "metadata": {},
   "source": [
    "The Minkowski distance is a generalization of the Euclidean distance and can be used to calculate the distance between two points in an n-dimensional space."
   ]
  },
  {
   "attachments": {},
   "cell_type": "markdown",
   "metadata": {},
   "source": [
    "### Formula:\n",
    "\n",
    "$\\ Minkowski\\: Distance = \\sqrt[p]{\\sum_{i=1}^n |a_1,_i - a_2,_i|^p}$ <br>\n",
    "$\\ Minkowski\\: Distance = \\sqrt[p]{\\sum_{i=1}^n side\\:length^p}$"
   ]
  },
  {
   "attachments": {},
   "cell_type": "markdown",
   "metadata": {},
   "source": [
    "### In python code:"
   ]
  },
  {
   "cell_type": "code",
   "execution_count": 4,
   "metadata": {
    "ExecuteTime": {
     "end_time": "2020-02-10T23:32:40.671458Z",
     "start_time": "2020-02-10T23:32:40.666093Z"
    }
   },
   "outputs": [
    {
     "data": {
      "text/plain": [
       "4.179339196381232"
      ]
     },
     "execution_count": 4,
     "metadata": {},
     "output_type": "execute_result"
    }
   ],
   "source": [
    "# Example of Minkowski distance with 3 dimensions\n",
    "point_1 = (2, 3, 5)\n",
    "point_2 = (1, -1, 3)\n",
    "p = 3\n",
    "\n",
    "minkowski_distance = 0\n",
    "for i in range(3):\n",
    "    minkowski_distance += np.abs(point_1[i] - point_2[i])**p\n",
    "\n",
    "\n",
    "minkowski = minkowski_distance**(1/p)\n",
    "\n",
    "minkowski"
   ]
  },
  {
   "attachments": {},
   "cell_type": "markdown",
   "metadata": {},
   "source": [
    "# Overview "
   ]
  },
  {
   "attachments": {},
   "cell_type": "markdown",
   "metadata": {},
   "source": [
    "## Distance Metrics Formulas\n",
    "\n",
    "\n",
    "**Manhattan Distance is the sum of all side lengths to the first power:**\n",
    "\n",
    "$\\ Manhattan\\: Distance = \\sum_{i=1}^n |a_1,_i - a_2,_i|$\n",
    "\n",
    "$\\ Manhattan\\: Distance = \\sum_{i=1}^n side\\: length$\n",
    "\n",
    "**Euclidean Distance is the square root of the sum of all side lengths to the second power:**\n",
    "\n",
    "$\\ Euclidean\\: Distance = \\sqrt{\\sum_{i=1}^n |a_1,_i - a_2,_i|^2}$ <br>\n",
    "$\\ Euclidean\\: Distance = \\sqrt{\\sum_{i=1}^n side\\:length^2}$\n",
    "\n",
    "**Minkowski Distance with p = 3 would be the cube root of the sum of all side lengths to the third power:**\n",
    "\n",
    "$\\ Minkowski\\: Distance = \\sqrt[3]{\\sum_{i=1}^n |a_1,_i - a_2,_i|^3}$ <br>\n",
    "$\\ Minkowski\\: Distance = \\sqrt[3]{\\sum_{i=1}^n side\\:length^3}$\n",
    "\n",
    "**Minkowski Distance with p = 5:**\n",
    "\n",
    "\n",
    "$\\ Minkowski\\: Distance = \\sqrt[5]{\\sum_{i=1}^n |a_1,_i - a_2,_i|^5}$ <br>\n",
    "$\\ Minkowski\\: Distance = \\sqrt[5]{\\sum_{i=1}^n side\\:length^5}$"
   ]
  },
  {
   "cell_type": "markdown",
   "metadata": {},
   "source": []
  }
 ],
 "metadata": {
  "kernelspec": {
   "display_name": "3.11.3",
   "language": "python",
   "name": "python3"
  },
  "language_info": {
   "codemirror_mode": {
    "name": "ipython",
    "version": 3
   },
   "file_extension": ".py",
   "mimetype": "text/x-python",
   "name": "python",
   "nbconvert_exporter": "python",
   "pygments_lexer": "ipython3",
   "version": "3.11.3"
  },
  "toc": {
   "base_numbering": 1,
   "nav_menu": {},
   "number_sections": true,
   "sideBar": true,
   "skip_h1_title": false,
   "title_cell": "Table of Contents",
   "title_sidebar": "Contents",
   "toc_cell": false,
   "toc_position": {},
   "toc_section_display": true,
   "toc_window_display": false
  },
  "varInspector": {
   "cols": {
    "lenName": 16,
    "lenType": 16,
    "lenVar": 40
   },
   "kernels_config": {
    "python": {
     "delete_cmd_postfix": "",
     "delete_cmd_prefix": "del ",
     "library": "var_list.py",
     "varRefreshCmd": "print(var_dic_list())"
    },
    "r": {
     "delete_cmd_postfix": ") ",
     "delete_cmd_prefix": "rm(",
     "library": "var_list.r",
     "varRefreshCmd": "cat(var_dic_list()) "
    }
   },
   "types_to_exclude": [
    "module",
    "function",
    "builtin_function_or_method",
    "instance",
    "_Feature"
   ],
   "window_display": false
  }
 },
 "nbformat": 4,
 "nbformat_minor": 4
}
