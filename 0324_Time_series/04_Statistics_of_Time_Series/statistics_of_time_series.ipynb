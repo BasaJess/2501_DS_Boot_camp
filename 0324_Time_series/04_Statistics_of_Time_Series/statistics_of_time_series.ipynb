{
 "cells": [
  {
   "cell_type": "markdown",
   "id": "31795137",
   "metadata": {},
   "source": [
    "# Statistics of Time Series \n",
    "<hr style=\"border:2px solid black\">"
   ]
  },
  {
   "cell_type": "markdown",
   "id": "f18201bc",
   "metadata": {},
   "source": [
    "## 1. Stationarity"
   ]
  },
  {
   "cell_type": "markdown",
   "id": "0ff43f72",
   "metadata": {},
   "source": [
    "- special and often desired property of a time series  \n",
    "- underlying assumption of various time-series models\n",
    "- maybe violated, for example, by the existence of *unit root*"
   ]
  },
  {
   "cell_type": "markdown",
   "id": "82fc4e6d",
   "metadata": {},
   "source": [
    "**Load Packages**"
   ]
  },
  {
   "cell_type": "code",
   "execution_count": null,
   "id": "61ce5828",
   "metadata": {},
   "outputs": [],
   "source": [
    "# data analysis stack\n",
    "import numpy as np\n",
    "import pandas as pd\n",
    "\n",
    "# data visualization stack\n",
    "import matplotlib as mpl\n",
    "import matplotlib.pyplot as plt\n",
    "%matplotlib inline\n",
    "import seaborn as sns\n",
    "sns.set_style('whitegrid')\n",
    "\n",
    "# statistics stack\n",
    "from statsmodels.stats.diagnostic import het_white\n",
    "from statsmodels.formula.api import ols\n",
    "from statsmodels.tools.sm_exceptions import InterpolationWarning\n",
    "\n",
    "# miscellaneous\n",
    "import warnings\n",
    "warnings.simplefilter('ignore')"
   ]
  },
  {
   "cell_type": "markdown",
   "id": "3852d94c",
   "metadata": {},
   "source": [
    "### 1.1 (Weak) Stationarity\n",
    "\n",
    ">- statistical properties of series do not depend on the timestep \n",
    ">- expectation, variance and autocorrelations do not change over time:\n",
    ">\n",
    ">$$\n",
    "E(y_t)=E(y)=\\mu,\n",
    "\\quad V(y_t)=V(y)=\\sigma²,\n",
    "\\quad corr(y_t,y_{t-h})=c_h\n",
    "$$\n",
    ">\n",
    ">- in the long run, a stationary time series is not predictible"
   ]
  },
  {
   "cell_type": "markdown",
   "id": "730466f9",
   "metadata": {},
   "source": [
    "**Example:**\n",
    "> $y_t = 0.1 + 0.1\\,y_{t-1} + \\epsilon_t$"
   ]
  },
  {
   "cell_type": "code",
   "execution_count": null,
   "id": "4dc496fd",
   "metadata": {},
   "outputs": [],
   "source": [
    "def white_noise(number_of_terms):\n",
    "    np.random.seed(0)\n",
    "    noise_terms = np.random.randn(number_of_terms)\n",
    "    return noise_terms"
   ]
  },
  {
   "cell_type": "code",
   "execution_count": null,
   "id": "a4c2d2d7",
   "metadata": {},
   "outputs": [],
   "source": [
    "y = 0.1\n",
    "weak_stationary_data = []\n",
    "\n",
    "for t in range(200):\n",
    "    y =  0.1 + 0.1 * y\n",
    "    weak_stationary_data.append(y)\n",
    "    \n",
    "weak_stationary_data += 0.1 * white_noise(200)\n",
    "weak_stationary_data = pd.Series(weak_stationary_data)"
   ]
  },
  {
   "cell_type": "code",
   "execution_count": null,
   "id": "a5af85c2",
   "metadata": {},
   "outputs": [],
   "source": [
    "mpl.rc('figure',figsize=(12,3),dpi=200)\n",
    "weak_stationary_data.plot();"
   ]
  },
  {
   "cell_type": "markdown",
   "id": "448f8bd2",
   "metadata": {},
   "source": [
    "### 1.2 Difference Stationarity\n",
    "\n",
    "- series is stationary up to a differencing"
   ]
  },
  {
   "cell_type": "markdown",
   "id": "a4c470c4",
   "metadata": {},
   "source": [
    "**Example:**\n",
    "> $y_t = 2.0 + 1.0\\,y_{t-1} + \\epsilon_t$"
   ]
  },
  {
   "cell_type": "code",
   "execution_count": null,
   "id": "35fd6dab",
   "metadata": {},
   "outputs": [],
   "source": [
    "y = 0.0\n",
    "difference_stationary_data = []\n",
    "\n",
    "for t in range(200):\n",
    "    y = 2.0 + 1.0 * y\n",
    "    difference_stationary_data.append(y)\n",
    "\n",
    "difference_stationary_data += 10 * white_noise(200)\n",
    "difference_stationary_data = pd.Series(difference_stationary_data)"
   ]
  },
  {
   "cell_type": "code",
   "execution_count": null,
   "id": "886979d1",
   "metadata": {},
   "outputs": [],
   "source": [
    "mpl.rc('figure',figsize=(12,3),dpi=200)\n",
    "difference_stationary_data.plot();"
   ]
  },
  {
   "cell_type": "markdown",
   "id": "0089b784",
   "metadata": {},
   "source": [
    "### 1.3 Trend Stationarity\n",
    "\n",
    "- series is stationary up to a deterministic trend"
   ]
  },
  {
   "cell_type": "markdown",
   "id": "e501b6e2",
   "metadata": {},
   "source": [
    "**Example:**\n",
    "> $y_t = 1.0 - e^{-0.01t} + \\epsilon_t$"
   ]
  },
  {
   "cell_type": "code",
   "execution_count": null,
   "id": "cc65e0c1",
   "metadata": {},
   "outputs": [],
   "source": [
    "trend_stationary_data = [ 1.0 - np.exp(-0.01*t) for t in range(200)]\n",
    "trend_stationary_data += 0.05 * white_noise(200)\n",
    "trend_stationary_data = pd.Series(trend_stationary_data)"
   ]
  },
  {
   "cell_type": "code",
   "execution_count": null,
   "id": "d730adf2",
   "metadata": {},
   "outputs": [],
   "source": [
    "mpl.rc('figure',figsize=(12,3),dpi=200)\n",
    "trend_stationary_data.plot();"
   ]
  },
  {
   "cell_type": "markdown",
   "id": "b3213ed8",
   "metadata": {},
   "source": [
    "### 1.4 Seasonal Stationarity\n",
    "\n",
    "- series is stationary up to a seasonality"
   ]
  },
  {
   "cell_type": "markdown",
   "id": "a7b2b0dc",
   "metadata": {},
   "source": [
    "**Example:**\n",
    "> $y_t = 0.1\\,\\sin(0.1\\pi t) + \\epsilon_t$"
   ]
  },
  {
   "cell_type": "code",
   "execution_count": null,
   "id": "4331b41e",
   "metadata": {},
   "outputs": [],
   "source": [
    "seasonal_stationary_data = [ 0.1*np.sin(0.1*np.pi*t) for t in range(200)]\n",
    "seasonal_stationary_data += 0.02 * white_noise(200)\n",
    "seasonal_stationary_data = pd.Series(seasonal_stationary_data)"
   ]
  },
  {
   "cell_type": "code",
   "execution_count": null,
   "id": "18e5d685",
   "metadata": {},
   "outputs": [],
   "source": [
    "mpl.rc('figure',figsize=(12,3),dpi=200)\n",
    "seasonal_stationary_data.plot();"
   ]
  },
  {
   "cell_type": "markdown",
   "id": "31ca4ed8",
   "metadata": {},
   "source": [
    "### 1.5 Heteroscedasticity\n",
    "\n",
    "- series has non-constant variance (non-stationary)"
   ]
  },
  {
   "cell_type": "markdown",
   "id": "4d7ae7f2",
   "metadata": {},
   "source": [
    "**Example:**\n",
    "> $y_t = 2.0 + 100\\, t^2\\,\\epsilon_t$"
   ]
  },
  {
   "cell_type": "code",
   "execution_count": null,
   "id": "09830b66",
   "metadata": {},
   "outputs": [],
   "source": [
    "heteroscedastic_data = [ (100 * t**2) for t in range(200)] * white_noise(200)\n",
    "heteroscedastic_data += 2.0 \n",
    "heteroscedastic_data = pd.Series(heteroscedastic_data)"
   ]
  },
  {
   "cell_type": "code",
   "execution_count": null,
   "id": "c7cc9e49",
   "metadata": {},
   "outputs": [],
   "source": [
    "mpl.rc('figure',figsize=(12,3),dpi=200)\n",
    "pd.Series(heteroscedastic_data).plot();"
   ]
  },
  {
   "cell_type": "markdown",
   "id": "5eb3b41b",
   "metadata": {},
   "source": [
    "<hr style=\"border:2px solid black\">"
   ]
  },
  {
   "cell_type": "markdown",
   "id": "9382c528",
   "metadata": {},
   "source": [
    "## 2. Stationarity Tests"
   ]
  },
  {
   "cell_type": "markdown",
   "id": "a2052562",
   "metadata": {},
   "source": [
    "### 2.1 Hypothesis Testing"
   ]
  },
  {
   "cell_type": "markdown",
   "id": "30135ba9",
   "metadata": {},
   "source": [
    "- statistical analysis that uses sample data to assess two mutually exclusive theories about population\n",
    "- computes sample statistic and factors in estimates of sampling error to support one of the theories"
   ]
  },
  {
   "cell_type": "markdown",
   "id": "fba03a48",
   "metadata": {},
   "source": [
    "**`null hypothesis`**\n",
    "\n",
    ">- one of the two two mutually exclusive theories in hypothesis testing\n",
    ">- typically, it states that there is no effect"
   ]
  },
  {
   "cell_type": "markdown",
   "id": "2c6dc78d",
   "metadata": {},
   "source": [
    "**`alternative hypothesis`**\n",
    "\n",
    ">- complementary theory to null hypothesis\n",
    ">- typically, it states that population parameter does not equal to null hypothesis value"
   ]
  },
  {
   "cell_type": "markdown",
   "id": "01d5ecaf",
   "metadata": {},
   "source": [
    "**`p-value`**\n",
    "\n",
    ">- metric in test of hypothesis\n",
    ">- probability of obtaining test results at least as extreme as the result actually observed\n",
    ">- small $p$-value significant: null hypothesis unlikely\n",
    ">- the critical values of 0.05 (CI 95%) or 0.003 (CI 99%) are typical for $p$-value "
   ]
  },
  {
   "cell_type": "markdown",
   "id": "23a5229d",
   "metadata": {},
   "source": [
    "**guidelines for using the p-value**\n",
    "\n",
    ">|       p-value      |evidence against null hypothesis|\n",
    " |:------------------:|:------------------------------:|\n",
    " |     $$p>0.10$$     |       weak or no evidence      |\n",
    " | $$0.05<p\\leq0.10$$ |        moderate evidence       |\n",
    " | $$0.01<p\\leq0.05$$ |         strong evidence        |\n",
    " |    $$p\\leq0.01$$   |       very strong evidence     |\n"
   ]
  },
  {
   "cell_type": "markdown",
   "id": "56451295",
   "metadata": {},
   "source": [
    "### 2.2 Tools for Stationarity Test"
   ]
  },
  {
   "cell_type": "markdown",
   "id": "03a41eb4",
   "metadata": {},
   "source": [
    "**Augmented Dickey-Fuller (ADF)** \n",
    "\n",
    ">- null hypothesis: unit root exists (non-stationary)\n",
    ">- leaves room for difference stationarity and seasonality"
   ]
  },
  {
   "cell_type": "markdown",
   "id": "3de3de85",
   "metadata": {},
   "source": [
    "[`adfuller`](https://www.statsmodels.org/dev/generated/statsmodels.tsa.stattools.adfuller.html)"
   ]
  },
  {
   "cell_type": "code",
   "execution_count": null,
   "id": "8ab1c0fc",
   "metadata": {},
   "outputs": [],
   "source": [
    "from statsmodels.tsa.stattools import adfuller"
   ]
  },
  {
   "cell_type": "markdown",
   "id": "428f8adc",
   "metadata": {},
   "source": [
    "**Kwiatkowski–Phillips–Schmidt–Shin (KPSS)**\n",
    "\n",
    ">- null hypothesis: stationary up to a deterministic trend\n",
    ">- often complements ADF in stationarity test "
   ]
  },
  {
   "cell_type": "markdown",
   "id": "1ab5a778",
   "metadata": {},
   "source": [
    "[`kpss`](https://www.statsmodels.org/dev/generated/statsmodels.tsa.stattools.kpss.html)"
   ]
  },
  {
   "cell_type": "code",
   "execution_count": null,
   "id": "8cfd67b7",
   "metadata": {},
   "outputs": [],
   "source": [
    "from statsmodels.tsa.stattools import kpss"
   ]
  },
  {
   "cell_type": "markdown",
   "id": "ce45aed5",
   "metadata": {},
   "source": [
    "**homoscedasticity test**"
   ]
  },
  {
   "cell_type": "code",
   "execution_count": null,
   "id": "ed4d9802",
   "metadata": {},
   "outputs": [],
   "source": [
    "def white_homoscedasticity_test(series):\n",
    "    \"\"\"\n",
    "    returns p-value for White's homoscedasticity test\n",
    "    \"\"\"\n",
    "    series = series.reset_index(drop=True).reset_index()\n",
    "    series.columns = ['time', 'value']\n",
    "    series['time'] += 1\n",
    "    \n",
    "    olsr = ols('value ~ time', series).fit()\n",
    "    p_value = het_white(olsr.resid, olsr.model.exog)[1]\n",
    "    \n",
    "    return round(p_value,6)"
   ]
  },
  {
   "cell_type": "markdown",
   "id": "eb30cb57",
   "metadata": {},
   "source": [
    "**stationarity test p-values**"
   ]
  },
  {
   "cell_type": "code",
   "execution_count": null,
   "id": "f280865f",
   "metadata": {},
   "outputs": [],
   "source": [
    "def p_values(series):\n",
    "    \"\"\"\n",
    "    returns p-values for ADF and KPSS Tests on a time series\n",
    "    \"\"\"\n",
    "    # p value from Augmented Dickey-Fuller (ADF) Test\n",
    "    p_adf = adfuller(series, autolag=\"AIC\")[1]\n",
    "    \n",
    "    # p value from Kwiatkowski–Phillips–Schmidt–Shin (KPSS) Test\n",
    "    p_kpss = kpss(series, regression=\"c\", nlags=\"auto\")[1]\n",
    "    \n",
    "    return round(p_adf,6), round(p_kpss,6)"
   ]
  },
  {
   "cell_type": "markdown",
   "id": "21aba60f",
   "metadata": {},
   "source": [
    "**function for stationarity test**"
   ]
  },
  {
   "cell_type": "code",
   "execution_count": null,
   "id": "f80c502a",
   "metadata": {},
   "outputs": [],
   "source": [
    "def test_stationarity(series):\n",
    "    \"\"\"\n",
    "    returns likely conclusions about series stationarity\n",
    "    \"\"\"\n",
    "    # test homoscedasticity\n",
    "    p_white = white_homoscedasticity_test(series)\n",
    "    \n",
    "    if p_white < 0.05:\n",
    "        print(f\"\\n non-stationary: heteroscedastic (White test p-value: {p_white}) \\n\")\n",
    "    \n",
    "    # test stationarity\n",
    "    else:\n",
    "        p_adf, p_kpss = p_values(series)\n",
    "        \n",
    "        # print p-values\n",
    "        print( f\"\\n p_adf: {p_adf}, p_kpss: {p_kpss}\" )\n",
    "    \n",
    "        if (p_adf < 0.05) and (p_kpss >= 0.05):\n",
    "            print('\\n stationary or seasonal-stationary')\n",
    "            \n",
    "        elif (p_adf >= 0.1) and (p_kpss < 0.05):\n",
    "            print('\\n difference-stationary')\n",
    "            \n",
    "        elif (p_adf < 0.1) and (p_kpss < 0.05):\n",
    "            print('\\n trend-stationary')\n",
    "        \n",
    "        else:\n",
    "            print('\\n non-stationary; no robust conclusions\\n')"
   ]
  },
  {
   "cell_type": "markdown",
   "id": "115c9e5d",
   "metadata": {},
   "source": [
    "### 2.3 Test Cases"
   ]
  },
  {
   "cell_type": "markdown",
   "id": "dad4e5d1",
   "metadata": {},
   "source": [
    "**weakly stationary series**"
   ]
  },
  {
   "cell_type": "code",
   "execution_count": null,
   "id": "8727d489",
   "metadata": {
    "scrolled": true
   },
   "outputs": [],
   "source": [
    "test_stationarity(weak_stationary_data)"
   ]
  },
  {
   "cell_type": "markdown",
   "id": "6ced2a47",
   "metadata": {},
   "source": [
    "**difference-stationary series**"
   ]
  },
  {
   "cell_type": "code",
   "execution_count": null,
   "id": "28612a4e",
   "metadata": {},
   "outputs": [],
   "source": [
    "test_stationarity(difference_stationary_data)"
   ]
  },
  {
   "cell_type": "markdown",
   "id": "99fe0e7e",
   "metadata": {},
   "source": [
    "**trend-stationary series**"
   ]
  },
  {
   "cell_type": "code",
   "execution_count": null,
   "id": "8a56bb2f",
   "metadata": {},
   "outputs": [],
   "source": [
    "test_stationarity(trend_stationary_data)"
   ]
  },
  {
   "cell_type": "markdown",
   "id": "a0e7e7d4",
   "metadata": {},
   "source": [
    "**seasonal stationary series**"
   ]
  },
  {
   "cell_type": "code",
   "execution_count": null,
   "id": "75aac158",
   "metadata": {},
   "outputs": [],
   "source": [
    "test_stationarity(seasonal_stationary_data)"
   ]
  },
  {
   "cell_type": "markdown",
   "id": "bdc4dc31",
   "metadata": {},
   "source": [
    "**heteroscedastic series**"
   ]
  },
  {
   "cell_type": "code",
   "execution_count": null,
   "id": "1d979b9b",
   "metadata": {
    "scrolled": true
   },
   "outputs": [],
   "source": [
    "test_stationarity(heteroscedastic_data)"
   ]
  },
  {
   "cell_type": "markdown",
   "id": "5c2c5d79",
   "metadata": {},
   "source": [
    "<hr style=\"border:2px solid black\">"
   ]
  },
  {
   "cell_type": "markdown",
   "id": "2a9d03fb",
   "metadata": {},
   "source": [
    "## 3. [Box-Jenkins Methods](https://www.itl.nist.gov/div898/handbook/pmc/section4/pmc446.htm)"
   ]
  },
  {
   "cell_type": "markdown",
   "id": "e69e67da",
   "metadata": {},
   "source": [
    "- methods for time-series model selection\n",
    "- based on ACF and PACF plots\n",
    "- underlying assumption of weak stationarity"
   ]
  },
  {
   "cell_type": "markdown",
   "id": "c6d15718",
   "metadata": {},
   "source": [
    "**(Partial) Autocorrelation Function (ACF & PACF)**"
   ]
  },
  {
   "cell_type": "code",
   "execution_count": null,
   "id": "89c2fe57",
   "metadata": {},
   "outputs": [],
   "source": [
    "# function provided by statsmodels\n",
    "from statsmodels.graphics.tsaplots import plot_acf, plot_pacf"
   ]
  },
  {
   "cell_type": "code",
   "execution_count": null,
   "id": "b70c2263",
   "metadata": {},
   "outputs": [],
   "source": [
    "def auto_correlation_plot(series):\n",
    "    \"\"\"\n",
    "    plots autocorrelations for a given series\n",
    "    \"\"\"\n",
    "    mpl.rc('figure',figsize=(10,2),dpi=200)\n",
    "    plot_acf(series,zero=False,lags=25)\n",
    "    plt.xlabel('number of lags')\n",
    "    plt.ylabel('autocorrelation')"
   ]
  },
  {
   "cell_type": "code",
   "execution_count": null,
   "id": "0766a9cb",
   "metadata": {},
   "outputs": [],
   "source": [
    "def partial_auto_correlation_plot(series):\n",
    "    \"\"\"\n",
    "    plots partial autocorrelations for a given series\n",
    "    \"\"\"\n",
    "    mpl.rc('figure',figsize=(10,2),dpi=200)\n",
    "    plot_pacf(series,zero=False,lags=25)\n",
    "    plt.xlabel('number of lags')\n",
    "    plt.ylabel('partial autocorrelation')"
   ]
  },
  {
   "cell_type": "markdown",
   "id": "475da82c",
   "metadata": {},
   "source": [
    "### 3.1 White Noise"
   ]
  },
  {
   "cell_type": "code",
   "execution_count": null,
   "id": "28d7aec3",
   "metadata": {},
   "outputs": [],
   "source": [
    "data = white_noise(200)"
   ]
  },
  {
   "cell_type": "markdown",
   "id": "595bc3a6",
   "metadata": {},
   "source": [
    "**autocorrelation plot**"
   ]
  },
  {
   "cell_type": "code",
   "execution_count": null,
   "id": "33d4b193",
   "metadata": {},
   "outputs": [],
   "source": [
    "auto_correlation_plot(data)"
   ]
  },
  {
   "cell_type": "markdown",
   "id": "1a984031",
   "metadata": {},
   "source": [
    "**partial autocorrelation plot**"
   ]
  },
  {
   "cell_type": "code",
   "execution_count": null,
   "id": "c6374d3c",
   "metadata": {},
   "outputs": [],
   "source": [
    "partial_auto_correlation_plot(data)"
   ]
  },
  {
   "cell_type": "markdown",
   "id": "9ae249ca",
   "metadata": {},
   "source": [
    "### 3.2 Non-Stationary Data"
   ]
  },
  {
   "cell_type": "code",
   "execution_count": null,
   "id": "f38e6144",
   "metadata": {},
   "outputs": [],
   "source": [
    "data = heteroscedastic_data"
   ]
  },
  {
   "cell_type": "markdown",
   "id": "8263e9e5",
   "metadata": {},
   "source": [
    "**autocorrelation plot**"
   ]
  },
  {
   "cell_type": "code",
   "execution_count": null,
   "id": "42167b35",
   "metadata": {},
   "outputs": [],
   "source": [
    "auto_correlation_plot(data)"
   ]
  },
  {
   "cell_type": "markdown",
   "id": "72436157",
   "metadata": {},
   "source": [
    "**partial autocorrelation plot**"
   ]
  },
  {
   "cell_type": "code",
   "execution_count": null,
   "id": "d409dfa2",
   "metadata": {},
   "outputs": [],
   "source": [
    "partial_auto_correlation_plot(data)"
   ]
  },
  {
   "cell_type": "markdown",
   "id": "a25a813f",
   "metadata": {},
   "source": [
    "### 3.3 Seasonal Data"
   ]
  },
  {
   "cell_type": "code",
   "execution_count": null,
   "id": "50101832",
   "metadata": {},
   "outputs": [],
   "source": [
    "data = seasonal_stationary_data"
   ]
  },
  {
   "cell_type": "markdown",
   "id": "e29ddecd",
   "metadata": {},
   "source": [
    "**autocorrelation plot**"
   ]
  },
  {
   "cell_type": "code",
   "execution_count": null,
   "id": "400f6a29",
   "metadata": {},
   "outputs": [],
   "source": [
    "auto_correlation_plot(data)"
   ]
  },
  {
   "cell_type": "markdown",
   "id": "6418984d",
   "metadata": {},
   "source": [
    "**partial autocorrelation plot**"
   ]
  },
  {
   "cell_type": "code",
   "execution_count": null,
   "id": "9a66d717",
   "metadata": {},
   "outputs": [],
   "source": [
    "partial_auto_correlation_plot(data)"
   ]
  },
  {
   "cell_type": "markdown",
   "id": "892be7b1",
   "metadata": {},
   "source": [
    "### 3.4 AR(p) Model"
   ]
  },
  {
   "cell_type": "code",
   "execution_count": null,
   "id": "27496aac",
   "metadata": {},
   "outputs": [],
   "source": [
    "# import module for simulating data\n",
    "from statsmodels.tsa.arima_process import ArmaProcess\n",
    "\n",
    "def arma_model(ar_coef=[], ma_coef=[]):\n",
    "    \"\"\"\n",
    "    generates sample data for AR, MA, and ARMA processes\n",
    "    \"\"\"\n",
    "    np.random.seed(12345)\n",
    "    ar = np.array([1] + [-c for c in ar_coef])\n",
    "    ma = np.array([1] + ma_coef)\n",
    "    data = ArmaProcess(ar,ma).generate_sample(nsample=200)\n",
    "    return data"
   ]
  },
  {
   "cell_type": "code",
   "execution_count": null,
   "id": "9a9e2532",
   "metadata": {},
   "outputs": [],
   "source": [
    "# generate sample data for the AR (1) model: \n",
    "# y_t = 0.75 y_{t-1} + epsilon\n",
    "#ar_data = arma_model(ar_coef=[0.75])\n",
    "\n",
    "# generate sample data for the AR (2) model: \n",
    "# y_t = 0.75 y_{t-1} - 0.25 y_{t-2} + epsilon\n",
    "ar_data = arma_model(ar_coef=[0.75,-0.25])"
   ]
  },
  {
   "cell_type": "markdown",
   "id": "3910e463",
   "metadata": {},
   "source": [
    "**autocorrelation plot**"
   ]
  },
  {
   "cell_type": "code",
   "execution_count": null,
   "id": "37594fcc",
   "metadata": {
    "scrolled": true
   },
   "outputs": [],
   "source": [
    "auto_correlation_plot(ar_data)"
   ]
  },
  {
   "cell_type": "markdown",
   "id": "a33f9c99",
   "metadata": {},
   "source": [
    "**partial autocorrelation plot**"
   ]
  },
  {
   "cell_type": "code",
   "execution_count": null,
   "id": "4f7b763d",
   "metadata": {},
   "outputs": [],
   "source": [
    "partial_auto_correlation_plot(ar_data)"
   ]
  },
  {
   "cell_type": "markdown",
   "id": "ca1cc7e1",
   "metadata": {},
   "source": [
    "### 3.5 MA(q) Model"
   ]
  },
  {
   "cell_type": "code",
   "execution_count": null,
   "id": "2bbb4e80",
   "metadata": {},
   "outputs": [],
   "source": [
    "# MA(1) model\n",
    "# ma_data = arma_model(ma_coef=[0.65])\n",
    "\n",
    "# MA(2) model\n",
    "ma_data = arma_model(ma_coef=[0.65,0.35])"
   ]
  },
  {
   "cell_type": "markdown",
   "id": "f9e2a18a",
   "metadata": {},
   "source": [
    "**autocorrelation plot**"
   ]
  },
  {
   "cell_type": "code",
   "execution_count": null,
   "id": "cd4ea639",
   "metadata": {
    "scrolled": true
   },
   "outputs": [],
   "source": [
    "auto_correlation_plot(ma_data)"
   ]
  },
  {
   "cell_type": "markdown",
   "id": "187c6f54",
   "metadata": {},
   "source": [
    "**partial autocorrelation plot**"
   ]
  },
  {
   "cell_type": "code",
   "execution_count": null,
   "id": "972bef09",
   "metadata": {},
   "outputs": [],
   "source": [
    "partial_auto_correlation_plot(ma_data)"
   ]
  },
  {
   "cell_type": "markdown",
   "id": "fb3fd923",
   "metadata": {},
   "source": [
    "### 3.6 ARMA(p,q) Model"
   ]
  },
  {
   "cell_type": "code",
   "execution_count": null,
   "id": "7ebca408",
   "metadata": {},
   "outputs": [],
   "source": [
    "# ARMA(1,1) model\n",
    "arma_data = arma_model(ar_coef=[0.75],ma_coef=[0.65])"
   ]
  },
  {
   "cell_type": "markdown",
   "id": "3dbc4fb0",
   "metadata": {},
   "source": [
    "**autocorrelation plot**"
   ]
  },
  {
   "cell_type": "code",
   "execution_count": null,
   "id": "68eb52c5",
   "metadata": {
    "scrolled": true
   },
   "outputs": [],
   "source": [
    "auto_correlation_plot(arma_data)"
   ]
  },
  {
   "cell_type": "markdown",
   "id": "d31e908f",
   "metadata": {},
   "source": [
    "**partial autocorrelation plot**"
   ]
  },
  {
   "cell_type": "code",
   "execution_count": null,
   "id": "c46725c9",
   "metadata": {},
   "outputs": [],
   "source": [
    "partial_auto_correlation_plot(arma_data)"
   ]
  },
  {
   "cell_type": "markdown",
   "id": "bdd20300",
   "metadata": {},
   "source": [
    "<hr style=\"border:2px solid black\">"
   ]
  },
  {
   "cell_type": "markdown",
   "id": "5e869fce",
   "metadata": {},
   "source": [
    "## Additional Topics"
   ]
  },
  {
   "cell_type": "markdown",
   "id": "cceb9de2",
   "metadata": {},
   "source": [
    "`pip install pmdarima`\n",
    "- ARIMA estimators for Python"
   ]
  },
  {
   "cell_type": "code",
   "execution_count": null,
   "id": "67241d66",
   "metadata": {},
   "outputs": [],
   "source": [
    "import pmdarima as pm"
   ]
  },
  {
   "cell_type": "code",
   "execution_count": null,
   "id": "3df837ad",
   "metadata": {},
   "outputs": [],
   "source": [
    "model = pm.auto_arima(\n",
    "    arma_data, \n",
    "    start_p=0,\n",
    "    max_p=2,\n",
    "    seasonality = False,\n",
    "    stationarity = True,\n",
    "    trace = True,\n",
    "    n_jobs=-1\n",
    ")"
   ]
  },
  {
   "cell_type": "markdown",
   "id": "bbfe23c1",
   "metadata": {},
   "source": [
    "### `Akaike Information Criterion (AIC)`"
   ]
  },
  {
   "cell_type": "markdown",
   "id": "37a0d747",
   "metadata": {},
   "source": [
    "- smart metric taking care of both over- and underfitting\n",
    "- relative comparison of models; the lower the AIC, the better"
   ]
  },
  {
   "cell_type": "markdown",
   "id": "2b19176f",
   "metadata": {},
   "source": [
    "**AIC formula**\n",
    "\n",
    ">$$\n",
    "\\text{AIC} = 2k - 2\\log\\hat{L}\n",
    "$$\n",
    ">\n",
    ">- $k =$ number of estimated parameters in the model; penalizes overfitting\n",
    ">- $\\hat{L} = $ maximum value of the likelihood function for the model; penalizes underfitting"
   ]
  },
  {
   "cell_type": "markdown",
   "id": "ce60917c",
   "metadata": {},
   "source": [
    "<hr style=\"border:2px solid black\">"
   ]
  },
  {
   "cell_type": "markdown",
   "id": "37ac9b12",
   "metadata": {},
   "source": [
    "## References\n",
    "\n",
    "- Forecasting: Principles and Practice, R. J. Hyndman & G. Athanasopoulos,\n",
    "[OTexts Free Online Book](https://otexts.com/fpp3/)\n",
    "- [Time Series Talk : Stationarity](https://www.youtube.com/watch?v=oY-j2Wof51c)\n",
    "- [Detecting stationarity in time series data](https://towardsdatascience.com/detecting-stationarity-in-time-series-data-d29e0a21e638)\n",
    "- [Unit Roots : Time Series Talk](https://www.youtube.com/watch?v=ugOvehrTRRw)\n",
    "- [Time Series Talk : Augmented Dickey Fuller Test](https://www.youtube.com/watch?v=1opjnegd_hA)\n",
    "- [Box-Jenkins Model Identification](https://www.itl.nist.gov/div898/handbook/pmc/section4/pmc446.htm)\n",
    "- [The Critical Value and the p-Value Approach to Hypothesis Testing](https://www.geo.fu-berlin.de/en/v/soga/Basics-of-statistics/Hypothesis-Tests/Introduction-to-Hypothesis-Testing/Critical-Value-and-the-p-Value-Approach/index.html)"
   ]
  },
  {
   "cell_type": "code",
   "execution_count": null,
   "id": "a5056cc5",
   "metadata": {},
   "outputs": [],
   "source": []
  }
 ],
 "metadata": {
  "kernelspec": {
   "display_name": "Python 3 (ipykernel)",
   "language": "python",
   "name": "python3"
  },
  "language_info": {
   "codemirror_mode": {
    "name": "ipython",
    "version": 3
   },
   "file_extension": ".py",
   "mimetype": "text/x-python",
   "name": "python",
   "nbconvert_exporter": "python",
   "pygments_lexer": "ipython3",
   "version": "3.11.3"
  }
 },
 "nbformat": 4,
 "nbformat_minor": 5
}
