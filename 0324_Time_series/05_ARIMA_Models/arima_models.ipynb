{
 "cells": [
  {
   "cell_type": "markdown",
   "id": "08c1d846",
   "metadata": {},
   "source": [
    "# ARIMA Models\n",
    "<hr style=\"border:2px solid black\">"
   ]
  },
  {
   "cell_type": "markdown",
   "id": "2c35e4be",
   "metadata": {},
   "source": [
    "## 1. Model Definitions"
   ]
  },
  {
   "cell_type": "markdown",
   "id": "cfcafae3",
   "metadata": {},
   "source": [
    "### 1.1 AR Model Recap\n",
    "\n",
    ">- Auto-Regressive model with hyperparameter $p$"
   ]
  },
  {
   "cell_type": "markdown",
   "id": "69bc2d64",
   "metadata": {},
   "source": [
    "In an autoregressive model, one models the present value of a variable by looking at the past values of the same variable:\n",
    "\n",
    ">$$\n",
    "y_{t} ~=~ c + (\\phi_{1}y_{t-1}+\\phi_{2}y_{t-2}+\\ldots+\\phi_{p}y_{t-p}) + \\epsilon_t\n",
    "$$ \n",
    ">\n",
    ">where we have an AR($p$) model, with\n",
    ">- $t$ the current timestep\n",
    ">- $c$ the *bias/intercept* \n",
    ">- $\\phi_j$’s the *weights* of the model\n",
    ">- $\\epsilon$ the *error*; some *independent and identically distributed (iid) noise*\n",
    ">- $p$ the number of lags to use, called the *order* of the model, is a hyperparameter to be chosen"
   ]
  },
  {
   "cell_type": "markdown",
   "id": "88c215bb",
   "metadata": {},
   "source": [
    "**Backshift Operator *B***\n",
    ">$y_{t-1}=By_t,\\qquad y_{t-2}=By_{t-1}=B²y_t,\\quad\\cdots,\\quad y_{t-p}=B^py_t$"
   ]
  },
  {
   "cell_type": "markdown",
   "id": "953e0fef",
   "metadata": {},
   "source": [
    "**AR(*p*) model**\n",
    "\n",
    ">$$\n",
    "y_{t}~=~c + \\left(\\phi_{1}B+\\phi_{2}B^2+\\cdots+\\phi_{p}B^p\\right)y_{t}+\\epsilon_t\n",
    "$$ \n",
    ">or\n",
    ">$$\n",
    "\\left(1-\\phi_{1}B-\\phi_{2}B^2-\\cdots-\\phi_{p}B^p\\right)y_{t}~=~c + \\epsilon_t\n",
    "$$"
   ]
  },
  {
   "cell_type": "markdown",
   "id": "52d188ae",
   "metadata": {},
   "source": [
    "***Q: Is AR model the best one can do?***"
   ]
  },
  {
   "cell_type": "markdown",
   "id": "6eb749ed",
   "metadata": {},
   "source": [
    "### 1.2 MA Model\n",
    "\n",
    ">- Moving Average model with hyperparameter $q$\n",
    ">- given by linear combinations of present and past error terms"
   ]
  },
  {
   "cell_type": "markdown",
   "id": "c1792d6f",
   "metadata": {},
   "source": [
    "**MA(1) model**\n",
    "\n",
    "> present value of a variable modeled by present and last step's error terms:\n",
    ">\n",
    ">$$ \n",
    "y_{t}~=~c - \\theta_1\\epsilon_{t-1} + \\epsilon_t\n",
    "$$ \n",
    ">\n",
    ">or\n",
    ">$$ \n",
    "y_{t}~=~c + \\left(1-\\theta_{1}B\\right)\\epsilon_t\n",
    "$$ "
   ]
  },
  {
   "cell_type": "markdown",
   "id": "51adebc2",
   "metadata": {},
   "source": [
    "**MA(2) model**\n",
    "\n",
    ">$$ \n",
    "y_{t}~=~c - \\theta_1\\epsilon_{t-1} - \\theta_2\\epsilon_{t-2} + \\epsilon_t\n",
    "$$ \n",
    ">\n",
    ">or\n",
    ">$$ \n",
    "y_{t}~=~c + \\left(1-\\theta_{1}B-\\theta_{2}B^{2}\\right)\\epsilon_t\n",
    "$$ "
   ]
  },
  {
   "cell_type": "markdown",
   "id": "7b745dd3",
   "metadata": {},
   "source": [
    "**MA(q) model**\n",
    "\n",
    ">$$ \n",
    "y_{t}~=~c - \\theta_1\\epsilon_{t-1} -\\cdots- \\theta_q\\epsilon_{t-q} + \\epsilon_t\n",
    "$$ \n",
    ">\n",
    ">or\n",
    ">$$ \n",
    "y_{t}~=~c + \\left(1-\\theta_{1}B-\\cdots- \\theta_q B^q\\right)\\epsilon_t\n",
    "$$"
   ]
  },
  {
   "cell_type": "markdown",
   "id": "cad84595",
   "metadata": {},
   "source": [
    "### 1.3 ARMA Model\n",
    "\n",
    "\n",
    ">- Auto-Regressive Moving Average model with hyperparameters $p$ and $q$\n",
    ">- given by linear combinations of past values as well as present and past error terms"
   ]
  },
  {
   "cell_type": "markdown",
   "id": "a5b3050d",
   "metadata": {},
   "source": [
    "**ARMA (1, 1)**\n",
    "\n",
    ">$$\n",
    "y_{t}~=~c +\\phi_{1}y_{t-1} - \\theta_1\\epsilon_{t-1} + \\epsilon_t,\n",
    "$$\n",
    ">\n",
    ">or\n",
    ">$$\n",
    "\\underbrace{\\left(1-\\phi_{1}B\\right)}_{AR(1)}\\,y_{t}~=~\n",
    "c + \\underbrace{\\left(1-\\theta_{1}B\\right)}_{MA(1)}\\,\\epsilon_t,\n",
    "$$ "
   ]
  },
  {
   "cell_type": "markdown",
   "id": "30c679fc",
   "metadata": {},
   "source": [
    "**ARMA (p, q)**\n",
    "\n",
    "One models the present value of a variable by looking at the past values of the same variable as well as the past errors:\n",
    "\n",
    ">$$\n",
    "\\underbrace{\\left(1-\\phi_{1}B-\\cdots-\\phi_{p}B^p\\right)}_{AR(p)}y_{t}~=~\n",
    "c + \\underbrace{\\left(1-\\theta_{1}B-\\cdots-\\theta_{q}B^q\\right)}_{MA(q)}\\epsilon_t,\n",
    "$$ "
   ]
  },
  {
   "cell_type": "markdown",
   "id": "a54f760f",
   "metadata": {},
   "source": [
    "### 1.4 I Model\n",
    "\n",
    ">- Integrated model with hyperparameter $d$\n",
    ">- given by differencing for the observable"
   ]
  },
  {
   "cell_type": "markdown",
   "id": "bf7f1f4a",
   "metadata": {},
   "source": [
    "**I(1) model**\n",
    "\n",
    "> present value  minus the first lagged value is strongly stationary:\n",
    ">\n",
    ">$$ \n",
    "y_{t}~=~c +y_{t-1} + \\epsilon_t\n",
    "$$ \n",
    ">\n",
    ">or\n",
    ">$$ \n",
    "\\left(1-B\\right)y_{t}~=~c + \\epsilon_t\n",
    "$$ "
   ]
  },
  {
   "cell_type": "markdown",
   "id": "23b98383",
   "metadata": {},
   "source": [
    "**I(2) model**\n",
    "\n",
    ">$$ \n",
    "y_{t}~=~c +2y_{t-1} -y_{t-2}+ \\epsilon_t\n",
    "$$ \n",
    ">\n",
    ">or\n",
    ">$$ \n",
    "\\left(1-B\\right)^{2}y_{t}~=~c + \\epsilon_t\n",
    "$$ "
   ]
  },
  {
   "cell_type": "markdown",
   "id": "bf6733f9",
   "metadata": {},
   "source": [
    "**I(d) model**\n",
    "\n",
    ">$$ \n",
    "\\left(1-B\\right)^{d}y_{t}~=~c + \\epsilon_t\n",
    "$$ "
   ]
  },
  {
   "cell_type": "markdown",
   "id": "55b7b1a6",
   "metadata": {},
   "source": [
    "### 1.5 ARIMA (p, d, q)\n",
    "\n",
    ">- Auto-Regressive Integrated Moving Average model with hyperparameters $p$, $q$, and $d$\n",
    ">- models the differenced observable by its the past values as well as the past errors\n",
    ">\n",
    ">\n",
    ">$$\n",
    "\\underbrace{\\left(1-\\phi_{1}B-\\cdots-\\phi_{p}B^p\\right)}_{AR(p)}\\underbrace{\\left(1-B\\right)^{d}}_{I(d)}y_{t}~=~\n",
    "c + \\underbrace{\\left(1+\\theta_{1}B+\\cdots+\\theta_{q}B^q\\right)}_{MA(q)}\\epsilon_t,\n",
    "$$ "
   ]
  },
  {
   "cell_type": "markdown",
   "id": "e8778b83",
   "metadata": {},
   "source": [
    "### 1.6 SARIMA (p, d, q) (P, D, Q) [m]\n",
    "\n",
    ">- AMRIMA model inclusind seasonal effects\n",
    ">- combines two ARIMA models with hyperparameters ($p,d,q$), ($P,D,Q$) and $m$\n",
    ">\n",
    ">\n",
    ">$$\n",
    "\\underbrace{\\left(1-\\Phi_{1}B-\\cdots-\\Phi_{P}B^P\\right)}_{AR(P)}\n",
    "\\underbrace{\\left(1-\\phi_{1}B-\\cdots-\\phi_{p}B^p\\right)}_{AR(p)}\n",
    "\\underbrace{\\left(1-B^m\\right)^{D}}_{I(D[m])}\n",
    "\\underbrace{\\left(1-B\\right)^{d}}_{I(d)}\\,y_{t}\n",
    "\\newline~=~\n",
    "c + \\underbrace{\\left(1+\\theta_{1}B+\\cdots+\\theta_{q}B^q\\right)}_{MA(q)}\n",
    "\\underbrace{\\left(1+\\Theta_{1}B+\\cdots+\\Theta_{Q}B^Q\\right)}_{MA(Q)}\\,\\epsilon_t,\n",
    "$$ "
   ]
  },
  {
   "cell_type": "markdown",
   "id": "bf036f36",
   "metadata": {},
   "source": [
    "### 1.7 Some Model Equalities"
   ]
  },
  {
   "cell_type": "markdown",
   "id": "3983cda1",
   "metadata": {},
   "source": [
    "- `ARIMA (p,d,q) = SARIMA (p,d,q) (0,0,0) [0]`\n",
    "<br>\n",
    "\n",
    "- `ARMA (p,q) = ARIMA (p,0,q)  = SARIMA (p,0,q) (0,0,0) [0]`\n",
    "<br>\n",
    "\n",
    "- `AR (p) = ARMA (p,0) = ARIMA (p,0,0)  = SARIMA (p,0,0) (0,0,0) [0]`\n",
    "<br>\n",
    "\n",
    "- `MA (q) = ARMA (0,q) = ARIMA (0,0,q)  = SARIMA (0,0,q) (0,0,0) [0]`\n",
    "<br>\n",
    "\n",
    "- `I (d) = ARIMA (0,d,0)  = SARIMA (0,d,0) (0,0,0) [0]`\n",
    "<br>\n",
    "\n",
    "- `AR (1) = MA (`$\\infty$`)`\n",
    "<br>\n",
    "\n",
    "- `MA (1) = AR (`$\\infty$`)`"
   ]
  },
  {
   "cell_type": "markdown",
   "id": "aea15de1",
   "metadata": {},
   "source": [
    "### 1.8 ARIMA Recap"
   ]
  },
  {
   "cell_type": "markdown",
   "id": "6382976f",
   "metadata": {},
   "source": [
    "**AR(p)**\n",
    "* autoregressive part\n",
    "* value at point *t*, (linearly) depends on the value(s) in previous point(s) in time\n",
    "* regression model on past values\n",
    "* *p* is the number of lags to include; determined by looking at partial autocorrelation function plot (pacf)\n",
    "\n",
    "**I(d)**\n",
    "* time series is detrended by taking a difference between the current and previous point\n",
    "* *d* is the order of differencing\n",
    "\n",
    "**MA(q)**\n",
    "* moving average part\n",
    "* value at point *t*, (linearly) depends on the prediction errors in previous data points \n",
    "* regression model on past errors\n",
    "* *q* is the number of lags to include; determined by looking at autocorrelation function plot (acf)"
   ]
  },
  {
   "cell_type": "markdown",
   "id": "d773a2e3",
   "metadata": {},
   "source": [
    "<hr style=\"border:2px solid black\">"
   ]
  },
  {
   "cell_type": "markdown",
   "id": "8b0a8e58",
   "metadata": {},
   "source": [
    "## 2. Model Examples"
   ]
  },
  {
   "cell_type": "markdown",
   "id": "9a679a9d",
   "metadata": {},
   "source": [
    "### 2.1 Load Packages"
   ]
  },
  {
   "cell_type": "code",
   "execution_count": null,
   "id": "ccd607a9",
   "metadata": {},
   "outputs": [],
   "source": [
    "# data analysis stack\n",
    "import numpy as np\n",
    "import pandas as pd\n",
    "\n",
    "# data visualization stack\n",
    "import matplotlib as mpl\n",
    "import matplotlib.pyplot as plt\n",
    "%matplotlib inline\n",
    "import seaborn as sns\n",
    "sns.set_style('whitegrid')\n",
    "\n",
    "# statistics stack\n",
    "from statsmodels.tsa.arima_process import ArmaProcess\n",
    "from statsmodels.stats.diagnostic import het_white\n",
    "from statsmodels.formula.api import ols\n",
    "from statsmodels.tsa.stattools import adfuller, kpss\n",
    "from statsmodels.graphics.tsaplots import plot_acf, plot_pacf\n",
    "## pip install pmdarima\n",
    "import pmdarima as pm\n",
    "\n",
    "# miscellaneous\n",
    "import warnings\n",
    "warnings.filterwarnings(\"ignore\")"
   ]
  },
  {
   "cell_type": "markdown",
   "id": "1c2f1ea6",
   "metadata": {},
   "source": [
    "### 2.2 User-Defined Functions"
   ]
  },
  {
   "cell_type": "markdown",
   "id": "77ed5948",
   "metadata": {},
   "source": [
    "**white noise**"
   ]
  },
  {
   "cell_type": "code",
   "execution_count": null,
   "id": "526a82b3",
   "metadata": {},
   "outputs": [],
   "source": [
    "def white_noise(number_of_terms):\n",
    "    np.random.seed(0)\n",
    "    noise_terms = np.random.randn(number_of_terms)\n",
    "    return noise_terms"
   ]
  },
  {
   "cell_type": "markdown",
   "id": "ce45aed5",
   "metadata": {},
   "source": [
    "**homoscedasticity test**"
   ]
  },
  {
   "cell_type": "code",
   "execution_count": null,
   "id": "ed4d9802",
   "metadata": {},
   "outputs": [],
   "source": [
    "def white_homoscedasticity_test(series):\n",
    "    \"\"\"\n",
    "    returns p-value for White's homoscedasticity test\n",
    "    \"\"\"\n",
    "    series = series.reset_index(drop=True).reset_index()\n",
    "    series.columns = ['time', 'value']\n",
    "    series['time'] += 1\n",
    "    \n",
    "    olsr = ols('value ~ time', series).fit()\n",
    "    p_value = het_white(olsr.resid, olsr.model.exog)[1]\n",
    "    \n",
    "    return round(p_value,6)"
   ]
  },
  {
   "cell_type": "markdown",
   "id": "eb30cb57",
   "metadata": {},
   "source": [
    "**stationarity test p-values**"
   ]
  },
  {
   "cell_type": "code",
   "execution_count": null,
   "id": "f280865f",
   "metadata": {},
   "outputs": [],
   "source": [
    "def p_values(series):\n",
    "    \"\"\"\n",
    "    returns p-values for ADF and KPSS Tests on a time series\n",
    "    \"\"\"\n",
    "    # p value from Augmented Dickey-Fuller (ADF) Test\n",
    "    p_adf = adfuller(series, autolag=\"AIC\")[1]\n",
    "    \n",
    "    # p value from Kwiatkowski–Phillips–Schmidt–Shin (KPSS) Test\n",
    "    p_kpss = kpss(series, regression=\"c\", nlags=\"auto\")[1]\n",
    "    \n",
    "    return round(p_adf,6), round(p_kpss,6)"
   ]
  },
  {
   "cell_type": "markdown",
   "id": "21aba60f",
   "metadata": {},
   "source": [
    "**function for stationarity test**"
   ]
  },
  {
   "cell_type": "code",
   "execution_count": null,
   "id": "d9070d1c",
   "metadata": {},
   "outputs": [],
   "source": [
    "def test_stationarity(series):\n",
    "    \"\"\"\n",
    "    returns likely conclusions about series stationarity\n",
    "    \"\"\"\n",
    "    # test homoscedasticity\n",
    "    p_white = white_homoscedasticity_test(series)\n",
    "    \n",
    "    if p_white < 0.05:\n",
    "        print(f\"\\n non-stationary: heteroscedastic (White test p-value: {p_white}) \\n\")\n",
    "    \n",
    "    # test stationarity\n",
    "    else:\n",
    "        p_adf, p_kpss = p_values(series)\n",
    "        \n",
    "        # print p-values\n",
    "        print( f\"\\n p_adf: {p_adf}, p_kpss: {p_kpss}\" )\n",
    "    \n",
    "        if (p_adf < 0.05) and (p_kpss >= 0.05):\n",
    "            print('\\n stationary or seasonal-stationary')\n",
    "            \n",
    "        elif (p_adf >= 0.1) and (p_kpss < 0.05):\n",
    "            print('\\n difference-stationary')\n",
    "            \n",
    "        elif (p_adf < 0.1) and (p_kpss < 0.05):\n",
    "            print('\\n trend-stationary')\n",
    "        \n",
    "        else:\n",
    "            print('\\n non-stationary; no robust conclusions\\n')"
   ]
  },
  {
   "cell_type": "markdown",
   "id": "b2c6fbb6",
   "metadata": {},
   "source": [
    "**auto-correlation plot**"
   ]
  },
  {
   "cell_type": "code",
   "execution_count": null,
   "id": "b70c2263",
   "metadata": {},
   "outputs": [],
   "source": [
    "def auto_correlation_plot(series):\n",
    "    \"\"\"\n",
    "    plots autocorrelations for a given series\n",
    "    \"\"\"\n",
    "    mpl.rc('figure',figsize=(10,2),dpi=200)\n",
    "    plot_acf(series,zero=False,lags=25)\n",
    "    plt.xlabel('number of lags')\n",
    "    plt.ylabel('autocorrelation')"
   ]
  },
  {
   "cell_type": "markdown",
   "id": "cfa46237",
   "metadata": {},
   "source": [
    "**partial auto-correlation plot**"
   ]
  },
  {
   "cell_type": "code",
   "execution_count": null,
   "id": "0766a9cb",
   "metadata": {},
   "outputs": [],
   "source": [
    "def partial_auto_correlation_plot(series):\n",
    "    \"\"\"\n",
    "    plots partial autocorrelations for a given series\n",
    "    \"\"\"\n",
    "    mpl.rc('figure',figsize=(10,2),dpi=200)\n",
    "    plot_pacf(series,zero=False,lags=25)\n",
    "    plt.xlabel('number of lags')\n",
    "    plt.ylabel('partial autocorrelation')"
   ]
  },
  {
   "cell_type": "markdown",
   "id": "868023d8",
   "metadata": {},
   "source": [
    "**arma data generator**"
   ]
  },
  {
   "cell_type": "code",
   "execution_count": null,
   "id": "a7d613f5",
   "metadata": {},
   "outputs": [],
   "source": [
    "def arma_model(ar_coef=[], ma_coef=[]):\n",
    "    \"\"\"\n",
    "    generates sample data for AR, MA, and ARMA processes\n",
    "    \"\"\"\n",
    "    np.random.seed(12345)\n",
    "    ar = np.array([1] + [-c for c in ar_coef])\n",
    "    ma = np.array([1] + ma_coef)\n",
    "    data = ArmaProcess(ar,ma).generate_sample(nsample=200)\n",
    "    return data"
   ]
  },
  {
   "cell_type": "markdown",
   "id": "81c4ea59",
   "metadata": {},
   "source": [
    "### 2.3 AR Model"
   ]
  },
  {
   "cell_type": "markdown",
   "id": "ee151d0a",
   "metadata": {},
   "source": [
    "**generate data**"
   ]
  },
  {
   "cell_type": "code",
   "execution_count": null,
   "id": "5024502d",
   "metadata": {},
   "outputs": [],
   "source": [
    "# generate sample data for the AR(1) model: \n",
    "# y_t = 0.75 y_{t-1} + epsilon\n",
    "ar_data = pd.Series(\n",
    "    arma_model(ar_coef=[0.75])\n",
    ")"
   ]
  },
  {
   "cell_type": "markdown",
   "id": "e4490962",
   "metadata": {},
   "source": [
    "**plot data**"
   ]
  },
  {
   "cell_type": "code",
   "execution_count": null,
   "id": "fa3489d2",
   "metadata": {},
   "outputs": [],
   "source": [
    "mpl.rc('figure',figsize=(12,3),dpi=100)\n",
    "\n",
    "ar_data.plot()\n",
    "sns.despine()"
   ]
  },
  {
   "cell_type": "markdown",
   "id": "d5d0e51f",
   "metadata": {},
   "source": [
    "**stationarity test**"
   ]
  },
  {
   "cell_type": "code",
   "execution_count": null,
   "id": "a45f77a9",
   "metadata": {},
   "outputs": [],
   "source": [
    "test_stationarity(ar_data)"
   ]
  },
  {
   "cell_type": "markdown",
   "id": "2ab0a6c7",
   "metadata": {},
   "source": [
    "**AC plot**"
   ]
  },
  {
   "cell_type": "code",
   "execution_count": null,
   "id": "366786ed",
   "metadata": {},
   "outputs": [],
   "source": [
    "auto_correlation_plot(ar_data)"
   ]
  },
  {
   "cell_type": "markdown",
   "id": "d6cd5b0b",
   "metadata": {},
   "source": [
    "**PAC plot**"
   ]
  },
  {
   "cell_type": "code",
   "execution_count": null,
   "id": "f387b086",
   "metadata": {},
   "outputs": [],
   "source": [
    "partial_auto_correlation_plot(ar_data)"
   ]
  },
  {
   "cell_type": "markdown",
   "id": "31faac9a",
   "metadata": {},
   "source": [
    "**model selection**"
   ]
  },
  {
   "cell_type": "code",
   "execution_count": null,
   "id": "7653e821",
   "metadata": {},
   "outputs": [],
   "source": [
    "ar_model = pm.auto_arima(\n",
    "    ar_data, \n",
    "    start_p=0,\n",
    "    max_p=2,\n",
    "    seasonality = False,\n",
    "    stationarity = True,\n",
    "    trace = True,\n",
    "    n_jobs=-1\n",
    ")"
   ]
  },
  {
   "cell_type": "code",
   "execution_count": null,
   "id": "397917df",
   "metadata": {},
   "outputs": [],
   "source": [
    "ar_model.summary()"
   ]
  },
  {
   "cell_type": "markdown",
   "id": "6f47ef4f",
   "metadata": {},
   "source": [
    "### 2.4 MA Model"
   ]
  },
  {
   "cell_type": "markdown",
   "id": "0272b425",
   "metadata": {},
   "source": [
    "**generate data**"
   ]
  },
  {
   "cell_type": "code",
   "execution_count": null,
   "id": "e92830a3",
   "metadata": {},
   "outputs": [],
   "source": [
    "ma_data = pd.Series(\n",
    "    arma_model(ma_coef=[0.65])\n",
    ")"
   ]
  },
  {
   "cell_type": "markdown",
   "id": "a1f9f9f3",
   "metadata": {},
   "source": [
    "**plot data**"
   ]
  },
  {
   "cell_type": "code",
   "execution_count": null,
   "id": "70e07ce7",
   "metadata": {},
   "outputs": [],
   "source": [
    "mpl.rc('figure',figsize=(12,3),dpi=100)\n",
    "\n",
    "ma_data.plot()\n",
    "sns.despine()"
   ]
  },
  {
   "cell_type": "markdown",
   "id": "6ce00c21",
   "metadata": {},
   "source": [
    "**stationarity test**"
   ]
  },
  {
   "cell_type": "code",
   "execution_count": null,
   "id": "43db7591",
   "metadata": {},
   "outputs": [],
   "source": [
    "test_stationarity(ma_data)"
   ]
  },
  {
   "cell_type": "markdown",
   "id": "891f0426",
   "metadata": {},
   "source": [
    "**AC plot**"
   ]
  },
  {
   "cell_type": "code",
   "execution_count": null,
   "id": "94998bc3",
   "metadata": {},
   "outputs": [],
   "source": [
    "auto_correlation_plot(ma_data)"
   ]
  },
  {
   "cell_type": "markdown",
   "id": "a2e30aca",
   "metadata": {},
   "source": [
    "**PAC plot**"
   ]
  },
  {
   "cell_type": "code",
   "execution_count": null,
   "id": "5f860960",
   "metadata": {},
   "outputs": [],
   "source": [
    "partial_auto_correlation_plot(ma_data)"
   ]
  },
  {
   "cell_type": "markdown",
   "id": "bf891b91",
   "metadata": {},
   "source": [
    "**model selection**"
   ]
  },
  {
   "cell_type": "code",
   "execution_count": null,
   "id": "e9d9fa37",
   "metadata": {},
   "outputs": [],
   "source": [
    "ma_model = pm.auto_arima(\n",
    "    ma_data, \n",
    "    start_p=0,\n",
    "    max_p=0,\n",
    "    start_q=1,\n",
    "    seasonality = False,\n",
    "    stationarity = True,\n",
    "    trace = True,\n",
    "    n_jobs=-1\n",
    ")"
   ]
  },
  {
   "cell_type": "code",
   "execution_count": null,
   "id": "bf29eaf5",
   "metadata": {
    "scrolled": true
   },
   "outputs": [],
   "source": [
    "ma_model.summary()"
   ]
  },
  {
   "cell_type": "markdown",
   "id": "4c5d6293",
   "metadata": {},
   "source": [
    "## 2.5 I Model"
   ]
  },
  {
   "cell_type": "markdown",
   "id": "f96ac332",
   "metadata": {},
   "source": [
    "**generate data**"
   ]
  },
  {
   "cell_type": "code",
   "execution_count": null,
   "id": "2eceb1cd",
   "metadata": {},
   "outputs": [],
   "source": [
    "y = 0.0\n",
    "difference_stationary_data = []\n",
    "\n",
    "for t in range(200):\n",
    "    y = 2.0 + 1.0 * y\n",
    "    difference_stationary_data.append(y)\n",
    "\n",
    "difference_stationary_data += 10 * white_noise(200)\n",
    "i_data = pd.Series(difference_stationary_data)"
   ]
  },
  {
   "cell_type": "markdown",
   "id": "7148169e",
   "metadata": {},
   "source": [
    "**plot data**"
   ]
  },
  {
   "cell_type": "code",
   "execution_count": null,
   "id": "6c95968b",
   "metadata": {},
   "outputs": [],
   "source": [
    "mpl.rc('figure',figsize=(12,3),dpi=100)\n",
    "\n",
    "i_data.plot()\n",
    "sns.despine()"
   ]
  },
  {
   "cell_type": "markdown",
   "id": "63c8e8c8",
   "metadata": {},
   "source": [
    "**stationarity test**"
   ]
  },
  {
   "cell_type": "code",
   "execution_count": null,
   "id": "439c75d4",
   "metadata": {},
   "outputs": [],
   "source": [
    "test_stationarity(i_data)"
   ]
  },
  {
   "cell_type": "markdown",
   "id": "5e5e8bd1",
   "metadata": {},
   "source": [
    "**model selection**"
   ]
  },
  {
   "cell_type": "code",
   "execution_count": null,
   "id": "397fac5e",
   "metadata": {},
   "outputs": [],
   "source": [
    "i_model = pm.auto_arima(\n",
    "    i_data,\n",
    "    start_p=0,\n",
    "    max_p=0,\n",
    "    start_q=0,\n",
    "    max_q=0,\n",
    "    seasonality = False,\n",
    "    stationarity = False,\n",
    "    trace = True,\n",
    "    n_jobs=-1\n",
    ")"
   ]
  },
  {
   "cell_type": "code",
   "execution_count": null,
   "id": "f525f151",
   "metadata": {},
   "outputs": [],
   "source": [
    "i_model.summary()"
   ]
  },
  {
   "cell_type": "markdown",
   "id": "d2fe2b9c",
   "metadata": {},
   "source": [
    "### 2.6 ARMA Model"
   ]
  },
  {
   "cell_type": "markdown",
   "id": "325cd2dc",
   "metadata": {},
   "source": [
    "**generate data**"
   ]
  },
  {
   "cell_type": "code",
   "execution_count": null,
   "id": "3f8e9834",
   "metadata": {},
   "outputs": [],
   "source": [
    "arma_data = pd.Series(\n",
    "    arma_model(ar_coef=[0.25], ma_coef=[0.65])\n",
    ")"
   ]
  },
  {
   "cell_type": "markdown",
   "id": "1c9ffb4a",
   "metadata": {},
   "source": [
    "**plot data**"
   ]
  },
  {
   "cell_type": "code",
   "execution_count": null,
   "id": "11520ff5",
   "metadata": {},
   "outputs": [],
   "source": [
    "mpl.rc('figure',figsize=(12,3),dpi=100)\n",
    "\n",
    "arma_data.plot()\n",
    "sns.despine()"
   ]
  },
  {
   "cell_type": "markdown",
   "id": "6c2fd508",
   "metadata": {},
   "source": [
    "**stationarity test**"
   ]
  },
  {
   "cell_type": "code",
   "execution_count": null,
   "id": "68a7290c",
   "metadata": {},
   "outputs": [],
   "source": [
    "test_stationarity(arma_data)"
   ]
  },
  {
   "cell_type": "markdown",
   "id": "6f4052b0",
   "metadata": {},
   "source": [
    "**AC plot**"
   ]
  },
  {
   "cell_type": "code",
   "execution_count": null,
   "id": "efd7735c",
   "metadata": {},
   "outputs": [],
   "source": [
    "auto_correlation_plot(arma_data)"
   ]
  },
  {
   "cell_type": "markdown",
   "id": "c45bd611",
   "metadata": {},
   "source": [
    "**PAC plot**"
   ]
  },
  {
   "cell_type": "code",
   "execution_count": null,
   "id": "41b6b839",
   "metadata": {
    "scrolled": true
   },
   "outputs": [],
   "source": [
    "partial_auto_correlation_plot(arma_data)"
   ]
  },
  {
   "cell_type": "markdown",
   "id": "accc43ca",
   "metadata": {},
   "source": [
    "**model selection**"
   ]
  },
  {
   "cell_type": "code",
   "execution_count": null,
   "id": "2b19d656",
   "metadata": {},
   "outputs": [],
   "source": [
    "arma_model = pm.auto_arima(\n",
    "    arma_data,\n",
    "    seasonality = False,\n",
    "    stationarity = False,\n",
    "    trace = True,\n",
    "    n_jobs=-1\n",
    ")"
   ]
  },
  {
   "cell_type": "code",
   "execution_count": null,
   "id": "8d22e7bb",
   "metadata": {},
   "outputs": [],
   "source": [
    "arma_model.summary()"
   ]
  },
  {
   "cell_type": "markdown",
   "id": "8feab705",
   "metadata": {},
   "source": [
    "### 2.7 ARIMA Model"
   ]
  },
  {
   "cell_type": "markdown",
   "id": "a6694de1",
   "metadata": {},
   "source": [
    "**generate data**"
   ]
  },
  {
   "cell_type": "code",
   "execution_count": null,
   "id": "96f7073a",
   "metadata": {},
   "outputs": [],
   "source": [
    "arima_data = 10*arma_data + i_data"
   ]
  },
  {
   "cell_type": "markdown",
   "id": "ef34f797",
   "metadata": {},
   "source": [
    "**plot data**"
   ]
  },
  {
   "cell_type": "code",
   "execution_count": null,
   "id": "e9e7c4d7",
   "metadata": {},
   "outputs": [],
   "source": [
    "mpl.rc('figure',figsize=(12,3),dpi=100)\n",
    "\n",
    "arima_data.plot()\n",
    "sns.despine()"
   ]
  },
  {
   "cell_type": "markdown",
   "id": "c94d56f2",
   "metadata": {},
   "source": [
    "**stationarity test**"
   ]
  },
  {
   "cell_type": "code",
   "execution_count": null,
   "id": "5864c779",
   "metadata": {
    "scrolled": true
   },
   "outputs": [],
   "source": [
    "test_stationarity(arima_data)"
   ]
  },
  {
   "cell_type": "markdown",
   "id": "a6e3363d",
   "metadata": {},
   "source": [
    "**model selection**"
   ]
  },
  {
   "cell_type": "code",
   "execution_count": null,
   "id": "a3ddefd1",
   "metadata": {},
   "outputs": [],
   "source": [
    "arima_model = pm.auto_arima(\n",
    "    arima_data,\n",
    "    seasonality = False,\n",
    "    stationarity = False,\n",
    "    d=None,\n",
    "    trace = True,\n",
    "    n_jobs=-1\n",
    ")"
   ]
  },
  {
   "cell_type": "code",
   "execution_count": null,
   "id": "c9dd5b2a",
   "metadata": {},
   "outputs": [],
   "source": [
    "arima_model.summary()"
   ]
  },
  {
   "cell_type": "markdown",
   "id": "8a3005b8",
   "metadata": {},
   "source": [
    "### 2.8 SARIMA Model"
   ]
  },
  {
   "cell_type": "markdown",
   "id": "9a42189a",
   "metadata": {},
   "source": [
    "**data**"
   ]
  },
  {
   "cell_type": "code",
   "execution_count": null,
   "id": "3531be22",
   "metadata": {},
   "outputs": [],
   "source": [
    "# milk train data\n",
    "df = pd.read_csv(\n",
    "    \"../data/milk_train.csv\",index_col=0,parse_dates=True\n",
    ")\n",
    "sarima_data = df['production']"
   ]
  },
  {
   "cell_type": "markdown",
   "id": "776d7720",
   "metadata": {},
   "source": [
    "**plot data**"
   ]
  },
  {
   "cell_type": "code",
   "execution_count": null,
   "id": "178bd514",
   "metadata": {},
   "outputs": [],
   "source": [
    "mpl.rc('figure',figsize=(12,3),dpi=100)\n",
    "\n",
    "sarima_data.plot()\n",
    "sns.despine()"
   ]
  },
  {
   "cell_type": "markdown",
   "id": "b3acc48f",
   "metadata": {},
   "source": [
    "**stationarity test**"
   ]
  },
  {
   "cell_type": "code",
   "execution_count": null,
   "id": "d7fbf661",
   "metadata": {},
   "outputs": [],
   "source": [
    "test_stationarity(sarima_data)"
   ]
  },
  {
   "cell_type": "markdown",
   "id": "854c35f0",
   "metadata": {},
   "source": [
    "**model selection**"
   ]
  },
  {
   "cell_type": "code",
   "execution_count": null,
   "id": "6bf7d032",
   "metadata": {},
   "outputs": [],
   "source": [
    "sarima_model = pm.auto_arima(\n",
    "    sarima_data,\n",
    "    seasonality = True,\n",
    "    stationarity = False,\n",
    "    d=None,\n",
    "    m=12,\n",
    "    trace = True,\n",
    "    n_jobs=-1\n",
    ")"
   ]
  },
  {
   "cell_type": "code",
   "execution_count": null,
   "id": "deccc5c6",
   "metadata": {},
   "outputs": [],
   "source": [
    "sarima_model.summary()"
   ]
  },
  {
   "cell_type": "markdown",
   "id": "b972fe51",
   "metadata": {},
   "source": [
    "<hr style=\"border:2px solid black\">"
   ]
  },
  {
   "cell_type": "markdown",
   "id": "690d4a09",
   "metadata": {},
   "source": [
    "## References\n",
    "\n",
    "- Forecasting: Principles and Practice, R. J. Hyndman & G. Athanasopoulos,\n",
    "[OTexts Free Online Book](https://otexts.com/fpp3/)\n",
    "- [Time Series Talk : Moving Average Model](https://www.youtube.com/watch?v=voryLhxiPzE&list=PLvcbYUQ5t0UHOLnBzl46_Q6QKtFgfMGc3&index=12)\n",
    "- [Time Series Talk : ARMA Model](https://www.youtube.com/watch?v=HhvTlaN06AM&list=PLvcbYUQ5t0UHOLnBzl46_Q6QKtFgfMGc3&index=17)\n",
    "- [Time Series Talk : ARIMA Model](https://www.youtube.com/watch?v=3UmyHed0iYE&list=PLvcbYUQ5t0UHOLnBzl46_Q6QKtFgfMGc3&index=20)"
   ]
  }
 ],
 "metadata": {
  "kernelspec": {
   "display_name": "Python 3 (ipykernel)",
   "language": "python",
   "name": "python3"
  },
  "language_info": {
   "codemirror_mode": {
    "name": "ipython",
    "version": 3
   },
   "file_extension": ".py",
   "mimetype": "text/x-python",
   "name": "python",
   "nbconvert_exporter": "python",
   "pygments_lexer": "ipython3",
   "version": "3.11.3"
  }
 },
 "nbformat": 4,
 "nbformat_minor": 5
}
