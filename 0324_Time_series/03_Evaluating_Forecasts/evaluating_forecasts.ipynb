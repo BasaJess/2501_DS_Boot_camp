{
 "cells": [
  {
   "cell_type": "markdown",
   "id": "31795137",
   "metadata": {},
   "source": [
    "# Evaluating Forecasts \n",
    "<hr style=\"border:2px solid black\">"
   ]
  },
  {
   "cell_type": "markdown",
   "id": "f18201bc",
   "metadata": {},
   "source": [
    "## 1. Model Building Revisited"
   ]
  },
  {
   "cell_type": "markdown",
   "id": "82fc4e6d",
   "metadata": {},
   "source": [
    "### 1.1 Load Packages"
   ]
  },
  {
   "cell_type": "code",
   "execution_count": null,
   "id": "61ce5828",
   "metadata": {},
   "outputs": [],
   "source": [
    "# data analysis stack\n",
    "import numpy as np\n",
    "import pandas as pd\n",
    "\n",
    "# data visualization stack\n",
    "import matplotlib as mpl\n",
    "import matplotlib.pyplot as plt\n",
    "%matplotlib inline\n",
    "import seaborn as sns\n",
    "sns.set_style('whitegrid')\n",
    "\n",
    "# machine learning stack\n",
    "from sklearn.compose import ColumnTransformer, make_column_transformer\n",
    "from sklearn.preprocessing import (\n",
    "    PolynomialFeatures,\n",
    "    OneHotEncoder\n",
    ")\n",
    "from sklearn.pipeline import make_pipeline, Pipeline\n",
    "from sklearn.linear_model import LinearRegression\n",
    "from sklearn.metrics import r2_score\n",
    "from sklearn.model_selection import (\n",
    "    TimeSeriesSplit,\n",
    "    GridSearchCV\n",
    ")\n",
    "from sklearn.model_selection import train_test_split\n",
    "\n",
    "# miscellaneous\n",
    "import time\n",
    "import warnings\n",
    "warnings.filterwarnings(\"ignore\")"
   ]
  },
  {
   "cell_type": "markdown",
   "id": "3cf75d05",
   "metadata": {},
   "source": [
    "### 1.2 Load Train Data"
   ]
  },
  {
   "cell_type": "code",
   "execution_count": null,
   "id": "10fdba1c",
   "metadata": {},
   "outputs": [],
   "source": [
    "df = pd.read_csv(\n",
    "    '../data/milk_train.csv', index_col=0, parse_dates=True\n",
    ")\n",
    "df.head()"
   ]
  },
  {
   "cell_type": "markdown",
   "id": "69819782",
   "metadata": {},
   "source": [
    "### 1.3 Baseline Model"
   ]
  },
  {
   "cell_type": "markdown",
   "id": "8c89b544",
   "metadata": {},
   "source": [
    "**timestep column**"
   ]
  },
  {
   "cell_type": "code",
   "execution_count": null,
   "id": "02f6b61f",
   "metadata": {},
   "outputs": [],
   "source": [
    "df['timestep'] = list(range(df.shape[0]))"
   ]
  },
  {
   "cell_type": "code",
   "execution_count": null,
   "id": "1a7780ca",
   "metadata": {},
   "outputs": [],
   "source": [
    "df.tail()"
   ]
  },
  {
   "cell_type": "markdown",
   "id": "9d641d04",
   "metadata": {},
   "source": [
    "**month column**"
   ]
  },
  {
   "cell_type": "code",
   "execution_count": null,
   "id": "ec23f3c9",
   "metadata": {},
   "outputs": [],
   "source": [
    "df['month'] = df.index.month"
   ]
  },
  {
   "cell_type": "code",
   "execution_count": null,
   "id": "ff210b04",
   "metadata": {},
   "outputs": [],
   "source": [
    "df.tail()"
   ]
  },
  {
   "cell_type": "markdown",
   "id": "561579fb",
   "metadata": {},
   "source": [
    "**dataframe copy**"
   ]
  },
  {
   "cell_type": "code",
   "execution_count": null,
   "id": "cd4b6144",
   "metadata": {},
   "outputs": [],
   "source": [
    "train = df.copy()"
   ]
  },
  {
   "cell_type": "markdown",
   "id": "94f88c04",
   "metadata": {},
   "source": [
    "**features and target**"
   ]
  },
  {
   "cell_type": "code",
   "execution_count": null,
   "id": "af51635b",
   "metadata": {},
   "outputs": [],
   "source": [
    "X_train_baseline = train[['timestep','month']]\n",
    "y_train = train['production']"
   ]
  },
  {
   "cell_type": "markdown",
   "id": "1d17c8c3",
   "metadata": {},
   "source": [
    "**column transformation**"
   ]
  },
  {
   "cell_type": "code",
   "execution_count": null,
   "id": "640bfaa2",
   "metadata": {},
   "outputs": [],
   "source": [
    "col_transformer = ColumnTransformer([\n",
    "    ('poly', PolynomialFeatures(degree=2), ['timestep']),\n",
    "    ('ohe', OneHotEncoder(drop='first'), ['month'])\n",
    "])"
   ]
  },
  {
   "cell_type": "markdown",
   "id": "63221bc0",
   "metadata": {},
   "source": [
    "**baseline model pipeline**"
   ]
  },
  {
   "cell_type": "code",
   "execution_count": null,
   "id": "e6a2894d",
   "metadata": {},
   "outputs": [],
   "source": [
    "baseline_model = make_pipeline(\n",
    "    col_transformer,\n",
    "    LinearRegression()\n",
    ")"
   ]
  },
  {
   "cell_type": "markdown",
   "id": "9ed9c1dd",
   "metadata": {},
   "source": [
    "**build baseline model**"
   ]
  },
  {
   "cell_type": "code",
   "execution_count": null,
   "id": "72e12483",
   "metadata": {},
   "outputs": [],
   "source": [
    "baseline_model.fit(X_train_baseline, y_train)"
   ]
  },
  {
   "cell_type": "markdown",
   "id": "56440dde",
   "metadata": {},
   "source": [
    "**predict train data**"
   ]
  },
  {
   "cell_type": "code",
   "execution_count": null,
   "id": "9b81f3a4",
   "metadata": {},
   "outputs": [],
   "source": [
    "train['trend_seasonal'] = baseline_model.predict(X_train_baseline)"
   ]
  },
  {
   "cell_type": "markdown",
   "id": "038dd9e7",
   "metadata": {},
   "source": [
    "**check results**"
   ]
  },
  {
   "cell_type": "code",
   "execution_count": null,
   "id": "2c44fbf4",
   "metadata": {},
   "outputs": [],
   "source": [
    "train[['production','trend_seasonal']].tail()"
   ]
  },
  {
   "cell_type": "markdown",
   "id": "37b62a33",
   "metadata": {},
   "source": [
    "### 1.4 Model Remainder"
   ]
  },
  {
   "cell_type": "markdown",
   "id": "1d538f6b",
   "metadata": {},
   "source": [
    "**extract remainder**"
   ]
  },
  {
   "cell_type": "code",
   "execution_count": null,
   "id": "c99d3385",
   "metadata": {},
   "outputs": [],
   "source": [
    "train['remainder'] = train['production'] - train['trend_seasonal']"
   ]
  },
  {
   "cell_type": "markdown",
   "id": "76e9a9c2",
   "metadata": {},
   "source": [
    "**lag columns**"
   ]
  },
  {
   "cell_type": "code",
   "execution_count": null,
   "id": "30141a85",
   "metadata": {},
   "outputs": [],
   "source": [
    "# create lag column in dataframe\n",
    "train['lag_1'] = train['remainder'].shift(1)"
   ]
  },
  {
   "cell_type": "code",
   "execution_count": null,
   "id": "c0250924",
   "metadata": {},
   "outputs": [],
   "source": [
    "train[train.columns[-2:]].head()"
   ]
  },
  {
   "cell_type": "markdown",
   "id": "5ad80373",
   "metadata": {},
   "source": [
    "**drop missing values**"
   ]
  },
  {
   "cell_type": "code",
   "execution_count": null,
   "id": "34ac7c3e",
   "metadata": {},
   "outputs": [],
   "source": [
    "train.dropna(inplace=True)"
   ]
  },
  {
   "cell_type": "markdown",
   "id": "de630fe0",
   "metadata": {},
   "source": [
    "**features and target**"
   ]
  },
  {
   "cell_type": "code",
   "execution_count": null,
   "id": "b37773c3",
   "metadata": {},
   "outputs": [],
   "source": [
    "X_remainder = train[train.columns[-1:]]\n",
    "y_remainder = train['remainder']"
   ]
  },
  {
   "cell_type": "markdown",
   "id": "e4e4081e",
   "metadata": {},
   "source": [
    "**train model**"
   ]
  },
  {
   "cell_type": "code",
   "execution_count": null,
   "id": "e04d33f4",
   "metadata": {},
   "outputs": [],
   "source": [
    "ar_model = LinearRegression()\n",
    "ar_model.fit(X_remainder,y_remainder)"
   ]
  },
  {
   "cell_type": "markdown",
   "id": "5280dd3d",
   "metadata": {},
   "source": [
    "**predict remainder**"
   ]
  },
  {
   "cell_type": "code",
   "execution_count": null,
   "id": "90e6eace",
   "metadata": {},
   "outputs": [],
   "source": [
    "train['remainder_pred'] = ar_model.predict(X_remainder)"
   ]
  },
  {
   "cell_type": "markdown",
   "id": "e9679cff",
   "metadata": {},
   "source": [
    "### 1.5 Complete Model"
   ]
  },
  {
   "cell_type": "markdown",
   "id": "910eddd9",
   "metadata": {},
   "source": [
    "**total prediction**"
   ]
  },
  {
   "cell_type": "code",
   "execution_count": null,
   "id": "91b8320d",
   "metadata": {},
   "outputs": [],
   "source": [
    "train['total_pred'] = \\\n",
    "train['trend_seasonal'] + train['remainder_pred']"
   ]
  },
  {
   "cell_type": "markdown",
   "id": "2a324aa9",
   "metadata": {},
   "source": [
    "**check results**"
   ]
  },
  {
   "cell_type": "code",
   "execution_count": null,
   "id": "475f99f2",
   "metadata": {},
   "outputs": [],
   "source": [
    "train[['production','trend_seasonal','total_pred']].tail()"
   ]
  },
  {
   "cell_type": "markdown",
   "id": "2b69ecc4",
   "metadata": {},
   "source": [
    "**plots**"
   ]
  },
  {
   "cell_type": "code",
   "execution_count": null,
   "id": "1406a0af",
   "metadata": {},
   "outputs": [],
   "source": [
    "mpl.rc('figure',figsize=(12,3),dpi=100)\n",
    "train[['production','trend_seasonal','total_pred']].plot(legend=True)\n",
    "sns.despine()"
   ]
  },
  {
   "cell_type": "markdown",
   "id": "9667655c",
   "metadata": {},
   "source": [
    "### 1.6 Model Evaluation"
   ]
  },
  {
   "cell_type": "markdown",
   "id": "622d8ded",
   "metadata": {},
   "source": [
    "**baseline model**"
   ]
  },
  {
   "cell_type": "code",
   "execution_count": null,
   "id": "cab5cf02",
   "metadata": {},
   "outputs": [],
   "source": [
    "r2_ts = round(baseline_model.score(X_train_baseline,y_train),6)\n",
    "print(f\"r2_score: {r2_ts}\")"
   ]
  },
  {
   "cell_type": "markdown",
   "id": "3e27ef1a",
   "metadata": {},
   "source": [
    "**complete model**"
   ]
  },
  {
   "cell_type": "code",
   "execution_count": null,
   "id": "9f0190bc",
   "metadata": {},
   "outputs": [],
   "source": [
    "r2_tot = round(r2_score(y_train[1:],train['total_pred']),6)\n",
    "print(f\"r2_score: {r2_tot}\")"
   ]
  },
  {
   "cell_type": "markdown",
   "id": "5eb3b41b",
   "metadata": {},
   "source": [
    "<hr style=\"border:2px solid black\">"
   ]
  },
  {
   "cell_type": "markdown",
   "id": "9382c528",
   "metadata": {},
   "source": [
    "## 2. Forecasts"
   ]
  },
  {
   "cell_type": "markdown",
   "id": "9aee3a9c",
   "metadata": {},
   "source": [
    "### 2.1 Load Test Data"
   ]
  },
  {
   "cell_type": "code",
   "execution_count": null,
   "id": "9ac3eb80",
   "metadata": {},
   "outputs": [],
   "source": [
    "test = pd.read_csv(\n",
    "    '../data/milk_test.csv',index_col=0,parse_dates=True\n",
    ")\n",
    "test.head()"
   ]
  },
  {
   "cell_type": "markdown",
   "id": "2683f1b0",
   "metadata": {},
   "source": [
    "### 2.2 Baseline Forecasts"
   ]
  },
  {
   "cell_type": "markdown",
   "id": "113f720a",
   "metadata": {},
   "source": [
    "**timestep column**"
   ]
  },
  {
   "cell_type": "code",
   "execution_count": null,
   "id": "7283a566",
   "metadata": {},
   "outputs": [],
   "source": [
    "test['timestep'] = list(\n",
    "    range(df.shape[0], df.shape[0]+test.shape[0])\n",
    ")"
   ]
  },
  {
   "cell_type": "code",
   "execution_count": null,
   "id": "511390ba",
   "metadata": {},
   "outputs": [],
   "source": [
    "test['timestep']"
   ]
  },
  {
   "cell_type": "markdown",
   "id": "ccf96259",
   "metadata": {},
   "source": [
    "**month column**"
   ]
  },
  {
   "cell_type": "code",
   "execution_count": null,
   "id": "5b5519d1",
   "metadata": {},
   "outputs": [],
   "source": [
    "test['month'] = test.index.month"
   ]
  },
  {
   "cell_type": "markdown",
   "id": "9017f2b3",
   "metadata": {},
   "source": [
    "**features and target**"
   ]
  },
  {
   "cell_type": "code",
   "execution_count": null,
   "id": "659ec0ba",
   "metadata": {},
   "outputs": [],
   "source": [
    "X_test_baseline = test[['timestep','month']]\n",
    "y_test = test['production']"
   ]
  },
  {
   "cell_type": "markdown",
   "id": "65d385df",
   "metadata": {},
   "source": [
    "**baseline forecasts**"
   ]
  },
  {
   "cell_type": "code",
   "execution_count": null,
   "id": "874a87e6",
   "metadata": {},
   "outputs": [],
   "source": [
    "test['baseline_pred'] = baseline_model.predict(X_test_baseline)"
   ]
  },
  {
   "cell_type": "markdown",
   "id": "ff212327",
   "metadata": {},
   "source": [
    "**check forecasts**"
   ]
  },
  {
   "cell_type": "code",
   "execution_count": null,
   "id": "e3f0d77b",
   "metadata": {},
   "outputs": [],
   "source": [
    "test[['production','baseline_pred']].head()"
   ]
  },
  {
   "cell_type": "code",
   "execution_count": null,
   "id": "c7fb9bc3",
   "metadata": {},
   "outputs": [],
   "source": [
    "test[['production','baseline_pred']].tail()"
   ]
  },
  {
   "cell_type": "markdown",
   "id": "b2303c09",
   "metadata": {},
   "source": [
    "### 2.3 Complete Forecasts"
   ]
  },
  {
   "cell_type": "markdown",
   "id": "1a10aa30",
   "metadata": {},
   "source": [
    "**remainder forecasts**"
   ]
  },
  {
   "cell_type": "code",
   "execution_count": null,
   "id": "2a6d42ef",
   "metadata": {},
   "outputs": [],
   "source": [
    "def forecast_remainder(*lags):\n",
    "    \"\"\"\n",
    "    spits out forecasted remainder for test data,\n",
    "    given initial lagged variables\n",
    "    \"\"\"\n",
    "    predicted_remainders = []\n",
    "    lag_values = list(lags)\n",
    "    \n",
    "    for i in range(test.shape[0]):\n",
    "        \n",
    "        # row of lagged features\n",
    "        X = [lag_values]\n",
    "        \n",
    "        # predict remainder\n",
    "        remainder = ar_model.predict(X)[0]\n",
    "        \n",
    "        # append remainded\n",
    "        predicted_remainders.append(remainder)\n",
    "        \n",
    "        # lag values for next step\n",
    "        lag_values = [remainder] + lag_values[:-1]\n",
    "        \n",
    "    return predicted_remainders"
   ]
  },
  {
   "cell_type": "markdown",
   "id": "3c42c74b",
   "metadata": {},
   "source": [
    "**lags for first month**"
   ]
  },
  {
   "cell_type": "code",
   "execution_count": null,
   "id": "9dfe6920",
   "metadata": {},
   "outputs": [],
   "source": [
    "lag1 = train.iloc[-1]['remainder'] "
   ]
  },
  {
   "cell_type": "markdown",
   "id": "40de6c7c",
   "metadata": {},
   "source": [
    "- ***comment: remainder forecast is meaningful only for short term!***"
   ]
  },
  {
   "cell_type": "markdown",
   "id": "b8c044cf",
   "metadata": {},
   "source": [
    "**total forecasts**"
   ]
  },
  {
   "cell_type": "code",
   "execution_count": null,
   "id": "e5ca9e1f",
   "metadata": {},
   "outputs": [],
   "source": [
    "test['total_pred'] = \\\n",
    "test['baseline_pred'] + forecast_remainder(lag1)"
   ]
  },
  {
   "cell_type": "markdown",
   "id": "4efd6413",
   "metadata": {},
   "source": [
    "**check forecasts**"
   ]
  },
  {
   "cell_type": "code",
   "execution_count": null,
   "id": "8c2ece12",
   "metadata": {},
   "outputs": [],
   "source": [
    "test[['production','baseline_pred','total_pred']].head()"
   ]
  },
  {
   "cell_type": "markdown",
   "id": "d2571e6e",
   "metadata": {},
   "source": [
    "**plots**"
   ]
  },
  {
   "cell_type": "code",
   "execution_count": null,
   "id": "8dc25429",
   "metadata": {},
   "outputs": [],
   "source": [
    "mpl.rc('figure',figsize=(12,3),dpi=100)\n",
    "test[['production','baseline_pred','total_pred']].plot(legend=True)\n",
    "sns.despine()"
   ]
  },
  {
   "cell_type": "markdown",
   "id": "0863c674",
   "metadata": {},
   "source": [
    "### 2.4 Model Performance"
   ]
  },
  {
   "cell_type": "markdown",
   "id": "3a2cdbdc",
   "metadata": {},
   "source": [
    "**baseline model**"
   ]
  },
  {
   "cell_type": "code",
   "execution_count": null,
   "id": "7ba77769",
   "metadata": {},
   "outputs": [],
   "source": [
    "r2_ts = round(baseline_model.score(X_test_baseline,y_test),6)\n",
    "print(f\"r2_score: {r2_ts}\")"
   ]
  },
  {
   "cell_type": "markdown",
   "id": "ece8584d",
   "metadata": {},
   "source": [
    "**complete model**"
   ]
  },
  {
   "cell_type": "code",
   "execution_count": null,
   "id": "d0f42342",
   "metadata": {},
   "outputs": [],
   "source": [
    "r2_tot = round(r2_score(y_test,test['total_pred']),6)\n",
    "print(f\"r2_score: {r2_tot}\")"
   ]
  },
  {
   "cell_type": "markdown",
   "id": "5c2c5d79",
   "metadata": {},
   "source": [
    "<hr style=\"border:2px solid black\">"
   ]
  },
  {
   "cell_type": "markdown",
   "id": "2a9d03fb",
   "metadata": {},
   "source": [
    "## 3. Baseline Model II"
   ]
  },
  {
   "cell_type": "markdown",
   "id": "6fecd2dd",
   "metadata": {},
   "source": [
    "- hyperparameter tuning with cross-validation"
   ]
  },
  {
   "cell_type": "markdown",
   "id": "60293455",
   "metadata": {},
   "source": [
    "### 3.1 Time-Series Cross-Validation"
   ]
  },
  {
   "cell_type": "markdown",
   "id": "efb6a298",
   "metadata": {},
   "source": [
    "- ordinary cross validation cannot be used because of time ordering\n",
    "- cross-validation on a rolling basis (sliding window)"
   ]
  },
  {
   "attachments": {
    "time_series_cv.png": {
     "image/png": "[encoded data removed]"
    }
   },
   "cell_type": "markdown",
   "id": "05468303",
   "metadata": {},
   "source": [
    "![time_series_cv.png](attachment:time_series_cv.png)"
   ]
  },
  {
   "cell_type": "markdown",
   "id": "26a2eb38",
   "metadata": {},
   "source": [
    "**features and target**"
   ]
  },
  {
   "cell_type": "code",
   "execution_count": null,
   "id": "cb1cb450",
   "metadata": {},
   "outputs": [],
   "source": [
    "Xb = df[['timestep','month']]\n",
    "yb = df['production']"
   ]
  },
  {
   "cell_type": "markdown",
   "id": "98e72e5f",
   "metadata": {},
   "source": [
    "**column transformation**"
   ]
  },
  {
   "cell_type": "code",
   "execution_count": null,
   "id": "d3beea67",
   "metadata": {},
   "outputs": [],
   "source": [
    "transformer = ColumnTransformer([\n",
    "    ('poly', PolynomialFeatures(), ['timestep']),\n",
    "    ('ohe', OneHotEncoder(drop='first'), ['month'])]\n",
    ")"
   ]
  },
  {
   "cell_type": "markdown",
   "id": "93982fa2",
   "metadata": {},
   "source": [
    "**grid estimator**"
   ]
  },
  {
   "cell_type": "code",
   "execution_count": null,
   "id": "87146f52",
   "metadata": {},
   "outputs": [],
   "source": [
    "estimator = Pipeline([\n",
    "        ('transformer', transformer),\n",
    "        ('lr', LinearRegression())]\n",
    ")"
   ]
  },
  {
   "cell_type": "markdown",
   "id": "0ab4c986",
   "metadata": {},
   "source": [
    "**parameter grid**"
   ]
  },
  {
   "cell_type": "code",
   "execution_count": null,
   "id": "14a4c0e2",
   "metadata": {},
   "outputs": [],
   "source": [
    "param_grid = {'transformer__poly__degree': [2,3,4]}"
   ]
  },
  {
   "cell_type": "markdown",
   "id": "bee0bbb9",
   "metadata": {},
   "source": [
    "**3-fold cross-validator**"
   ]
  },
  {
   "cell_type": "code",
   "execution_count": null,
   "id": "e4c372d2",
   "metadata": {},
   "outputs": [],
   "source": [
    "cv = TimeSeriesSplit(n_splits=3)"
   ]
  },
  {
   "cell_type": "markdown",
   "id": "d0749558",
   "metadata": {},
   "source": [
    "**instantiate GridSearchCV**"
   ]
  },
  {
   "cell_type": "code",
   "execution_count": null,
   "id": "2069cdb4",
   "metadata": {
    "scrolled": true
   },
   "outputs": [],
   "source": [
    "gscv = GridSearchCV(\n",
    "    estimator=estimator,\n",
    "    param_grid=param_grid,\n",
    "    scoring='r2',\n",
    "    cv=cv, \n",
    "    n_jobs=-1\n",
    ")"
   ]
  },
  {
   "cell_type": "markdown",
   "id": "d709c747",
   "metadata": {},
   "source": [
    "**grid-search cross-validation**"
   ]
  },
  {
   "cell_type": "code",
   "execution_count": null,
   "id": "a41050bf",
   "metadata": {},
   "outputs": [],
   "source": [
    "# initial time\n",
    "ti = time.time()\n",
    "\n",
    "# grid-search cross-validation\n",
    "gscv.fit(Xb,yb)\n",
    "\n",
    "# final time \n",
    "tf = time.time()\n",
    "\n",
    "# time taken\n",
    "print(f\"time taken: {round(tf-ti,2)} sec\")"
   ]
  },
  {
   "cell_type": "markdown",
   "id": "4d425da7",
   "metadata": {},
   "source": [
    "**cross-validation results**"
   ]
  },
  {
   "cell_type": "code",
   "execution_count": null,
   "id": "6e692480",
   "metadata": {},
   "outputs": [],
   "source": [
    "gscv.cv_results_"
   ]
  },
  {
   "cell_type": "code",
   "execution_count": null,
   "id": "c57ab572",
   "metadata": {},
   "outputs": [],
   "source": [
    "column_list = ['param_transformer__poly__degree',\n",
    "               'mean_test_score',\n",
    "               'std_test_score',\n",
    "               'rank_test_score'\n",
    "              ]\n",
    "result_df = pd.DataFrame(gscv.cv_results_)[column_list]\n",
    "\n",
    "result_df.rename(\n",
    "    columns=lambda name: name.split('__')[-1],inplace=True\n",
    ")\n",
    "result_df"
   ]
  },
  {
   "cell_type": "markdown",
   "id": "5b6d7173",
   "metadata": {},
   "source": [
    "**best hyperparameters**"
   ]
  },
  {
   "cell_type": "code",
   "execution_count": null,
   "id": "f6444c14",
   "metadata": {},
   "outputs": [],
   "source": [
    "gscv.best_params_"
   ]
  },
  {
   "cell_type": "markdown",
   "id": "f17a9278",
   "metadata": {},
   "source": [
    "### 3.2 Build Model"
   ]
  },
  {
   "cell_type": "markdown",
   "id": "d0314a14",
   "metadata": {},
   "source": [
    "**instantiate best estimator**"
   ]
  },
  {
   "cell_type": "code",
   "execution_count": null,
   "id": "e36150b6",
   "metadata": {},
   "outputs": [],
   "source": [
    "baseline_model_cv = gscv.best_estimator_"
   ]
  },
  {
   "cell_type": "markdown",
   "id": "5a65a89f",
   "metadata": {},
   "source": [
    "**build model**"
   ]
  },
  {
   "cell_type": "code",
   "execution_count": null,
   "id": "62347fc0",
   "metadata": {},
   "outputs": [],
   "source": [
    "baseline_model_cv.fit(Xb,yb)"
   ]
  },
  {
   "cell_type": "markdown",
   "id": "49ee1d82",
   "metadata": {},
   "source": [
    "### 3.3 Forecasts"
   ]
  },
  {
   "cell_type": "markdown",
   "id": "87c00a5d",
   "metadata": {},
   "source": [
    "**improved baseline forecasts**"
   ]
  },
  {
   "cell_type": "code",
   "execution_count": null,
   "id": "efd903fc",
   "metadata": {},
   "outputs": [],
   "source": [
    "test['baseline_pred_cv'] = baseline_model_cv.predict(X_test_baseline)"
   ]
  },
  {
   "cell_type": "markdown",
   "id": "78eb4abb",
   "metadata": {},
   "source": [
    "**check forecasts**"
   ]
  },
  {
   "cell_type": "code",
   "execution_count": null,
   "id": "a6c8626c",
   "metadata": {},
   "outputs": [],
   "source": [
    "test[['production','baseline_pred','baseline_pred_cv']].head()"
   ]
  },
  {
   "cell_type": "markdown",
   "id": "43ef66a3",
   "metadata": {},
   "source": [
    "**model performance**"
   ]
  },
  {
   "cell_type": "code",
   "execution_count": null,
   "id": "a0a11654",
   "metadata": {},
   "outputs": [],
   "source": [
    "r2_bimp = round(baseline_model_cv.score(X_test_baseline,y_test),6)\n",
    "print(f\"r2_score: {r2_bimp}\")"
   ]
  },
  {
   "cell_type": "markdown",
   "id": "bdd20300",
   "metadata": {},
   "source": [
    "<hr style=\"border:2px solid black\">"
   ]
  },
  {
   "cell_type": "markdown",
   "id": "5e869fce",
   "metadata": {},
   "source": [
    "## 4. Remainder Model II"
   ]
  },
  {
   "cell_type": "markdown",
   "id": "65aa662a",
   "metadata": {},
   "source": [
    "- use a smart alternative evaluation metric instead of cross-validation \n",
    "- metric should take care of both over- and underfitting"
   ]
  },
  {
   "cell_type": "markdown",
   "id": "827b1bb6",
   "metadata": {},
   "source": [
    "### 4.1 `Akaike Information Criterion (AIC)`\n",
    "\n",
    ">$$\n",
    "\\text{AIC} = 2k - 2\\log\\hat{L}\n",
    "$$\n",
    ">- $k =$ number of estimated parameters in the model; penalizes overfitting\n",
    ">- $\\hat{L} = $ maximum value of the likelihood function for the model; penalizes underfitting\n",
    ">- the lower the AIC, the better the model"
   ]
  },
  {
   "cell_type": "markdown",
   "id": "01811062",
   "metadata": {},
   "source": [
    "### 4.2 Model Selection"
   ]
  },
  {
   "cell_type": "markdown",
   "id": "d2746e1c",
   "metadata": {},
   "source": [
    "**extract remainder**"
   ]
  },
  {
   "cell_type": "code",
   "execution_count": null,
   "id": "376f551f",
   "metadata": {},
   "outputs": [],
   "source": [
    "df['remainder'] = df['production'] - baseline_model_cv.predict(Xb)"
   ]
  },
  {
   "cell_type": "markdown",
   "id": "cceb9de2",
   "metadata": {},
   "source": [
    "`pip install pmdarima`\n",
    "- ARIMA estimators for Python"
   ]
  },
  {
   "cell_type": "code",
   "execution_count": null,
   "id": "67241d66",
   "metadata": {},
   "outputs": [],
   "source": [
    "import pmdarima as pm"
   ]
  },
  {
   "cell_type": "code",
   "execution_count": null,
   "id": "3df837ad",
   "metadata": {},
   "outputs": [],
   "source": [
    "arima_model = pm.auto_arima(\n",
    "    df['remainder'], \n",
    "    start_p=0,\n",
    "    max_p=5,\n",
    "    seasonality = False,\n",
    "    stationarity = True,\n",
    "    trace = True,\n",
    "    n_jobs=-1\n",
    ")"
   ]
  },
  {
   "cell_type": "code",
   "execution_count": null,
   "id": "ac918583",
   "metadata": {},
   "outputs": [],
   "source": [
    "df['arima_predictions'] = arima_model.predict_in_sample()\n",
    "\n",
    "# Plot original remainder and prediction\n",
    "mpl.rc('figure',figsize=(12,3),dpi=100)\n",
    "\n",
    "df[['remainder','arima_predictions']].plot(legend=True)\n",
    "sns.despine()"
   ]
  },
  {
   "cell_type": "markdown",
   "id": "927faeff",
   "metadata": {},
   "source": [
    "### 4.3 Total Improved Forecasts"
   ]
  },
  {
   "cell_type": "markdown",
   "id": "905b270a",
   "metadata": {},
   "source": [
    "**improved forecasts**"
   ]
  },
  {
   "cell_type": "code",
   "execution_count": null,
   "id": "356ccadc",
   "metadata": {},
   "outputs": [],
   "source": [
    "test['arima_pred'] = \\\n",
    "arima_model.predict(test.shape[0], return_conf_int=True)[0]\n",
    "\n",
    "test['total_pred_new'] = test['baseline_pred_cv'] + test['arima_pred']"
   ]
  },
  {
   "cell_type": "markdown",
   "id": "c9e7ffc2",
   "metadata": {},
   "source": [
    "**check forecasts**"
   ]
  },
  {
   "cell_type": "code",
   "execution_count": null,
   "id": "7ce76fdf",
   "metadata": {},
   "outputs": [],
   "source": [
    "test[['production','total_pred','total_pred_new']].head()"
   ]
  },
  {
   "cell_type": "markdown",
   "id": "ec2a31d1",
   "metadata": {},
   "source": [
    "**plots**"
   ]
  },
  {
   "cell_type": "code",
   "execution_count": null,
   "id": "0c4c079c",
   "metadata": {},
   "outputs": [],
   "source": [
    "mpl.rc('figure',figsize=(12,3),dpi=100)\n",
    "test[['production','total_pred','total_pred_new']].plot(figsize=(12,4),legend=True)\n",
    "sns.despine()"
   ]
  },
  {
   "cell_type": "markdown",
   "id": "c23390d6",
   "metadata": {},
   "source": [
    "**model performance**"
   ]
  },
  {
   "cell_type": "code",
   "execution_count": null,
   "id": "774e3bb1",
   "metadata": {},
   "outputs": [],
   "source": [
    "r2_timp = round(r2_score(test['production'],test['total_pred_new']),6)\n",
    "print(f\"r2_score: {r2_timp}\")"
   ]
  },
  {
   "cell_type": "markdown",
   "id": "0c40051c",
   "metadata": {},
   "source": [
    "<hr style=\"border:2px solid black\">"
   ]
  },
  {
   "cell_type": "markdown",
   "id": "37ac9b12",
   "metadata": {},
   "source": [
    "## References\n",
    "\n",
    "- Forecasting: Principles and Practice, R. J. Hyndman & G. Athanasopoulos,\n",
    "[OTexts Free Online Book](https://otexts.com/fpp3/)\n",
    "- [Cross Validation in Time Series](https://medium.com/@soumyachess1496/cross-validation-in-time-series-566ae4981ce4)"
   ]
  }
 ],
 "metadata": {
  "kernelspec": {
   "display_name": "Python 3 (ipykernel)",
   "language": "python",
   "name": "python3"
  },
  "language_info": {
   "codemirror_mode": {
    "name": "ipython",
    "version": 3
   },
   "file_extension": ".py",
   "mimetype": "text/x-python",
   "name": "python",
   "nbconvert_exporter": "python",
   "pygments_lexer": "ipython3",
   "version": "3.11.3"
  }
 },
 "nbformat": 4,
 "nbformat_minor": 5
}
