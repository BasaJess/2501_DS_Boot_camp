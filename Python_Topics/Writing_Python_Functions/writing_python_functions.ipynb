{
 "cells": [
  {
   "cell_type": "markdown",
   "id": "51040d25",
   "metadata": {},
   "source": [
    "# Writing Python Functions\n",
    "<hr style=\"border:2px solid black\">"
   ]
  },
  {
   "cell_type": "markdown",
   "id": "f69fa23f",
   "metadata": {},
   "source": [
    "## 1. Introduction"
   ]
  },
  {
   "cell_type": "markdown",
   "id": "8bcf5019",
   "metadata": {},
   "source": [
    "**What is a function?**\n",
    "\n",
    ">- a self-contained block of code that performs a specific task\n",
    ">- takes a number of inputs (*arguments*)\n",
    ">- executes certain operations on them\n",
    ">- spits out a number of outputs (*return values*)"
   ]
  },
  {
   "cell_type": "markdown",
   "id": "4a78664b",
   "metadata": {},
   "source": [
    "**Why functions?** \n",
    "\n",
    ">- group code that get executed multiple times\n",
    ">- avoid repetative lengthy code  \n",
    ">- make code more readable\n",
    ">- make bug-fixing/ updating easier"
   ]
  },
  {
   "cell_type": "markdown",
   "id": "f09abb61",
   "metadata": {},
   "source": [
    "**Types of functions**\n",
    ">|          type         |                    description                        |\n",
    " |:---------------------:|:-----------------------------------------------------:|\n",
    " |  `built-in function`  |made always available for use by the Python interpreter|\n",
    " |`user-defined function`|   defined by the user for doing some specific task    |\n",
    " |  `lambda expression`  |       do not have a name (anonymous function)         |\n",
    " | `recursive function`  |        defines something in terms of itself           |\n",
    " |`higher-order function`|  takes (gives) another function as an input (output)  |\n",
    " |      `generator`      |  generates an iterator with help of yield statement   |\n",
    " |      `decorator`      |     modifies the functionality of other functions     |"
   ]
  },
  {
   "cell_type": "markdown",
   "id": "d7bb14f0",
   "metadata": {},
   "source": [
    "<hr style=\"border:2px solid black\">"
   ]
  },
  {
   "cell_type": "markdown",
   "id": "3b242760",
   "metadata": {},
   "source": [
    "## 2. Built-in Functions "
   ]
  },
  {
   "cell_type": "markdown",
   "id": "166f208b",
   "metadata": {},
   "source": [
    "**`print()`**"
   ]
  },
  {
   "cell_type": "code",
   "execution_count": 1,
   "id": "a1a678da",
   "metadata": {},
   "outputs": [
    {
     "name": "stdout",
     "output_type": "stream",
     "text": [
      "This encounter is about Python functions!\n"
     ]
    }
   ],
   "source": [
    "print(\"This encounter is about Python functions!\")"
   ]
  },
  {
   "cell_type": "markdown",
   "id": "fcd1bd9b",
   "metadata": {},
   "source": [
    "**`type()`**"
   ]
  },
  {
   "cell_type": "code",
   "execution_count": 2,
   "id": "69f39513",
   "metadata": {},
   "outputs": [
    {
     "data": {
      "text/plain": [
       "str"
      ]
     },
     "execution_count": 2,
     "metadata": {},
     "output_type": "execute_result"
    }
   ],
   "source": [
    "type(\"This encounter is about Python functions!\")"
   ]
  },
  {
   "cell_type": "markdown",
   "id": "7e8d1c80",
   "metadata": {},
   "source": [
    "**`len()`**"
   ]
  },
  {
   "cell_type": "code",
   "execution_count": 3,
   "id": "54d97c41",
   "metadata": {},
   "outputs": [],
   "source": [
    "letter_list = ['a','b','c','d','e']\n",
    "number_list = [1,2,2,3,3,3,4,5,]"
   ]
  },
  {
   "cell_type": "code",
   "execution_count": 4,
   "id": "b4917020",
   "metadata": {},
   "outputs": [
    {
     "data": {
      "text/plain": [
       "8"
      ]
     },
     "execution_count": 4,
     "metadata": {},
     "output_type": "execute_result"
    }
   ],
   "source": [
    "len(number_list)"
   ]
  },
  {
   "cell_type": "markdown",
   "id": "942153af",
   "metadata": {},
   "source": [
    "**`set()`**"
   ]
  },
  {
   "cell_type": "code",
   "execution_count": 5,
   "id": "60abe654",
   "metadata": {},
   "outputs": [
    {
     "data": {
      "text/plain": [
       "({1, 2, 3, 4, 5}, set)"
      ]
     },
     "execution_count": 5,
     "metadata": {},
     "output_type": "execute_result"
    }
   ],
   "source": [
    "number_set = set(number_list)\n",
    "number_set, type(number_set)"
   ]
  },
  {
   "cell_type": "markdown",
   "id": "cb3a89db",
   "metadata": {},
   "source": [
    "**`list()`**"
   ]
  },
  {
   "cell_type": "code",
   "execution_count": 6,
   "id": "a66caa68",
   "metadata": {},
   "outputs": [
    {
     "data": {
      "text/plain": [
       "[1, 2, 3, 4, 5]"
      ]
     },
     "execution_count": 6,
     "metadata": {},
     "output_type": "execute_result"
    }
   ],
   "source": [
    "number_list = list(number_set)\n",
    "number_list"
   ]
  },
  {
   "cell_type": "markdown",
   "id": "caa6ca6c",
   "metadata": {},
   "source": [
    "**`zip()`**"
   ]
  },
  {
   "cell_type": "code",
   "execution_count": 7,
   "id": "f9c4cf4d",
   "metadata": {},
   "outputs": [
    {
     "data": {
      "text/plain": [
       "[('a', 1), ('b', 2), ('c', 3), ('d', 4), ('e', 5)]"
      ]
     },
     "execution_count": 7,
     "metadata": {},
     "output_type": "execute_result"
    }
   ],
   "source": [
    "list(zip(letter_list,number_list))"
   ]
  },
  {
   "cell_type": "markdown",
   "id": "2e1c4b2e",
   "metadata": {},
   "source": [
    "**`dict()`**"
   ]
  },
  {
   "cell_type": "code",
   "execution_count": 8,
   "id": "b42ffa4c",
   "metadata": {},
   "outputs": [
    {
     "data": {
      "text/plain": [
       "{'a': 1, 'b': 2, 'c': 3, 'd': 4, 'e': 5}"
      ]
     },
     "execution_count": 8,
     "metadata": {},
     "output_type": "execute_result"
    }
   ],
   "source": [
    "letter_number_dict = dict(zip(letter_list,number_list))\n",
    "letter_number_dict"
   ]
  },
  {
   "cell_type": "code",
   "execution_count": 9,
   "id": "0501ddab",
   "metadata": {},
   "outputs": [
    {
     "name": "stdout",
     "output_type": "stream",
     "text": [
      "a\n",
      "b\n",
      "c\n",
      "d\n",
      "e\n"
     ]
    }
   ],
   "source": [
    "for x in letter_number_dict:\n",
    "    print(x)"
   ]
  },
  {
   "cell_type": "markdown",
   "id": "ffd3f063",
   "metadata": {},
   "source": [
    "**`enumerate()`**"
   ]
  },
  {
   "cell_type": "code",
   "execution_count": 10,
   "id": "a3bc4a0c",
   "metadata": {},
   "outputs": [
    {
     "name": "stdout",
     "output_type": "stream",
     "text": [
      "0 elements appear before the letter a\n",
      "1 elements appear before the letter b\n",
      "2 elements appear before the letter c\n",
      "3 elements appear before the letter d\n",
      "4 elements appear before the letter e\n"
     ]
    }
   ],
   "source": [
    "for index,letter in enumerate(letter_list):\n",
    "    print(f\"{index} elements appear before the letter {letter}\")"
   ]
  },
  {
   "cell_type": "markdown",
   "id": "2b774b65",
   "metadata": {},
   "source": [
    "**`vars()`**"
   ]
  },
  {
   "cell_type": "code",
   "execution_count": 11,
   "id": "ab8c7511",
   "metadata": {},
   "outputs": [
    {
     "data": {
      "text/plain": [
       "3.0"
      ]
     },
     "execution_count": 11,
     "metadata": {},
     "output_type": "execute_result"
    }
   ],
   "source": [
    "import pandas as pd\n",
    "\n",
    "# number_series = pd.Series(number_list)\n",
    "vars()['number_series'] = pd.Series(number_list)\n",
    "\n",
    "number_series.mean()"
   ]
  },
  {
   "cell_type": "code",
   "execution_count": 12,
   "id": "48e02f1a",
   "metadata": {},
   "outputs": [
    {
     "data": {
      "text/plain": [
       "dict"
      ]
     },
     "execution_count": 12,
     "metadata": {},
     "output_type": "execute_result"
    }
   ],
   "source": [
    "type(vars())"
   ]
  },
  {
   "cell_type": "markdown",
   "id": "99376b4b",
   "metadata": {},
   "source": [
    "<hr style=\"border:2px solid black\">"
   ]
  },
  {
   "cell_type": "markdown",
   "id": "a5372315",
   "metadata": {},
   "source": [
    "## 3. User-defined Functions "
   ]
  },
  {
   "cell_type": "markdown",
   "id": "57587119",
   "metadata": {},
   "source": [
    "### 3.1 How to write functions?\n",
    "\n",
    ">- a function should have a single purpose\n",
    ">- start with the def keyword\n",
    ">- followed by the function_name in lower case with underscores (*snake case*)\n",
    ">- followed by parentheses () and a colon :\n",
    ">- after the : you need to indent the code of the function\n",
    ">- the indented part, the function definition, recommended to include a docstring describing what the function does\n",
    ">- parameters of a function are defined in the ()\n",
    ">- one or more return statements (but not mandatory)"
   ]
  },
  {
   "cell_type": "markdown",
   "id": "cd1999b2",
   "metadata": {},
   "source": [
    "<img src=\"python_function.png\" width=\"600\"/>"
   ]
  },
  {
   "cell_type": "markdown",
   "id": "8bca97d9",
   "metadata": {},
   "source": [
    "**Parameter vs argument**\n",
    "\n",
    ">- a parameter is a variable used while defining a function\n",
    ">- an argument is a value that is passed to the function when it is called\n",
    ">- when a function is called, argument is stored in the corresponding parameter variable"
   ]
  },
  {
   "cell_type": "markdown",
   "id": "5de1ba43",
   "metadata": {},
   "source": [
    "### 3.2 Examples"
   ]
  },
  {
   "cell_type": "code",
   "execution_count": 13,
   "id": "7c0c60e7",
   "metadata": {},
   "outputs": [],
   "source": [
    "def hello_world():\n",
    "    print(' hello world!')"
   ]
  },
  {
   "cell_type": "code",
   "execution_count": 14,
   "id": "3549be82",
   "metadata": {},
   "outputs": [
    {
     "name": "stdout",
     "output_type": "stream",
     "text": [
      " hello world!\n"
     ]
    }
   ],
   "source": [
    "hello_world()"
   ]
  },
  {
   "cell_type": "code",
   "execution_count": 15,
   "id": "b6b5700a",
   "metadata": {},
   "outputs": [],
   "source": [
    "def hello_world_from_someone(name):\n",
    "    print(name+' says hello world!')"
   ]
  },
  {
   "cell_type": "code",
   "execution_count": 16,
   "id": "d3ca9b7d",
   "metadata": {},
   "outputs": [
    {
     "name": "stdout",
     "output_type": "stream",
     "text": [
      "Annika says hello world!\n"
     ]
    }
   ],
   "source": [
    "hello_world_from_someone('Annika')"
   ]
  },
  {
   "cell_type": "markdown",
   "id": "ed74a005",
   "metadata": {},
   "source": [
    "**positional vs keyword arguments**"
   ]
  },
  {
   "cell_type": "code",
   "execution_count": 17,
   "id": "4e6c13b3",
   "metadata": {},
   "outputs": [],
   "source": [
    "def add(n,m,p):\n",
    "    return n+m+p"
   ]
  },
  {
   "cell_type": "code",
   "execution_count": 18,
   "id": "65ad40b6",
   "metadata": {},
   "outputs": [
    {
     "data": {
      "text/plain": [
       "7"
      ]
     },
     "execution_count": 18,
     "metadata": {},
     "output_type": "execute_result"
    }
   ],
   "source": [
    "add(2,p=2,m=3)"
   ]
  },
  {
   "cell_type": "code",
   "execution_count": 19,
   "id": "0396eff7",
   "metadata": {},
   "outputs": [
    {
     "ename": "SyntaxError",
     "evalue": "positional argument follows keyword argument (2578139810.py, line 1)",
     "output_type": "error",
     "traceback": [
      "\u001b[0;36m  Cell \u001b[0;32mIn[19], line 1\u001b[0;36m\u001b[0m\n\u001b[0;31m    add(p=2,2,m=3)\u001b[0m\n\u001b[0m                 ^\u001b[0m\n\u001b[0;31mSyntaxError\u001b[0m\u001b[0;31m:\u001b[0m positional argument follows keyword argument\n"
     ]
    }
   ],
   "source": [
    "add(p=2,2,m=3)"
   ]
  },
  {
   "cell_type": "markdown",
   "id": "e10419f3",
   "metadata": {},
   "source": [
    "**default parameter**"
   ]
  },
  {
   "cell_type": "code",
   "execution_count": 20,
   "id": "3f9b83a9",
   "metadata": {},
   "outputs": [],
   "source": [
    "def perimeter(x,y,z=3):\n",
    "    sum_of_arms = x+y+z\n",
    "    return sum_of_arms"
   ]
  },
  {
   "cell_type": "code",
   "execution_count": 21,
   "id": "96ee28e7",
   "metadata": {},
   "outputs": [
    {
     "data": {
      "text/plain": [
       "7"
      ]
     },
     "execution_count": 21,
     "metadata": {},
     "output_type": "execute_result"
    }
   ],
   "source": [
    "perimeter(2,2)"
   ]
  },
  {
   "cell_type": "markdown",
   "id": "056a32c0",
   "metadata": {},
   "source": [
    "**return value**"
   ]
  },
  {
   "cell_type": "code",
   "execution_count": 22,
   "id": "1217448b",
   "metadata": {},
   "outputs": [],
   "source": [
    "def no_function():\n",
    "    pass"
   ]
  },
  {
   "cell_type": "code",
   "execution_count": 23,
   "id": "f44c279e",
   "metadata": {},
   "outputs": [],
   "source": [
    "no_output = no_function()\n",
    "no_output"
   ]
  },
  {
   "cell_type": "code",
   "execution_count": 24,
   "id": "8a45612a",
   "metadata": {},
   "outputs": [
    {
     "data": {
      "text/plain": [
       "NoneType"
      ]
     },
     "execution_count": 24,
     "metadata": {},
     "output_type": "execute_result"
    }
   ],
   "source": [
    "type(no_output)"
   ]
  },
  {
   "cell_type": "markdown",
   "id": "48c2eaa0",
   "metadata": {},
   "source": [
    "#### tuple unpacking"
   ]
  },
  {
   "cell_type": "code",
   "execution_count": 25,
   "id": "aaf84b0b",
   "metadata": {},
   "outputs": [],
   "source": [
    "def my_function(n,m):\n",
    "    sum_ = n+m\n",
    "    difference_ = abs(n-m)\n",
    "    return sum_, difference_"
   ]
  },
  {
   "cell_type": "code",
   "execution_count": 26,
   "id": "b6ccaa42",
   "metadata": {},
   "outputs": [
    {
     "data": {
      "text/plain": [
       "(8, 2)"
      ]
     },
     "execution_count": 26,
     "metadata": {},
     "output_type": "execute_result"
    }
   ],
   "source": [
    "results = my_function(5,3)\n",
    "results"
   ]
  },
  {
   "cell_type": "code",
   "execution_count": 27,
   "id": "797b0987",
   "metadata": {},
   "outputs": [
    {
     "data": {
      "text/plain": [
       "8"
      ]
     },
     "execution_count": 27,
     "metadata": {},
     "output_type": "execute_result"
    }
   ],
   "source": [
    "results[0]"
   ]
  },
  {
   "cell_type": "code",
   "execution_count": 28,
   "id": "8e63e0c5",
   "metadata": {},
   "outputs": [
    {
     "data": {
      "text/plain": [
       "2"
      ]
     },
     "execution_count": 28,
     "metadata": {},
     "output_type": "execute_result"
    }
   ],
   "source": [
    "results[1]"
   ]
  },
  {
   "cell_type": "code",
   "execution_count": 31,
   "id": "5f19d0e3",
   "metadata": {},
   "outputs": [],
   "source": [
    "sum_, difference_ = my_function(5,3)"
   ]
  },
  {
   "cell_type": "code",
   "execution_count": 32,
   "id": "de53bd4c",
   "metadata": {},
   "outputs": [
    {
     "data": {
      "text/plain": [
       "8"
      ]
     },
     "execution_count": 32,
     "metadata": {},
     "output_type": "execute_result"
    }
   ],
   "source": [
    "sum_"
   ]
  },
  {
   "cell_type": "code",
   "execution_count": 33,
   "id": "8a49920d",
   "metadata": {},
   "outputs": [
    {
     "data": {
      "text/plain": [
       "2"
      ]
     },
     "execution_count": 33,
     "metadata": {},
     "output_type": "execute_result"
    }
   ],
   "source": [
    "difference_"
   ]
  },
  {
   "cell_type": "markdown",
   "id": "e900d9e2",
   "metadata": {},
   "source": [
    "### 3.3 Excess Parameters: `*args` and `**kwargs`\n",
    "\n",
    ">- parameters not defined until the function is called\n",
    ">- gives flexibility to pass arbitrary number of arguments\n",
    ">- `*args`: collection of additional unnamed parameters (excess positional parameters)\n",
    ">- `**kwargs`: dictionary for additional named parameters (excess keyword parameters)"
   ]
  },
  {
   "cell_type": "code",
   "execution_count": 34,
   "id": "0b538ad2",
   "metadata": {},
   "outputs": [],
   "source": [
    "def sum_of_numbers(list_of_numbers):\n",
    "    sum_ = 0\n",
    "    for number in list_of_numbers:\n",
    "        sum_ += number\n",
    "    return sum_"
   ]
  },
  {
   "cell_type": "code",
   "execution_count": 35,
   "id": "b1478001",
   "metadata": {},
   "outputs": [
    {
     "data": {
      "text/plain": [
       "6"
      ]
     },
     "execution_count": 35,
     "metadata": {},
     "output_type": "execute_result"
    }
   ],
   "source": [
    "sum_of_numbers([1,2,3])"
   ]
  },
  {
   "cell_type": "code",
   "execution_count": 36,
   "id": "d5438c49",
   "metadata": {},
   "outputs": [],
   "source": [
    "def polygon_perimeter(*arms):\n",
    "    perimeter_ = 0\n",
    "    for arm in arms:\n",
    "        perimeter_ += arm\n",
    "    return perimeter_"
   ]
  },
  {
   "cell_type": "code",
   "execution_count": 37,
   "id": "a06a93b8",
   "metadata": {},
   "outputs": [
    {
     "data": {
      "text/plain": [
       "42"
      ]
     },
     "execution_count": 37,
     "metadata": {},
     "output_type": "execute_result"
    }
   ],
   "source": [
    "polygon_perimeter(2,3,3,4,6,7,8,1,8)"
   ]
  },
  {
   "cell_type": "code",
   "execution_count": 38,
   "id": "2e6c9792",
   "metadata": {},
   "outputs": [],
   "source": [
    "def birthday_function(**info):\n",
    "    for name,birthday in info.items():\n",
    "        print(name + ' was born on '+ birthday)"
   ]
  },
  {
   "cell_type": "code",
   "execution_count": 39,
   "id": "d2b90469",
   "metadata": {},
   "outputs": [
    {
     "name": "stdout",
     "output_type": "stream",
     "text": [
      "Galileo was born on 15.02.1564\n",
      "Newton was born on 25.12.1642\n",
      "Maxwell was born on 13.06.1831\n",
      "Einstein was born on 14.03.1879\n"
     ]
    }
   ],
   "source": [
    "birthday_function(\n",
    "    Galileo='15.02.1564',\n",
    "    Newton='25.12.1642',\n",
    "    Maxwell='13.06.1831',\n",
    "    Einstein='14.03.1879'\n",
    ")"
   ]
  },
  {
   "cell_type": "markdown",
   "id": "d3003b5f",
   "metadata": {},
   "source": [
    "#### caution:\n",
    "using a list or some other mutable data structure as a function argument can be risky!"
   ]
  },
  {
   "cell_type": "code",
   "execution_count": 40,
   "id": "0aa0474e",
   "metadata": {},
   "outputs": [],
   "source": [
    "def test_function(list_):\n",
    "    list_[-1] = 6\n",
    "    return list_"
   ]
  },
  {
   "cell_type": "code",
   "execution_count": 41,
   "id": "893c8e35",
   "metadata": {},
   "outputs": [
    {
     "data": {
      "text/plain": [
       "[1, 2, 3, 4, 6]"
      ]
     },
     "execution_count": 41,
     "metadata": {},
     "output_type": "execute_result"
    }
   ],
   "source": [
    "test_function(number_list)"
   ]
  },
  {
   "cell_type": "code",
   "execution_count": 42,
   "id": "26c7c26f",
   "metadata": {},
   "outputs": [
    {
     "data": {
      "text/plain": [
       "[1, 2, 3, 4, 6]"
      ]
     },
     "execution_count": 42,
     "metadata": {},
     "output_type": "execute_result"
    }
   ],
   "source": [
    "number_list"
   ]
  },
  {
   "cell_type": "markdown",
   "id": "5cda7506",
   "metadata": {},
   "source": [
    "### 3.4 Docstring"
   ]
  },
  {
   "cell_type": "code",
   "execution_count": 43,
   "id": "993c56bb",
   "metadata": {},
   "outputs": [],
   "source": [
    "def triangle_inequality(x,y,z):\n",
    "    \"\"\"\n",
    "    Given three arm lengths, this function checks \n",
    "    if they satisfy triangle inequality\n",
    "    :param x: first arm length\n",
    "    :type x: int\n",
    "    :param y: second arm length\n",
    "    :type y: int\n",
    "    :param z: third arm length\n",
    "    :type z: int\n",
    "    \n",
    "    :rtype: bool\n",
    "    returns True or False based on whether the inequality \n",
    "    is satisfied or not\n",
    "    \"\"\"\n",
    "    arm_list = [x,y,z]\n",
    "    if sum(arm_list) > 2*max(arm_list):\n",
    "        return True\n",
    "    \n",
    "    return False"
   ]
  },
  {
   "cell_type": "code",
   "execution_count": 44,
   "id": "aa293a07",
   "metadata": {},
   "outputs": [
    {
     "data": {
      "text/plain": [
       "False"
      ]
     },
     "execution_count": 44,
     "metadata": {},
     "output_type": "execute_result"
    }
   ],
   "source": [
    "triangle_inequality(2,2,5)"
   ]
  },
  {
   "cell_type": "markdown",
   "id": "41ead71b",
   "metadata": {},
   "source": [
    "### 3.5 Function Annotations"
   ]
  },
  {
   "cell_type": "code",
   "execution_count": 45,
   "id": "fd041397",
   "metadata": {},
   "outputs": [],
   "source": [
    "def triangle_inequality_func_annot(x:'int',y:'int',z:'int'=10)->'bool':\n",
    "    \"\"\"\n",
    "    Given three arm lengths, this function checks if they satisfy triangle inequality\n",
    "    :param x: first arm length\n",
    "    :param y: second arm length\n",
    "    :param z: third arm length, default 10\n",
    "    \n",
    "    returns True or False based on whether the inequality is satisfied\n",
    "    \"\"\"\n",
    "    arm_list = [x,y,z]\n",
    "    if sum(arm_list) > 2*max(arm_list):\n",
    "        return True\n",
    "    \n",
    "    return False"
   ]
  },
  {
   "cell_type": "code",
   "execution_count": 46,
   "id": "cecfd54c",
   "metadata": {},
   "outputs": [
    {
     "data": {
      "text/plain": [
       "{'x': 'int', 'y': 'int', 'z': 'int', 'return': 'bool'}"
      ]
     },
     "execution_count": 46,
     "metadata": {},
     "output_type": "execute_result"
    }
   ],
   "source": [
    "triangle_inequality_func_annot.__annotations__"
   ]
  },
  {
   "cell_type": "code",
   "execution_count": 47,
   "id": "7ca12c42",
   "metadata": {},
   "outputs": [
    {
     "data": {
      "text/plain": [
       "False"
      ]
     },
     "execution_count": 47,
     "metadata": {},
     "output_type": "execute_result"
    }
   ],
   "source": [
    "triangle_inequality_func_annot(5,4)"
   ]
  },
  {
   "cell_type": "markdown",
   "id": "f2fff342",
   "metadata": {},
   "source": [
    "### 3.6 What makes a good function?\n",
    "\n",
    ">- correct syntax, else nothing works\n",
    ">- important to comment/document what the function is doing\n",
    "    + `docstring` \"\"\" ...\"\"\" : gives a description of the function (see [pep documentation](https://www.python.org/dev/peps/pep-0257/#specification)):\n",
    "        - what it does\n",
    "        - the paratemers\n",
    "        - the returns\n",
    ">- good **names**: for the function and its variables\n",
    ">- single purpose: 5-20 lines\n",
    ">- parameters should be intuitively named"
   ]
  },
  {
   "cell_type": "markdown",
   "id": "0a954879",
   "metadata": {},
   "source": [
    "<hr style=\"border:2px solid black\">"
   ]
  },
  {
   "cell_type": "markdown",
   "id": "03e5dab2",
   "metadata": {},
   "source": [
    "## 4. Other Function Types"
   ]
  },
  {
   "cell_type": "markdown",
   "id": "1672ad03",
   "metadata": {},
   "source": [
    "### 4.1 Lambda expression"
   ]
  },
  {
   "cell_type": "markdown",
   "id": "6da03ceb",
   "metadata": {},
   "source": [
    "**example 1**"
   ]
  },
  {
   "cell_type": "code",
   "execution_count": 48,
   "id": "e3fa8ddf",
   "metadata": {},
   "outputs": [],
   "source": [
    "f = lambda x: 3*x+1\n",
    "\n",
    "# def f(x):\n",
    "#     return 3*x+1"
   ]
  },
  {
   "cell_type": "code",
   "execution_count": 49,
   "id": "8237f64d",
   "metadata": {},
   "outputs": [
    {
     "data": {
      "text/plain": [
       "7"
      ]
     },
     "execution_count": 49,
     "metadata": {},
     "output_type": "execute_result"
    }
   ],
   "source": [
    "f(2)"
   ]
  },
  {
   "cell_type": "markdown",
   "id": "6e29060d",
   "metadata": {},
   "source": [
    "**example 2**"
   ]
  },
  {
   "cell_type": "code",
   "execution_count": 50,
   "id": "669f2e5c",
   "metadata": {},
   "outputs": [
    {
     "data": {
      "text/plain": [
       "0     1\n",
       "1     4\n",
       "2     9\n",
       "3    16\n",
       "4    25\n",
       "dtype: int64"
      ]
     },
     "execution_count": 50,
     "metadata": {},
     "output_type": "execute_result"
    }
   ],
   "source": [
    "squared_number_series = number_series.apply(lambda x: x*x)\n",
    "squared_number_series"
   ]
  },
  {
   "cell_type": "markdown",
   "id": "3cf7c731",
   "metadata": {},
   "source": [
    "**example 3**"
   ]
  },
  {
   "cell_type": "code",
   "execution_count": 51,
   "id": "b19d35b8",
   "metadata": {},
   "outputs": [
    {
     "data": {
      "text/html": [
       "<div>\n",
       "<style scoped>\n",
       "    .dataframe tbody tr th:only-of-type {\n",
       "        vertical-align: middle;\n",
       "    }\n",
       "\n",
       "    .dataframe tbody tr th {\n",
       "        vertical-align: top;\n",
       "    }\n",
       "\n",
       "    .dataframe thead th {\n",
       "        text-align: right;\n",
       "    }\n",
       "</style>\n",
       "<table border=\"1\" class=\"dataframe\">\n",
       "  <thead>\n",
       "    <tr style=\"text-align: right;\">\n",
       "      <th></th>\n",
       "      <th>value</th>\n",
       "      <th>value²</th>\n",
       "    </tr>\n",
       "  </thead>\n",
       "  <tbody>\n",
       "    <tr>\n",
       "      <th>0</th>\n",
       "      <td>1</td>\n",
       "      <td>1</td>\n",
       "    </tr>\n",
       "    <tr>\n",
       "      <th>1</th>\n",
       "      <td>2</td>\n",
       "      <td>4</td>\n",
       "    </tr>\n",
       "    <tr>\n",
       "      <th>2</th>\n",
       "      <td>3</td>\n",
       "      <td>9</td>\n",
       "    </tr>\n",
       "    <tr>\n",
       "      <th>3</th>\n",
       "      <td>4</td>\n",
       "      <td>16</td>\n",
       "    </tr>\n",
       "    <tr>\n",
       "      <th>4</th>\n",
       "      <td>5</td>\n",
       "      <td>25</td>\n",
       "    </tr>\n",
       "  </tbody>\n",
       "</table>\n",
       "</div>"
      ],
      "text/plain": [
       "   value  value²\n",
       "0      1       1\n",
       "1      2       4\n",
       "2      3       9\n",
       "3      4      16\n",
       "4      5      25"
      ]
     },
     "execution_count": 51,
     "metadata": {},
     "output_type": "execute_result"
    }
   ],
   "source": [
    "df = pd.DataFrame({\n",
    "    'value':number_series,\n",
    "    'value²':squared_number_series\n",
    "})\n",
    "df"
   ]
  },
  {
   "cell_type": "code",
   "execution_count": 52,
   "id": "8b54dec1",
   "metadata": {},
   "outputs": [
    {
     "data": {
      "text/html": [
       "<div>\n",
       "<style scoped>\n",
       "    .dataframe tbody tr th:only-of-type {\n",
       "        vertical-align: middle;\n",
       "    }\n",
       "\n",
       "    .dataframe tbody tr th {\n",
       "        vertical-align: top;\n",
       "    }\n",
       "\n",
       "    .dataframe thead th {\n",
       "        text-align: right;\n",
       "    }\n",
       "</style>\n",
       "<table border=\"1\" class=\"dataframe\">\n",
       "  <thead>\n",
       "    <tr style=\"text-align: right;\">\n",
       "      <th></th>\n",
       "      <th>value</th>\n",
       "      <th>value²</th>\n",
       "      <th>value³</th>\n",
       "    </tr>\n",
       "  </thead>\n",
       "  <tbody>\n",
       "    <tr>\n",
       "      <th>0</th>\n",
       "      <td>1</td>\n",
       "      <td>1</td>\n",
       "      <td>1</td>\n",
       "    </tr>\n",
       "    <tr>\n",
       "      <th>1</th>\n",
       "      <td>2</td>\n",
       "      <td>4</td>\n",
       "      <td>8</td>\n",
       "    </tr>\n",
       "    <tr>\n",
       "      <th>2</th>\n",
       "      <td>3</td>\n",
       "      <td>9</td>\n",
       "      <td>27</td>\n",
       "    </tr>\n",
       "    <tr>\n",
       "      <th>3</th>\n",
       "      <td>4</td>\n",
       "      <td>16</td>\n",
       "      <td>64</td>\n",
       "    </tr>\n",
       "    <tr>\n",
       "      <th>4</th>\n",
       "      <td>5</td>\n",
       "      <td>25</td>\n",
       "      <td>125</td>\n",
       "    </tr>\n",
       "  </tbody>\n",
       "</table>\n",
       "</div>"
      ],
      "text/plain": [
       "   value  value²  value³\n",
       "0      1       1       1\n",
       "1      2       4       8\n",
       "2      3       9      27\n",
       "3      4      16      64\n",
       "4      5      25     125"
      ]
     },
     "execution_count": 52,
     "metadata": {},
     "output_type": "execute_result"
    }
   ],
   "source": [
    "df['value³'] = df.apply(lambda x: x['value']*x['value²'],axis=1)\n",
    "df"
   ]
  },
  {
   "cell_type": "code",
   "execution_count": 53,
   "id": "51a928ff",
   "metadata": {},
   "outputs": [
    {
     "data": {
      "text/html": [
       "<div>\n",
       "<style scoped>\n",
       "    .dataframe tbody tr th:only-of-type {\n",
       "        vertical-align: middle;\n",
       "    }\n",
       "\n",
       "    .dataframe tbody tr th {\n",
       "        vertical-align: top;\n",
       "    }\n",
       "\n",
       "    .dataframe thead th {\n",
       "        text-align: right;\n",
       "    }\n",
       "</style>\n",
       "<table border=\"1\" class=\"dataframe\">\n",
       "  <thead>\n",
       "    <tr style=\"text-align: right;\">\n",
       "      <th></th>\n",
       "      <th>value</th>\n",
       "      <th>value²</th>\n",
       "      <th>value³</th>\n",
       "      <th>value⁴</th>\n",
       "    </tr>\n",
       "  </thead>\n",
       "  <tbody>\n",
       "    <tr>\n",
       "      <th>0</th>\n",
       "      <td>1</td>\n",
       "      <td>1</td>\n",
       "      <td>1</td>\n",
       "      <td>1</td>\n",
       "    </tr>\n",
       "    <tr>\n",
       "      <th>1</th>\n",
       "      <td>2</td>\n",
       "      <td>4</td>\n",
       "      <td>8</td>\n",
       "      <td>16</td>\n",
       "    </tr>\n",
       "    <tr>\n",
       "      <th>2</th>\n",
       "      <td>3</td>\n",
       "      <td>9</td>\n",
       "      <td>27</td>\n",
       "      <td>81</td>\n",
       "    </tr>\n",
       "    <tr>\n",
       "      <th>3</th>\n",
       "      <td>4</td>\n",
       "      <td>16</td>\n",
       "      <td>64</td>\n",
       "      <td>256</td>\n",
       "    </tr>\n",
       "    <tr>\n",
       "      <th>4</th>\n",
       "      <td>5</td>\n",
       "      <td>25</td>\n",
       "      <td>125</td>\n",
       "      <td>625</td>\n",
       "    </tr>\n",
       "  </tbody>\n",
       "</table>\n",
       "</div>"
      ],
      "text/plain": [
       "   value  value²  value³  value⁴\n",
       "0      1       1       1       1\n",
       "1      2       4       8      16\n",
       "2      3       9      27      81\n",
       "3      4      16      64     256\n",
       "4      5      25     125     625"
      ]
     },
     "execution_count": 53,
     "metadata": {},
     "output_type": "execute_result"
    }
   ],
   "source": [
    "df['value⁴'] = df['value']*df['value³']\n",
    "df"
   ]
  },
  {
   "cell_type": "markdown",
   "id": "3645f6f6",
   "metadata": {},
   "source": [
    "### 4.2 Recursive function"
   ]
  },
  {
   "cell_type": "markdown",
   "id": "115ae5f9",
   "metadata": {},
   "source": [
    "**example**"
   ]
  },
  {
   "cell_type": "code",
   "execution_count": 54,
   "id": "01fc0be0",
   "metadata": {},
   "outputs": [],
   "source": [
    "def factorial(x):\n",
    "    \"\"\"\n",
    "    This recursive function finds the factorial of a given integer\n",
    "    \"\"\"\n",
    "    if x == 1:\n",
    "        return 1\n",
    "    else:\n",
    "        return (x * factorial(x-1))"
   ]
  },
  {
   "cell_type": "code",
   "execution_count": 55,
   "id": "292255b2",
   "metadata": {},
   "outputs": [
    {
     "name": "stdout",
     "output_type": "stream",
     "text": [
      "The factorial of 6 is 720\n"
     ]
    }
   ],
   "source": [
    "num = 6\n",
    "print(\"The factorial of\", num, \"is\", factorial(num))"
   ]
  },
  {
   "cell_type": "markdown",
   "id": "f9f3e398",
   "metadata": {},
   "source": [
    "### 4.3 Higher-order function"
   ]
  },
  {
   "cell_type": "markdown",
   "id": "ba9ac24f",
   "metadata": {},
   "source": [
    "**example 1: `map()`**"
   ]
  },
  {
   "cell_type": "code",
   "execution_count": 56,
   "id": "3b22f4fc",
   "metadata": {},
   "outputs": [
    {
     "data": {
      "text/plain": [
       "[1, 2, 6, 24, 120]"
      ]
     },
     "execution_count": 56,
     "metadata": {},
     "output_type": "execute_result"
    }
   ],
   "source": [
    "number_list = [1,2,3,4,5]\n",
    "factorial_list = list(map(factorial,number_list))\n",
    "factorial_list"
   ]
  },
  {
   "cell_type": "markdown",
   "id": "6f3eeb7b",
   "metadata": {},
   "source": [
    "**example 2: `filter()`**"
   ]
  },
  {
   "cell_type": "code",
   "execution_count": 57,
   "id": "527df710",
   "metadata": {},
   "outputs": [
    {
     "data": {
      "text/plain": [
       "[24, 120]"
      ]
     },
     "execution_count": 57,
     "metadata": {},
     "output_type": "execute_result"
    }
   ],
   "source": [
    "list(filter(lambda x: x>20, factorial_list))"
   ]
  },
  {
   "cell_type": "markdown",
   "id": "837309f9",
   "metadata": {},
   "source": [
    "**example 3: user-defined hof**"
   ]
  },
  {
   "cell_type": "code",
   "execution_count": 58,
   "id": "4785ae87",
   "metadata": {},
   "outputs": [],
   "source": [
    "def shout(text): \n",
    "    return text.upper() \n",
    "    \n",
    "def whisper(text): \n",
    "    return text.lower() \n",
    "    \n",
    "def greet(function): \n",
    "    greeting = function(\"Hi, I am created by a function passed as an argument.\") \n",
    "    print(greeting)"
   ]
  },
  {
   "cell_type": "code",
   "execution_count": 59,
   "id": "8833344e",
   "metadata": {},
   "outputs": [
    {
     "name": "stdout",
     "output_type": "stream",
     "text": [
      "HI, I AM CREATED BY A FUNCTION PASSED AS AN ARGUMENT.\n"
     ]
    }
   ],
   "source": [
    "greet(shout)"
   ]
  },
  {
   "cell_type": "code",
   "execution_count": 60,
   "id": "36b5b499",
   "metadata": {},
   "outputs": [
    {
     "name": "stdout",
     "output_type": "stream",
     "text": [
      "hi, i am created by a function passed as an argument.\n"
     ]
    }
   ],
   "source": [
    "greet(whisper)"
   ]
  },
  {
   "cell_type": "markdown",
   "id": "709de172",
   "metadata": {},
   "source": [
    "### 4.4 Generator"
   ]
  },
  {
   "cell_type": "markdown",
   "id": "5a507ff7",
   "metadata": {},
   "source": [
    "**example**"
   ]
  },
  {
   "cell_type": "code",
   "execution_count": 61,
   "id": "2eedd086",
   "metadata": {},
   "outputs": [],
   "source": [
    "# generating an infinite sequence\n",
    "def infinite_sequence():\n",
    "    num = 1\n",
    "    while True:\n",
    "        yield num\n",
    "        num += 1"
   ]
  },
  {
   "cell_type": "code",
   "execution_count": 62,
   "id": "f8842fc5",
   "metadata": {},
   "outputs": [
    {
     "data": {
      "text/plain": [
       "<generator object infinite_sequence at 0x7f252ceb3580>"
      ]
     },
     "execution_count": 62,
     "metadata": {},
     "output_type": "execute_result"
    }
   ],
   "source": [
    "generator = infinite_sequence()\n",
    "generator"
   ]
  },
  {
   "cell_type": "code",
   "execution_count": 63,
   "id": "4b1521ed",
   "metadata": {},
   "outputs": [],
   "source": [
    "from IPython.display import clear_output\n",
    "from time import sleep"
   ]
  },
  {
   "cell_type": "code",
   "execution_count": 64,
   "id": "911d9ea5",
   "metadata": {},
   "outputs": [
    {
     "name": "stdout",
     "output_type": "stream",
     "text": [
      "407\n"
     ]
    }
   ],
   "source": [
    "for number in generator:\n",
    "    try:\n",
    "        print(number)\n",
    "        clear_output(wait=True)\n",
    "        sleep(0.1)\n",
    "    except KeyboardInterrupt:\n",
    "        break "
   ]
  },
  {
   "cell_type": "markdown",
   "id": "63afdc63",
   "metadata": {},
   "source": [
    "### 4.5 Decorator"
   ]
  },
  {
   "cell_type": "markdown",
   "id": "7ffd5c28",
   "metadata": {},
   "source": [
    "**example**"
   ]
  },
  {
   "cell_type": "code",
   "execution_count": 65,
   "id": "936d1329",
   "metadata": {},
   "outputs": [],
   "source": [
    "### defining a decorator \n",
    "def hello_decorator(input_function,*args): \n",
    "    \n",
    "    # inner is a wrapper function in which the argument is called  \n",
    "    # inner function can access the outer local functions like in this case \"func\" \n",
    "    \n",
    "    def inner(): \n",
    "        print(\"Hello, this is before function execution\") \n",
    "    \n",
    "        # calling the actual function now inside the wrapper function \n",
    "        input_function(*args) \n",
    "    \n",
    "        print(\"This is after function execution\") \n",
    "            \n",
    "    return inner"
   ]
  },
  {
   "cell_type": "code",
   "execution_count": 66,
   "id": "6c33459e",
   "metadata": {},
   "outputs": [
    {
     "name": "stdout",
     "output_type": "stream",
     "text": [
      "Hello, this is before function execution\n",
      "HI, I AM CREATED BY A FUNCTION PASSED AS AN ARGUMENT.\n",
      "This is after function execution\n"
     ]
    }
   ],
   "source": [
    "# passing the function and arguments\n",
    "output_function = hello_decorator(greet,shout) \n",
    "    \n",
    "# calling the function \n",
    "output_function()"
   ]
  },
  {
   "cell_type": "markdown",
   "id": "578eb381",
   "metadata": {},
   "source": [
    "<hr style=\"border:2px solid black\">"
   ]
  },
  {
   "cell_type": "markdown",
   "id": "54d36e01",
   "metadata": {},
   "source": [
    "## References\n",
    "\n",
    "- [Python Functions : A Complete Beginners Guide](https://www.edureka.co/blog/python-functions)\n",
    "- [Introduction to Function in Python](https://www.enjoyalgorithms.com/blog/introduction-to-function-in-python)\n",
    "- [Built-in Functions, Python Documentation](https://docs.python.org/3/library/functions.html)\n",
    "- [Python: user defined functions](https://www.w3resource.com/python/python-user-defined-functions.php#:~:text=In%20Python%2C%20a%20user%2Ddefined,name%20followed%20by%20a%20colon.)"
   ]
  },
  {
   "cell_type": "code",
   "execution_count": null,
   "id": "3dfe6091",
   "metadata": {},
   "outputs": [],
   "source": []
  }
 ],
 "metadata": {
  "kernelspec": {
   "display_name": "Python 3 (ipykernel)",
   "language": "python",
   "name": "python3"
  },
  "language_info": {
   "codemirror_mode": {
    "name": "ipython",
    "version": 3
   },
   "file_extension": ".py",
   "mimetype": "text/x-python",
   "name": "python",
   "nbconvert_exporter": "python",
   "pygments_lexer": "ipython3",
   "version": "3.11.3"
  }
 },
 "nbformat": 4,
 "nbformat_minor": 5
}
