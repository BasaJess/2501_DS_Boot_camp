{
 "cells": [
  {
   "cell_type": "markdown",
   "id": "d5ba65a8",
   "metadata": {},
   "source": [
    "# Building Python Packages\n",
    "<hr style=\"border:2px solid black\">"
   ]
  },
  {
   "cell_type": "markdown",
   "id": "15a48c8c",
   "metadata": {},
   "source": [
    "## 1. Warmup"
   ]
  },
  {
   "cell_type": "markdown",
   "id": "bf36cc15",
   "metadata": {},
   "source": [
    "### Hierarchy of Python Code"
   ]
  },
  {
   "cell_type": "markdown",
   "id": "b78a948f",
   "metadata": {},
   "source": [
    ">**Code line**$~\\rightarrow~$**Function**$~\\rightarrow~$**Class**$~\\rightarrow~$**Module**$~\\rightarrow~$**Package**$~\\rightarrow~$**Library**"
   ]
  },
  {
   "cell_type": "markdown",
   "id": "2e1579ab",
   "metadata": {},
   "source": [
    "### Research Paper Analogy"
   ]
  },
  {
   "cell_type": "markdown",
   "id": "ded5460a",
   "metadata": {},
   "source": [
    ">|      Python Packaging       |      Publishing a Paper      |\n",
    "| :-------------------------: | :--------------------------: |\n",
    "|           Library           |        Journal Volume        |\n",
    "|   Pip-Installable Package   |   Published Research Paper   |\n",
    "|           Package           |        Research Paper        |\n",
    "|           Module            |           Section            |\n",
    "|           Classes           |         Sub-sections         |\n",
    "|          Functions          |          Paragraphs          |\n",
    "|        Lines of Code        |        Lines of Text         |"
   ]
  },
  {
   "cell_type": "markdown",
   "id": "fa94dca8",
   "metadata": {},
   "source": [
    " "
   ]
  },
  {
   "cell_type": "markdown",
   "id": "35610749",
   "metadata": {},
   "source": [
    "### Example 1: [`Pandas`](https://github.com/pandas-dev/pandas/tree/main/pandas) ... Library or Package or Module?"
   ]
  },
  {
   "cell_type": "code",
   "execution_count": 38,
   "id": "428eeec9",
   "metadata": {
    "tags": []
   },
   "outputs": [],
   "source": [
    "import pandas as pd"
   ]
  },
  {
   "cell_type": "code",
   "execution_count": 39,
   "id": "2c56c84c",
   "metadata": {
    "tags": []
   },
   "outputs": [
    {
     "data": {
      "text/plain": [
       "'pandas'"
      ]
     },
     "execution_count": 39,
     "metadata": {},
     "output_type": "execute_result"
    }
   ],
   "source": [
    "pd.__name__"
   ]
  },
  {
   "cell_type": "code",
   "execution_count": 40,
   "id": "3eb5e13e",
   "metadata": {
    "tags": []
   },
   "outputs": [
    {
     "data": {
      "text/plain": [
       "'2.0.1'"
      ]
     },
     "execution_count": 40,
     "metadata": {},
     "output_type": "execute_result"
    }
   ],
   "source": [
    "pd.__version__"
   ]
  },
  {
   "cell_type": "code",
   "execution_count": 42,
   "id": "b12bf5e9",
   "metadata": {
    "tags": []
   },
   "outputs": [
    {
     "data": {
      "text/plain": [
       "'/home/rahman/Desktop/Spiced/my_encounters/.venv/lib/python3.11/site-packages/pandas/__init__.py'"
      ]
     },
     "execution_count": 42,
     "metadata": {},
     "output_type": "execute_result"
    }
   ],
   "source": [
    "pd.__file__"
   ]
  },
  {
   "cell_type": "code",
   "execution_count": 5,
   "id": "39fd0ce6",
   "metadata": {
    "tags": []
   },
   "outputs": [
    {
     "data": {
      "text/plain": [
       "module"
      ]
     },
     "execution_count": 5,
     "metadata": {},
     "output_type": "execute_result"
    }
   ],
   "source": [
    "type(np)"
   ]
  },
  {
   "cell_type": "markdown",
   "id": "5533d7a7",
   "metadata": {},
   "source": [
    "**`core` package or module?**"
   ]
  },
  {
   "cell_type": "code",
   "execution_count": 45,
   "id": "96877e19-95dd-4d86-bf84-9ffe82175c19",
   "metadata": {
    "tags": []
   },
   "outputs": [
    {
     "data": {
      "text/plain": [
       "pandas.core.frame.DataFrame"
      ]
     },
     "execution_count": 45,
     "metadata": {},
     "output_type": "execute_result"
    }
   ],
   "source": [
    "pd.DataFrame"
   ]
  },
  {
   "cell_type": "code",
   "execution_count": 47,
   "id": "d8ce66ba-6d3f-40db-bd3d-4332f3a98a7e",
   "metadata": {
    "tags": []
   },
   "outputs": [
    {
     "data": {
      "text/plain": [
       "'pandas.core'"
      ]
     },
     "execution_count": 47,
     "metadata": {},
     "output_type": "execute_result"
    }
   ],
   "source": [
    "pd.core.__name__"
   ]
  },
  {
   "cell_type": "code",
   "execution_count": 46,
   "id": "997fc416-aac5-4493-856a-5ceebdd268ee",
   "metadata": {
    "tags": []
   },
   "outputs": [
    {
     "ename": "AttributeError",
     "evalue": "module 'pandas.core' has no attribute '__version__'",
     "output_type": "error",
     "traceback": [
      "\u001b[0;31m---------------------------------------------------------------------------\u001b[0m",
      "\u001b[0;31mAttributeError\u001b[0m                            Traceback (most recent call last)",
      "Cell \u001b[0;32mIn[46], line 1\u001b[0m\n\u001b[0;32m----> 1\u001b[0m \u001b[43mpd\u001b[49m\u001b[38;5;241;43m.\u001b[39;49m\u001b[43mcore\u001b[49m\u001b[38;5;241;43m.\u001b[39;49m\u001b[43m__version__\u001b[49m\n",
      "\u001b[0;31mAttributeError\u001b[0m: module 'pandas.core' has no attribute '__version__'"
     ]
    }
   ],
   "source": [
    "pd.core.__version__"
   ]
  },
  {
   "cell_type": "code",
   "execution_count": 49,
   "id": "eb9b92d1-6be6-4f43-811c-bb705c346a38",
   "metadata": {
    "tags": []
   },
   "outputs": [
    {
     "data": {
      "text/plain": [
       "'/home/rahman/Desktop/Spiced/my_encounters/.venv/lib/python3.11/site-packages/pandas/core/__init__.py'"
      ]
     },
     "execution_count": 49,
     "metadata": {},
     "output_type": "execute_result"
    }
   ],
   "source": [
    "pd.core.__file__"
   ]
  },
  {
   "cell_type": "code",
   "execution_count": 6,
   "id": "99e82b15",
   "metadata": {
    "tags": []
   },
   "outputs": [
    {
     "data": {
      "text/plain": [
       "module"
      ]
     },
     "execution_count": 6,
     "metadata": {},
     "output_type": "execute_result"
    }
   ],
   "source": [
    "type(pd.core)"
   ]
  },
  {
   "cell_type": "markdown",
   "id": "05c1439d-a300-4bdf-a6f3-7606d754683a",
   "metadata": {},
   "source": [
    "**`frame` module or class?**"
   ]
  },
  {
   "cell_type": "code",
   "execution_count": 50,
   "id": "b6624f9a-6af6-4d0f-8bcb-1fbd07e5b537",
   "metadata": {
    "tags": []
   },
   "outputs": [
    {
     "data": {
      "text/plain": [
       "'pandas.core.frame'"
      ]
     },
     "execution_count": 50,
     "metadata": {},
     "output_type": "execute_result"
    }
   ],
   "source": [
    "pd.core.frame.__name__"
   ]
  },
  {
   "cell_type": "code",
   "execution_count": 51,
   "id": "a17648c5-3099-46b1-9e86-26c0c98cf567",
   "metadata": {
    "tags": []
   },
   "outputs": [
    {
     "data": {
      "text/plain": [
       "'/home/rahman/Desktop/Spiced/my_encounters/.venv/lib/python3.11/site-packages/pandas/core/frame.py'"
      ]
     },
     "execution_count": 51,
     "metadata": {},
     "output_type": "execute_result"
    }
   ],
   "source": [
    "pd.core.frame.__file__"
   ]
  },
  {
   "cell_type": "code",
   "execution_count": 54,
   "id": "d0a9c273-9eea-48f8-bbfe-becd768b4d8e",
   "metadata": {
    "tags": []
   },
   "outputs": [
    {
     "data": {
      "text/plain": [
       "module"
      ]
     },
     "execution_count": 54,
     "metadata": {},
     "output_type": "execute_result"
    }
   ],
   "source": [
    "type(pd.core.frame)"
   ]
  },
  {
   "cell_type": "markdown",
   "id": "7e2586bc-95de-4df5-b772-60b1e0b50e65",
   "metadata": {},
   "source": [
    "**`DataFrame` class?**"
   ]
  },
  {
   "cell_type": "code",
   "execution_count": 57,
   "id": "d77b8864-9dd8-4950-8ab1-e096782f2d74",
   "metadata": {
    "tags": []
   },
   "outputs": [
    {
     "data": {
      "text/plain": [
       "'DataFrame'"
      ]
     },
     "execution_count": 57,
     "metadata": {},
     "output_type": "execute_result"
    }
   ],
   "source": [
    "pd.core.frame.DataFrame.__name__"
   ]
  },
  {
   "cell_type": "code",
   "execution_count": 58,
   "id": "02a8aba8-74fe-464c-83d5-25571a3a20d7",
   "metadata": {
    "tags": []
   },
   "outputs": [
    {
     "ename": "AttributeError",
     "evalue": "type object 'DataFrame' has no attribute '__file__'",
     "output_type": "error",
     "traceback": [
      "\u001b[0;31m---------------------------------------------------------------------------\u001b[0m",
      "\u001b[0;31mAttributeError\u001b[0m                            Traceback (most recent call last)",
      "Cell \u001b[0;32mIn[58], line 1\u001b[0m\n\u001b[0;32m----> 1\u001b[0m \u001b[43mpd\u001b[49m\u001b[38;5;241;43m.\u001b[39;49m\u001b[43mcore\u001b[49m\u001b[38;5;241;43m.\u001b[39;49m\u001b[43mframe\u001b[49m\u001b[38;5;241;43m.\u001b[39;49m\u001b[43mDataFrame\u001b[49m\u001b[38;5;241;43m.\u001b[39;49m\u001b[38;5;18;43m__file__\u001b[39;49m\n",
      "\u001b[0;31mAttributeError\u001b[0m: type object 'DataFrame' has no attribute '__file__'"
     ]
    }
   ],
   "source": [
    "pd.core.frame.DataFrame.__file__"
   ]
  },
  {
   "cell_type": "code",
   "execution_count": 61,
   "id": "20a3d593-d454-4fe4-89ed-78254e6eaa61",
   "metadata": {
    "tags": []
   },
   "outputs": [
    {
     "data": {
      "text/plain": [
       "type"
      ]
     },
     "execution_count": 61,
     "metadata": {},
     "output_type": "execute_result"
    }
   ],
   "source": [
    "type(pd.DataFrame)"
   ]
  },
  {
   "cell_type": "markdown",
   "id": "8986d11a",
   "metadata": {},
   "source": [
    "**`dropna` method?**"
   ]
  },
  {
   "cell_type": "code",
   "execution_count": 62,
   "id": "cb1fc38d-5be1-4050-8cf9-20f375a6fe07",
   "metadata": {
    "tags": []
   },
   "outputs": [
    {
     "data": {
      "text/plain": [
       "'dropna'"
      ]
     },
     "execution_count": 62,
     "metadata": {},
     "output_type": "execute_result"
    }
   ],
   "source": [
    "pd.DataFrame.dropna.__name__"
   ]
  },
  {
   "cell_type": "code",
   "execution_count": null,
   "id": "4d6513ce-1b77-45fa-8f87-c039d111fb84",
   "metadata": {},
   "outputs": [],
   "source": [
    "pd.DataFrame.dropna.____"
   ]
  },
  {
   "cell_type": "code",
   "execution_count": 71,
   "id": "032cafa8",
   "metadata": {
    "tags": []
   },
   "outputs": [
    {
     "data": {
      "text/plain": [
       "function"
      ]
     },
     "execution_count": 71,
     "metadata": {},
     "output_type": "execute_result"
    }
   ],
   "source": [
    "type(pd.DataFrame.dropna)"
   ]
  },
  {
   "cell_type": "markdown",
   "id": "548024bc",
   "metadata": {},
   "source": [
    "### Example 2: [`datetime`](https://github.com/python/cpython/blob/main/Lib/datetime.py) Module"
   ]
  },
  {
   "cell_type": "code",
   "execution_count": 63,
   "id": "0acd73f4",
   "metadata": {
    "tags": []
   },
   "outputs": [],
   "source": [
    "import datetime as dt"
   ]
  },
  {
   "cell_type": "code",
   "execution_count": 64,
   "id": "26d59adc",
   "metadata": {
    "tags": []
   },
   "outputs": [
    {
     "data": {
      "text/plain": [
       "'datetime'"
      ]
     },
     "execution_count": 64,
     "metadata": {},
     "output_type": "execute_result"
    }
   ],
   "source": [
    "dt.__name__"
   ]
  },
  {
   "cell_type": "code",
   "execution_count": 65,
   "id": "3ea60ded",
   "metadata": {
    "tags": []
   },
   "outputs": [
    {
     "data": {
      "text/plain": [
       "'/home/rahman/.pyenv/versions/3.11.3/lib/python3.11/datetime.py'"
      ]
     },
     "execution_count": 65,
     "metadata": {},
     "output_type": "execute_result"
    }
   ],
   "source": [
    "dt.__file__"
   ]
  },
  {
   "cell_type": "code",
   "execution_count": 66,
   "id": "d47dd339",
   "metadata": {
    "tags": []
   },
   "outputs": [
    {
     "data": {
      "text/plain": [
       "module"
      ]
     },
     "execution_count": 66,
     "metadata": {},
     "output_type": "execute_result"
    }
   ],
   "source": [
    "type(dt)"
   ]
  },
  {
   "cell_type": "markdown",
   "id": "efe90717",
   "metadata": {},
   "source": [
    "**`date` class**"
   ]
  },
  {
   "cell_type": "code",
   "execution_count": 67,
   "id": "646044af",
   "metadata": {
    "tags": []
   },
   "outputs": [
    {
     "data": {
      "text/plain": [
       "type"
      ]
     },
     "execution_count": 67,
     "metadata": {},
     "output_type": "execute_result"
    }
   ],
   "source": [
    "type(dt.date)"
   ]
  },
  {
   "cell_type": "markdown",
   "id": "ade6b429",
   "metadata": {},
   "source": [
    "**`today` method**"
   ]
  },
  {
   "cell_type": "code",
   "execution_count": 68,
   "id": "bbc7f8ac",
   "metadata": {
    "tags": []
   },
   "outputs": [
    {
     "data": {
      "text/plain": [
       "datetime.date(2024, 4, 23)"
      ]
     },
     "execution_count": 68,
     "metadata": {},
     "output_type": "execute_result"
    }
   ],
   "source": [
    "dt.date.today()"
   ]
  },
  {
   "cell_type": "code",
   "execution_count": 69,
   "id": "c91fc48c",
   "metadata": {
    "tags": []
   },
   "outputs": [
    {
     "data": {
      "text/plain": [
       "builtin_function_or_method"
      ]
     },
     "execution_count": 69,
     "metadata": {},
     "output_type": "execute_result"
    }
   ],
   "source": [
    "type(dt.date.today)"
   ]
  },
  {
   "cell_type": "markdown",
   "id": "06f545ea",
   "metadata": {},
   "source": [
    "<hr style=\"border:2px solid black\">"
   ]
  },
  {
   "cell_type": "markdown",
   "id": "898348d6",
   "metadata": {},
   "source": [
    "## 2. Simple Python Package"
   ]
  },
  {
   "cell_type": "markdown",
   "id": "d8df1748",
   "metadata": {},
   "source": [
    "- What is a python package?\n",
    "- What is a python module?\n",
    "- What does the `__init__.py` file do?"
   ]
  },
  {
   "cell_type": "markdown",
   "id": "0f810ae9",
   "metadata": {},
   "source": [
    "### 2.1 Create package directory\n",
    "\n",
    "1. wrap simple pieces of code into functions\n",
    "2. wrap functions into python classes\n",
    "3. include the classes in python modules\n",
    "4. organize the python modules in a single directory"
   ]
  },
  {
   "cell_type": "markdown",
   "id": "9ee6a730",
   "metadata": {},
   "source": [
    "**import directory**"
   ]
  },
  {
   "cell_type": "code",
   "execution_count": null,
   "id": "1782ec44",
   "metadata": {},
   "outputs": [],
   "source": [
    "import package_directory"
   ]
  },
  {
   "cell_type": "markdown",
   "id": "948e962d",
   "metadata": {},
   "source": [
    "**import classes with module name**"
   ]
  },
  {
   "cell_type": "code",
   "execution_count": null,
   "id": "7f4754b5",
   "metadata": {},
   "outputs": [],
   "source": [
    "from package_directory.module_one import ClassOne\n",
    "from package_directory.module_two import ClassTwo"
   ]
  },
  {
   "cell_type": "markdown",
   "id": "2c6e0106",
   "metadata": {},
   "source": [
    "Comment: this can be painful, especially with many modules"
   ]
  },
  {
   "cell_type": "markdown",
   "id": "d6f503b6",
   "metadata": {},
   "source": [
    "**import classes without module name**"
   ]
  },
  {
   "cell_type": "code",
   "execution_count": null,
   "id": "1c4d3569",
   "metadata": {},
   "outputs": [],
   "source": [
    "from package_directory import (\n",
    "    ClassOne,\n",
    "    ClassTwo\n",
    ")"
   ]
  },
  {
   "cell_type": "markdown",
   "id": "aad1102f",
   "metadata": {},
   "source": [
    "**execute functions**"
   ]
  },
  {
   "cell_type": "code",
   "execution_count": null,
   "id": "1914c705",
   "metadata": {},
   "outputs": [],
   "source": [
    "class_one = ClassOne()\n",
    "class_one.hello_one()"
   ]
  },
  {
   "cell_type": "code",
   "execution_count": null,
   "id": "358ff599",
   "metadata": {},
   "outputs": [],
   "source": [
    "class_two = ClassTwo()\n",
    "class_two.hello_two()"
   ]
  },
  {
   "cell_type": "markdown",
   "id": "9bcac71a",
   "metadata": {},
   "source": [
    "### 2.2 Add `__init__.py` file"
   ]
  },
  {
   "cell_type": "markdown",
   "id": "d42f54b4",
   "metadata": {},
   "source": [
    "`from .module_one import ClassOne`\n",
    "<br>\n",
    "`from .module_two import ClassTwo`"
   ]
  },
  {
   "cell_type": "markdown",
   "id": "a9c51da3",
   "metadata": {},
   "source": [
    "**execution of functions**\n",
    "\n",
    "- restart the kernel\n",
    "- run the following code"
   ]
  },
  {
   "cell_type": "markdown",
   "id": "2ab54a5c",
   "metadata": {},
   "source": [
    "**import classes without module name**"
   ]
  },
  {
   "cell_type": "code",
   "execution_count": null,
   "id": "33ea8c39",
   "metadata": {},
   "outputs": [],
   "source": [
    "from package_directory import (\n",
    "    ClassOne,\n",
    "    ClassTwo\n",
    ")"
   ]
  },
  {
   "cell_type": "markdown",
   "id": "ace5341a",
   "metadata": {},
   "source": [
    "**execute functions**"
   ]
  },
  {
   "cell_type": "code",
   "execution_count": null,
   "id": "8c183c0a",
   "metadata": {},
   "outputs": [],
   "source": [
    "class_one = ClassOne()\n",
    "class_one.hello_one()"
   ]
  },
  {
   "cell_type": "code",
   "execution_count": null,
   "id": "ef514636",
   "metadata": {},
   "outputs": [],
   "source": [
    "class_two = ClassTwo()\n",
    "class_two.hello_two()"
   ]
  },
  {
   "cell_type": "markdown",
   "id": "eb09821e",
   "metadata": {},
   "source": [
    "<hr style=\"border:2px solid black\">"
   ]
  },
  {
   "cell_type": "markdown",
   "id": "0e08e73f",
   "metadata": {},
   "source": [
    "## 3. pip-Installable Package"
   ]
  },
  {
   "cell_type": "markdown",
   "id": "f9fc5586",
   "metadata": {},
   "source": [
    "**1. create parent directory** \n",
    "\n",
    "- put package directory into a parent directory\n",
    "- rename package directory to would-be package name: `sayhello`"
   ]
  },
  {
   "cell_type": "code",
   "execution_count": 2,
   "id": "b5f09b2b",
   "metadata": {},
   "outputs": [],
   "source": [
    "from pip_installable_package.sayhello import (\n",
    "    ClassOne,\n",
    "    ClassTwo\n",
    ")"
   ]
  },
  {
   "cell_type": "markdown",
   "id": "ac3309d5",
   "metadata": {},
   "source": [
    "**2. install `setuptools` latest version**\n",
    "\n",
    "`pip install --upgrade setuptools`"
   ]
  },
  {
   "cell_type": "markdown",
   "id": "a98c33da",
   "metadata": {},
   "source": [
    "**3. create `setup.py` file**\n",
    "\n",
    "`from setuptools import setup`\n",
    "\n",
    "`setup(\n",
    "    name=\"sayhello\",\n",
    "    version=\"0.0.1\",\n",
    "    description=\"Says hello from different modules\",\n",
    "    packages=[\"sayhello\"],\n",
    "    classifiers=[\n",
    "        \"Programming Language :: Python :: 3\",\n",
    "        ]\n",
    ")`"
   ]
  },
  {
   "cell_type": "markdown",
   "id": "e27078b7",
   "metadata": {},
   "source": [
    "### Local Installation"
   ]
  },
  {
   "cell_type": "markdown",
   "id": "5c726c93",
   "metadata": {},
   "source": [
    "- go to parent directory in a terminal\n",
    "- run the command: `pip install .` \n",
    "- check installation with `pip list`\n",
    "- `sayhello` package can now be used from anywhere in the computer"
   ]
  },
  {
   "cell_type": "markdown",
   "id": "e9b97558",
   "metadata": {},
   "source": [
    "**imports**"
   ]
  },
  {
   "cell_type": "code",
   "execution_count": 3,
   "id": "c4c32f18",
   "metadata": {},
   "outputs": [],
   "source": [
    "from sayhello import (\n",
    "    ClassOne,\n",
    "    ClassTwo\n",
    ")"
   ]
  },
  {
   "cell_type": "markdown",
   "id": "94a40bc5",
   "metadata": {},
   "source": [
    "**execute functions**"
   ]
  },
  {
   "cell_type": "code",
   "execution_count": 4,
   "id": "1f6848c7",
   "metadata": {},
   "outputs": [
    {
     "name": "stdout",
     "output_type": "stream",
     "text": [
      "Hello from module one!\n"
     ]
    }
   ],
   "source": [
    "class_one = ClassOne()\n",
    "class_one.hello_one()"
   ]
  },
  {
   "cell_type": "code",
   "execution_count": 5,
   "id": "156126c9",
   "metadata": {},
   "outputs": [
    {
     "name": "stdout",
     "output_type": "stream",
     "text": [
      "Hello from module two!\n"
     ]
    }
   ],
   "source": [
    "class_two = ClassTwo()\n",
    "class_two.hello_two()"
   ]
  },
  {
   "cell_type": "markdown",
   "id": "f888af8e",
   "metadata": {},
   "source": [
    "### Remote Installation"
   ]
  },
  {
   "cell_type": "markdown",
   "id": "d59d0035",
   "metadata": {},
   "source": [
    "- create `README.md` file\n",
    "- create `LICENSE.txt` file\n",
    "- create a GitHub repository\n",
    "- upload package to PyPI"
   ]
  },
  {
   "cell_type": "markdown",
   "id": "0f057e82",
   "metadata": {},
   "source": [
    "<hr style=\"border:2px solid black\">"
   ]
  },
  {
   "cell_type": "markdown",
   "id": "0cd04dde",
   "metadata": {},
   "source": [
    "## References\n",
    "\n",
    "- [Python Modules and Packages – An Introduction](https://realpython.com/python-modules-packages/)\n",
    "- [Setuptools User Guide](https://setuptools.pypa.io/en/latest/userguide/quickstart.html)\n",
    "- [Publish Your Own Python Package](https://www.youtube.com/watch?v=tEFkHEKypLI)\n",
    "- [Packaging Python Projects](https://packaging.python.org/en/latest/tutorials/packaging-projects/)"
   ]
  },
  {
   "cell_type": "code",
   "execution_count": null,
   "id": "9009c62f",
   "metadata": {},
   "outputs": [],
   "source": []
  }
 ],
 "metadata": {
  "kernelspec": {
   "display_name": "Python 3 (ipykernel)",
   "language": "python",
   "name": "python3"
  },
  "language_info": {
   "codemirror_mode": {
    "name": "ipython",
    "version": 3
   },
   "file_extension": ".py",
   "mimetype": "text/x-python",
   "name": "python",
   "nbconvert_exporter": "python",
   "pygments_lexer": "ipython3",
   "version": "3.11.3"
  }
 },
 "nbformat": 4,
 "nbformat_minor": 5
}
