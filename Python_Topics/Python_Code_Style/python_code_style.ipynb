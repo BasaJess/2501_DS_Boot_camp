{
 "cells": [
  {
   "cell_type": "markdown",
   "id": "59b0f057",
   "metadata": {},
   "source": [
    "# Python Code Style\n",
    "\n",
    "**\"*Code is read more often than it is written.*\" - Guido van Rossum (creator of Python)**\n",
    "<hr style=\"border:2px solid black\">"
   ]
  },
  {
   "cell_type": "markdown",
   "id": "03763303",
   "metadata": {},
   "source": [
    "## 1. Introduction"
   ]
  },
  {
   "cell_type": "markdown",
   "id": "65dfccae",
   "metadata": {},
   "source": [
    "### 1.1 Why clean code? "
   ]
  },
  {
   "cell_type": "markdown",
   "id": "005caf9d",
   "metadata": {},
   "source": [
    "- **Readability:**\n",
    "    + easily understood by other people, e.g., co-workers, future maintainers\n",
    "    + easy to undertand for the future self\n",
    "\n",
    "\n",
    "- **Practicality:**\n",
    "    + unambiguous and simple to maintain\n",
    "    + much easier to debug\n",
    "\n",
    "\n",
    "- **Professionalism:**\n",
    "    + makes a good impression at professional level\n",
    "    + required by the community stantard for professional use"
   ]
  },
  {
   "cell_type": "markdown",
   "id": "5fe35362",
   "metadata": {},
   "source": [
    "### 1.2 Clean vs unclean code"
   ]
  },
  {
   "cell_type": "markdown",
   "id": "2edd1e62",
   "metadata": {},
   "source": [
    "|             unclean code                 |                   clean code                       |\n",
    "|:----------------------------------------:|:--------------------------------------------------:|\n",
    "|     difficult to understand and use      |easy to understand and use (collaboration made easy)|\n",
    "|  undescriptive and inconsistent naming   |           follows naming conventions               |\n",
    "|    undocumented or not well documented   |                  well documented                   |\n",
    "|duplications in variables and/or functions|                  no duplications                   |\n",
    "|    functions that do several things      |       functions that do one thing each        |\n",
    "|      hard to debug and maintain          |            easy to debug and maintain              |"
   ]
  },
  {
   "cell_type": "markdown",
   "id": "9ecc9ceb",
   "metadata": {},
   "source": [
    "### 1.3 The ZEN of Python\n",
    "\n",
    "> Collection of 19 \"guiding principles\" for writing computer programs that influence the design of the Python"
   ]
  },
  {
   "cell_type": "code",
   "execution_count": 1,
   "id": "8ab08bc0",
   "metadata": {},
   "outputs": [
    {
     "name": "stdout",
     "output_type": "stream",
     "text": [
      "The Zen of Python, by Tim Peters\n",
      "\n",
      "Beautiful is better than ugly.\n",
      "Explicit is better than implicit.\n",
      "Simple is better than complex.\n",
      "Complex is better than complicated.\n",
      "Flat is better than nested.\n",
      "Sparse is better than dense.\n",
      "Readability counts.\n",
      "Special cases aren't special enough to break the rules.\n",
      "Although practicality beats purity.\n",
      "Errors should never pass silently.\n",
      "Unless explicitly silenced.\n",
      "In the face of ambiguity, refuse the temptation to guess.\n",
      "There should be one-- and preferably only one --obvious way to do it.\n",
      "Although that way may not be obvious at first unless you're Dutch.\n",
      "Now is better than never.\n",
      "Although never is often better than *right* now.\n",
      "If the implementation is hard to explain, it's a bad idea.\n",
      "If the implementation is easy to explain, it may be a good idea.\n",
      "Namespaces are one honking great idea -- let's do more of those!\n"
     ]
    }
   ],
   "source": [
    "import this"
   ]
  },
  {
   "cell_type": "markdown",
   "id": "6d8c8907",
   "metadata": {},
   "source": [
    "<hr style=\"border:2px solid black\">"
   ]
  },
  {
   "cell_type": "markdown",
   "id": "f26d0842",
   "metadata": {},
   "source": [
    "## 2. Python Enhancement Proposal ([PEP 8](https://peps.python.org/pep-0008/))\n",
    "\n",
    "> **A set of style guidelines for Python that developers agree on**"
   ]
  },
  {
   "cell_type": "markdown",
   "id": "6e7990c6",
   "metadata": {},
   "source": [
    "### 2.1 Main guidelines of PEP 8"
   ]
  },
  {
   "cell_type": "markdown",
   "id": "58edc69c",
   "metadata": {},
   "source": [
    "adapted excerpt from [https://pep8.org](https://pep8.org)\n",
    "\n",
    "PEP 8 is a *guideline*, not a lawbook. \n",
    "\n",
    "_**TLDR**_: _Be consistent, and use common sense_.\n",
    "\n",
    "- [A Foolish Consistency is the Hobgoblin of Little Minds](https://peps.python.org/pep-0008/#a-foolish-consistency-is-the-hobgoblin-of-little-minds) \\\n",
    "Code is read much more often than it is written \\\n",
    "A style guide is about consistency \\\n",
    "BUT know when to be inconsistent\n",
    "   \n",
    "- [Code Lay-out](https://www.python.org/dev/peps/pep-0008/#code-lay-out)\n",
    "    - [Indentation](https://www.python.org/dev/peps/pep-0008/#indentation)  \n",
    "    use 4 spaces per indentation level\n",
    "    - [Tabs or Spaces](https://peps.python.org/pep-0008/#tabs-or-spaces) \\\n",
    "    spaces are the preferred indentation method\n",
    "    - [Maximum Line Length](https://www.python.org/dev/peps/pep-0008/#maximum-line-length)  \n",
    "    79, but often taken generously; use parentheses over backslashes for wrapping long lines\n",
    "    - [Should a Line break Before or After a Binary Operator?](https://www.python.org/dev/peps/pep-0008/#should-a-line-break-before-or-after-a-binary-operator)  \n",
    "    breaking before is preferred (so that e.g. operators are aligned) but internal consistency is important\n",
    "    - [Blank Lines](https://www.python.org/dev/peps/pep-0008/#blank-lines)  \n",
    "    top-level function and class definitions are surrounded with two blank lines \\\n",
    "    method definitions inside a class are surrounded by a single blank line \\\n",
    "    use blank lines sparingly throughout to indicate logical sections\n",
    "    - [Imports](https://www.python.org/dev/peps/pep-0008/#imports)  \n",
    "    one per line  \n",
    "    at top of file before globals and commons  \n",
    "    avoid wildcard imports `from xyz import *`\n",
    "- [String Quotes](https://www.python.org/dev/peps/pep-0008/#string-quotes)  \n",
    "no rules with respect to `'` or `\"` — be consistent\n",
    "- [Whitespace in Expressions and Statements](https://www.python.org/dev/peps/pep-0008/#whitespace-in-expressions-and-statements)  \n",
    "most useful (fun?) section of PEP8 — check out examples!\n",
    "- [When to Use Trailing Commas](https://www.python.org/dev/peps/pep-0008/#when-to-use-trailing-commas)  \n",
    "e.g. in cross line enumerations after last item\n",
    "- [Comments](https://www.python.org/dev/peps/pep-0008/#comments)  \n",
    "start with # and space  \n",
    "keep updated!  \n",
    "can consist of even several paragraphs with complete sentences in english  \n",
    "use two spaces after a period 😱 \\\n",
    "docstrings have their own PEP 257    \n",
    "- [Naming Conventions](https://www.python.org/dev/peps/pep-0008/#naming-conventions)  \n",
    "reflect usage rather than implementation\n",
    "    - [Prescriptive: Naming Conventions](https://www.python.org/dev/peps/pep-0008/#prescriptive-naming-conventions)\n",
    "        - [Package and Module Names](https://www.python.org/dev/peps/pep-0008/#package-and-module-names)  \n",
    "        all lowercase (with underscores, i.e. snake_case)\n",
    "        - [Class Names](https://www.python.org/dev/peps/pep-0008/#class-names)  \n",
    "        CamelCase\n",
    "        - [Function and Variable Names](https://www.python.org/dev/peps/pep-0008/#function-and-variable-names)  \n",
    "        all lowercase (with underscores, i.e. snake_case)\n",
    "        - [Constants](https://www.python.org/dev/peps/pep-0008/#constants)  \n",
    "        all UPPERCASE\n",
    "- [Programming Recommendations](https://www.python.org/dev/peps/pep-0008/#programming-recommendations)  \n",
    "there are a lot of them, explore yourself occasionally :)    "
   ]
  },
  {
   "cell_type": "markdown",
   "id": "719427ea",
   "metadata": {},
   "source": [
    "### 2.2 Examples"
   ]
  },
  {
   "cell_type": "markdown",
   "id": "7db08f5d",
   "metadata": {},
   "source": [
    "**Naming conventions**"
   ]
  },
  {
   "cell_type": "markdown",
   "id": "d981d389",
   "metadata": {},
   "source": [
    "`snake_case`: lowercase, words separatered by underscore\n",
    "- variables\n",
    "- functions / methods\n",
    "- modules / .py files'"
   ]
  },
  {
   "cell_type": "markdown",
   "id": "9d5f5feb",
   "metadata": {},
   "source": [
    "`PascalCase`: first letter in each word capitalized\n",
    "- classes\n",
    "- factory functions (return objects)"
   ]
  },
  {
   "cell_type": "markdown",
   "id": "3e1b98e1",
   "metadata": {},
   "source": [
    "`SCREAMING_SNAKE_CASE`: uppercase, words separatered by underscore\n",
    "- global variables / constants"
   ]
  },
  {
   "cell_type": "markdown",
   "id": "257f736c",
   "metadata": {},
   "source": [
    "`suffixed_underscore_`: snake case suffixed by underscore\n",
    "- variable/function name if already taken"
   ]
  },
  {
   "cell_type": "markdown",
   "id": "14cba7e1",
   "metadata": {},
   "source": [
    "**Indentations**\n",
    "- 4 spaces recommended over tab\n",
    "- no trailing and unnecessary white spaces\n",
    "- 2 blanck lines above and below the block defining a class\n",
    "- 2 blanck line above and below the block defining a top-level function\n",
    "- 1 blanck line above and below the block defining a module"
   ]
  },
  {
   "cell_type": "markdown",
   "id": "2ee8c477",
   "metadata": {},
   "source": [
    "**Imports**\n",
    "- avoid wildcard imports\n",
    "- avoid importing multiple modules in one line"
   ]
  },
  {
   "cell_type": "markdown",
   "id": "42b7b7c1",
   "metadata": {},
   "source": [
    "**[Comments](https://stackoverflow.blog/2021/07/05/best-practices-for-writing-code-comments/)**   \n",
    "- comments should not duplicate the code \n",
    "- good comments do not excuse unclear code   \n",
    "- if you can’t write a clear comment, there may be a problem with the code    \n",
    "- comments should dispel confusion, not cause it     \n",
    "- explain unidiomatic code in comments     \n",
    "- provide links to the original source of copied code      \n",
    "- include links to external references where they will be most helpful     \n",
    "- add comments when fixing bugs     \n",
    "- use comments to mark incomplete implementations"
   ]
  },
  {
   "cell_type": "markdown",
   "id": "b315eda4",
   "metadata": {},
   "source": [
    "### 2.3 [PEP8 song](https://www.youtube.com/watch?v=hgI0p1zf31k)"
   ]
  },
  {
   "cell_type": "markdown",
   "id": "f8758a22",
   "metadata": {},
   "source": [
    "<hr style=\"border:2px solid black\">"
   ]
  },
  {
   "cell_type": "markdown",
   "id": "95addaa0",
   "metadata": {},
   "source": [
    "## 3. Linters\n",
    "\n",
    "> code analysis tools used to flag programming errors, bugs, stylistic errors and suspicious constructs"
   ]
  },
  {
   "cell_type": "markdown",
   "id": "12fb1822",
   "metadata": {},
   "source": [
    "### 3.1 pylint\n",
    "\n",
    "- checks PEP8 conformity of Python code\n",
    "- can rate code and give hints to improve it"
   ]
  },
  {
   "cell_type": "markdown",
   "id": "55ceaa82",
   "metadata": {},
   "source": [
    "**installation**\n",
    "> `pip install pylint`"
   ]
  },
  {
   "cell_type": "markdown",
   "id": "589bcbb4",
   "metadata": {},
   "source": [
    "**Practice exercise**"
   ]
  },
  {
   "cell_type": "markdown",
   "id": "33de668a",
   "metadata": {},
   "source": [
    "Try to discover as many deficiencies in this code as possilbe:\n",
    "\n",
    "```python\n",
    "from random import *\n",
    "\n",
    "STATES = [\n",
    "'airport', 'air', 'crashed'\n",
    "]\n",
    "\n",
    "def mcmc(i, P):\n",
    "    list = [i]\n",
    "    s = i\n",
    "    while s!='crashed':\n",
    "        probs = P[s]\n",
    "        s = choices(STATES, probs) [0]\n",
    "        list.append(s)\n",
    "        if list[-1] == 'crashed':\n",
    "            return list\n",
    "\n",
    "P = {\n",
    "    'airport': [0.4, 0.6, 0.0],\n",
    "    'air': [0.8, 0.19999, 0.00001],\n",
    "}\n",
    "print(f\"crashed after {len(mcmc('airport', P))} days of service\")\n",
    "```"
   ]
  },
  {
   "cell_type": "markdown",
   "id": "a95620bb-e5a5-4906-8f19-7626ed3995cd",
   "metadata": {},
   "source": [
    "**steps**\n",
    "1. save the above code in a python file `plane_crash.py`\n",
    "2. Run the code from the warmup in your shell — `python plane_crash.py`\n",
    "3. Try to understand what it does\n",
    "4. Think about code style improvements and change the code accordingly — so that is still runs :)\n",
    "5. Run pylint on your code and try to reach a score above 7 — `pylint plane_crash.py`"
   ]
  },
  {
   "cell_type": "markdown",
   "id": "7d0a588b",
   "metadata": {},
   "source": [
    "### 3.2 pycodestyle\n",
    "\n",
    "> checks Python code style in Jupyter notebook"
   ]
  },
  {
   "cell_type": "markdown",
   "id": "a7da3f27",
   "metadata": {},
   "source": [
    "**installation**\n",
    "> `pip install pycodestyle_magic`"
   ]
  },
  {
   "cell_type": "markdown",
   "id": "ca3e4d93",
   "metadata": {},
   "source": [
    "**implementation**\n",
    "\n",
    "- at the start of a notebook:$\\qquad$ `%load_ext pycodestyle_magic`\n",
    "- at the start of a cell: $\\qquad\\qquad$ `%%pycodestyle`"
   ]
  },
  {
   "cell_type": "markdown",
   "id": "786eb702",
   "metadata": {},
   "source": [
    "<hr style=\"border:2px solid black\">"
   ]
  },
  {
   "cell_type": "markdown",
   "id": "be8e5bfd",
   "metadata": {},
   "source": [
    "## References\n",
    "\n",
    "- [Official PEP 8 Document](https://www.python.org/dev/peps/pep-0008/) \n",
    "- [Descriptive explanations](https://realpython.com/python-pep8/)  \n",
    "- [3 Ways To Improve Your Python Code’s Readability](https://betterprogramming.pub/3-ways-to-improve-your-python-codes-readability-bd3e5b6547ca)\n",
    "- [Jason McDonald - Writing Zenlike Python](https://www.youtube.com/watch?v=ZHY5SCBckwg&t=48s)\n",
    "- [How to Write Beautiful Python Code With PEP 8](https://realpython.com/python-pep8/)"
   ]
  }
 ],
 "metadata": {
  "jupytext": {
   "cell_metadata_filter": "-all",
   "main_language": "python",
   "notebook_metadata_filter": "-all",
   "text_representation": {
    "extension": ".md",
    "format_name": "markdown"
   }
  },
  "kernelspec": {
   "display_name": "Python 3 (ipykernel)",
   "language": "python",
   "name": "python3"
  },
  "language_info": {
   "codemirror_mode": {
    "name": "ipython",
    "version": 3
   },
   "file_extension": ".py",
   "mimetype": "text/x-python",
   "name": "python",
   "nbconvert_exporter": "python",
   "pygments_lexer": "ipython3",
   "version": "3.11.3"
  }
 },
 "nbformat": 4,
 "nbformat_minor": 5
}
