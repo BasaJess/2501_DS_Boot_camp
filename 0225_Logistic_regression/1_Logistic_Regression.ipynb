{
 "cells": [
  {
   "attachments": {},
   "cell_type": "markdown",
   "metadata": {},
   "source": [
    "# Introduction to Logistic Regression\n",
    "\n",
    "In this notebook you will see how logistic regression works very graphically. "
   ]
  },
  {
   "cell_type": "code",

   "execution_count": 1,

   "metadata": {
    "ExecuteTime": {
     "end_time": "2020-02-17T08:16:30.694758Z",
     "start_time": "2020-02-17T08:16:30.565671Z"
    }
   },
   "outputs": [],
   "source": [
    "import pandas as pd\n",
    "import matplotlib.pyplot as plt \n",
    "import seaborn as sns\n",
    "\n",
    "from sklearn.datasets import make_classification\n",
    "from sklearn.linear_model import LogisticRegression\n",
    "from sklearn.model_selection import train_test_split\n",
    "from sklearn.metrics import confusion_matrix\n",
    "\n",
    "sns.set()"
   ]
  },
  {
   "attachments": {},
   "cell_type": "markdown",
   "metadata": {
    "ExecuteTime": {
     "end_time": "2020-02-17T08:16:31.186270Z",
     "start_time": "2020-02-17T08:16:31.182958Z"
    }
   },
   "source": [
    "Next, we’ll take advantage of the `make_classification` function from the scikit-learn library to generate data. \n",
    "Since logistic regression is primarily only applicable to binary classification problems, the data points in our case are composed of two classes."
   ]
  },
  {
   "cell_type": "code",

   "execution_count": 2,

   "metadata": {
    "ExecuteTime": {
     "end_time": "2020-02-17T08:16:31.544357Z",
     "start_time": "2020-02-17T08:16:31.484773Z"
    }
   },
   "outputs": [],
   "source": [
    "# We set a random state so the generated data is the same for each run of this cell\n",
    "x, y = make_classification(\n",
    "    n_samples=100,\n",
    "    n_features=1,\n",
    "    n_classes=2,\n",
    "    n_clusters_per_class=1,\n",
    "    flip_y=0.03, # introduces noise for 3% of the data points\n",
    "    n_informative=1,\n",
    "    n_redundant=0,\n",
    "    n_repeated=0,\n",
    "    random_state=3789\n",
    ")"
   ]
  },
  {
   "cell_type": "code",

   "execution_count": 3,

   "metadata": {
    "ExecuteTime": {
     "end_time": "2020-02-17T08:16:32.678351Z",
     "start_time": "2020-02-17T08:16:32.022252Z"
    }
   },
   "outputs": [
    {
     "data": {

      "image/png": "[encoded data removed]",

      "text/plain": [
       "<Figure size 640x480 with 1 Axes>"
      ]
     },
     "metadata": {},
     "output_type": "display_data"
    }
   ],
   "source": [
    "# We plot the relationship between the feature and classes. \n",
    "plt.scatter(x, y, c=y, cmap='rainbow');"
   ]
  },
  {
   "cell_type": "code",

   "execution_count": 4,

   "metadata": {
    "ExecuteTime": {
     "end_time": "2020-02-17T08:16:32.808308Z",
     "start_time": "2020-02-17T08:16:32.786525Z"
    }
   },
   "outputs": [],
   "source": [
    "# Prior to training our model, we’ll set aside a portion of our data in order to evaluate its performance.\n",
    "X_train, X_test, y_train, y_test = train_test_split(x, y, random_state=1) # default size of the training data is 75%"
   ]
  },
  {
   "cell_type": "code",

   "execution_count": 5,

   "metadata": {
    "ExecuteTime": {
     "end_time": "2020-02-17T08:16:32.988583Z",
     "start_time": "2020-02-17T08:16:32.913018Z"
    }
   },
   "outputs": [
    {
     "data": {
      "text/html": [

       "<style>#sk-container-id-1 {color: black;background-color: white;}#sk-container-id-1 pre{padding: 0;}#sk-container-id-1 div.sk-toggleable {background-color: white;}#sk-container-id-1 label.sk-toggleable__label {cursor: pointer;display: block;width: 100%;margin-bottom: 0;padding: 0.3em;box-sizing: border-box;text-align: center;}#sk-container-id-1 label.sk-toggleable__label-arrow:before {content: \"▸\";float: left;margin-right: 0.25em;color: #696969;}#sk-container-id-1 label.sk-toggleable__label-arrow:hover:before {color: black;}#sk-container-id-1 div.sk-estimator:hover label.sk-toggleable__label-arrow:before {color: black;}#sk-container-id-1 div.sk-toggleable__content {max-height: 0;max-width: 0;overflow: hidden;text-align: left;background-color: #f0f8ff;}#sk-container-id-1 div.sk-toggleable__content pre {margin: 0.2em;color: black;border-radius: 0.25em;background-color: #f0f8ff;}#sk-container-id-1 input.sk-toggleable__control:checked~div.sk-toggleable__content {max-height: 200px;max-width: 100%;overflow: auto;}#sk-container-id-1 input.sk-toggleable__control:checked~label.sk-toggleable__label-arrow:before {content: \"▾\";}#sk-container-id-1 div.sk-estimator input.sk-toggleable__control:checked~label.sk-toggleable__label {background-color: #d4ebff;}#sk-container-id-1 div.sk-label input.sk-toggleable__control:checked~label.sk-toggleable__label {background-color: #d4ebff;}#sk-container-id-1 input.sk-hidden--visually {border: 0;clip: rect(1px 1px 1px 1px);clip: rect(1px, 1px, 1px, 1px);height: 1px;margin: -1px;overflow: hidden;padding: 0;position: absolute;width: 1px;}#sk-container-id-1 div.sk-estimator {font-family: monospace;background-color: #f0f8ff;border: 1px dotted black;border-radius: 0.25em;box-sizing: border-box;margin-bottom: 0.5em;}#sk-container-id-1 div.sk-estimator:hover {background-color: #d4ebff;}#sk-container-id-1 div.sk-parallel-item::after {content: \"\";width: 100%;border-bottom: 1px solid gray;flex-grow: 1;}#sk-container-id-1 div.sk-label:hover label.sk-toggleable__label {background-color: #d4ebff;}#sk-container-id-1 div.sk-serial::before {content: \"\";position: absolute;border-left: 1px solid gray;box-sizing: border-box;top: 0;bottom: 0;left: 50%;z-index: 0;}#sk-container-id-1 div.sk-serial {display: flex;flex-direction: column;align-items: center;background-color: white;padding-right: 0.2em;padding-left: 0.2em;position: relative;}#sk-container-id-1 div.sk-item {position: relative;z-index: 1;}#sk-container-id-1 div.sk-parallel {display: flex;align-items: stretch;justify-content: center;background-color: white;position: relative;}#sk-container-id-1 div.sk-item::before, #sk-container-id-1 div.sk-parallel-item::before {content: \"\";position: absolute;border-left: 1px solid gray;box-sizing: border-box;top: 0;bottom: 0;left: 50%;z-index: -1;}#sk-container-id-1 div.sk-parallel-item {display: flex;flex-direction: column;z-index: 1;position: relative;background-color: white;}#sk-container-id-1 div.sk-parallel-item:first-child::after {align-self: flex-end;width: 50%;}#sk-container-id-1 div.sk-parallel-item:last-child::after {align-self: flex-start;width: 50%;}#sk-container-id-1 div.sk-parallel-item:only-child::after {width: 0;}#sk-container-id-1 div.sk-dashed-wrapped {border: 1px dashed gray;margin: 0 0.4em 0.5em 0.4em;box-sizing: border-box;padding-bottom: 0.4em;background-color: white;}#sk-container-id-1 div.sk-label label {font-family: monospace;font-weight: bold;display: inline-block;line-height: 1.2em;}#sk-container-id-1 div.sk-label-container {text-align: center;}#sk-container-id-1 div.sk-container {/* jupyter's `normalize.less` sets `[hidden] { display: none; }` but bootstrap.min.css set `[hidden] { display: none !important; }` so we also need the `!important` here to be able to override the default hidden behavior on the sphinx rendered scikit-learn.org. See: https://github.com/scikit-learn/scikit-learn/issues/21755 */display: inline-block !important;position: relative;}#sk-container-id-1 div.sk-text-repr-fallback {display: none;}</style><div id=\"sk-container-id-1\" class=\"sk-top-container\"><div class=\"sk-text-repr-fallback\"><pre>LogisticRegression()</pre><b>In a Jupyter environment, please rerun this cell to show the HTML representation or trust the notebook. <br />On GitHub, the HTML representation is unable to render, please try loading this page with nbviewer.org.</b></div><div class=\"sk-container\" hidden><div class=\"sk-item\"><div class=\"sk-estimator sk-toggleable\"><input class=\"sk-toggleable__control sk-hidden--visually\" id=\"sk-estimator-id-1\" type=\"checkbox\" checked><label for=\"sk-estimator-id-1\" class=\"sk-toggleable__label sk-toggleable__label-arrow\">LogisticRegression</label><div class=\"sk-toggleable__content\"><pre>LogisticRegression()</pre></div></div></div></div></div>"

      ],
      "text/plain": [
       "LogisticRegression()"
      ]
     },

     "execution_count": 5,

     "metadata": {},
     "output_type": "execute_result"
    }
   ],
   "source": [
    "# We instantiate an instance of the LogisticRegression class and call the fit function with the features and the labels \n",
    "# (since Logistic Regression is a supervised machine learning algorithm) as arguments.\n",
    "\n",
    "lr = LogisticRegression()\n",
    "lr.fit(X_train, y_train)"
   ]
  },
  {
   "cell_type": "code",

   "execution_count": 6,

   "metadata": {
    "ExecuteTime": {
     "end_time": "2020-02-17T08:16:33.644807Z",
     "start_time": "2020-02-17T08:16:33.638934Z"
    }
   },
   "outputs": [
    {
     "name": "stdout",
     "output_type": "stream",
     "text": [

      "[[2.17662474]]\n",
      "[-0.05037611]\n"

     ]
    }
   ],
   "source": [
    "# We can access the following properties to actually view the coefficient for the slope and y-intercept of the best fitting line.\n",
    "print(lr.coef_)\n",
    "print(lr.intercept_)"
   ]
  },
  {
   "cell_type": "code",

   "execution_count": 7,


   "metadata": {
    "ExecuteTime": {
     "end_time": "2020-02-17T08:16:34.698884Z",
     "start_time": "2020-02-17T08:16:34.693959Z"
    }
   },
   "outputs": [],
   "source": [
    "# Let’s see how the model performs against data that it hasn’t been trained on.\n",
    "y_pred = lr.predict(X_test)"
   ]
  },
  {
   "cell_type": "code",

   "execution_count": 8,

   "metadata": {
    "ExecuteTime": {
     "end_time": "2020-02-17T08:16:35.973216Z",
     "start_time": "2020-02-17T08:16:35.951808Z"
    }
   },
   "outputs": [
    {
     "data": {
      "text/plain": [
       "array([[12,  4],\n",

       "       [ 0,  9]], dtype=int64)"
      ]
     },
     "execution_count": 8,

     "metadata": {},
     "output_type": "execute_result"
    }
   ],
   "source": [
    "# Given that this is a classification problem, we use a confusion matrix to evaluate our model.\n",
    "confusion_matrix(y_test, y_pred)"
   ]
  },
  {
   "cell_type": "code",

   "execution_count": 9,

   "metadata": {
    "ExecuteTime": {
     "end_time": "2020-02-17T08:16:37.533643Z",
     "start_time": "2020-02-17T08:16:37.526492Z"
    }
   },
   "outputs": [
    {
     "data": {
      "text/plain": [

       "array([[0.98582561, 0.01417439],\n",
       "       [0.17225006, 0.82774994],\n",
       "       [0.92934938, 0.07065062],\n",
       "       [0.13215422, 0.86784578],\n",
       "       [0.68864373, 0.31135627],\n",
       "       [0.16949557, 0.83050443],\n",
       "       [0.99632542, 0.00367458],\n",
       "       [0.97810516, 0.02189484],\n",
       "       [0.89721872, 0.10278128],\n",
       "       [0.97781542, 0.02218458],\n",
       "       [0.63745537, 0.36254463],\n",
       "       [0.2042561 , 0.7957439 ],\n",
       "       [0.10819387, 0.89180613],\n",
       "       [0.82404145, 0.17595855],\n",
       "       [0.0325378 , 0.9674622 ],\n",
       "       [0.07543907, 0.92456093],\n",
       "       [0.30554031, 0.69445969],\n",
       "       [0.19568065, 0.80431935],\n",
       "       [0.04877166, 0.95122834],\n",
       "       [0.24487613, 0.75512387],\n",
       "       [0.11812066, 0.88187934],\n",
       "       [0.5042553 , 0.4957447 ],\n",
       "       [0.95249277, 0.04750723],\n",
       "       [0.03640296, 0.96359704],\n",
       "       [0.98625784, 0.01374216]])"
      ]
     },
     "execution_count": 9,

     "metadata": {},
     "output_type": "execute_result"
    }
   ],
   "source": [
    "# If for whatever reason we’d like to check the actual probability that a data point belongs to a given class, \n",
    "# we can use the predict_proba function.\n",
    "lr.predict_proba(X_test)"
   ]
  },
  {
   "attachments": {},
   "cell_type": "markdown",
   "metadata": {
    "ExecuteTime": {
     "end_time": "2020-02-17T08:50:44.954675Z",
     "start_time": "2020-02-17T08:50:44.949526Z"
    }
   },
   "source": [
    "The first column corresponds to the probability that the sample belongs to the first class and the second column corresponds to the probability that the sample belongs to the second class.\n",
    "Before attempting to plot the Sigmoid function, we create and sort a DataFrame containing our test data."
   ]
  },
  {
   "cell_type": "code",

   "execution_count": 12,

   "metadata": {
    "ExecuteTime": {
     "end_time": "2020-02-17T08:50:45.583165Z",
     "start_time": "2020-02-17T08:50:45.181491Z"
    }
   },
   "outputs": [
    {

     "data": {
      "text/plain": [
       "<matplotlib.collections.PathCollection at 0x1f253e29910>"
      ]
     },
     "execution_count": 12,

     "metadata": {},
     "output_type": "execute_result"
    },
    {
     "data": {

      "image/png": "[encoded data removed]",

      "text/plain": [
       "<Figure size 640x480 with 1 Axes>"
      ]
     },
     "metadata": {},
     "output_type": "display_data"
    }
   ],
   "source": [
    "df = pd.DataFrame({'x': X_test[:,0], 'y': y_test})\n",
    "df = df.sort_values(by='x')\n",
    "\n",
    "\n",
    "from scipy.special import expit\n",
    "\n",
    "sigmoid_function = expit(df['x'] * lr.coef_[0][0] + lr.intercept_[0]).ravel()\n",
    "plt.plot(df['x'], sigmoid_function)\n",
    "plt.scatter(df['x'], df['y'], c=df['y'], cmap='rainbow', edgecolors='b')"
   ]
  },
  {
   "attachments": {},
   "cell_type": "markdown",
   "metadata": {},
   "source": [
    "**Check your understanding:**\n",
    "- How many data points will be misclassified in the graph above if you choose a threshold at 0.5?\n",
    "- Which threshold would you choose to improve the accuracy?\n",
    "- Which threshold would you choose to improve recall?"
   ]
  },
  {
   "cell_type": "code",
   "execution_count": null,
   "metadata": {},
   "outputs": [],
   "source": [
    "# 1. 5 datapoints are misclassified\n",
    "# 2. ~0.88\n",
    "# 3. also 0.7\n",
    "\n"
   ]
  }
 ],
 "metadata": {
  "kernelspec": {
   "display_name": ".venv",
   "language": "python",
   "name": "python3"
  },
  "language_info": {
   "codemirror_mode": {
    "name": "ipython",
    "version": 3
   },
   "file_extension": ".py",
   "mimetype": "text/x-python",
   "name": "python",
   "nbconvert_exporter": "python",
   "pygments_lexer": "ipython3",
   "version": "3.12.2"
  },
  "toc": {
   "base_numbering": 1,
   "nav_menu": {},
   "number_sections": true,
   "sideBar": true,
   "skip_h1_title": false,
   "title_cell": "Table of Contents",
   "title_sidebar": "Contents",
   "toc_cell": false,
   "toc_position": {},
   "toc_section_display": true,
   "toc_window_display": false
  },
  "varInspector": {
   "cols": {
    "lenName": 16,
    "lenType": 16,
    "lenVar": 40
   },
   "kernels_config": {
    "python": {
     "delete_cmd_postfix": "",
     "delete_cmd_prefix": "del ",
     "library": "var_list.py",
     "varRefreshCmd": "print(var_dic_list())"
    },
    "r": {
     "delete_cmd_postfix": ") ",
     "delete_cmd_prefix": "rm(",
     "library": "var_list.r",
     "varRefreshCmd": "cat(var_dic_list()) "
    }
   },
   "types_to_exclude": [
    "module",
    "function",
    "builtin_function_or_method",
    "instance",
    "_Feature"
   ],
   "window_display": false
  }
 },
 "nbformat": 4,
 "nbformat_minor": 4
}
